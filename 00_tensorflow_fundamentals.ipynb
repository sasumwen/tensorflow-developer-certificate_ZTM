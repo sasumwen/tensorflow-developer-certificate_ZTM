{
  "nbformat": 4,
  "nbformat_minor": 0,
  "metadata": {
    "colab": {
      "provenance": [],
      "toc_visible": true,
      "authorship_tag": "ABX9TyPmtk5FjFq9CBrStyCYAH7s",
      "include_colab_link": true
    },
    "kernelspec": {
      "name": "python3",
      "display_name": "Python 3"
    },
    "language_info": {
      "name": "python"
    },
    "gpuClass": "premium"
  },
  "cells": [
    {
      "cell_type": "markdown",
      "metadata": {
        "id": "view-in-github",
        "colab_type": "text"
      },
      "source": [
        "<a href=\"https://colab.research.google.com/github/sasumwen/tensorflow-developer-certificate_ZTM/blob/next/00_tensorflow_fundamentals.ipynb\" target=\"_parent\"><img src=\"https://colab.research.google.com/assets/colab-badge.svg\" alt=\"Open In Colab\"/></a>"
      ]
    },
    {
      "cell_type": "markdown",
      "source": [
        "# In this Notebook, we cover the most fundamemntal concepts of tensors using tensorFlow \n",
        "\n",
        "We cover\n",
        "* intro to tensors\n",
        "* getting info from tnesors\n",
        "* manipulating tensors\n",
        "* tensors and numpy\n",
        "* using @tf.function(a way to speed up regular python functions)\n",
        "* using GPU's with tensorflow(or tpu)\n",
        "* execrises"
      ],
      "metadata": {
        "id": "kg3mxYR9qKbJ"
      }
    },
    {
      "cell_type": "markdown",
      "source": [
        "## Introduction to Tensors"
      ],
      "metadata": {
        "id": "pr2uL4C-s4DP"
      }
    },
    {
      "cell_type": "code",
      "source": [
        "# import TensorFlow\n",
        "import tensorflow as tf\n",
        "print(tf.__version__)"
      ],
      "metadata": {
        "colab": {
          "base_uri": "https://localhost:8080/"
        },
        "id": "TG3TR_4hteSm",
        "outputId": "0cf070b0-acfe-4635-f999-2d4da16d0312"
      },
      "execution_count": 67,
      "outputs": [
        {
          "output_type": "stream",
          "name": "stdout",
          "text": [
            "2.9.2\n"
          ]
        }
      ]
    },
    {
      "cell_type": "code",
      "source": [
        "#  Creating tensors with tf.constant()\n",
        "scalar = tf.constant(7)\n",
        "scalar"
      ],
      "metadata": {
        "colab": {
          "base_uri": "https://localhost:8080/"
        },
        "id": "iAvA9T2Xto-Z",
        "outputId": "9f56322c-5162-43c3-f953-0cb8984951f2"
      },
      "execution_count": 68,
      "outputs": [
        {
          "output_type": "execute_result",
          "data": {
            "text/plain": [
              "<tf.Tensor: shape=(), dtype=int32, numpy=7>"
            ]
          },
          "metadata": {},
          "execution_count": 68
        }
      ]
    },
    {
      "cell_type": "code",
      "source": [
        "#  check the numbr of dimensions of a tensor (ndim stands for number of dimentsions)\n",
        "scalar.ndim"
      ],
      "metadata": {
        "colab": {
          "base_uri": "https://localhost:8080/"
        },
        "id": "To-M4qCvumVz",
        "outputId": "540d9d82-514a-4740-beb5-1eace9061fc3"
      },
      "execution_count": 69,
      "outputs": [
        {
          "output_type": "execute_result",
          "data": {
            "text/plain": [
              "0"
            ]
          },
          "metadata": {},
          "execution_count": 69
        }
      ]
    },
    {
      "cell_type": "code",
      "source": [
        "# create a vector \n",
        "vector = tf.constant([10,10])\n",
        "vector"
      ],
      "metadata": {
        "colab": {
          "base_uri": "https://localhost:8080/"
        },
        "id": "G1UNQF-VvCZa",
        "outputId": "a2c9c226-cf71-41ed-c371-d937ab2f5d36"
      },
      "execution_count": 70,
      "outputs": [
        {
          "output_type": "execute_result",
          "data": {
            "text/plain": [
              "<tf.Tensor: shape=(2,), dtype=int32, numpy=array([10, 10], dtype=int32)>"
            ]
          },
          "metadata": {},
          "execution_count": 70
        }
      ]
    },
    {
      "cell_type": "code",
      "source": [
        "#  check the vect ndim\n",
        "vector.ndim"
      ],
      "metadata": {
        "colab": {
          "base_uri": "https://localhost:8080/"
        },
        "id": "niDb46GHvdiR",
        "outputId": "07172bab-0313-4694-e677-e9110eadaa07"
      },
      "execution_count": 71,
      "outputs": [
        {
          "output_type": "execute_result",
          "data": {
            "text/plain": [
              "1"
            ]
          },
          "metadata": {},
          "execution_count": 71
        }
      ]
    },
    {
      "cell_type": "code",
      "source": [
        "# create a matric (more than one dimension)\n",
        "matrix = tf.constant([[10,7],\n",
        "                     [7,10]])\n",
        "matrix"
      ],
      "metadata": {
        "colab": {
          "base_uri": "https://localhost:8080/"
        },
        "id": "Z5thx5sivp9I",
        "outputId": "abd77902-aec4-4035-af7a-40a33d115a51"
      },
      "execution_count": 72,
      "outputs": [
        {
          "output_type": "execute_result",
          "data": {
            "text/plain": [
              "<tf.Tensor: shape=(2, 2), dtype=int32, numpy=\n",
              "array([[10,  7],\n",
              "       [ 7, 10]], dtype=int32)>"
            ]
          },
          "metadata": {},
          "execution_count": 72
        }
      ]
    },
    {
      "cell_type": "code",
      "source": [
        "matrix.ndim"
      ],
      "metadata": {
        "colab": {
          "base_uri": "https://localhost:8080/"
        },
        "id": "-5QhJSt7v4YI",
        "outputId": "0917209f-c47e-457c-e0a2-350caa5d3dee"
      },
      "execution_count": 73,
      "outputs": [
        {
          "output_type": "execute_result",
          "data": {
            "text/plain": [
              "2"
            ]
          },
          "metadata": {},
          "execution_count": 73
        }
      ]
    },
    {
      "cell_type": "code",
      "source": [
        "#  create another matrix\n",
        "another_one = tf.constant([[10.,7],\n",
        "                           [3,2],\n",
        "                           [8,9.]], dtype=tf.float16) # specifying the data type"
      ],
      "metadata": {
        "id": "bvFlVOB2wDKL"
      },
      "execution_count": 74,
      "outputs": []
    },
    {
      "cell_type": "code",
      "source": [
        "another_one"
      ],
      "metadata": {
        "colab": {
          "base_uri": "https://localhost:8080/"
        },
        "id": "HkEA_qh9w7LX",
        "outputId": "3b13e34d-643c-45d5-b565-e2fc6e47ab8d"
      },
      "execution_count": 75,
      "outputs": [
        {
          "output_type": "execute_result",
          "data": {
            "text/plain": [
              "<tf.Tensor: shape=(3, 2), dtype=float16, numpy=\n",
              "array([[10.,  7.],\n",
              "       [ 3.,  2.],\n",
              "       [ 8.,  9.]], dtype=float16)>"
            ]
          },
          "metadata": {},
          "execution_count": 75
        }
      ]
    },
    {
      "cell_type": "code",
      "source": [
        "another_one.ndim"
      ],
      "metadata": {
        "colab": {
          "base_uri": "https://localhost:8080/"
        },
        "id": "riZwlIONw9Lj",
        "outputId": "0a4d1837-54de-4dca-c9db-4e96563601eb"
      },
      "execution_count": 76,
      "outputs": [
        {
          "output_type": "execute_result",
          "data": {
            "text/plain": [
              "2"
            ]
          },
          "metadata": {},
          "execution_count": 76
        }
      ]
    },
    {
      "cell_type": "code",
      "source": [
        "#  create a tennsor\n",
        "tensor = tf.constant([[[1,2,3],\n",
        "                      [4,5,6]],\n",
        "                      [[7,8,9],\n",
        "                       [10,11,12]],\n",
        "                     [[13,14,15],\n",
        "                      [16,17,18]]])\n",
        "tensor"
      ],
      "metadata": {
        "colab": {
          "base_uri": "https://localhost:8080/"
        },
        "id": "86kt9N1sxDOM",
        "outputId": "2c637ee7-1805-4146-97fa-26172bd4a20f"
      },
      "execution_count": 77,
      "outputs": [
        {
          "output_type": "execute_result",
          "data": {
            "text/plain": [
              "<tf.Tensor: shape=(3, 2, 3), dtype=int32, numpy=\n",
              "array([[[ 1,  2,  3],\n",
              "        [ 4,  5,  6]],\n",
              "\n",
              "       [[ 7,  8,  9],\n",
              "        [10, 11, 12]],\n",
              "\n",
              "       [[13, 14, 15],\n",
              "        [16, 17, 18]]], dtype=int32)>"
            ]
          },
          "metadata": {},
          "execution_count": 77
        }
      ]
    },
    {
      "cell_type": "code",
      "source": [
        "tensor.ndim"
      ],
      "metadata": {
        "colab": {
          "base_uri": "https://localhost:8080/"
        },
        "id": "eRyT7Etm5CV7",
        "outputId": "405d7722-dd99-4d43-dc4c-6884d42b6c06"
      },
      "execution_count": 78,
      "outputs": [
        {
          "output_type": "execute_result",
          "data": {
            "text/plain": [
              "3"
            ]
          },
          "metadata": {},
          "execution_count": 78
        }
      ]
    },
    {
      "cell_type": "markdown",
      "source": [
        "What we createed so far\n",
        "* scalar: a single number\n",
        "* vector: a number with dimension\n",
        "* matrix:  a 2 dimension array of number\n",
        "* tensor: an n dimnesion array of number "
      ],
      "metadata": {
        "id": "2fMx0Zsj5yGm"
      }
    },
    {
      "cell_type": "markdown",
      "source": [
        "# creating tensors with tf.variable"
      ],
      "metadata": {
        "id": "OhIDtAMw6bWf"
      }
    },
    {
      "cell_type": "code",
      "source": [
        "changeable_tensor = tf.Variable([10,7])\n",
        "unchangeable_tensor = tf.constant([10,7])"
      ],
      "metadata": {
        "id": "VnswuZWA6qX4"
      },
      "execution_count": 79,
      "outputs": []
    },
    {
      "cell_type": "code",
      "source": [
        "changeable_tensor, unchangeable_tensor"
      ],
      "metadata": {
        "colab": {
          "base_uri": "https://localhost:8080/"
        },
        "id": "HqwCHYGq7I5B",
        "outputId": "010241f7-7ab5-4fb1-b857-e3a84c71dd38"
      },
      "execution_count": 80,
      "outputs": [
        {
          "output_type": "execute_result",
          "data": {
            "text/plain": [
              "(<tf.Variable 'Variable:0' shape=(2,) dtype=int32, numpy=array([10,  7], dtype=int32)>,\n",
              " <tf.Tensor: shape=(2,), dtype=int32, numpy=array([10,  7], dtype=int32)>)"
            ]
          },
          "metadata": {},
          "execution_count": 80
        }
      ]
    },
    {
      "cell_type": "code",
      "source": [
        "# for variable tensor, you can change the element using the .assign()\n",
        "changeable_tensor[0].assign(7)"
      ],
      "metadata": {
        "colab": {
          "base_uri": "https://localhost:8080/"
        },
        "id": "irDItUVl7NB3",
        "outputId": "463bf1c5-d5cc-416f-b0f6-8abb2071a68e"
      },
      "execution_count": 81,
      "outputs": [
        {
          "output_type": "execute_result",
          "data": {
            "text/plain": [
              "<tf.Variable 'UnreadVariable' shape=(2,) dtype=int32, numpy=array([7, 7], dtype=int32)>"
            ]
          },
          "metadata": {},
          "execution_count": 81
        }
      ]
    },
    {
      "cell_type": "markdown",
      "source": [
        "### Creating random tensors"
      ],
      "metadata": {
        "id": "tnSaocI58DUo"
      }
    },
    {
      "cell_type": "code",
      "source": [
        "# create two random (but same ) tensors\n",
        "random_1 = tf.random.Generator.from_seed(84) # set seed for reproducibility\n",
        "random_1 = random_1.normal(shape=(3,2))\n",
        "random_1"
      ],
      "metadata": {
        "colab": {
          "base_uri": "https://localhost:8080/"
        },
        "id": "iSitfoXl9mQA",
        "outputId": "b4d83e64-6e75-4bf3-dc8e-f5791fa06075"
      },
      "execution_count": 82,
      "outputs": [
        {
          "output_type": "execute_result",
          "data": {
            "text/plain": [
              "<tf.Tensor: shape=(3, 2), dtype=float32, numpy=\n",
              "array([[-0.65641224, -2.286797  ],\n",
              "       [ 0.07126775,  2.3546813 ],\n",
              "       [ 2.2539537 , -0.8510308 ]], dtype=float32)>"
            ]
          },
          "metadata": {},
          "execution_count": 82
        }
      ]
    },
    {
      "cell_type": "markdown",
      "source": [
        "### Shuffling the order of elements in a tensor"
      ],
      "metadata": {
        "id": "l233SRr_-KG5"
      }
    },
    {
      "cell_type": "code",
      "source": [
        "#  shuffle a tensor (ideal for when you want to shuffle your data so the inherent oredr dossnt affect learning)\n",
        "not_shuffled = tf.constant([[10,7],\n",
        "                            [3,4],\n",
        "                            [2,5]])\n",
        "tf.random.shuffle(not_shuffled)"
      ],
      "metadata": {
        "colab": {
          "base_uri": "https://localhost:8080/"
        },
        "id": "fFF1hj4D_0L-",
        "outputId": "715da417-4738-4140-fe5b-13eb03604c8c"
      },
      "execution_count": 83,
      "outputs": [
        {
          "output_type": "execute_result",
          "data": {
            "text/plain": [
              "<tf.Tensor: shape=(3, 2), dtype=int32, numpy=\n",
              "array([[ 3,  4],\n",
              "       [ 2,  5],\n",
              "       [10,  7]], dtype=int32)>"
            ]
          },
          "metadata": {},
          "execution_count": 83
        }
      ]
    },
    {
      "cell_type": "code",
      "source": [
        "tf.random.set_seed(84)\n",
        "tf.random.shuffle(not_shuffled)"
      ],
      "metadata": {
        "colab": {
          "base_uri": "https://localhost:8080/"
        },
        "id": "MjQZMe3-ElLk",
        "outputId": "aae0e659-c74c-42c9-c423-2c9b120bb82b"
      },
      "execution_count": 84,
      "outputs": [
        {
          "output_type": "execute_result",
          "data": {
            "text/plain": [
              "<tf.Tensor: shape=(3, 2), dtype=int32, numpy=\n",
              "array([[10,  7],\n",
              "       [ 2,  5],\n",
              "       [ 3,  4]], dtype=int32)>"
            ]
          },
          "metadata": {},
          "execution_count": 84
        }
      ]
    },
    {
      "cell_type": "markdown",
      "source": [
        "### Other ways to make tebsors"
      ],
      "metadata": {
        "id": "V5xlLAEkIqNZ"
      }
    },
    {
      "cell_type": "code",
      "source": [
        "# Create a tensor of ones\n",
        "tf.ones([10,7])"
      ],
      "metadata": {
        "colab": {
          "base_uri": "https://localhost:8080/"
        },
        "id": "Z7wRv4v_L1Tr",
        "outputId": "4bb83b35-4dd3-4516-b2f9-ba154a4ad719"
      },
      "execution_count": 85,
      "outputs": [
        {
          "output_type": "execute_result",
          "data": {
            "text/plain": [
              "<tf.Tensor: shape=(10, 7), dtype=float32, numpy=\n",
              "array([[1., 1., 1., 1., 1., 1., 1.],\n",
              "       [1., 1., 1., 1., 1., 1., 1.],\n",
              "       [1., 1., 1., 1., 1., 1., 1.],\n",
              "       [1., 1., 1., 1., 1., 1., 1.],\n",
              "       [1., 1., 1., 1., 1., 1., 1.],\n",
              "       [1., 1., 1., 1., 1., 1., 1.],\n",
              "       [1., 1., 1., 1., 1., 1., 1.],\n",
              "       [1., 1., 1., 1., 1., 1., 1.],\n",
              "       [1., 1., 1., 1., 1., 1., 1.],\n",
              "       [1., 1., 1., 1., 1., 1., 1.]], dtype=float32)>"
            ]
          },
          "metadata": {},
          "execution_count": 85
        }
      ]
    },
    {
      "cell_type": "code",
      "source": [
        "# create a tensor of all  zeros\n",
        "tf.zeros([3,4])"
      ],
      "metadata": {
        "colab": {
          "base_uri": "https://localhost:8080/"
        },
        "id": "gatiIhp9L99D",
        "outputId": "7ae423c1-cae1-4ec8-bcd9-06a59d9258f4"
      },
      "execution_count": 86,
      "outputs": [
        {
          "output_type": "execute_result",
          "data": {
            "text/plain": [
              "<tf.Tensor: shape=(3, 4), dtype=float32, numpy=\n",
              "array([[0., 0., 0., 0.],\n",
              "       [0., 0., 0., 0.],\n",
              "       [0., 0., 0., 0.]], dtype=float32)>"
            ]
          },
          "metadata": {},
          "execution_count": 86
        }
      ]
    },
    {
      "cell_type": "markdown",
      "source": [
        "### you can also turn numpy arrays into tensorflow tensors\n",
        "\n",
        "the amin diff ntw numpy arrays and tensorflow is that tf can be run on a gpu for pfaster computing"
      ],
      "metadata": {
        "id": "j7Ij1qbOMMwl"
      }
    },
    {
      "cell_type": "code",
      "source": [
        "import numpy as np\n",
        "numpy_A = np.arange(1,25, dtype = np.int32) # create a numpy arrays btw 1 and 25\n",
        "numpy_A"
      ],
      "metadata": {
        "colab": {
          "base_uri": "https://localhost:8080/"
        },
        "id": "VekQL5LcM9sE",
        "outputId": "ae81d5f8-d44e-49fe-8dd6-0240b48eeb9f"
      },
      "execution_count": 87,
      "outputs": [
        {
          "output_type": "execute_result",
          "data": {
            "text/plain": [
              "array([ 1,  2,  3,  4,  5,  6,  7,  8,  9, 10, 11, 12, 13, 14, 15, 16, 17,\n",
              "       18, 19, 20, 21, 22, 23, 24], dtype=int32)"
            ]
          },
          "metadata": {},
          "execution_count": 87
        }
      ]
    },
    {
      "cell_type": "code",
      "source": [
        "A = tf.constant(numpy_A, shape= (2,3,4))\n",
        "A"
      ],
      "metadata": {
        "colab": {
          "base_uri": "https://localhost:8080/"
        },
        "id": "ouGcaDGcNaJ8",
        "outputId": "1bd4a907-1b98-4229-c094-fe7e2e7e5cc0"
      },
      "execution_count": 88,
      "outputs": [
        {
          "output_type": "execute_result",
          "data": {
            "text/plain": [
              "<tf.Tensor: shape=(2, 3, 4), dtype=int32, numpy=\n",
              "array([[[ 1,  2,  3,  4],\n",
              "        [ 5,  6,  7,  8],\n",
              "        [ 9, 10, 11, 12]],\n",
              "\n",
              "       [[13, 14, 15, 16],\n",
              "        [17, 18, 19, 20],\n",
              "        [21, 22, 23, 24]]], dtype=int32)>"
            ]
          },
          "metadata": {},
          "execution_count": 88
        }
      ]
    },
    {
      "cell_type": "markdown",
      "source": [
        "### Getting information from tensors\n",
        "* Shape\n",
        "* Rank\n",
        "* Axis or dimension\n",
        "* Size"
      ],
      "metadata": {
        "id": "-XwSyOOwNr7v"
      }
    },
    {
      "cell_type": "code",
      "source": [
        "# create a rank 4 tensor (4 dimension)\n",
        "rank_4_tensor = tf.zeros([2,3,4,5])\n",
        "rank_4_tensor "
      ],
      "metadata": {
        "colab": {
          "base_uri": "https://localhost:8080/"
        },
        "id": "oeMQpGSwOaR_",
        "outputId": "20cb4e9c-0a05-4710-9ebb-ba564c3b1f24"
      },
      "execution_count": 89,
      "outputs": [
        {
          "output_type": "execute_result",
          "data": {
            "text/plain": [
              "<tf.Tensor: shape=(2, 3, 4, 5), dtype=float32, numpy=\n",
              "array([[[[0., 0., 0., 0., 0.],\n",
              "         [0., 0., 0., 0., 0.],\n",
              "         [0., 0., 0., 0., 0.],\n",
              "         [0., 0., 0., 0., 0.]],\n",
              "\n",
              "        [[0., 0., 0., 0., 0.],\n",
              "         [0., 0., 0., 0., 0.],\n",
              "         [0., 0., 0., 0., 0.],\n",
              "         [0., 0., 0., 0., 0.]],\n",
              "\n",
              "        [[0., 0., 0., 0., 0.],\n",
              "         [0., 0., 0., 0., 0.],\n",
              "         [0., 0., 0., 0., 0.],\n",
              "         [0., 0., 0., 0., 0.]]],\n",
              "\n",
              "\n",
              "       [[[0., 0., 0., 0., 0.],\n",
              "         [0., 0., 0., 0., 0.],\n",
              "         [0., 0., 0., 0., 0.],\n",
              "         [0., 0., 0., 0., 0.]],\n",
              "\n",
              "        [[0., 0., 0., 0., 0.],\n",
              "         [0., 0., 0., 0., 0.],\n",
              "         [0., 0., 0., 0., 0.],\n",
              "         [0., 0., 0., 0., 0.]],\n",
              "\n",
              "        [[0., 0., 0., 0., 0.],\n",
              "         [0., 0., 0., 0., 0.],\n",
              "         [0., 0., 0., 0., 0.],\n",
              "         [0., 0., 0., 0., 0.]]]], dtype=float32)>"
            ]
          },
          "metadata": {},
          "execution_count": 89
        }
      ]
    },
    {
      "cell_type": "markdown",
      "source": [
        "### indexing tensors\n",
        "\n",
        "tensors can be indexed just like python lists"
      ],
      "metadata": {
        "id": "1sHbvgSwRYsC"
      }
    },
    {
      "cell_type": "code",
      "source": [
        "# Get the first 2 elements of each dimension\n",
        "rank_4_tensor[:2,:2,:2,:2]"
      ],
      "metadata": {
        "colab": {
          "base_uri": "https://localhost:8080/"
        },
        "id": "sfsL9SmZ2VmZ",
        "outputId": "91597432-6159-44c3-a584-4818e55888d9"
      },
      "execution_count": 90,
      "outputs": [
        {
          "output_type": "execute_result",
          "data": {
            "text/plain": [
              "<tf.Tensor: shape=(2, 2, 2, 2), dtype=float32, numpy=\n",
              "array([[[[0., 0.],\n",
              "         [0., 0.]],\n",
              "\n",
              "        [[0., 0.],\n",
              "         [0., 0.]]],\n",
              "\n",
              "\n",
              "       [[[0., 0.],\n",
              "         [0., 0.]],\n",
              "\n",
              "        [[0., 0.],\n",
              "         [0., 0.]]]], dtype=float32)>"
            ]
          },
          "metadata": {},
          "execution_count": 90
        }
      ]
    },
    {
      "cell_type": "code",
      "source": [
        "# get the first element from each dimentsiin from each index except the final one\n",
        "rank_4_tensor[:1,:1,:1,:]"
      ],
      "metadata": {
        "colab": {
          "base_uri": "https://localhost:8080/"
        },
        "id": "CLg4eXaZ2u3Y",
        "outputId": "60ff6fa0-9fa9-4c64-95a9-c0e4ba6ee251"
      },
      "execution_count": 91,
      "outputs": [
        {
          "output_type": "execute_result",
          "data": {
            "text/plain": [
              "<tf.Tensor: shape=(1, 1, 1, 5), dtype=float32, numpy=array([[[[0., 0., 0., 0., 0.]]]], dtype=float32)>"
            ]
          },
          "metadata": {},
          "execution_count": 91
        }
      ]
    },
    {
      "cell_type": "code",
      "source": [
        "# create a rank_2 tensor (2 dimension)\n",
        "rank_2_tensor = tf.constant([[10,7],\n",
        "                             [3,4]])\n",
        "rank_2_tensor.shape, rank_2_tensor.ndim"
      ],
      "metadata": {
        "colab": {
          "base_uri": "https://localhost:8080/"
        },
        "id": "S0fW--u63Zcw",
        "outputId": "aa5e5bf1-2033-435c-a28e-7320f03178c5"
      },
      "execution_count": 92,
      "outputs": [
        {
          "output_type": "execute_result",
          "data": {
            "text/plain": [
              "(TensorShape([2, 2]), 2)"
            ]
          },
          "metadata": {},
          "execution_count": 92
        }
      ]
    },
    {
      "cell_type": "code",
      "source": [
        "# get the last item of each row of the rank2\n",
        "rank_2_tensor[-1]"
      ],
      "metadata": {
        "colab": {
          "base_uri": "https://localhost:8080/"
        },
        "id": "--w40LJg30KT",
        "outputId": "a9285f05-1044-4830-be8d-c6acddeefa75"
      },
      "execution_count": 93,
      "outputs": [
        {
          "output_type": "execute_result",
          "data": {
            "text/plain": [
              "<tf.Tensor: shape=(2,), dtype=int32, numpy=array([3, 4], dtype=int32)>"
            ]
          },
          "metadata": {},
          "execution_count": 93
        }
      ]
    },
    {
      "cell_type": "code",
      "source": [
        "# add in extra dimension of rank 2 \n",
        "rank_3_tensor = rank_2_tensor[..., tf.newaxis]\n",
        "rank_3_tensor\n"
      ],
      "metadata": {
        "colab": {
          "base_uri": "https://localhost:8080/"
        },
        "id": "uNFWmH9y4MPW",
        "outputId": "72ebc18f-4257-457c-cc69-0380d462216d"
      },
      "execution_count": 94,
      "outputs": [
        {
          "output_type": "execute_result",
          "data": {
            "text/plain": [
              "<tf.Tensor: shape=(2, 2, 1), dtype=int32, numpy=\n",
              "array([[[10],\n",
              "        [ 7]],\n",
              "\n",
              "       [[ 3],\n",
              "        [ 4]]], dtype=int32)>"
            ]
          },
          "metadata": {},
          "execution_count": 94
        }
      ]
    },
    {
      "cell_type": "code",
      "source": [
        "# alternatibe to tf.newaxis\n",
        "tf.expand_dims(rank_2_tensor, axis=-1)"
      ],
      "metadata": {
        "colab": {
          "base_uri": "https://localhost:8080/"
        },
        "id": "yfpcSD0E-psR",
        "outputId": "69dd2390-6736-4a00-a9ae-8679bf98e6ff"
      },
      "execution_count": 95,
      "outputs": [
        {
          "output_type": "execute_result",
          "data": {
            "text/plain": [
              "<tf.Tensor: shape=(2, 2, 1), dtype=int32, numpy=\n",
              "array([[[10],\n",
              "        [ 7]],\n",
              "\n",
              "       [[ 3],\n",
              "        [ 4]]], dtype=int32)>"
            ]
          },
          "metadata": {},
          "execution_count": 95
        }
      ]
    },
    {
      "cell_type": "markdown",
      "source": [
        "## Manipulating tensors(tensor operations)\n",
        "\n",
        "Basic Ops"
      ],
      "metadata": {
        "id": "ChyV8TVJ-5C0"
      }
    },
    {
      "cell_type": "code",
      "source": [
        "# you can add values to a tenssor using the addition operator\n",
        "tensor = tf.constant([[10,7],\n",
        "                     [3,4]])\n",
        "tensor + 10"
      ],
      "metadata": {
        "colab": {
          "base_uri": "https://localhost:8080/"
        },
        "id": "Eqa1b71xAJ8C",
        "outputId": "a2a4334a-a349-4727-dfb3-4f143ef86a33"
      },
      "execution_count": 96,
      "outputs": [
        {
          "output_type": "execute_result",
          "data": {
            "text/plain": [
              "<tf.Tensor: shape=(2, 2), dtype=int32, numpy=\n",
              "array([[20, 17],\n",
              "       [13, 14]], dtype=int32)>"
            ]
          },
          "metadata": {},
          "execution_count": 96
        }
      ]
    },
    {
      "cell_type": "code",
      "source": [
        "#  multi\n",
        "tensor * 10"
      ],
      "metadata": {
        "colab": {
          "base_uri": "https://localhost:8080/"
        },
        "id": "FJBgpG1NAaTX",
        "outputId": "eee50dcc-773e-474e-b2e9-b2f89b45d447"
      },
      "execution_count": 97,
      "outputs": [
        {
          "output_type": "execute_result",
          "data": {
            "text/plain": [
              "<tf.Tensor: shape=(2, 2), dtype=int32, numpy=\n",
              "array([[100,  70],\n",
              "       [ 30,  40]], dtype=int32)>"
            ]
          },
          "metadata": {},
          "execution_count": 97
        }
      ]
    },
    {
      "cell_type": "code",
      "source": [
        "#  we can also use the tf built in functions\n",
        "tf.multiply(tensor, 10)"
      ],
      "metadata": {
        "colab": {
          "base_uri": "https://localhost:8080/"
        },
        "id": "8zWuadhKBFTT",
        "outputId": "5180d6cd-ee41-48d4-dba9-278ea00deef1"
      },
      "execution_count": 98,
      "outputs": [
        {
          "output_type": "execute_result",
          "data": {
            "text/plain": [
              "<tf.Tensor: shape=(2, 2), dtype=int32, numpy=\n",
              "array([[100,  70],\n",
              "       [ 30,  40]], dtype=int32)>"
            ]
          },
          "metadata": {},
          "execution_count": 98
        }
      ]
    },
    {
      "cell_type": "code",
      "source": [
        "# or\n",
        "tf.math.multiply(tensor, 10)"
      ],
      "metadata": {
        "colab": {
          "base_uri": "https://localhost:8080/"
        },
        "id": "5gX9UFFQFae0",
        "outputId": "21473281-7c8a-4e38-9fbf-b9e5abbd42fb"
      },
      "execution_count": 99,
      "outputs": [
        {
          "output_type": "execute_result",
          "data": {
            "text/plain": [
              "<tf.Tensor: shape=(2, 2), dtype=int32, numpy=\n",
              "array([[100,  70],\n",
              "       [ 30,  40]], dtype=int32)>"
            ]
          },
          "metadata": {},
          "execution_count": 99
        }
      ]
    },
    {
      "cell_type": "markdown",
      "source": [
        "### Matrix multiplication\n",
        "\n",
        "in ML, matrix mult is one of the most common ops"
      ],
      "metadata": {
        "id": "RfBgU6SdFgwz"
      }
    },
    {
      "cell_type": "code",
      "source": [
        "print(tensor)\n",
        "tf.linalg.matmul(tensor, tensor)"
      ],
      "metadata": {
        "colab": {
          "base_uri": "https://localhost:8080/"
        },
        "id": "H4zaqQvSGHQQ",
        "outputId": "b2ac4781-07b0-48f5-a4e7-24fdca8b7878"
      },
      "execution_count": 100,
      "outputs": [
        {
          "output_type": "stream",
          "name": "stdout",
          "text": [
            "tf.Tensor(\n",
            "[[10  7]\n",
            " [ 3  4]], shape=(2, 2), dtype=int32)\n"
          ]
        },
        {
          "output_type": "execute_result",
          "data": {
            "text/plain": [
              "<tf.Tensor: shape=(2, 2), dtype=int32, numpy=\n",
              "array([[121,  98],\n",
              "       [ 42,  37]], dtype=int32)>"
            ]
          },
          "metadata": {},
          "execution_count": 100
        }
      ]
    },
    {
      "cell_type": "code",
      "source": [
        "# matrix mult using python operator\n",
        "tensor @ tensor"
      ],
      "metadata": {
        "colab": {
          "base_uri": "https://localhost:8080/"
        },
        "id": "T_O6OMuCHb6Z",
        "outputId": "41310ad4-c856-46ad-b8e2-548389dfc749"
      },
      "execution_count": 101,
      "outputs": [
        {
          "output_type": "execute_result",
          "data": {
            "text/plain": [
              "<tf.Tensor: shape=(2, 2), dtype=int32, numpy=\n",
              "array([[121,  98],\n",
              "       [ 42,  37]], dtype=int32)>"
            ]
          },
          "metadata": {},
          "execution_count": 101
        }
      ]
    },
    {
      "cell_type": "code",
      "source": [
        "#  create a a tensor of 3X2\n",
        "X = tf.constant([[1,2],\n",
        "                 [3,4],\n",
        "                [5,6]])\n",
        "\n",
        "#  another\n",
        "Y = tf.constant([[7,8],\n",
        "                 [9,10],\n",
        "                 [11,12]])\n",
        "X,Y"
      ],
      "metadata": {
        "colab": {
          "base_uri": "https://localhost:8080/"
        },
        "id": "KMynGB1_H7Ek",
        "outputId": "2b102a28-a268-48ce-de40-d884c8b5ec9a"
      },
      "execution_count": 102,
      "outputs": [
        {
          "output_type": "execute_result",
          "data": {
            "text/plain": [
              "(<tf.Tensor: shape=(3, 2), dtype=int32, numpy=\n",
              " array([[1, 2],\n",
              "        [3, 4],\n",
              "        [5, 6]], dtype=int32)>, <tf.Tensor: shape=(3, 2), dtype=int32, numpy=\n",
              " array([[ 7,  8],\n",
              "        [ 9, 10],\n",
              "        [11, 12]], dtype=int32)>)"
            ]
          },
          "metadata": {},
          "execution_count": 102
        }
      ]
    },
    {
      "cell_type": "code",
      "source": [
        "#  note that the above tensor cant multi \n",
        "# refer to matrix mult rules (only when matrix 1 column is equal to matrix 2 row)\n",
        "\n",
        "# lets reshape tensor Y\n",
        "tf.reshape(Y, shape=(2,3))"
      ],
      "metadata": {
        "colab": {
          "base_uri": "https://localhost:8080/"
        },
        "id": "J9dbAEGOImVa",
        "outputId": "3ece5a38-27a5-4666-e4e0-65d4480e7c63"
      },
      "execution_count": 103,
      "outputs": [
        {
          "output_type": "execute_result",
          "data": {
            "text/plain": [
              "<tf.Tensor: shape=(2, 3), dtype=int32, numpy=\n",
              "array([[ 7,  8,  9],\n",
              "       [10, 11, 12]], dtype=int32)>"
            ]
          },
          "metadata": {},
          "execution_count": 103
        }
      ]
    },
    {
      "cell_type": "code",
      "source": [
        "#  mult x by reshape(y)\n",
        "X @ tf.reshape(Y, shape=(2,3))"
      ],
      "metadata": {
        "colab": {
          "base_uri": "https://localhost:8080/"
        },
        "id": "lj1CyVvuk6_O",
        "outputId": "95318308-a4c2-45cd-945c-77f34f0df504"
      },
      "execution_count": 104,
      "outputs": [
        {
          "output_type": "execute_result",
          "data": {
            "text/plain": [
              "<tf.Tensor: shape=(3, 3), dtype=int32, numpy=\n",
              "array([[ 27,  30,  33],\n",
              "       [ 61,  68,  75],\n",
              "       [ 95, 106, 117]], dtype=int32)>"
            ]
          },
          "metadata": {},
          "execution_count": 104
        }
      ]
    },
    {
      "cell_type": "code",
      "source": [
        "#  can do the same it transpose\n"
      ],
      "metadata": {
        "id": "CEfMhSs6lMlW"
      },
      "execution_count": 105,
      "outputs": []
    },
    {
      "cell_type": "markdown",
      "source": [
        "** the dot product **\n",
        "Matrix multiplication  is also referred to as the dot python\n",
        "\n",
        "can be performed using\n",
        "* tf.matmul()\n",
        "* tf.tensordot()"
      ],
      "metadata": {
        "id": "ZMw3SV4cJrXy"
      }
    },
    {
      "cell_type": "markdown",
      "source": [
        "### Changing the data type of a tensor"
      ],
      "metadata": {
        "id": "2tOo63JeKJnh"
      }
    },
    {
      "cell_type": "code",
      "source": [
        "# create a new tensoor with the deault datatype (float32)\n",
        "B = tf.constant([1.7,7.4])\n",
        "B.dtype"
      ],
      "metadata": {
        "colab": {
          "base_uri": "https://localhost:8080/"
        },
        "id": "xCSUNGr3MSLj",
        "outputId": "ad5e5458-465a-466e-9a95-70e427049256"
      },
      "execution_count": 106,
      "outputs": [
        {
          "output_type": "execute_result",
          "data": {
            "text/plain": [
              "tf.float32"
            ]
          },
          "metadata": {},
          "execution_count": 106
        }
      ]
    },
    {
      "cell_type": "code",
      "source": [
        "# chanege from float 32 to float 16 (reduce precison)\n",
        "B = tf.cast(B, dtype=tf.float16)\n",
        "B\n"
      ],
      "metadata": {
        "colab": {
          "base_uri": "https://localhost:8080/"
        },
        "id": "4HtLSLsxMiWq",
        "outputId": "0aa6f767-9665-4261-e979-a1866d69514f"
      },
      "execution_count": 107,
      "outputs": [
        {
          "output_type": "execute_result",
          "data": {
            "text/plain": [
              "<tf.Tensor: shape=(2,), dtype=float16, numpy=array([1.7, 7.4], dtype=float16)>"
            ]
          },
          "metadata": {},
          "execution_count": 107
        }
      ]
    },
    {
      "cell_type": "markdown",
      "source": [
        "### Aggregating tensors\n",
        "\n",
        "Aggregating ytensots mean condensing them from multiple vsalurd down to smaller amount of values"
      ],
      "metadata": {
        "id": "hZXv_L8ONL0v"
      }
    },
    {
      "cell_type": "code",
      "source": [
        "# get the absolute values\n",
        "D =tf.constant([-7, -10])\n",
        "D, tf.abs(D)"
      ],
      "metadata": {
        "colab": {
          "base_uri": "https://localhost:8080/"
        },
        "id": "fVliXRaAOwBk",
        "outputId": "9f04ee34-d6b7-47f9-98a6-e1a382294cfa"
      },
      "execution_count": 108,
      "outputs": [
        {
          "output_type": "execute_result",
          "data": {
            "text/plain": [
              "(<tf.Tensor: shape=(2,), dtype=int32, numpy=array([ -7, -10], dtype=int32)>,\n",
              " <tf.Tensor: shape=(2,), dtype=int32, numpy=array([ 7, 10], dtype=int32)>)"
            ]
          },
          "metadata": {},
          "execution_count": 108
        }
      ]
    },
    {
      "cell_type": "markdown",
      "source": [
        "Various forms of aggregaating tensors\n",
        "* get the minimum\n",
        "* get the maximum\n",
        "* get the mean of a tensor\n",
        "* get the sum of  a tensor\n"
      ],
      "metadata": {
        "id": "wJv9G9U5O7Dx"
      }
    },
    {
      "cell_type": "code",
      "source": [
        "# create a random tensor with values btw 0 and a 100 of size 50\n",
        "E =tf.constant(np.random.randint(0,100, size=50))\n",
        "E"
      ],
      "metadata": {
        "colab": {
          "base_uri": "https://localhost:8080/"
        },
        "id": "GyZV-54sPp3z",
        "outputId": "3ff97151-8ed9-47b3-acb7-816b879f6292"
      },
      "execution_count": 109,
      "outputs": [
        {
          "output_type": "execute_result",
          "data": {
            "text/plain": [
              "<tf.Tensor: shape=(50,), dtype=int64, numpy=\n",
              "array([32, 61, 86, 57, 33, 55, 43, 11, 29, 66, 23, 56, 26, 19, 18,  0, 38,\n",
              "       69, 42, 69, 95, 53, 24, 50, 91, 17, 84,  8, 63, 76, 62, 87, 93, 17,\n",
              "       36, 16, 97, 82, 87, 25, 41, 94, 66, 21, 48, 49, 19, 42, 22, 32])>"
            ]
          },
          "metadata": {},
          "execution_count": 109
        }
      ]
    },
    {
      "cell_type": "code",
      "source": [
        "#  find the min\n",
        "tf.reduce_min(E)"
      ],
      "metadata": {
        "colab": {
          "base_uri": "https://localhost:8080/"
        },
        "id": "utD-Yx9eP3kg",
        "outputId": "3176b9fc-daba-462a-80e8-dcaddc83f0ec"
      },
      "execution_count": 110,
      "outputs": [
        {
          "output_type": "execute_result",
          "data": {
            "text/plain": [
              "<tf.Tensor: shape=(), dtype=int64, numpy=0>"
            ]
          },
          "metadata": {},
          "execution_count": 110
        }
      ]
    },
    {
      "cell_type": "code",
      "source": [
        "# find the max\n",
        "tf.reduce_max(E)"
      ],
      "metadata": {
        "colab": {
          "base_uri": "https://localhost:8080/"
        },
        "id": "CLyYzdjZQRjA",
        "outputId": "9ad4f90a-87c0-4bc3-c87c-80da567ba3d8"
      },
      "execution_count": 111,
      "outputs": [
        {
          "output_type": "execute_result",
          "data": {
            "text/plain": [
              "<tf.Tensor: shape=(), dtype=int64, numpy=97>"
            ]
          },
          "metadata": {},
          "execution_count": 111
        }
      ]
    },
    {
      "cell_type": "code",
      "source": [
        "# find the mean\n",
        "tf.reduce_mean(E)"
      ],
      "metadata": {
        "colab": {
          "base_uri": "https://localhost:8080/"
        },
        "id": "6R92I4ZmQXaJ",
        "outputId": "f48fdda6-a3e5-402d-9ee3-1ab3233650af"
      },
      "execution_count": 112,
      "outputs": [
        {
          "output_type": "execute_result",
          "data": {
            "text/plain": [
              "<tf.Tensor: shape=(), dtype=int64, numpy=48>"
            ]
          },
          "metadata": {},
          "execution_count": 112
        }
      ]
    },
    {
      "cell_type": "code",
      "source": [
        "# find the sum\n",
        "tf.reduce_sum(E)"
      ],
      "metadata": {
        "colab": {
          "base_uri": "https://localhost:8080/"
        },
        "id": "TdvMCd6kQfFT",
        "outputId": "6630f184-197c-47ca-e012-aa6fe2136609"
      },
      "execution_count": 113,
      "outputs": [
        {
          "output_type": "execute_result",
          "data": {
            "text/plain": [
              "<tf.Tensor: shape=(), dtype=int64, numpy=2430>"
            ]
          },
          "metadata": {},
          "execution_count": 113
        }
      ]
    },
    {
      "cell_type": "code",
      "source": [
        "# variance\n",
        "tf.math.reduce_variance(tf.cast(E, dtype=tf.float32))"
      ],
      "metadata": {
        "colab": {
          "base_uri": "https://localhost:8080/"
        },
        "id": "ifYfl3BnQj71",
        "outputId": "0a312a0b-3bbf-45ba-d6c9-64235e2dccf0"
      },
      "execution_count": 114,
      "outputs": [
        {
          "output_type": "execute_result",
          "data": {
            "text/plain": [
              "<tf.Tensor: shape=(), dtype=float32, numpy=731.12>"
            ]
          },
          "metadata": {},
          "execution_count": 114
        }
      ]
    },
    {
      "cell_type": "code",
      "source": [
        "# STD\n",
        "tf.math.reduce_std(tf.cast(E, dtype=tf.float32))"
      ],
      "metadata": {
        "colab": {
          "base_uri": "https://localhost:8080/"
        },
        "id": "A6KY-qBqQ6gZ",
        "outputId": "a01de628-c7fc-4c34-ea01-2a367784ed69"
      },
      "execution_count": 115,
      "outputs": [
        {
          "output_type": "execute_result",
          "data": {
            "text/plain": [
              "<tf.Tensor: shape=(), dtype=float32, numpy=27.03923>"
            ]
          },
          "metadata": {},
          "execution_count": 115
        }
      ]
    },
    {
      "cell_type": "markdown",
      "source": [
        "### finding the positional max and min"
      ],
      "metadata": {
        "id": "havmeQ9AUHEH"
      }
    },
    {
      "cell_type": "code",
      "source": [
        "#  create a new tensor for finfing miiiiiiiiiiin anf max\n",
        "tf.random.set_seed(84)\n",
        "F = tf.random.uniform(shape=[50])\n",
        "F\n"
      ],
      "metadata": {
        "colab": {
          "base_uri": "https://localhost:8080/"
        },
        "id": "TdSrpNJfaqwf",
        "outputId": "f742d604-b4ef-4f91-828c-1a47acb6b1a0"
      },
      "execution_count": 116,
      "outputs": [
        {
          "output_type": "execute_result",
          "data": {
            "text/plain": [
              "<tf.Tensor: shape=(50,), dtype=float32, numpy=\n",
              "array([0.6752322 , 0.07654727, 0.17704082, 0.4875176 , 0.59420335,\n",
              "       0.22550237, 0.9895787 , 0.11397505, 0.76960266, 0.9109514 ,\n",
              "       0.9022031 , 0.88879526, 0.8251649 , 0.8076726 , 0.37604678,\n",
              "       0.08291662, 0.08010626, 0.64241993, 0.44362867, 0.54224133,\n",
              "       0.06212544, 0.49427843, 0.22530258, 0.5357063 , 0.6136848 ,\n",
              "       0.9981259 , 0.8462304 , 0.0899297 , 0.7671411 , 0.02064371,\n",
              "       0.17759812, 0.31149256, 0.3833078 , 0.09686565, 0.7968019 ,\n",
              "       0.73487616, 0.22700477, 0.9049419 , 0.43215597, 0.7176515 ,\n",
              "       0.57811046, 0.9545188 , 0.9585389 , 0.45191896, 0.60023403,\n",
              "       0.8077353 , 0.39500773, 0.8875952 , 0.03515244, 0.53597975],\n",
              "      dtype=float32)>"
            ]
          },
          "metadata": {},
          "execution_count": 116
        }
      ]
    },
    {
      "cell_type": "code",
      "source": [
        "#  finf the positional max\n",
        "tf.argmax(F)"
      ],
      "metadata": {
        "colab": {
          "base_uri": "https://localhost:8080/"
        },
        "id": "FWh_57F6bEal",
        "outputId": "33747561-1088-40b9-f564-1fc061923f7d"
      },
      "execution_count": 117,
      "outputs": [
        {
          "output_type": "execute_result",
          "data": {
            "text/plain": [
              "<tf.Tensor: shape=(), dtype=int64, numpy=25>"
            ]
          },
          "metadata": {},
          "execution_count": 117
        }
      ]
    },
    {
      "cell_type": "code",
      "source": [
        "# index on the largest value position\n",
        "F[tf.argmax(F)]"
      ],
      "metadata": {
        "colab": {
          "base_uri": "https://localhost:8080/"
        },
        "id": "BM1GyEqZbscg",
        "outputId": "3a58267c-50ae-4d4f-f9db-15f3108b5d6f"
      },
      "execution_count": 118,
      "outputs": [
        {
          "output_type": "execute_result",
          "data": {
            "text/plain": [
              "<tf.Tensor: shape=(), dtype=float32, numpy=0.9981259>"
            ]
          },
          "metadata": {},
          "execution_count": 118
        }
      ]
    },
    {
      "cell_type": "code",
      "source": [
        "# find the max val of F\n",
        "tf.reduce_max(F)\n"
      ],
      "metadata": {
        "colab": {
          "base_uri": "https://localhost:8080/"
        },
        "id": "Njoy6S1_bzag",
        "outputId": "ff1dda97-b7a8-428c-82d1-357d63c664b0"
      },
      "execution_count": 119,
      "outputs": [
        {
          "output_type": "execute_result",
          "data": {
            "text/plain": [
              "<tf.Tensor: shape=(), dtype=float32, numpy=0.9981259>"
            ]
          },
          "metadata": {},
          "execution_count": 119
        }
      ]
    },
    {
      "cell_type": "code",
      "source": [
        "# check for equality\n",
        "F[tf.argmax(F)] == tf.reduce_max(F)"
      ],
      "metadata": {
        "colab": {
          "base_uri": "https://localhost:8080/"
        },
        "id": "WzZ_W5GfcBRo",
        "outputId": "a2a91abf-3fe9-4dc8-cd2a-1a0f9c57a58e"
      },
      "execution_count": 120,
      "outputs": [
        {
          "output_type": "execute_result",
          "data": {
            "text/plain": [
              "<tf.Tensor: shape=(), dtype=bool, numpy=True>"
            ]
          },
          "metadata": {},
          "execution_count": 120
        }
      ]
    },
    {
      "cell_type": "markdown",
      "source": [
        "### Squeezing a tensor\n",
        "(removing all single dimensions)"
      ],
      "metadata": {
        "id": "HEhJJiALcZpR"
      }
    },
    {
      "cell_type": "code",
      "source": [
        "# create a tensor to get startee\n",
        "tf.random.set_seed(84)\n",
        "G = tf.constant(tf.random.uniform(shape=[50]), shape=(1,1,1,1,50))\n",
        "G"
      ],
      "metadata": {
        "colab": {
          "base_uri": "https://localhost:8080/"
        },
        "id": "pICo5NS9eiHG",
        "outputId": "6dec3d1d-30c9-4464-ea29-a7451459919b"
      },
      "execution_count": 121,
      "outputs": [
        {
          "output_type": "execute_result",
          "data": {
            "text/plain": [
              "<tf.Tensor: shape=(1, 1, 1, 1, 50), dtype=float32, numpy=\n",
              "array([[[[[0.6752322 , 0.07654727, 0.17704082, 0.4875176 , 0.59420335,\n",
              "           0.22550237, 0.9895787 , 0.11397505, 0.76960266, 0.9109514 ,\n",
              "           0.9022031 , 0.88879526, 0.8251649 , 0.8076726 , 0.37604678,\n",
              "           0.08291662, 0.08010626, 0.64241993, 0.44362867, 0.54224133,\n",
              "           0.06212544, 0.49427843, 0.22530258, 0.5357063 , 0.6136848 ,\n",
              "           0.9981259 , 0.8462304 , 0.0899297 , 0.7671411 , 0.02064371,\n",
              "           0.17759812, 0.31149256, 0.3833078 , 0.09686565, 0.7968019 ,\n",
              "           0.73487616, 0.22700477, 0.9049419 , 0.43215597, 0.7176515 ,\n",
              "           0.57811046, 0.9545188 , 0.9585389 , 0.45191896, 0.60023403,\n",
              "           0.8077353 , 0.39500773, 0.8875952 , 0.03515244, 0.53597975]]]]],\n",
              "      dtype=float32)>"
            ]
          },
          "metadata": {},
          "execution_count": 121
        }
      ]
    },
    {
      "cell_type": "code",
      "source": [
        "G_squeezed = tf.squeeze(G)\n",
        "G_squeezed"
      ],
      "metadata": {
        "colab": {
          "base_uri": "https://localhost:8080/"
        },
        "id": "aC4h1aZZe6PF",
        "outputId": "c0843472-a37c-4dbf-cdeb-6e523e17841d"
      },
      "execution_count": 122,
      "outputs": [
        {
          "output_type": "execute_result",
          "data": {
            "text/plain": [
              "<tf.Tensor: shape=(50,), dtype=float32, numpy=\n",
              "array([0.6752322 , 0.07654727, 0.17704082, 0.4875176 , 0.59420335,\n",
              "       0.22550237, 0.9895787 , 0.11397505, 0.76960266, 0.9109514 ,\n",
              "       0.9022031 , 0.88879526, 0.8251649 , 0.8076726 , 0.37604678,\n",
              "       0.08291662, 0.08010626, 0.64241993, 0.44362867, 0.54224133,\n",
              "       0.06212544, 0.49427843, 0.22530258, 0.5357063 , 0.6136848 ,\n",
              "       0.9981259 , 0.8462304 , 0.0899297 , 0.7671411 , 0.02064371,\n",
              "       0.17759812, 0.31149256, 0.3833078 , 0.09686565, 0.7968019 ,\n",
              "       0.73487616, 0.22700477, 0.9049419 , 0.43215597, 0.7176515 ,\n",
              "       0.57811046, 0.9545188 , 0.9585389 , 0.45191896, 0.60023403,\n",
              "       0.8077353 , 0.39500773, 0.8875952 , 0.03515244, 0.53597975],\n",
              "      dtype=float32)>"
            ]
          },
          "metadata": {},
          "execution_count": 122
        }
      ]
    },
    {
      "cell_type": "markdown",
      "source": [
        "### onehot encode tensors"
      ],
      "metadata": {
        "id": "q7Su6QJ0foy7"
      }
    },
    {
      "cell_type": "code",
      "source": [
        "# create a list of index\n",
        "some_list = [0,1,2,3]\n",
        "\n",
        "# onehot encode\n",
        "tf.one_hot(some_list, depth=4)"
      ],
      "metadata": {
        "colab": {
          "base_uri": "https://localhost:8080/"
        },
        "id": "M4nJUHoXgQTq",
        "outputId": "e71cf5f0-3f99-472f-b227-50f7c719d287"
      },
      "execution_count": 123,
      "outputs": [
        {
          "output_type": "execute_result",
          "data": {
            "text/plain": [
              "<tf.Tensor: shape=(4, 4), dtype=float32, numpy=\n",
              "array([[1., 0., 0., 0.],\n",
              "       [0., 1., 0., 0.],\n",
              "       [0., 0., 1., 0.],\n",
              "       [0., 0., 0., 1.]], dtype=float32)>"
            ]
          },
          "metadata": {},
          "execution_count": 123
        }
      ]
    },
    {
      "cell_type": "markdown",
      "source": [
        "### tensors and numpy\n",
        "\n",
        "tensorflow interacts beautifully woith np arrays\n"
      ],
      "metadata": {
        "id": "Wbq_6uy5hKGm"
      }
    },
    {
      "cell_type": "code",
      "source": [
        "# create a tensor directly from a numpy array\n",
        "J = tf.constant(np.array([3., 7., 10]))\n",
        "J"
      ],
      "metadata": {
        "colab": {
          "base_uri": "https://localhost:8080/"
        },
        "id": "csYb4CgYpGyc",
        "outputId": "295bd600-b326-4405-b022-64e83220fdc8"
      },
      "execution_count": 124,
      "outputs": [
        {
          "output_type": "execute_result",
          "data": {
            "text/plain": [
              "<tf.Tensor: shape=(3,), dtype=float64, numpy=array([ 3.,  7., 10.])>"
            ]
          },
          "metadata": {},
          "execution_count": 124
        }
      ]
    },
    {
      "cell_type": "code",
      "source": [
        "# convert the tensor back to np array\n",
        "np.array(J), type(np.array(J))"
      ],
      "metadata": {
        "colab": {
          "base_uri": "https://localhost:8080/"
        },
        "id": "mla_0GyKpUeD",
        "outputId": "d1d2f072-d00a-4909-e582-b2f0003dd9d2"
      },
      "execution_count": 125,
      "outputs": [
        {
          "output_type": "execute_result",
          "data": {
            "text/plain": [
              "(array([ 3.,  7., 10.]), numpy.ndarray)"
            ]
          },
          "metadata": {},
          "execution_count": 125
        }
      ]
    },
    {
      "cell_type": "code",
      "source": [
        "# convert tensor j tp np\n",
        "J.numpy()"
      ],
      "metadata": {
        "colab": {
          "base_uri": "https://localhost:8080/"
        },
        "id": "lmVaZ060phzr",
        "outputId": "5ad2bbd6-9f26-4ce4-c7db-3baf00035903"
      },
      "execution_count": 126,
      "outputs": [
        {
          "output_type": "execute_result",
          "data": {
            "text/plain": [
              "array([ 3.,  7., 10.])"
            ]
          },
          "metadata": {},
          "execution_count": 126
        }
      ]
    },
    {
      "cell_type": "code",
      "source": [
        "tf.test.gpu_device_name()\n"
      ],
      "metadata": {
        "colab": {
          "base_uri": "https://localhost:8080/",
          "height": 0
        },
        "id": "WBPXB5Kbpv07",
        "outputId": "02aeb326-a1be-4613-d189-4bdf54febcc7"
      },
      "execution_count": 127,
      "outputs": [
        {
          "output_type": "execute_result",
          "data": {
            "text/plain": [
              "''"
            ],
            "application/vnd.google.colaboratory.intrinsic+json": {
              "type": "string"
            }
          },
          "metadata": {},
          "execution_count": 127
        }
      ]
    },
    {
      "cell_type": "code",
      "source": [
        "tf.config.list_physical_devices(\n",
        "\n",
        ")"
      ],
      "metadata": {
        "colab": {
          "base_uri": "https://localhost:8080/"
        },
        "id": "T2YzZnswrXYL",
        "outputId": "0f6394c4-e038-439b-baed-af03f02d37ea"
      },
      "execution_count": 128,
      "outputs": [
        {
          "output_type": "execute_result",
          "data": {
            "text/plain": [
              "[PhysicalDevice(name='/physical_device:CPU:0', device_type='CPU')]"
            ]
          },
          "metadata": {},
          "execution_count": 128
        }
      ]
    },
    {
      "cell_type": "code",
      "source": [
        "tf.constant([1,2,3])"
      ],
      "metadata": {
        "colab": {
          "base_uri": "https://localhost:8080/"
        },
        "id": "0xFX0GN_rz2w",
        "outputId": "de38a9db-f226-46b7-b2ee-3f185bb851a5"
      },
      "execution_count": 129,
      "outputs": [
        {
          "output_type": "execute_result",
          "data": {
            "text/plain": [
              "<tf.Tensor: shape=(3,), dtype=int32, numpy=array([1, 2, 3], dtype=int32)>"
            ]
          },
          "metadata": {},
          "execution_count": 129
        }
      ]
    },
    {
      "cell_type": "markdown",
      "source": [
        "## 00. TensorFlow Fundamentals Exercises"
      ],
      "metadata": {
        "id": "SQVHFgsTxGo-"
      }
    },
    {
      "cell_type": "code",
      "source": [
        "#  create a scalar\n",
        "S = tf.constant(84)\n",
        "S"
      ],
      "metadata": {
        "colab": {
          "base_uri": "https://localhost:8080/"
        },
        "id": "mehNz5cVQFw4",
        "outputId": "3a619ff5-5102-4d55-985f-b3d7af402ffd"
      },
      "execution_count": 130,
      "outputs": [
        {
          "output_type": "execute_result",
          "data": {
            "text/plain": [
              "<tf.Tensor: shape=(), dtype=int32, numpy=84>"
            ]
          },
          "metadata": {},
          "execution_count": 130
        }
      ]
    },
    {
      "cell_type": "code",
      "source": [
        "# create a vector\n",
        "V = tf.constant([8,4])\n",
        "V"
      ],
      "metadata": {
        "colab": {
          "base_uri": "https://localhost:8080/"
        },
        "id": "Ud04BjXuQNyZ",
        "outputId": "42a76011-048d-4808-fa9b-6fbed529f605"
      },
      "execution_count": 131,
      "outputs": [
        {
          "output_type": "execute_result",
          "data": {
            "text/plain": [
              "<tf.Tensor: shape=(2,), dtype=int32, numpy=array([8, 4], dtype=int32)>"
            ]
          },
          "metadata": {},
          "execution_count": 131
        }
      ]
    },
    {
      "cell_type": "code",
      "source": [
        "# create a matrix\n",
        "M = tf.constant(\n",
        "                  [\n",
        "                    [1,2,3],\n",
        "                    [4,5,6]\n",
        "                  ] \n",
        "                )\n",
        "M"
      ],
      "metadata": {
        "colab": {
          "base_uri": "https://localhost:8080/"
        },
        "id": "i2vU6e7VSI8r",
        "outputId": "d8a19ec0-926b-4947-c8db-7d2e7106aea2"
      },
      "execution_count": 132,
      "outputs": [
        {
          "output_type": "execute_result",
          "data": {
            "text/plain": [
              "<tf.Tensor: shape=(2, 3), dtype=int32, numpy=\n",
              "array([[1, 2, 3],\n",
              "       [4, 5, 6]], dtype=int32)>"
            ]
          },
          "metadata": {},
          "execution_count": 132
        }
      ]
    },
    {
      "cell_type": "code",
      "source": [
        "# create a tensor\n",
        "T = tf.constant(\n",
        "                  [\n",
        "                      [\n",
        "                          [1,2,3],\n",
        "                          [4,5,6],\n",
        "                          [7,8,9]\n",
        "                      ],\n",
        "                      [\n",
        "                          [10,11,12],\n",
        "                          [13,14,15],\n",
        "                          [16,17,18]\n",
        "                      ]\n",
        "                  ]\n",
        "              )\n",
        "T"
      ],
      "metadata": {
        "colab": {
          "base_uri": "https://localhost:8080/"
        },
        "id": "4yTqxv0wQkLP",
        "outputId": "75e312c1-08ad-49ab-adad-aae5c90a1ccf"
      },
      "execution_count": 133,
      "outputs": [
        {
          "output_type": "execute_result",
          "data": {
            "text/plain": [
              "<tf.Tensor: shape=(2, 3, 3), dtype=int32, numpy=\n",
              "array([[[ 1,  2,  3],\n",
              "        [ 4,  5,  6],\n",
              "        [ 7,  8,  9]],\n",
              "\n",
              "       [[10, 11, 12],\n",
              "        [13, 14, 15],\n",
              "        [16, 17, 18]]], dtype=int32)>"
            ]
          },
          "metadata": {},
          "execution_count": 133
        }
      ]
    },
    {
      "cell_type": "code",
      "source": [
        "# find the shape rank and size of anbove\n",
        "T.shape, tf.size(T), tf.rank(T)"
      ],
      "metadata": {
        "colab": {
          "base_uri": "https://localhost:8080/"
        },
        "id": "xloQzAEwR7Zu",
        "outputId": "e15dfe9c-dea1-4fd8-98ba-f928c9b0042c"
      },
      "execution_count": 134,
      "outputs": [
        {
          "output_type": "execute_result",
          "data": {
            "text/plain": [
              "(TensorShape([2, 3, 3]),\n",
              " <tf.Tensor: shape=(), dtype=int32, numpy=18>,\n",
              " <tf.Tensor: shape=(), dtype=int32, numpy=3>)"
            ]
          },
          "metadata": {},
          "execution_count": 134
        }
      ]
    },
    {
      "cell_type": "code",
      "source": [
        "#  create 2 random tensor withrandom values between 0 and 1 and shape [5,300]\n",
        "tf.random.set_seed(84)\n",
        "T_1 = tf.random.uniform(shape=(5,300))\n",
        "T_2 = tf.random.uniform(shape=(5,300))\n",
        "\n",
        "T_1, T_2"
      ],
      "metadata": {
        "id": "nBaVKWacS3PL",
        "colab": {
          "base_uri": "https://localhost:8080/"
        },
        "outputId": "6b0b6948-e8a9-4216-8012-ed55757694a0"
      },
      "execution_count": 136,
      "outputs": [
        {
          "output_type": "execute_result",
          "data": {
            "text/plain": [
              "(<tf.Tensor: shape=(5, 300), dtype=float32, numpy=\n",
              " array([[0.6752322 , 0.07654727, 0.17704082, ..., 0.268494  , 0.93460405,\n",
              "         0.3753606 ],\n",
              "        [0.9812459 , 0.4030409 , 0.78762996, ..., 0.5793381 , 0.04866922,\n",
              "         0.08849216],\n",
              "        [0.75825715, 0.97082734, 0.4777218 , ..., 0.52746844, 0.34301555,\n",
              "         0.7303269 ],\n",
              "        [0.7023028 , 0.34554017, 0.9634563 , ..., 0.7319186 , 0.88437426,\n",
              "         0.15069425],\n",
              "        [0.9195274 , 0.2414136 , 0.57870185, ..., 0.22874153, 0.44089305,\n",
              "         0.14483345]], dtype=float32)>,\n",
              " <tf.Tensor: shape=(5, 300), dtype=float32, numpy=\n",
              " array([[0.27287972, 0.590515  , 0.14443886, ..., 0.6666846 , 0.6532706 ,\n",
              "         0.44531775],\n",
              "        [0.32082045, 0.14317882, 0.8037497 , ..., 0.42554772, 0.973721  ,\n",
              "         0.11952055],\n",
              "        [0.76799667, 0.25024438, 0.4353248 , ..., 0.80579615, 0.10865402,\n",
              "         0.25200713],\n",
              "        [0.30935073, 0.0494473 , 0.7057109 , ..., 0.5979935 , 0.8347089 ,\n",
              "         0.5607066 ],\n",
              "        [0.9261514 , 0.24906349, 0.47626305, ..., 0.1938529 , 0.7203312 ,\n",
              "         0.8818823 ]], dtype=float32)>)"
            ]
          },
          "metadata": {},
          "execution_count": 136
        }
      ]
    },
    {
      "cell_type": "code",
      "source": [
        "tf.linalg.matmul(T_1,tf.transpose(T_2))"
      ],
      "metadata": {
        "colab": {
          "base_uri": "https://localhost:8080/"
        },
        "id": "dGgCcl-0WYxT",
        "outputId": "4da461d4-aacb-46c2-cf22-d15654e02ee0"
      },
      "execution_count": 139,
      "outputs": [
        {
          "output_type": "execute_result",
          "data": {
            "text/plain": [
              "<tf.Tensor: shape=(5, 5), dtype=float32, numpy=\n",
              "array([[72.06811 , 71.79557 , 68.84199 , 76.02257 , 71.109314],\n",
              "       [76.55557 , 76.57701 , 75.6698  , 83.136055, 73.82795 ],\n",
              "       [77.15427 , 72.155205, 74.29129 , 79.89113 , 71.722855],\n",
              "       [74.59848 , 77.280594, 74.19986 , 80.11245 , 73.32687 ],\n",
              "       [75.50911 , 73.116684, 71.83657 , 77.63481 , 74.59829 ]],\n",
              "      dtype=float32)>"
            ]
          },
          "metadata": {},
          "execution_count": 139
        }
      ]
    },
    {
      "cell_type": "code",
      "source": [
        "tf.tensordot(T_1, tf.transpose(T_2), axes =1)"
      ],
      "metadata": {
        "colab": {
          "base_uri": "https://localhost:8080/"
        },
        "id": "fTza4T31WknO",
        "outputId": "db8e5dd6-896a-4a44-8fa9-3c629cbbd034"
      },
      "execution_count": 140,
      "outputs": [
        {
          "output_type": "execute_result",
          "data": {
            "text/plain": [
              "<tf.Tensor: shape=(5, 5), dtype=float32, numpy=\n",
              "array([[72.06811 , 71.79557 , 68.84199 , 76.02257 , 71.109314],\n",
              "       [76.55557 , 76.57701 , 75.6698  , 83.136055, 73.82795 ],\n",
              "       [77.15427 , 72.155205, 74.29129 , 79.89113 , 71.722855],\n",
              "       [74.59848 , 77.280594, 74.19986 , 80.11245 , 73.32687 ],\n",
              "       [75.50911 , 73.116684, 71.83657 , 77.63481 , 74.59829 ]],\n",
              "      dtype=float32)>"
            ]
          },
          "metadata": {},
          "execution_count": 140
        }
      ]
    },
    {
      "cell_type": "code",
      "source": [
        "tf.random.set_seed(84)\n",
        "\n",
        "Tens = tf.random.uniform(shape=[224, 224, 3], minval=0, maxval=1)\n",
        "Tens"
      ],
      "metadata": {
        "colab": {
          "base_uri": "https://localhost:8080/"
        },
        "id": "siuTU9UnXtKI",
        "outputId": "f86b8076-4c14-470c-98dd-e5e592138d5c"
      },
      "execution_count": 142,
      "outputs": [
        {
          "output_type": "execute_result",
          "data": {
            "text/plain": [
              "<tf.Tensor: shape=(224, 224, 3), dtype=float32, numpy=\n",
              "array([[[0.6752322 , 0.07654727, 0.17704082],\n",
              "        [0.4875176 , 0.59420335, 0.22550237],\n",
              "        [0.9895787 , 0.11397505, 0.76960266],\n",
              "        ...,\n",
              "        [0.4037621 , 0.87882197, 0.8535689 ],\n",
              "        [0.74307156, 0.76431596, 0.05897355],\n",
              "        [0.31973147, 0.64556324, 0.89521575]],\n",
              "\n",
              "       [[0.1428591 , 0.7044561 , 0.79638183],\n",
              "        [0.30525684, 0.75169957, 0.63695073],\n",
              "        [0.04601395, 0.33755004, 0.87047887],\n",
              "        ...,\n",
              "        [0.59219384, 0.25473487, 0.29891777],\n",
              "        [0.6661869 , 0.15304983, 0.1611427 ],\n",
              "        [0.6344396 , 0.05122876, 0.54145265]],\n",
              "\n",
              "       [[0.9645407 , 0.72902787, 0.64514124],\n",
              "        [0.8970641 , 0.84972525, 0.9090797 ],\n",
              "        [0.3946023 , 0.7519753 , 0.6998576 ],\n",
              "        ...,\n",
              "        [0.13360894, 0.6293855 , 0.9784771 ],\n",
              "        [0.07628763, 0.36785328, 0.3362416 ],\n",
              "        [0.3123387 , 0.0227294 , 0.03754401]],\n",
              "\n",
              "       ...,\n",
              "\n",
              "       [[0.374915  , 0.93283474, 0.18005109],\n",
              "        [0.28524256, 0.9008677 , 0.46933544],\n",
              "        [0.25914502, 0.12559032, 0.4303851 ],\n",
              "        ...,\n",
              "        [0.31939912, 0.02821052, 0.62222135],\n",
              "        [0.03031409, 0.95228827, 0.7501048 ],\n",
              "        [0.7325542 , 0.3172257 , 0.5577905 ]],\n",
              "\n",
              "       [[0.85066235, 0.28371143, 0.3947065 ],\n",
              "        [0.55641377, 0.7697792 , 0.18708587],\n",
              "        [0.6484083 , 0.52527106, 0.48629797],\n",
              "        ...,\n",
              "        [0.5888139 , 0.29831696, 0.07219207],\n",
              "        [0.9934398 , 0.997367  , 0.22759473],\n",
              "        [0.10444391, 0.00706303, 0.76318884]],\n",
              "\n",
              "       [[0.12644732, 0.05227923, 0.32883513],\n",
              "        [0.609063  , 0.63995636, 0.59072185],\n",
              "        [0.96952224, 0.6545825 , 0.11796296],\n",
              "        ...,\n",
              "        [0.8891405 , 0.13222075, 0.31114507],\n",
              "        [0.45207024, 0.29165435, 0.87943316],\n",
              "        [0.74626136, 0.6448219 , 0.65690696]]], dtype=float32)>"
            ]
          },
          "metadata": {},
          "execution_count": 142
        }
      ]
    },
    {
      "cell_type": "code",
      "source": [
        "tf.reduce_max(Tens)"
      ],
      "metadata": {
        "colab": {
          "base_uri": "https://localhost:8080/"
        },
        "id": "ohc8w7P8YNXl",
        "outputId": "ade34e28-243b-4676-d2eb-e4daaef5705b"
      },
      "execution_count": 145,
      "outputs": [
        {
          "output_type": "execute_result",
          "data": {
            "text/plain": [
              "<tf.Tensor: shape=(), dtype=float32, numpy=0.9999968>"
            ]
          },
          "metadata": {},
          "execution_count": 145
        }
      ]
    },
    {
      "cell_type": "code",
      "source": [
        "tf.reduce_min(Tens)"
      ],
      "metadata": {
        "colab": {
          "base_uri": "https://localhost:8080/"
        },
        "id": "zIr5_LNCY7lC",
        "outputId": "88f93922-5e10-4558-bcd6-311c7ba94cbf"
      },
      "execution_count": 146,
      "outputs": [
        {
          "output_type": "execute_result",
          "data": {
            "text/plain": [
              "<tf.Tensor: shape=(), dtype=float32, numpy=3.5762787e-07>"
            ]
          },
          "metadata": {},
          "execution_count": 146
        }
      ]
    },
    {
      "cell_type": "code",
      "source": [
        "tf.random.set_seed(84)\n",
        "\n",
        "another_T = tf.random.uniform(shape =(1,224,224,3))\n",
        "another_T.shape"
      ],
      "metadata": {
        "colab": {
          "base_uri": "https://localhost:8080/"
        },
        "id": "E-aDg3wcZN-F",
        "outputId": "00f0a92f-d3c5-459c-ef8e-2287e444c446"
      },
      "execution_count": 148,
      "outputs": [
        {
          "output_type": "execute_result",
          "data": {
            "text/plain": [
              "TensorShape([1, 224, 224, 3])"
            ]
          },
          "metadata": {},
          "execution_count": 148
        }
      ]
    },
    {
      "cell_type": "code",
      "source": [
        "another_T_squeezed = tf.squeeze(another_T)"
      ],
      "metadata": {
        "id": "t8brTL8Hc5UR"
      },
      "execution_count": 149,
      "outputs": []
    },
    {
      "cell_type": "code",
      "source": [
        "another_T_squeezed.shape"
      ],
      "metadata": {
        "colab": {
          "base_uri": "https://localhost:8080/"
        },
        "id": "C0f8BV76dKeO",
        "outputId": "86012601-ba27-4fda-e3f6-88b07ad27d7d"
      },
      "execution_count": 150,
      "outputs": [
        {
          "output_type": "execute_result",
          "data": {
            "text/plain": [
              "TensorShape([224, 224, 3])"
            ]
          },
          "metadata": {},
          "execution_count": 150
        }
      ]
    },
    {
      "cell_type": "code",
      "source": [
        "a_T = tf.random.uniform(shape=[10])\n",
        "a_T"
      ],
      "metadata": {
        "colab": {
          "base_uri": "https://localhost:8080/"
        },
        "id": "nBk_ul5RdOiW",
        "outputId": "ea03ca4b-2d3b-473f-f209-9742a1bc5f17"
      },
      "execution_count": 152,
      "outputs": [
        {
          "output_type": "execute_result",
          "data": {
            "text/plain": [
              "<tf.Tensor: shape=(10,), dtype=float32, numpy=\n",
              "array([0.8481529 , 0.28400898, 0.8749603 , 0.26033986, 0.4369836 ,\n",
              "       0.93344593, 0.04734182, 0.49927986, 0.57824004, 0.2701168 ],\n",
              "      dtype=float32)>"
            ]
          },
          "metadata": {},
          "execution_count": 152
        }
      ]
    },
    {
      "cell_type": "code",
      "source": [
        "tf.argmax(a_T)"
      ],
      "metadata": {
        "colab": {
          "base_uri": "https://localhost:8080/"
        },
        "id": "qUu28ZIudnTr",
        "outputId": "810b8454-5e20-4db6-981c-c194c250131a"
      },
      "execution_count": 153,
      "outputs": [
        {
          "output_type": "execute_result",
          "data": {
            "text/plain": [
              "<tf.Tensor: shape=(), dtype=int64, numpy=5>"
            ]
          },
          "metadata": {},
          "execution_count": 153
        }
      ]
    },
    {
      "cell_type": "code",
      "source": [
        "a_T.dtype"
      ],
      "metadata": {
        "colab": {
          "base_uri": "https://localhost:8080/"
        },
        "id": "VQrQzI8geZpK",
        "outputId": "f132fe9a-8a25-48d1-e31e-697a06302c1f"
      },
      "execution_count": 155,
      "outputs": [
        {
          "output_type": "execute_result",
          "data": {
            "text/plain": [
              "tf.float32"
            ]
          },
          "metadata": {},
          "execution_count": 155
        }
      ]
    },
    {
      "cell_type": "code",
      "source": [
        "tf.one_hot(tf.cast(a_T, dtype = tf.int32), depth=10)\n"
      ],
      "metadata": {
        "colab": {
          "base_uri": "https://localhost:8080/"
        },
        "id": "q_5TqnZkd3bj",
        "outputId": "cc2da49f-7979-49fe-f2ad-42421fc4d7d0"
      },
      "execution_count": 157,
      "outputs": [
        {
          "output_type": "execute_result",
          "data": {
            "text/plain": [
              "<tf.Tensor: shape=(10, 10), dtype=float32, numpy=\n",
              "array([[1., 0., 0., 0., 0., 0., 0., 0., 0., 0.],\n",
              "       [1., 0., 0., 0., 0., 0., 0., 0., 0., 0.],\n",
              "       [1., 0., 0., 0., 0., 0., 0., 0., 0., 0.],\n",
              "       [1., 0., 0., 0., 0., 0., 0., 0., 0., 0.],\n",
              "       [1., 0., 0., 0., 0., 0., 0., 0., 0., 0.],\n",
              "       [1., 0., 0., 0., 0., 0., 0., 0., 0., 0.],\n",
              "       [1., 0., 0., 0., 0., 0., 0., 0., 0., 0.],\n",
              "       [1., 0., 0., 0., 0., 0., 0., 0., 0., 0.],\n",
              "       [1., 0., 0., 0., 0., 0., 0., 0., 0., 0.],\n",
              "       [1., 0., 0., 0., 0., 0., 0., 0., 0., 0.]], dtype=float32)>"
            ]
          },
          "metadata": {},
          "execution_count": 157
        }
      ]
    },
    {
      "cell_type": "markdown",
      "source": [
        "done"
      ],
      "metadata": {
        "id": "VqVuJauVeGai"
      }
    }
  ]
}