{
  "nbformat": 4,
  "nbformat_minor": 0,
  "metadata": {
    "colab": {
      "provenance": [],
      "authorship_tag": "ABX9TyNmvMRV2JL8emxFzcSjtdS8",
      "include_colab_link": true
    },
    "kernelspec": {
      "name": "python3",
      "display_name": "Python 3"
    },
    "language_info": {
      "name": "python"
    },
    "gpuClass": "premium"
  },
  "cells": [
    {
      "cell_type": "markdown",
      "metadata": {
        "id": "view-in-github",
        "colab_type": "text"
      },
      "source": [
        "<a href=\"https://colab.research.google.com/github/sasumwen/tensorflow-developer-certificate_ZTM/blob/main/00_tensorflow_fundamentals.ipynb\" target=\"_parent\"><img src=\"https://colab.research.google.com/assets/colab-badge.svg\" alt=\"Open In Colab\"/></a>"
      ]
    },
    {
      "cell_type": "markdown",
      "source": [
        "# In this Notebook, we cover the most fundamemntal concepts of tensors using tensorFlow \n",
        "\n",
        "We cover\n",
        "* intro to tensors\n",
        "* getting info from tnesors\n",
        "* manipulating tensors\n",
        "* tensors and numpy\n",
        "* using @tf.function(a way to speed up regular python functions)\n",
        "* using GPU's with tensorflow(or tpu)\n",
        "* execrises"
      ],
      "metadata": {
        "id": "kg3mxYR9qKbJ"
      }
    },
    {
      "cell_type": "markdown",
      "source": [
        "## Introduction to Tensors"
      ],
      "metadata": {
        "id": "pr2uL4C-s4DP"
      }
    },
    {
      "cell_type": "code",
      "source": [
        "# import TensorFlow\n",
        "import tensorflow as tf\n",
        "print(tf.__version__)"
      ],
      "metadata": {
        "colab": {
          "base_uri": "https://localhost:8080/"
        },
        "id": "TG3TR_4hteSm",
        "outputId": "ef5e372e-f90f-46a2-ab14-606c74b0b13a"
      },
      "execution_count": 1,
      "outputs": [
        {
          "output_type": "stream",
          "name": "stdout",
          "text": [
            "2.9.2\n"
          ]
        }
      ]
    },
    {
      "cell_type": "code",
      "source": [
        "#  Creating tensors with tf.constant()\n",
        "scalar = tf.constant(7)\n",
        "scalar"
      ],
      "metadata": {
        "colab": {
          "base_uri": "https://localhost:8080/"
        },
        "id": "iAvA9T2Xto-Z",
        "outputId": "e968dced-417a-4026-8830-e81112ce7310"
      },
      "execution_count": 2,
      "outputs": [
        {
          "output_type": "execute_result",
          "data": {
            "text/plain": [
              "<tf.Tensor: shape=(), dtype=int32, numpy=7>"
            ]
          },
          "metadata": {},
          "execution_count": 2
        }
      ]
    },
    {
      "cell_type": "code",
      "source": [
        "#  check the numbr of dimensions of a tensor (ndim stands for number of dimentsions)\n",
        "scalar.ndim"
      ],
      "metadata": {
        "colab": {
          "base_uri": "https://localhost:8080/"
        },
        "id": "To-M4qCvumVz",
        "outputId": "0b09e88e-00a1-4c35-f00a-b219d73759a8"
      },
      "execution_count": 3,
      "outputs": [
        {
          "output_type": "execute_result",
          "data": {
            "text/plain": [
              "0"
            ]
          },
          "metadata": {},
          "execution_count": 3
        }
      ]
    },
    {
      "cell_type": "code",
      "source": [
        "# create a vector \n",
        "vector = tf.constant([10,10])\n",
        "vector"
      ],
      "metadata": {
        "colab": {
          "base_uri": "https://localhost:8080/"
        },
        "id": "G1UNQF-VvCZa",
        "outputId": "51be0b81-eb85-4ccf-8cb5-0a2dd4822f5c"
      },
      "execution_count": 4,
      "outputs": [
        {
          "output_type": "execute_result",
          "data": {
            "text/plain": [
              "<tf.Tensor: shape=(2,), dtype=int32, numpy=array([10, 10], dtype=int32)>"
            ]
          },
          "metadata": {},
          "execution_count": 4
        }
      ]
    },
    {
      "cell_type": "code",
      "source": [
        "#  check the vect ndim\n",
        "vector.ndim"
      ],
      "metadata": {
        "colab": {
          "base_uri": "https://localhost:8080/"
        },
        "id": "niDb46GHvdiR",
        "outputId": "bcad4dd3-8d8d-4d47-b6f8-222bb7cc27d2"
      },
      "execution_count": 5,
      "outputs": [
        {
          "output_type": "execute_result",
          "data": {
            "text/plain": [
              "1"
            ]
          },
          "metadata": {},
          "execution_count": 5
        }
      ]
    },
    {
      "cell_type": "code",
      "source": [
        "# create a matric (more than one dimension)\n",
        "matrix = tf.constant([[10,7],\n",
        "                     [7,10]])\n",
        "matrix"
      ],
      "metadata": {
        "colab": {
          "base_uri": "https://localhost:8080/"
        },
        "id": "Z5thx5sivp9I",
        "outputId": "5b36f955-af76-4ddb-9d38-9bec397cd0d8"
      },
      "execution_count": 6,
      "outputs": [
        {
          "output_type": "execute_result",
          "data": {
            "text/plain": [
              "<tf.Tensor: shape=(2, 2), dtype=int32, numpy=\n",
              "array([[10,  7],\n",
              "       [ 7, 10]], dtype=int32)>"
            ]
          },
          "metadata": {},
          "execution_count": 6
        }
      ]
    },
    {
      "cell_type": "code",
      "source": [
        "matrix.ndim"
      ],
      "metadata": {
        "colab": {
          "base_uri": "https://localhost:8080/"
        },
        "id": "-5QhJSt7v4YI",
        "outputId": "022f0eef-eaff-4635-f6a6-e168c6f75194"
      },
      "execution_count": 7,
      "outputs": [
        {
          "output_type": "execute_result",
          "data": {
            "text/plain": [
              "2"
            ]
          },
          "metadata": {},
          "execution_count": 7
        }
      ]
    },
    {
      "cell_type": "code",
      "source": [
        "#  create another matrix\n",
        "another_one = tf.constant([[10.,7],\n",
        "                           [3,2],\n",
        "                           [8,9.]], dtype=tf.float16) # specifying the data type"
      ],
      "metadata": {
        "id": "bvFlVOB2wDKL"
      },
      "execution_count": 8,
      "outputs": []
    },
    {
      "cell_type": "code",
      "source": [
        "another_one"
      ],
      "metadata": {
        "colab": {
          "base_uri": "https://localhost:8080/"
        },
        "id": "HkEA_qh9w7LX",
        "outputId": "1c9a0963-1ce6-4004-96d0-84f545fef162"
      },
      "execution_count": 9,
      "outputs": [
        {
          "output_type": "execute_result",
          "data": {
            "text/plain": [
              "<tf.Tensor: shape=(3, 2), dtype=float16, numpy=\n",
              "array([[10.,  7.],\n",
              "       [ 3.,  2.],\n",
              "       [ 8.,  9.]], dtype=float16)>"
            ]
          },
          "metadata": {},
          "execution_count": 9
        }
      ]
    },
    {
      "cell_type": "code",
      "source": [
        "another_one.ndim"
      ],
      "metadata": {
        "colab": {
          "base_uri": "https://localhost:8080/"
        },
        "id": "riZwlIONw9Lj",
        "outputId": "47d05cb6-dbbd-4b67-99e1-b77356ed010a"
      },
      "execution_count": 10,
      "outputs": [
        {
          "output_type": "execute_result",
          "data": {
            "text/plain": [
              "2"
            ]
          },
          "metadata": {},
          "execution_count": 10
        }
      ]
    },
    {
      "cell_type": "code",
      "source": [
        "#  create a tennsor\n",
        "tensor = tf.constant([[[1,2,3],\n",
        "                      [4,5,6]],\n",
        "                      [[7,8,9],\n",
        "                       [10,11,12]],\n",
        "                     [[13,14,15],\n",
        "                      [16,17,18]]])\n",
        "tensor"
      ],
      "metadata": {
        "colab": {
          "base_uri": "https://localhost:8080/"
        },
        "id": "86kt9N1sxDOM",
        "outputId": "3a6676de-07a9-4931-e228-e8ff96f3ed57"
      },
      "execution_count": 11,
      "outputs": [
        {
          "output_type": "execute_result",
          "data": {
            "text/plain": [
              "<tf.Tensor: shape=(3, 2, 3), dtype=int32, numpy=\n",
              "array([[[ 1,  2,  3],\n",
              "        [ 4,  5,  6]],\n",
              "\n",
              "       [[ 7,  8,  9],\n",
              "        [10, 11, 12]],\n",
              "\n",
              "       [[13, 14, 15],\n",
              "        [16, 17, 18]]], dtype=int32)>"
            ]
          },
          "metadata": {},
          "execution_count": 11
        }
      ]
    },
    {
      "cell_type": "code",
      "source": [
        "tensor.ndim"
      ],
      "metadata": {
        "colab": {
          "base_uri": "https://localhost:8080/"
        },
        "id": "eRyT7Etm5CV7",
        "outputId": "731f70e8-2ba2-425d-a792-d2817c94c88f"
      },
      "execution_count": 12,
      "outputs": [
        {
          "output_type": "execute_result",
          "data": {
            "text/plain": [
              "3"
            ]
          },
          "metadata": {},
          "execution_count": 12
        }
      ]
    },
    {
      "cell_type": "markdown",
      "source": [
        "What we createed so far\n",
        "* scalar: a single number\n",
        "* vector: a number with dimension\n",
        "* matrix:  a 2 dimension array of number\n",
        "* tensor: an n dimnesion array of number "
      ],
      "metadata": {
        "id": "2fMx0Zsj5yGm"
      }
    },
    {
      "cell_type": "markdown",
      "source": [
        "# creating tensors with tf.variable"
      ],
      "metadata": {
        "id": "OhIDtAMw6bWf"
      }
    },
    {
      "cell_type": "code",
      "source": [
        "changeable_tensor = tf.Variable([10,7])\n",
        "unchangeable_tensor = tf.constant([10,7])"
      ],
      "metadata": {
        "id": "VnswuZWA6qX4"
      },
      "execution_count": 13,
      "outputs": []
    },
    {
      "cell_type": "code",
      "source": [
        "changeable_tensor, unchangeable_tensor"
      ],
      "metadata": {
        "colab": {
          "base_uri": "https://localhost:8080/"
        },
        "id": "HqwCHYGq7I5B",
        "outputId": "6880baa5-f537-492a-f3b0-7c2a81cb4f5e"
      },
      "execution_count": 14,
      "outputs": [
        {
          "output_type": "execute_result",
          "data": {
            "text/plain": [
              "(<tf.Variable 'Variable:0' shape=(2,) dtype=int32, numpy=array([10,  7], dtype=int32)>,\n",
              " <tf.Tensor: shape=(2,), dtype=int32, numpy=array([10,  7], dtype=int32)>)"
            ]
          },
          "metadata": {},
          "execution_count": 14
        }
      ]
    },
    {
      "cell_type": "code",
      "source": [
        "# for variable tensor, you can change the element using the .assign()\n",
        "changeable_tensor[0].assign(7)"
      ],
      "metadata": {
        "colab": {
          "base_uri": "https://localhost:8080/"
        },
        "id": "irDItUVl7NB3",
        "outputId": "b7db51d3-d5c6-4335-c78c-e0539ea533b0"
      },
      "execution_count": 15,
      "outputs": [
        {
          "output_type": "execute_result",
          "data": {
            "text/plain": [
              "<tf.Variable 'UnreadVariable' shape=(2,) dtype=int32, numpy=array([7, 7], dtype=int32)>"
            ]
          },
          "metadata": {},
          "execution_count": 15
        }
      ]
    },
    {
      "cell_type": "markdown",
      "source": [
        "### Creating random tensors"
      ],
      "metadata": {
        "id": "tnSaocI58DUo"
      }
    },
    {
      "cell_type": "code",
      "source": [
        "# create two random (but same ) tensors\n",
        "random_1 = tf.random.Generator.from_seed(84) # set seed for reproducibility\n",
        "random_1 = random_1.normal(shape=(3,2))\n",
        "random_1"
      ],
      "metadata": {
        "colab": {
          "base_uri": "https://localhost:8080/"
        },
        "id": "iSitfoXl9mQA",
        "outputId": "74d2e3d1-962a-43f0-a4bf-e1ca5d0e716a"
      },
      "execution_count": 16,
      "outputs": [
        {
          "output_type": "execute_result",
          "data": {
            "text/plain": [
              "<tf.Tensor: shape=(3, 2), dtype=float32, numpy=\n",
              "array([[-0.65641224, -2.286797  ],\n",
              "       [ 0.07126775,  2.3546813 ],\n",
              "       [ 2.2539537 , -0.8510308 ]], dtype=float32)>"
            ]
          },
          "metadata": {},
          "execution_count": 16
        }
      ]
    },
    {
      "cell_type": "markdown",
      "source": [
        "### Shuffling the order of elements in a tensor"
      ],
      "metadata": {
        "id": "l233SRr_-KG5"
      }
    },
    {
      "cell_type": "code",
      "source": [
        "#  shuffle a tensor (ideal for when you want to shuffle your data so the inherent oredr dossnt affect learning)\n",
        "not_shuffled = tf.constant([[10,7],\n",
        "                            [3,4],\n",
        "                            [2,5]])\n",
        "tf.random.shuffle(not_shuffled)"
      ],
      "metadata": {
        "colab": {
          "base_uri": "https://localhost:8080/"
        },
        "id": "fFF1hj4D_0L-",
        "outputId": "7daf549c-7b80-4f12-f670-227cd6bc3bc5"
      },
      "execution_count": 17,
      "outputs": [
        {
          "output_type": "execute_result",
          "data": {
            "text/plain": [
              "<tf.Tensor: shape=(3, 2), dtype=int32, numpy=\n",
              "array([[ 3,  4],\n",
              "       [10,  7],\n",
              "       [ 2,  5]], dtype=int32)>"
            ]
          },
          "metadata": {},
          "execution_count": 17
        }
      ]
    },
    {
      "cell_type": "code",
      "source": [
        "tf.random.set_seed(84)\n",
        "tf.random.shuffle(not_shuffled)"
      ],
      "metadata": {
        "colab": {
          "base_uri": "https://localhost:8080/"
        },
        "id": "MjQZMe3-ElLk",
        "outputId": "ed0ca628-3d48-41a7-ce9b-84359433d83c"
      },
      "execution_count": 18,
      "outputs": [
        {
          "output_type": "execute_result",
          "data": {
            "text/plain": [
              "<tf.Tensor: shape=(3, 2), dtype=int32, numpy=\n",
              "array([[10,  7],\n",
              "       [ 2,  5],\n",
              "       [ 3,  4]], dtype=int32)>"
            ]
          },
          "metadata": {},
          "execution_count": 18
        }
      ]
    },
    {
      "cell_type": "markdown",
      "source": [
        "### Other ways to make tebsors"
      ],
      "metadata": {
        "id": "V5xlLAEkIqNZ"
      }
    },
    {
      "cell_type": "code",
      "source": [
        "# Create a tensor of ones\n",
        "tf.ones([10,7])"
      ],
      "metadata": {
        "colab": {
          "base_uri": "https://localhost:8080/"
        },
        "id": "Z7wRv4v_L1Tr",
        "outputId": "ee2911f2-3db3-4fe2-b537-18cab1ea0b9c"
      },
      "execution_count": 19,
      "outputs": [
        {
          "output_type": "execute_result",
          "data": {
            "text/plain": [
              "<tf.Tensor: shape=(10, 7), dtype=float32, numpy=\n",
              "array([[1., 1., 1., 1., 1., 1., 1.],\n",
              "       [1., 1., 1., 1., 1., 1., 1.],\n",
              "       [1., 1., 1., 1., 1., 1., 1.],\n",
              "       [1., 1., 1., 1., 1., 1., 1.],\n",
              "       [1., 1., 1., 1., 1., 1., 1.],\n",
              "       [1., 1., 1., 1., 1., 1., 1.],\n",
              "       [1., 1., 1., 1., 1., 1., 1.],\n",
              "       [1., 1., 1., 1., 1., 1., 1.],\n",
              "       [1., 1., 1., 1., 1., 1., 1.],\n",
              "       [1., 1., 1., 1., 1., 1., 1.]], dtype=float32)>"
            ]
          },
          "metadata": {},
          "execution_count": 19
        }
      ]
    },
    {
      "cell_type": "code",
      "source": [
        "# create a tensor of all  zeros\n",
        "tf.zeros([3,4])"
      ],
      "metadata": {
        "colab": {
          "base_uri": "https://localhost:8080/"
        },
        "id": "gatiIhp9L99D",
        "outputId": "0752c0af-9dcb-4a8d-e6dd-837b6dd4e771"
      },
      "execution_count": 20,
      "outputs": [
        {
          "output_type": "execute_result",
          "data": {
            "text/plain": [
              "<tf.Tensor: shape=(3, 4), dtype=float32, numpy=\n",
              "array([[0., 0., 0., 0.],\n",
              "       [0., 0., 0., 0.],\n",
              "       [0., 0., 0., 0.]], dtype=float32)>"
            ]
          },
          "metadata": {},
          "execution_count": 20
        }
      ]
    },
    {
      "cell_type": "markdown",
      "source": [
        "### you can also turn numpy arrays into tensorflow tensors\n",
        "\n",
        "the amin diff ntw numpy arrays and tensorflow is that tf can be run on a gpu for pfaster computing"
      ],
      "metadata": {
        "id": "j7Ij1qbOMMwl"
      }
    },
    {
      "cell_type": "code",
      "source": [
        "import numpy as np\n",
        "numpy_A = np.arange(1,25, dtype = np.int32) # create a numpy arrays btw 1 and 25\n",
        "numpy_A"
      ],
      "metadata": {
        "colab": {
          "base_uri": "https://localhost:8080/"
        },
        "id": "VekQL5LcM9sE",
        "outputId": "21365d6f-8d53-476e-979f-cd1499b0f746"
      },
      "execution_count": 21,
      "outputs": [
        {
          "output_type": "execute_result",
          "data": {
            "text/plain": [
              "array([ 1,  2,  3,  4,  5,  6,  7,  8,  9, 10, 11, 12, 13, 14, 15, 16, 17,\n",
              "       18, 19, 20, 21, 22, 23, 24], dtype=int32)"
            ]
          },
          "metadata": {},
          "execution_count": 21
        }
      ]
    },
    {
      "cell_type": "code",
      "source": [
        "A = tf.constant(numpy_A, shape= (2,3,4))\n",
        "A"
      ],
      "metadata": {
        "colab": {
          "base_uri": "https://localhost:8080/"
        },
        "id": "ouGcaDGcNaJ8",
        "outputId": "f1f7a44f-6029-47e5-bd06-fd3ab1e50760"
      },
      "execution_count": 22,
      "outputs": [
        {
          "output_type": "execute_result",
          "data": {
            "text/plain": [
              "<tf.Tensor: shape=(2, 3, 4), dtype=int32, numpy=\n",
              "array([[[ 1,  2,  3,  4],\n",
              "        [ 5,  6,  7,  8],\n",
              "        [ 9, 10, 11, 12]],\n",
              "\n",
              "       [[13, 14, 15, 16],\n",
              "        [17, 18, 19, 20],\n",
              "        [21, 22, 23, 24]]], dtype=int32)>"
            ]
          },
          "metadata": {},
          "execution_count": 22
        }
      ]
    },
    {
      "cell_type": "markdown",
      "source": [
        "### Getting information from tensors\n",
        "* Shape\n",
        "* Rank\n",
        "* Axis or dimension\n",
        "* Size"
      ],
      "metadata": {
        "id": "-XwSyOOwNr7v"
      }
    },
    {
      "cell_type": "code",
      "source": [
        "# create a rank 4 tensor (4 dimension)\n",
        "rank_4_tensor = tf.zeros([2,3,4,5])\n",
        "rank_4_tensor "
      ],
      "metadata": {
        "colab": {
          "base_uri": "https://localhost:8080/"
        },
        "id": "oeMQpGSwOaR_",
        "outputId": "c1c0cb99-4f67-443f-a4de-57cbfba8f7ab"
      },
      "execution_count": 23,
      "outputs": [
        {
          "output_type": "execute_result",
          "data": {
            "text/plain": [
              "<tf.Tensor: shape=(2, 3, 4, 5), dtype=float32, numpy=\n",
              "array([[[[0., 0., 0., 0., 0.],\n",
              "         [0., 0., 0., 0., 0.],\n",
              "         [0., 0., 0., 0., 0.],\n",
              "         [0., 0., 0., 0., 0.]],\n",
              "\n",
              "        [[0., 0., 0., 0., 0.],\n",
              "         [0., 0., 0., 0., 0.],\n",
              "         [0., 0., 0., 0., 0.],\n",
              "         [0., 0., 0., 0., 0.]],\n",
              "\n",
              "        [[0., 0., 0., 0., 0.],\n",
              "         [0., 0., 0., 0., 0.],\n",
              "         [0., 0., 0., 0., 0.],\n",
              "         [0., 0., 0., 0., 0.]]],\n",
              "\n",
              "\n",
              "       [[[0., 0., 0., 0., 0.],\n",
              "         [0., 0., 0., 0., 0.],\n",
              "         [0., 0., 0., 0., 0.],\n",
              "         [0., 0., 0., 0., 0.]],\n",
              "\n",
              "        [[0., 0., 0., 0., 0.],\n",
              "         [0., 0., 0., 0., 0.],\n",
              "         [0., 0., 0., 0., 0.],\n",
              "         [0., 0., 0., 0., 0.]],\n",
              "\n",
              "        [[0., 0., 0., 0., 0.],\n",
              "         [0., 0., 0., 0., 0.],\n",
              "         [0., 0., 0., 0., 0.],\n",
              "         [0., 0., 0., 0., 0.]]]], dtype=float32)>"
            ]
          },
          "metadata": {},
          "execution_count": 23
        }
      ]
    },
    {
      "cell_type": "markdown",
      "source": [
        "### indexing tensors\n",
        "\n",
        "tensors can be indexed just like python lists"
      ],
      "metadata": {
        "id": "1sHbvgSwRYsC"
      }
    },
    {
      "cell_type": "code",
      "source": [
        "# Get the first 2 elements of each dimension\n",
        "rank_4_tensor[:2,:2,:2,:2]"
      ],
      "metadata": {
        "colab": {
          "base_uri": "https://localhost:8080/"
        },
        "id": "sfsL9SmZ2VmZ",
        "outputId": "9278a0bb-31f6-4847-c7bd-44cbc6ea5c17"
      },
      "execution_count": 24,
      "outputs": [
        {
          "output_type": "execute_result",
          "data": {
            "text/plain": [
              "<tf.Tensor: shape=(2, 2, 2, 2), dtype=float32, numpy=\n",
              "array([[[[0., 0.],\n",
              "         [0., 0.]],\n",
              "\n",
              "        [[0., 0.],\n",
              "         [0., 0.]]],\n",
              "\n",
              "\n",
              "       [[[0., 0.],\n",
              "         [0., 0.]],\n",
              "\n",
              "        [[0., 0.],\n",
              "         [0., 0.]]]], dtype=float32)>"
            ]
          },
          "metadata": {},
          "execution_count": 24
        }
      ]
    },
    {
      "cell_type": "code",
      "source": [
        "# get the first element from each dimentsiin from each index except the final one\n",
        "rank_4_tensor[:1,:1,:1,:]"
      ],
      "metadata": {
        "colab": {
          "base_uri": "https://localhost:8080/"
        },
        "id": "CLg4eXaZ2u3Y",
        "outputId": "0c92aefe-7e79-4057-b1c0-0c2f8e85cf9b"
      },
      "execution_count": 25,
      "outputs": [
        {
          "output_type": "execute_result",
          "data": {
            "text/plain": [
              "<tf.Tensor: shape=(1, 1, 1, 5), dtype=float32, numpy=array([[[[0., 0., 0., 0., 0.]]]], dtype=float32)>"
            ]
          },
          "metadata": {},
          "execution_count": 25
        }
      ]
    },
    {
      "cell_type": "code",
      "source": [
        "# create a rank_2 tensor (2 dimension)\n",
        "rank_2_tensor = tf.constant([[10,7],\n",
        "                             [3,4]])\n",
        "rank_2_tensor.shape, rank_2_tensor.ndim"
      ],
      "metadata": {
        "colab": {
          "base_uri": "https://localhost:8080/"
        },
        "id": "S0fW--u63Zcw",
        "outputId": "d90df53f-2cfd-41a6-d902-a7902c1281de"
      },
      "execution_count": 26,
      "outputs": [
        {
          "output_type": "execute_result",
          "data": {
            "text/plain": [
              "(TensorShape([2, 2]), 2)"
            ]
          },
          "metadata": {},
          "execution_count": 26
        }
      ]
    },
    {
      "cell_type": "code",
      "source": [
        "# get the last item of each row of the rank2\n",
        "rank_2_tensor[-1]"
      ],
      "metadata": {
        "colab": {
          "base_uri": "https://localhost:8080/"
        },
        "id": "--w40LJg30KT",
        "outputId": "fcd09a09-bd0f-43b5-c725-75568daec199"
      },
      "execution_count": 27,
      "outputs": [
        {
          "output_type": "execute_result",
          "data": {
            "text/plain": [
              "<tf.Tensor: shape=(2,), dtype=int32, numpy=array([3, 4], dtype=int32)>"
            ]
          },
          "metadata": {},
          "execution_count": 27
        }
      ]
    },
    {
      "cell_type": "code",
      "source": [
        "# add in extra dimension of rank 2 \n",
        "rank_3_tensor = rank_2_tensor[..., tf.newaxis]\n",
        "rank_3_tensor\n"
      ],
      "metadata": {
        "colab": {
          "base_uri": "https://localhost:8080/"
        },
        "id": "uNFWmH9y4MPW",
        "outputId": "8534a4c3-a296-47f8-8e90-ac96149bc1db"
      },
      "execution_count": 28,
      "outputs": [
        {
          "output_type": "execute_result",
          "data": {
            "text/plain": [
              "<tf.Tensor: shape=(2, 2, 1), dtype=int32, numpy=\n",
              "array([[[10],\n",
              "        [ 7]],\n",
              "\n",
              "       [[ 3],\n",
              "        [ 4]]], dtype=int32)>"
            ]
          },
          "metadata": {},
          "execution_count": 28
        }
      ]
    },
    {
      "cell_type": "code",
      "source": [
        "# alternatibe to tf.newaxis\n",
        "tf.expand_dims(rank_2_tensor, axis=-1)"
      ],
      "metadata": {
        "colab": {
          "base_uri": "https://localhost:8080/"
        },
        "id": "yfpcSD0E-psR",
        "outputId": "04e5e474-e081-48f8-b27a-8e58cbe7da97"
      },
      "execution_count": 29,
      "outputs": [
        {
          "output_type": "execute_result",
          "data": {
            "text/plain": [
              "<tf.Tensor: shape=(2, 2, 1), dtype=int32, numpy=\n",
              "array([[[10],\n",
              "        [ 7]],\n",
              "\n",
              "       [[ 3],\n",
              "        [ 4]]], dtype=int32)>"
            ]
          },
          "metadata": {},
          "execution_count": 29
        }
      ]
    },
    {
      "cell_type": "markdown",
      "source": [
        "## Manipulating tensors(tensor operations)\n",
        "\n",
        "Basic Ops"
      ],
      "metadata": {
        "id": "ChyV8TVJ-5C0"
      }
    },
    {
      "cell_type": "code",
      "source": [
        "# you can add values to a tenssor using the addition operator\n",
        "tensor = tf.constant([[10,7],\n",
        "                     [3,4]])\n",
        "tensor + 10"
      ],
      "metadata": {
        "colab": {
          "base_uri": "https://localhost:8080/"
        },
        "id": "Eqa1b71xAJ8C",
        "outputId": "b28c1097-1458-42cb-b89c-12a84f5bee51"
      },
      "execution_count": 30,
      "outputs": [
        {
          "output_type": "execute_result",
          "data": {
            "text/plain": [
              "<tf.Tensor: shape=(2, 2), dtype=int32, numpy=\n",
              "array([[20, 17],\n",
              "       [13, 14]], dtype=int32)>"
            ]
          },
          "metadata": {},
          "execution_count": 30
        }
      ]
    },
    {
      "cell_type": "code",
      "source": [
        "#  multi\n",
        "tensor * 10"
      ],
      "metadata": {
        "colab": {
          "base_uri": "https://localhost:8080/"
        },
        "id": "FJBgpG1NAaTX",
        "outputId": "0a666662-4710-4fc9-82d3-9df1566c58cf"
      },
      "execution_count": 31,
      "outputs": [
        {
          "output_type": "execute_result",
          "data": {
            "text/plain": [
              "<tf.Tensor: shape=(2, 2), dtype=int32, numpy=\n",
              "array([[100,  70],\n",
              "       [ 30,  40]], dtype=int32)>"
            ]
          },
          "metadata": {},
          "execution_count": 31
        }
      ]
    },
    {
      "cell_type": "code",
      "source": [
        "#  we can also use the tf built in functions\n",
        "tf.multiply(tensor, 10)"
      ],
      "metadata": {
        "colab": {
          "base_uri": "https://localhost:8080/"
        },
        "id": "8zWuadhKBFTT",
        "outputId": "fd994226-5817-4d8a-ed1c-fdf4750d4bff"
      },
      "execution_count": 32,
      "outputs": [
        {
          "output_type": "execute_result",
          "data": {
            "text/plain": [
              "<tf.Tensor: shape=(2, 2), dtype=int32, numpy=\n",
              "array([[100,  70],\n",
              "       [ 30,  40]], dtype=int32)>"
            ]
          },
          "metadata": {},
          "execution_count": 32
        }
      ]
    },
    {
      "cell_type": "code",
      "source": [
        "# or\n",
        "tf.math.multiply(tensor, 10)"
      ],
      "metadata": {
        "colab": {
          "base_uri": "https://localhost:8080/"
        },
        "id": "5gX9UFFQFae0",
        "outputId": "bdcc47c9-f997-4c85-f9fd-a502e4ded419"
      },
      "execution_count": 33,
      "outputs": [
        {
          "output_type": "execute_result",
          "data": {
            "text/plain": [
              "<tf.Tensor: shape=(2, 2), dtype=int32, numpy=\n",
              "array([[100,  70],\n",
              "       [ 30,  40]], dtype=int32)>"
            ]
          },
          "metadata": {},
          "execution_count": 33
        }
      ]
    },
    {
      "cell_type": "markdown",
      "source": [
        "### Matrix multiplication\n",
        "\n",
        "in ML, matrix mult is one of the most common ops"
      ],
      "metadata": {
        "id": "RfBgU6SdFgwz"
      }
    },
    {
      "cell_type": "code",
      "source": [
        "print(tensor)\n",
        "tf.linalg.matmul(tensor, tensor)"
      ],
      "metadata": {
        "colab": {
          "base_uri": "https://localhost:8080/"
        },
        "id": "H4zaqQvSGHQQ",
        "outputId": "c1b02ada-2631-444b-b9c6-a776952144d2"
      },
      "execution_count": 34,
      "outputs": [
        {
          "output_type": "stream",
          "name": "stdout",
          "text": [
            "tf.Tensor(\n",
            "[[10  7]\n",
            " [ 3  4]], shape=(2, 2), dtype=int32)\n"
          ]
        },
        {
          "output_type": "execute_result",
          "data": {
            "text/plain": [
              "<tf.Tensor: shape=(2, 2), dtype=int32, numpy=\n",
              "array([[121,  98],\n",
              "       [ 42,  37]], dtype=int32)>"
            ]
          },
          "metadata": {},
          "execution_count": 34
        }
      ]
    },
    {
      "cell_type": "code",
      "source": [
        "# matrix mult using python operator\n",
        "tensor @ tensor"
      ],
      "metadata": {
        "colab": {
          "base_uri": "https://localhost:8080/"
        },
        "id": "T_O6OMuCHb6Z",
        "outputId": "4bbc04c5-efb2-4391-fb0a-4dc956c552e1"
      },
      "execution_count": 35,
      "outputs": [
        {
          "output_type": "execute_result",
          "data": {
            "text/plain": [
              "<tf.Tensor: shape=(2, 2), dtype=int32, numpy=\n",
              "array([[121,  98],\n",
              "       [ 42,  37]], dtype=int32)>"
            ]
          },
          "metadata": {},
          "execution_count": 35
        }
      ]
    },
    {
      "cell_type": "code",
      "source": [
        "#  create a a tensor of 3X2\n",
        "X = tf.constant([[1,2],\n",
        "                 [3,4],\n",
        "                [5,6]])\n",
        "\n",
        "#  another\n",
        "Y = tf.constant([[7,8],\n",
        "                 [9,10],\n",
        "                 [11,12]])\n",
        "X,Y"
      ],
      "metadata": {
        "colab": {
          "base_uri": "https://localhost:8080/"
        },
        "id": "KMynGB1_H7Ek",
        "outputId": "1b0966ce-9db5-42e6-9900-793cca9c10f5"
      },
      "execution_count": 36,
      "outputs": [
        {
          "output_type": "execute_result",
          "data": {
            "text/plain": [
              "(<tf.Tensor: shape=(3, 2), dtype=int32, numpy=\n",
              " array([[1, 2],\n",
              "        [3, 4],\n",
              "        [5, 6]], dtype=int32)>, <tf.Tensor: shape=(3, 2), dtype=int32, numpy=\n",
              " array([[ 7,  8],\n",
              "        [ 9, 10],\n",
              "        [11, 12]], dtype=int32)>)"
            ]
          },
          "metadata": {},
          "execution_count": 36
        }
      ]
    },
    {
      "cell_type": "code",
      "source": [
        "#  note that the above tensor cant multi \n",
        "# refer to matrix mult rules (only when matrix 1 column is equal to matrix 2 row)\n",
        "\n",
        "# lets reshape tensor Y\n",
        "tf.reshape(Y, shape=(2,3))"
      ],
      "metadata": {
        "colab": {
          "base_uri": "https://localhost:8080/"
        },
        "id": "J9dbAEGOImVa",
        "outputId": "37f93955-f925-4ac6-c6bd-4258facdeeba"
      },
      "execution_count": 37,
      "outputs": [
        {
          "output_type": "execute_result",
          "data": {
            "text/plain": [
              "<tf.Tensor: shape=(2, 3), dtype=int32, numpy=\n",
              "array([[ 7,  8,  9],\n",
              "       [10, 11, 12]], dtype=int32)>"
            ]
          },
          "metadata": {},
          "execution_count": 37
        }
      ]
    },
    {
      "cell_type": "code",
      "source": [
        "#  mult x by reshape(y)\n",
        "X @ tf.reshape(Y, shape=(2,3))"
      ],
      "metadata": {
        "colab": {
          "base_uri": "https://localhost:8080/"
        },
        "id": "lj1CyVvuk6_O",
        "outputId": "fcf510fe-113b-4c5f-c7eb-8a5eb3d144e4"
      },
      "execution_count": 38,
      "outputs": [
        {
          "output_type": "execute_result",
          "data": {
            "text/plain": [
              "<tf.Tensor: shape=(3, 3), dtype=int32, numpy=\n",
              "array([[ 27,  30,  33],\n",
              "       [ 61,  68,  75],\n",
              "       [ 95, 106, 117]], dtype=int32)>"
            ]
          },
          "metadata": {},
          "execution_count": 38
        }
      ]
    },
    {
      "cell_type": "code",
      "source": [
        "#  can do the same it transpose\n"
      ],
      "metadata": {
        "id": "CEfMhSs6lMlW"
      },
      "execution_count": 39,
      "outputs": []
    },
    {
      "cell_type": "markdown",
      "source": [
        "** the dot product **\n",
        "Matrix multiplication  is also referred to as the dot python\n",
        "\n",
        "can be performed using\n",
        "* tf.matmul()\n",
        "* tf.tensordot()"
      ],
      "metadata": {
        "id": "ZMw3SV4cJrXy"
      }
    },
    {
      "cell_type": "markdown",
      "source": [
        "### Changing the data type of a tensor"
      ],
      "metadata": {
        "id": "2tOo63JeKJnh"
      }
    },
    {
      "cell_type": "code",
      "source": [
        "# create a new tensoor with the deault datatype (float32)\n",
        "B = tf.constant([1.7,7.4])\n",
        "B.dtype"
      ],
      "metadata": {
        "colab": {
          "base_uri": "https://localhost:8080/"
        },
        "id": "xCSUNGr3MSLj",
        "outputId": "27079a9d-6754-4fdc-b18d-070670896369"
      },
      "execution_count": 40,
      "outputs": [
        {
          "output_type": "execute_result",
          "data": {
            "text/plain": [
              "tf.float32"
            ]
          },
          "metadata": {},
          "execution_count": 40
        }
      ]
    },
    {
      "cell_type": "code",
      "source": [
        "# chanege from float 32 to float 16 (reduce precison)\n",
        "B = tf.cast(B, dtype=tf.float16)\n",
        "B\n"
      ],
      "metadata": {
        "colab": {
          "base_uri": "https://localhost:8080/"
        },
        "id": "4HtLSLsxMiWq",
        "outputId": "b5d5d65d-8e56-4e19-9bf3-da971f6a8324"
      },
      "execution_count": 41,
      "outputs": [
        {
          "output_type": "execute_result",
          "data": {
            "text/plain": [
              "<tf.Tensor: shape=(2,), dtype=float16, numpy=array([1.7, 7.4], dtype=float16)>"
            ]
          },
          "metadata": {},
          "execution_count": 41
        }
      ]
    },
    {
      "cell_type": "markdown",
      "source": [
        "### Aggregating tensors\n",
        "\n",
        "Aggregating ytensots mean condensing them from multiple vsalurd down to smaller amount of values"
      ],
      "metadata": {
        "id": "hZXv_L8ONL0v"
      }
    },
    {
      "cell_type": "code",
      "source": [
        "# get the absolute values\n",
        "D =tf.constant([-7, -10])\n",
        "D, tf.abs(D)"
      ],
      "metadata": {
        "colab": {
          "base_uri": "https://localhost:8080/"
        },
        "id": "fVliXRaAOwBk",
        "outputId": "1811b17a-ad9f-4066-92b0-7fac7e6f4a1e"
      },
      "execution_count": 42,
      "outputs": [
        {
          "output_type": "execute_result",
          "data": {
            "text/plain": [
              "(<tf.Tensor: shape=(2,), dtype=int32, numpy=array([ -7, -10], dtype=int32)>,\n",
              " <tf.Tensor: shape=(2,), dtype=int32, numpy=array([ 7, 10], dtype=int32)>)"
            ]
          },
          "metadata": {},
          "execution_count": 42
        }
      ]
    },
    {
      "cell_type": "markdown",
      "source": [
        "Various forms of aggregaating tensors\n",
        "* get the minimum\n",
        "* get the maximum\n",
        "* get the mean of a tensor\n",
        "* get the sum of  a tensor\n"
      ],
      "metadata": {
        "id": "wJv9G9U5O7Dx"
      }
    },
    {
      "cell_type": "code",
      "source": [
        "# create a random tensor with values btw 0 and a 100 of size 50\n",
        "E =tf.constant(np.random.randint(0,100, size=50))\n",
        "E"
      ],
      "metadata": {
        "colab": {
          "base_uri": "https://localhost:8080/"
        },
        "id": "GyZV-54sPp3z",
        "outputId": "69a3e684-5772-459a-bb06-7ca3789e0572"
      },
      "execution_count": 43,
      "outputs": [
        {
          "output_type": "execute_result",
          "data": {
            "text/plain": [
              "<tf.Tensor: shape=(50,), dtype=int64, numpy=\n",
              "array([72,  3, 82, 13, 73, 10, 70, 10, 11, 92, 85, 78, 36, 95, 60, 64, 80,\n",
              "       65, 26, 73, 55, 62, 79, 87, 93,  7,  6, 34, 84, 28,  3, 80, 37,  8,\n",
              "       62, 20, 24, 96, 34, 69, 28, 56, 59, 60,  1, 93, 96, 22, 92, 68])>"
            ]
          },
          "metadata": {},
          "execution_count": 43
        }
      ]
    },
    {
      "cell_type": "code",
      "source": [
        "#  find the min\n",
        "tf.reduce_min(E)"
      ],
      "metadata": {
        "colab": {
          "base_uri": "https://localhost:8080/"
        },
        "id": "utD-Yx9eP3kg",
        "outputId": "6456bad9-60c9-4a2a-e9b4-52073fb651c1"
      },
      "execution_count": 44,
      "outputs": [
        {
          "output_type": "execute_result",
          "data": {
            "text/plain": [
              "<tf.Tensor: shape=(), dtype=int64, numpy=1>"
            ]
          },
          "metadata": {},
          "execution_count": 44
        }
      ]
    },
    {
      "cell_type": "code",
      "source": [
        "# find the max\n",
        "tf.reduce_max(E)"
      ],
      "metadata": {
        "colab": {
          "base_uri": "https://localhost:8080/"
        },
        "id": "CLyYzdjZQRjA",
        "outputId": "214bb0e3-b360-4a90-d743-96a07433f971"
      },
      "execution_count": 45,
      "outputs": [
        {
          "output_type": "execute_result",
          "data": {
            "text/plain": [
              "<tf.Tensor: shape=(), dtype=int64, numpy=96>"
            ]
          },
          "metadata": {},
          "execution_count": 45
        }
      ]
    },
    {
      "cell_type": "code",
      "source": [
        "# find the mean\n",
        "tf.reduce_mean(E)"
      ],
      "metadata": {
        "colab": {
          "base_uri": "https://localhost:8080/"
        },
        "id": "6R92I4ZmQXaJ",
        "outputId": "d5df7e6c-abd7-4b17-a6c3-8aec13791171"
      },
      "execution_count": 46,
      "outputs": [
        {
          "output_type": "execute_result",
          "data": {
            "text/plain": [
              "<tf.Tensor: shape=(), dtype=int64, numpy=52>"
            ]
          },
          "metadata": {},
          "execution_count": 46
        }
      ]
    },
    {
      "cell_type": "code",
      "source": [
        "# find the sum\n",
        "tf.reduce_sum(E)"
      ],
      "metadata": {
        "colab": {
          "base_uri": "https://localhost:8080/"
        },
        "id": "TdvMCd6kQfFT",
        "outputId": "17c6baa7-e5dd-4804-b2c5-9700db28fb3f"
      },
      "execution_count": 47,
      "outputs": [
        {
          "output_type": "execute_result",
          "data": {
            "text/plain": [
              "<tf.Tensor: shape=(), dtype=int64, numpy=2641>"
            ]
          },
          "metadata": {},
          "execution_count": 47
        }
      ]
    },
    {
      "cell_type": "code",
      "source": [
        "# variance\n",
        "tf.math.reduce_variance(tf.cast(E, dtype=tf.float32))"
      ],
      "metadata": {
        "colab": {
          "base_uri": "https://localhost:8080/"
        },
        "id": "ifYfl3BnQj71",
        "outputId": "5e724f34-1d4d-490c-d886-aec4da6343c8"
      },
      "execution_count": 48,
      "outputs": [
        {
          "output_type": "execute_result",
          "data": {
            "text/plain": [
              "<tf.Tensor: shape=(), dtype=float32, numpy=964.0276>"
            ]
          },
          "metadata": {},
          "execution_count": 48
        }
      ]
    },
    {
      "cell_type": "code",
      "source": [
        "# STD\n",
        "tf.math.reduce_std(tf.cast(E, dtype=tf.float32))"
      ],
      "metadata": {
        "colab": {
          "base_uri": "https://localhost:8080/"
        },
        "id": "A6KY-qBqQ6gZ",
        "outputId": "dcae2761-9fe0-4086-ffc5-6a7e129cc5cc"
      },
      "execution_count": 49,
      "outputs": [
        {
          "output_type": "execute_result",
          "data": {
            "text/plain": [
              "<tf.Tensor: shape=(), dtype=float32, numpy=31.048794>"
            ]
          },
          "metadata": {},
          "execution_count": 49
        }
      ]
    },
    {
      "cell_type": "markdown",
      "source": [
        "### finding the positional max and min"
      ],
      "metadata": {
        "id": "havmeQ9AUHEH"
      }
    },
    {
      "cell_type": "code",
      "source": [
        "#  create a new tensor for finfing miiiiiiiiiiin anf max\n",
        "tf.random.set_seed(84)\n",
        "F = tf.random.uniform(shape=[50])\n",
        "F\n"
      ],
      "metadata": {
        "colab": {
          "base_uri": "https://localhost:8080/"
        },
        "id": "TdSrpNJfaqwf",
        "outputId": "d0948617-353e-4b2a-8719-27e41305bf85"
      },
      "execution_count": 50,
      "outputs": [
        {
          "output_type": "execute_result",
          "data": {
            "text/plain": [
              "<tf.Tensor: shape=(50,), dtype=float32, numpy=\n",
              "array([0.6752322 , 0.07654727, 0.17704082, 0.4875176 , 0.59420335,\n",
              "       0.22550237, 0.9895787 , 0.11397505, 0.76960266, 0.9109514 ,\n",
              "       0.9022031 , 0.88879526, 0.8251649 , 0.8076726 , 0.37604678,\n",
              "       0.08291662, 0.08010626, 0.64241993, 0.44362867, 0.54224133,\n",
              "       0.06212544, 0.49427843, 0.22530258, 0.5357063 , 0.6136848 ,\n",
              "       0.9981259 , 0.8462304 , 0.0899297 , 0.7671411 , 0.02064371,\n",
              "       0.17759812, 0.31149256, 0.3833078 , 0.09686565, 0.7968019 ,\n",
              "       0.73487616, 0.22700477, 0.9049419 , 0.43215597, 0.7176515 ,\n",
              "       0.57811046, 0.9545188 , 0.9585389 , 0.45191896, 0.60023403,\n",
              "       0.8077353 , 0.39500773, 0.8875952 , 0.03515244, 0.53597975],\n",
              "      dtype=float32)>"
            ]
          },
          "metadata": {},
          "execution_count": 50
        }
      ]
    },
    {
      "cell_type": "code",
      "source": [
        "#  finf the positional max\n",
        "tf.argmax(F)"
      ],
      "metadata": {
        "colab": {
          "base_uri": "https://localhost:8080/"
        },
        "id": "FWh_57F6bEal",
        "outputId": "a0ca3973-98e1-49af-f471-6822b82adce9"
      },
      "execution_count": 51,
      "outputs": [
        {
          "output_type": "execute_result",
          "data": {
            "text/plain": [
              "<tf.Tensor: shape=(), dtype=int64, numpy=25>"
            ]
          },
          "metadata": {},
          "execution_count": 51
        }
      ]
    },
    {
      "cell_type": "code",
      "source": [
        "# index on the largest value position\n",
        "F[tf.argmax(F)]"
      ],
      "metadata": {
        "colab": {
          "base_uri": "https://localhost:8080/"
        },
        "id": "BM1GyEqZbscg",
        "outputId": "093b672c-eb48-4e10-dfdb-f574f69238d0"
      },
      "execution_count": 52,
      "outputs": [
        {
          "output_type": "execute_result",
          "data": {
            "text/plain": [
              "<tf.Tensor: shape=(), dtype=float32, numpy=0.9981259>"
            ]
          },
          "metadata": {},
          "execution_count": 52
        }
      ]
    },
    {
      "cell_type": "code",
      "source": [
        "# find the max val of F\n",
        "tf.reduce_max(F)\n"
      ],
      "metadata": {
        "colab": {
          "base_uri": "https://localhost:8080/"
        },
        "id": "Njoy6S1_bzag",
        "outputId": "dde7febc-108d-465f-80f7-7e2d766788f8"
      },
      "execution_count": 53,
      "outputs": [
        {
          "output_type": "execute_result",
          "data": {
            "text/plain": [
              "<tf.Tensor: shape=(), dtype=float32, numpy=0.9981259>"
            ]
          },
          "metadata": {},
          "execution_count": 53
        }
      ]
    },
    {
      "cell_type": "code",
      "source": [
        "# check for equality\n",
        "F[tf.argmax(F)] == tf.reduce_max(F)"
      ],
      "metadata": {
        "colab": {
          "base_uri": "https://localhost:8080/"
        },
        "id": "WzZ_W5GfcBRo",
        "outputId": "53de3cf5-47bc-45cb-b02a-c2fccf2fcd78"
      },
      "execution_count": 54,
      "outputs": [
        {
          "output_type": "execute_result",
          "data": {
            "text/plain": [
              "<tf.Tensor: shape=(), dtype=bool, numpy=True>"
            ]
          },
          "metadata": {},
          "execution_count": 54
        }
      ]
    },
    {
      "cell_type": "markdown",
      "source": [
        "### Squeezing a tensor\n",
        "(removing all single dimensions)"
      ],
      "metadata": {
        "id": "HEhJJiALcZpR"
      }
    },
    {
      "cell_type": "code",
      "source": [
        "# create a tensor to get startee\n",
        "tf.random.set_seed(84)\n",
        "G = tf.constant(tf.random.uniform(shape=[50]), shape=(1,1,1,1,50))\n",
        "G"
      ],
      "metadata": {
        "colab": {
          "base_uri": "https://localhost:8080/"
        },
        "id": "pICo5NS9eiHG",
        "outputId": "24d269a2-5873-4203-f132-64fde2b7989c"
      },
      "execution_count": 55,
      "outputs": [
        {
          "output_type": "execute_result",
          "data": {
            "text/plain": [
              "<tf.Tensor: shape=(1, 1, 1, 1, 50), dtype=float32, numpy=\n",
              "array([[[[[0.6752322 , 0.07654727, 0.17704082, 0.4875176 , 0.59420335,\n",
              "           0.22550237, 0.9895787 , 0.11397505, 0.76960266, 0.9109514 ,\n",
              "           0.9022031 , 0.88879526, 0.8251649 , 0.8076726 , 0.37604678,\n",
              "           0.08291662, 0.08010626, 0.64241993, 0.44362867, 0.54224133,\n",
              "           0.06212544, 0.49427843, 0.22530258, 0.5357063 , 0.6136848 ,\n",
              "           0.9981259 , 0.8462304 , 0.0899297 , 0.7671411 , 0.02064371,\n",
              "           0.17759812, 0.31149256, 0.3833078 , 0.09686565, 0.7968019 ,\n",
              "           0.73487616, 0.22700477, 0.9049419 , 0.43215597, 0.7176515 ,\n",
              "           0.57811046, 0.9545188 , 0.9585389 , 0.45191896, 0.60023403,\n",
              "           0.8077353 , 0.39500773, 0.8875952 , 0.03515244, 0.53597975]]]]],\n",
              "      dtype=float32)>"
            ]
          },
          "metadata": {},
          "execution_count": 55
        }
      ]
    },
    {
      "cell_type": "code",
      "source": [
        "G_squeezed = tf.squeeze(G)\n",
        "G_squeezed"
      ],
      "metadata": {
        "colab": {
          "base_uri": "https://localhost:8080/"
        },
        "id": "aC4h1aZZe6PF",
        "outputId": "2e043d46-94b5-4dff-fedc-238bc322c739"
      },
      "execution_count": 56,
      "outputs": [
        {
          "output_type": "execute_result",
          "data": {
            "text/plain": [
              "<tf.Tensor: shape=(50,), dtype=float32, numpy=\n",
              "array([0.6752322 , 0.07654727, 0.17704082, 0.4875176 , 0.59420335,\n",
              "       0.22550237, 0.9895787 , 0.11397505, 0.76960266, 0.9109514 ,\n",
              "       0.9022031 , 0.88879526, 0.8251649 , 0.8076726 , 0.37604678,\n",
              "       0.08291662, 0.08010626, 0.64241993, 0.44362867, 0.54224133,\n",
              "       0.06212544, 0.49427843, 0.22530258, 0.5357063 , 0.6136848 ,\n",
              "       0.9981259 , 0.8462304 , 0.0899297 , 0.7671411 , 0.02064371,\n",
              "       0.17759812, 0.31149256, 0.3833078 , 0.09686565, 0.7968019 ,\n",
              "       0.73487616, 0.22700477, 0.9049419 , 0.43215597, 0.7176515 ,\n",
              "       0.57811046, 0.9545188 , 0.9585389 , 0.45191896, 0.60023403,\n",
              "       0.8077353 , 0.39500773, 0.8875952 , 0.03515244, 0.53597975],\n",
              "      dtype=float32)>"
            ]
          },
          "metadata": {},
          "execution_count": 56
        }
      ]
    },
    {
      "cell_type": "markdown",
      "source": [
        "### onehot encode tensors"
      ],
      "metadata": {
        "id": "q7Su6QJ0foy7"
      }
    },
    {
      "cell_type": "code",
      "source": [
        "# create a list of index\n",
        "some_list = [0,1,2,3]\n",
        "\n",
        "# onehot encode\n",
        "tf.one_hot(some_list, depth=4)"
      ],
      "metadata": {
        "colab": {
          "base_uri": "https://localhost:8080/"
        },
        "id": "M4nJUHoXgQTq",
        "outputId": "b806973f-6ad5-47a9-faa5-41104b0b5822"
      },
      "execution_count": 57,
      "outputs": [
        {
          "output_type": "execute_result",
          "data": {
            "text/plain": [
              "<tf.Tensor: shape=(4, 4), dtype=float32, numpy=\n",
              "array([[1., 0., 0., 0.],\n",
              "       [0., 1., 0., 0.],\n",
              "       [0., 0., 1., 0.],\n",
              "       [0., 0., 0., 1.]], dtype=float32)>"
            ]
          },
          "metadata": {},
          "execution_count": 57
        }
      ]
    },
    {
      "cell_type": "markdown",
      "source": [
        "### tensors and numpy\n",
        "\n",
        "tensorflow interacts beautifully woith np arrays\n"
      ],
      "metadata": {
        "id": "Wbq_6uy5hKGm"
      }
    },
    {
      "cell_type": "code",
      "source": [
        "# create a tensor directly from a numpy array\n",
        "J = tf.constant(np.array([3., 7., 10]))\n",
        "J"
      ],
      "metadata": {
        "colab": {
          "base_uri": "https://localhost:8080/"
        },
        "id": "csYb4CgYpGyc",
        "outputId": "199b64f0-51f6-41ca-bc82-f9f45e484e0c"
      },
      "execution_count": 58,
      "outputs": [
        {
          "output_type": "execute_result",
          "data": {
            "text/plain": [
              "<tf.Tensor: shape=(3,), dtype=float64, numpy=array([ 3.,  7., 10.])>"
            ]
          },
          "metadata": {},
          "execution_count": 58
        }
      ]
    },
    {
      "cell_type": "code",
      "source": [
        "# convert the tensor back to np array\n",
        "np.array(J), type(np.array(J))"
      ],
      "metadata": {
        "colab": {
          "base_uri": "https://localhost:8080/"
        },
        "id": "mla_0GyKpUeD",
        "outputId": "81fc2326-9d01-4990-fe49-aea5ae0d04d5"
      },
      "execution_count": 60,
      "outputs": [
        {
          "output_type": "execute_result",
          "data": {
            "text/plain": [
              "(array([ 3.,  7., 10.]), numpy.ndarray)"
            ]
          },
          "metadata": {},
          "execution_count": 60
        }
      ]
    },
    {
      "cell_type": "code",
      "source": [
        "# convert tensor j tp np\n",
        "J.numpy()"
      ],
      "metadata": {
        "colab": {
          "base_uri": "https://localhost:8080/"
        },
        "id": "lmVaZ060phzr",
        "outputId": "3d1f7859-c354-46f3-f151-4179607ee398"
      },
      "execution_count": 62,
      "outputs": [
        {
          "output_type": "execute_result",
          "data": {
            "text/plain": [
              "array([ 3.,  7., 10.])"
            ]
          },
          "metadata": {},
          "execution_count": 62
        }
      ]
    },
    {
      "cell_type": "code",
      "source": [
        "tf.test.gpu_device_name()\n"
      ],
      "metadata": {
        "colab": {
          "base_uri": "https://localhost:8080/",
          "height": 36
        },
        "id": "WBPXB5Kbpv07",
        "outputId": "7a433b8d-1f73-42c0-c802-48d8bc26afa8"
      },
      "execution_count": 63,
      "outputs": [
        {
          "output_type": "execute_result",
          "data": {
            "text/plain": [
              "''"
            ],
            "application/vnd.google.colaboratory.intrinsic+json": {
              "type": "string"
            }
          },
          "metadata": {},
          "execution_count": 63
        }
      ]
    },
    {
      "cell_type": "code",
      "source": [
        "tf.config.list_physical_devices(\n",
        "\n",
        ")"
      ],
      "metadata": {
        "colab": {
          "base_uri": "https://localhost:8080/"
        },
        "id": "T2YzZnswrXYL",
        "outputId": "6da6a10d-8c7c-4957-ec14-e73c45be8703"
      },
      "execution_count": 65,
      "outputs": [
        {
          "output_type": "execute_result",
          "data": {
            "text/plain": [
              "[PhysicalDevice(name='/physical_device:CPU:0', device_type='CPU')]"
            ]
          },
          "metadata": {},
          "execution_count": 65
        }
      ]
    },
    {
      "cell_type": "code",
      "source": [
        "tf.constant([1,2,3])"
      ],
      "metadata": {
        "colab": {
          "base_uri": "https://localhost:8080/"
        },
        "id": "0xFX0GN_rz2w",
        "outputId": "49babcba-362b-4399-af55-a7fb91f7d6f9"
      },
      "execution_count": 66,
      "outputs": [
        {
          "output_type": "execute_result",
          "data": {
            "text/plain": [
              "<tf.Tensor: shape=(3,), dtype=int32, numpy=array([1, 2, 3], dtype=int32)>"
            ]
          },
          "metadata": {},
          "execution_count": 66
        }
      ]
    },
    {
      "cell_type": "markdown",
      "source": [
        "## 00. TensorFlow Fundamentals Exercises"
      ],
      "metadata": {
        "id": "SQVHFgsTxGo-"
      }
    },
    {
      "cell_type": "code",
      "source": [
        "#  create a scalar\n",
        "S = tf.constant(84)\n",
        "S"
      ],
      "metadata": {
        "colab": {
          "base_uri": "https://localhost:8080/"
        },
        "id": "mehNz5cVQFw4",
        "outputId": "419854fb-351d-488d-a543-a4142b348d02"
      },
      "execution_count": 60,
      "outputs": [
        {
          "output_type": "execute_result",
          "data": {
            "text/plain": [
              "<tf.Tensor: shape=(), dtype=int32, numpy=84>"
            ]
          },
          "metadata": {},
          "execution_count": 60
        }
      ]
    },
    {
      "cell_type": "code",
      "source": [
        "# create a vector\n",
        "V = tf.constant([8,4])\n",
        "V"
      ],
      "metadata": {
        "colab": {
          "base_uri": "https://localhost:8080/"
        },
        "id": "Ud04BjXuQNyZ",
        "outputId": "e19b95c4-0baf-4762-d3dc-359444067fdf"
      },
      "execution_count": 61,
      "outputs": [
        {
          "output_type": "execute_result",
          "data": {
            "text/plain": [
              "<tf.Tensor: shape=(2,), dtype=int32, numpy=array([8, 4], dtype=int32)>"
            ]
          },
          "metadata": {},
          "execution_count": 61
        }
      ]
    },
    {
      "cell_type": "code",
      "source": [
        "# create a matrix\n",
        "M = tf.constant(\n",
        "                  [\n",
        "                    [1,2,3],\n",
        "                    [4,5,6]\n",
        "                  ] \n",
        "                )\n",
        "M"
      ],
      "metadata": {
        "colab": {
          "base_uri": "https://localhost:8080/"
        },
        "id": "i2vU6e7VSI8r",
        "outputId": "98d6fff6-c256-49bb-930b-d081a16104a1"
      },
      "execution_count": 65,
      "outputs": [
        {
          "output_type": "execute_result",
          "data": {
            "text/plain": [
              "<tf.Tensor: shape=(2, 3), dtype=int32, numpy=\n",
              "array([[1, 2, 3],\n",
              "       [4, 5, 6]], dtype=int32)>"
            ]
          },
          "metadata": {},
          "execution_count": 65
        }
      ]
    },
    {
      "cell_type": "code",
      "source": [
        "# create a tensor\n",
        "T = tf.constant(\n",
        "                  [\n",
        "                      [\n",
        "                          [1,2,3],\n",
        "                          [4,5,6],\n",
        "                          [7,8,9]\n",
        "                      ],\n",
        "                      [\n",
        "                          [10,11,12],\n",
        "                          [13,14,15],\n",
        "                          [16,17,18]\n",
        "                      ]\n",
        "                  ]\n",
        "              )\n",
        "T"
      ],
      "metadata": {
        "colab": {
          "base_uri": "https://localhost:8080/"
        },
        "id": "4yTqxv0wQkLP",
        "outputId": "13381d66-64b2-4640-95cb-9c470c2591b0"
      },
      "execution_count": 64,
      "outputs": [
        {
          "output_type": "execute_result",
          "data": {
            "text/plain": [
              "<tf.Tensor: shape=(2, 3, 3), dtype=int32, numpy=\n",
              "array([[[ 1,  2,  3],\n",
              "        [ 4,  5,  6],\n",
              "        [ 7,  8,  9]],\n",
              "\n",
              "       [[10, 11, 12],\n",
              "        [13, 14, 15],\n",
              "        [16, 17, 18]]], dtype=int32)>"
            ]
          },
          "metadata": {},
          "execution_count": 64
        }
      ]
    },
    {
      "cell_type": "code",
      "source": [
        "# find the shape rank and size of anbove\n",
        "T.shape, tf.size(T), tf.rank(T)"
      ],
      "metadata": {
        "colab": {
          "base_uri": "https://localhost:8080/"
        },
        "id": "xloQzAEwR7Zu",
        "outputId": "1036e8f4-f096-4cee-9050-aae4c00ae7e6"
      },
      "execution_count": 66,
      "outputs": [
        {
          "output_type": "execute_result",
          "data": {
            "text/plain": [
              "(TensorShape([2, 3, 3]),\n",
              " <tf.Tensor: shape=(), dtype=int32, numpy=18>,\n",
              " <tf.Tensor: shape=(), dtype=int32, numpy=3>)"
            ]
          },
          "metadata": {},
          "execution_count": 66
        }
      ]
    },
    {
      "cell_type": "code",
      "source": [
        "#  create a random tensor withrandom values between 0 and 1 and shape [5,300]\n"
      ],
      "metadata": {
        "id": "nBaVKWacS3PL"
      },
      "execution_count": null,
      "outputs": []
    }
  ]
}