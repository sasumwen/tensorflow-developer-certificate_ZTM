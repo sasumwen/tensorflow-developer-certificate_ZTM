{
  "nbformat": 4,
  "nbformat_minor": 0,
  "metadata": {
    "colab": {
      "provenance": [],
      "authorship_tag": "ABX9TyNByknmcE/wWoZVQtV8U4EY",
      "include_colab_link": true
    },
    "kernelspec": {
      "name": "python3",
      "display_name": "Python 3"
    },
    "language_info": {
      "name": "python"
    },
    "gpuClass": "premium"
  },
  "cells": [
    {
      "cell_type": "markdown",
      "metadata": {
        "id": "view-in-github",
        "colab_type": "text"
      },
      "source": [
        "<a href=\"https://colab.research.google.com/github/sasumwen/tensorflow-developer-certificate_ZTM/blob/main/01_Neural_Network_Regression_with_TensorFlow.ipynb\" target=\"_parent\"><img src=\"https://colab.research.google.com/assets/colab-badge.svg\" alt=\"Open In Colab\"/></a>"
      ]
    },
    {
      "cell_type": "markdown",
      "source": [
        "# Introduction to regression with NN in TF"
      ],
      "metadata": {
        "id": "yZBMbzlmmDhv"
      }
    },
    {
      "cell_type": "code",
      "source": [
        "import tensorflow as tf"
      ],
      "metadata": {
        "id": "Zx_Ib88tKv9C"
      },
      "execution_count": 1,
      "outputs": []
    },
    {
      "cell_type": "code",
      "source": [
        "tf.__version__"
      ],
      "metadata": {
        "colab": {
          "base_uri": "https://localhost:8080/",
          "height": 36
        },
        "id": "_di9x2rIK2JW",
        "outputId": "aeed2bf5-37cf-4674-d345-11a7b70ec87d"
      },
      "execution_count": 2,
      "outputs": [
        {
          "output_type": "execute_result",
          "data": {
            "text/plain": [
              "'2.9.2'"
            ],
            "application/vnd.google.colaboratory.intrinsic+json": {
              "type": "string"
            }
          },
          "metadata": {},
          "execution_count": 2
        }
      ]
    },
    {
      "cell_type": "markdown",
      "source": [
        "### Create data to view and fit"
      ],
      "metadata": {
        "id": "2HHQzz_AK5mG"
      }
    },
    {
      "cell_type": "code",
      "source": [
        "import numpy as np\n",
        "import pandas as pd\n",
        "import matplotlib.pyplot as plt\n"
      ],
      "metadata": {
        "id": "w0UmksShLFSt"
      },
      "execution_count": 3,
      "outputs": []
    },
    {
      "cell_type": "code",
      "source": [
        "# create features \n",
        "X = np.array([-7.0, -4, -1, 2,5,8,11,14])\n",
        "\n",
        "# createlabels\n",
        "y = np.array([3.0,6,9,12,15,18,21,24])\n",
        "\n",
        "# visualize it\n",
        "plt.scatter(X,y)\n"
      ],
      "metadata": {
        "colab": {
          "base_uri": "https://localhost:8080/",
          "height": 287
        },
        "id": "Eo4DYjFILN5v",
        "outputId": "5561b01d-f9dd-43fd-a969-0c6c7df77054"
      },
      "execution_count": 4,
      "outputs": [
        {
          "output_type": "execute_result",
          "data": {
            "text/plain": [
              "<matplotlib.collections.PathCollection at 0x7f4a299d78d0>"
            ]
          },
          "metadata": {},
          "execution_count": 4
        },
        {
          "output_type": "display_data",
          "data": {
            "text/plain": [
              "<Figure size 432x288 with 1 Axes>"
            ],
            "image/png": "[encoded data removed]"
          },
          "metadata": {
            "needs_background": "light"
          }
        }
      ]
    },
    {
      "cell_type": "markdown",
      "source": [
        "## input and output shapes\n"
      ],
      "metadata": {
        "id": "6ZjhHb-jLvfg"
      }
    },
    {
      "cell_type": "code",
      "source": [
        "# create a demo tensor for housing price prediction prob\n",
        "house_info = tf.constant([\"bedroom\", \"bathroom\", \"garage\"])\n",
        "house_price = tf.constant([939700])\n",
        "house_info, house_price"
      ],
      "metadata": {
        "colab": {
          "base_uri": "https://localhost:8080/"
        },
        "id": "m0fCJQsqMAnF",
        "outputId": "3c048376-f85c-4416-ccae-161422ce0394"
      },
      "execution_count": 5,
      "outputs": [
        {
          "output_type": "execute_result",
          "data": {
            "text/plain": [
              "(<tf.Tensor: shape=(3,), dtype=string, numpy=array([b'bedroom', b'bathroom', b'garage'], dtype=object)>,\n",
              " <tf.Tensor: shape=(1,), dtype=int32, numpy=array([939700], dtype=int32)>)"
            ]
          },
          "metadata": {},
          "execution_count": 5
        }
      ]
    },
    {
      "cell_type": "code",
      "source": [
        "# turn our np into tf\n",
        "X = tf.constant(X)\n",
        "y = tf.constant(y)\n",
        "X,y"
      ],
      "metadata": {
        "colab": {
          "base_uri": "https://localhost:8080/"
        },
        "id": "rlFycJ6zMWQj",
        "outputId": "50a2b211-6cae-4012-a3bc-8772b196622d"
      },
      "execution_count": 6,
      "outputs": [
        {
          "output_type": "execute_result",
          "data": {
            "text/plain": [
              "(<tf.Tensor: shape=(8,), dtype=float64, numpy=array([-7., -4., -1.,  2.,  5.,  8., 11., 14.])>,\n",
              " <tf.Tensor: shape=(8,), dtype=float64, numpy=array([ 3.,  6.,  9., 12., 15., 18., 21., 24.])>)"
            ]
          },
          "metadata": {},
          "execution_count": 6
        }
      ]
    },
    {
      "cell_type": "markdown",
      "source": [
        "## steps in modelling in TensorFlow\n",
        "\n",
        "1. Creating a model - define the input and output layer, as well as the hidden layers of a deep learning model\n",
        "2. COmpiling a model - define the loss function (in other words, the funciton which tells the model how wrong it is) and th eoptimizer ( tells our model how to improve its learning) and the evaluation metrics (what we can use to interprest the performance of our model)\n",
        "3. Fitting a model - letting the model try to find patterns between X and y (features and labels)"
      ],
      "metadata": {
        "id": "QQd6z9bGPrW0"
      }
    },
    {
      "cell_type": "code",
      "source": [
        "#  set random see\n",
        "tf.random.set_seed(84)\n",
        "\n",
        "#1. Create a model using Sequential API\n",
        "model = tf.keras.Sequential([\n",
        "    tf.keras.layers.Dense(1)\n",
        "])\n",
        "\n",
        "# 2, compile the model\n",
        "model.compile(loss=tf.keras.losses.mae, #mae is short for mean absolute error\n",
        "              optimizer = tf.keras.optimizers.SGD(), # sgd is stochastic gradient descent\n",
        "              metrics=[\"mae\"])\n",
        "\n",
        "# 3. fit the model\n",
        "model.fit(tf.expand_dims(X, axis=-1),y,epochs=5)"
      ],
      "metadata": {
        "id": "aWzen9ATtktd",
        "colab": {
          "base_uri": "https://localhost:8080/"
        },
        "outputId": "8422c140-1166-4ed6-c403-3f02bf9b4596"
      },
      "execution_count": 7,
      "outputs": [
        {
          "output_type": "stream",
          "name": "stdout",
          "text": [
            "Epoch 1/5\n",
            "1/1 [==============================] - 1s 578ms/step - loss: 11.3754 - mae: 11.3754\n",
            "Epoch 2/5\n",
            "1/1 [==============================] - 0s 13ms/step - loss: 11.2429 - mae: 11.2429\n",
            "Epoch 3/5\n",
            "1/1 [==============================] - 0s 10ms/step - loss: 11.1104 - mae: 11.1104\n",
            "Epoch 4/5\n",
            "1/1 [==============================] - 0s 9ms/step - loss: 10.9779 - mae: 10.9779\n",
            "Epoch 5/5\n",
            "1/1 [==============================] - 0s 9ms/step - loss: 10.8454 - mae: 10.8454\n"
          ]
        },
        {
          "output_type": "execute_result",
          "data": {
            "text/plain": [
              "<keras.callbacks.History at 0x7f4a251e8110>"
            ]
          },
          "metadata": {},
          "execution_count": 7
        }
      ]
    },
    {
      "cell_type": "code",
      "source": [
        "# check out X and y\n",
        "X, y"
      ],
      "metadata": {
        "colab": {
          "base_uri": "https://localhost:8080/"
        },
        "id": "BToP9ZWELHMg",
        "outputId": "bf6e6eac-00c0-4097-d9c7-f0b6ff75c337"
      },
      "execution_count": 8,
      "outputs": [
        {
          "output_type": "execute_result",
          "data": {
            "text/plain": [
              "(<tf.Tensor: shape=(8,), dtype=float64, numpy=array([-7., -4., -1.,  2.,  5.,  8., 11., 14.])>,\n",
              " <tf.Tensor: shape=(8,), dtype=float64, numpy=array([ 3.,  6.,  9., 12., 15., 18., 21., 24.])>)"
            ]
          },
          "metadata": {},
          "execution_count": 8
        }
      ]
    },
    {
      "cell_type": "code",
      "source": [
        "# try to make pres using the model\n",
        "model.predict([17])"
      ],
      "metadata": {
        "colab": {
          "base_uri": "https://localhost:8080/"
        },
        "id": "SjksUw7rMNrm",
        "outputId": "607c8b3c-d6c2-4c3d-9231-6d8ddfde050e"
      },
      "execution_count": 9,
      "outputs": [
        {
          "output_type": "stream",
          "name": "stdout",
          "text": [
            "1/1 [==============================] - 0s 108ms/step\n"
          ]
        },
        {
          "output_type": "execute_result",
          "data": {
            "text/plain": [
              "array([[13.344376]], dtype=float32)"
            ]
          },
          "metadata": {},
          "execution_count": 9
        }
      ]
    },
    {
      "cell_type": "markdown",
      "source": [
        "## Improving our model\n",
        "\n",
        "We can improve our model, by altering the steps we took to create a model\n",
        "\n",
        "1. **Creating a Mocel** - here we might add more hiden layers, increate the number of hiden units( all called neurons) within each of the hiden layers, chage the activation function of each layer\n",
        "\n",
        "2. **Compiling a model** - here we might change the optimixzation function or perhaps the learning rate of the opt function\n",
        "\n",
        "3. **fitting a model** - here fit a model fo more epochs( leave it trian long) or give it more features tol learn from"
      ],
      "metadata": {
        "id": "V0zIFOycMTMc"
      }
    },
    {
      "cell_type": "code",
      "source": [
        "# lets rebuild the model\n",
        "# 1 create the model\n",
        "model= tf.keras.Sequential([\n",
        "    tf.keras.layers.Dense(1)\n",
        "])\n",
        "\n",
        "# 2 compile\n",
        "model.compile(\n",
        "    loss = tf.keras.losses.mae,\n",
        "    optimizer = tf.keras.optimizers.SGD(),\n",
        "    metrics=[\"mae\"]\n",
        ")\n",
        "\n",
        "# 3 fit\n",
        "\n",
        "model.fit(tf.expand_dims(X, axis=-1,), y, epochs=100)"
      ],
      "metadata": {
        "colab": {
          "base_uri": "https://localhost:8080/"
        },
        "id": "owfNkpjiMkHy",
        "outputId": "51e82879-c16c-44e0-dbf7-6415adfe6ab6"
      },
      "execution_count": 10,
      "outputs": [
        {
          "output_type": "stream",
          "name": "stdout",
          "text": [
            "Epoch 1/100\n",
            "1/1 [==============================] - 0s 484ms/step - loss: 16.8805 - mae: 16.8805\n",
            "Epoch 2/100\n",
            "1/1 [==============================] - 0s 20ms/step - loss: 16.5993 - mae: 16.5993\n",
            "Epoch 3/100\n",
            "1/1 [==============================] - 0s 10ms/step - loss: 16.3180 - mae: 16.3180\n",
            "Epoch 4/100\n",
            "1/1 [==============================] - 0s 17ms/step - loss: 16.0368 - mae: 16.0368\n",
            "Epoch 5/100\n",
            "1/1 [==============================] - 0s 17ms/step - loss: 15.7555 - mae: 15.7555\n",
            "Epoch 6/100\n",
            "1/1 [==============================] - 0s 13ms/step - loss: 15.4743 - mae: 15.4743\n",
            "Epoch 7/100\n",
            "1/1 [==============================] - 0s 13ms/step - loss: 15.1930 - mae: 15.1930\n",
            "Epoch 8/100\n",
            "1/1 [==============================] - 0s 18ms/step - loss: 14.9149 - mae: 14.9149\n",
            "Epoch 9/100\n",
            "1/1 [==============================] - 0s 17ms/step - loss: 14.7824 - mae: 14.7824\n",
            "Epoch 10/100\n",
            "1/1 [==============================] - 0s 10ms/step - loss: 14.6499 - mae: 14.6499\n",
            "Epoch 11/100\n",
            "1/1 [==============================] - 0s 19ms/step - loss: 14.5174 - mae: 14.5174\n",
            "Epoch 12/100\n",
            "1/1 [==============================] - 0s 12ms/step - loss: 14.3849 - mae: 14.3849\n",
            "Epoch 13/100\n",
            "1/1 [==============================] - 0s 12ms/step - loss: 14.2524 - mae: 14.2524\n",
            "Epoch 14/100\n",
            "1/1 [==============================] - 0s 13ms/step - loss: 14.1199 - mae: 14.1199\n",
            "Epoch 15/100\n",
            "1/1 [==============================] - 0s 16ms/step - loss: 13.9874 - mae: 13.9874\n",
            "Epoch 16/100\n",
            "1/1 [==============================] - 0s 16ms/step - loss: 13.8549 - mae: 13.8549\n",
            "Epoch 17/100\n",
            "1/1 [==============================] - 0s 8ms/step - loss: 13.7224 - mae: 13.7224\n",
            "Epoch 18/100\n",
            "1/1 [==============================] - 0s 23ms/step - loss: 13.5899 - mae: 13.5899\n",
            "Epoch 19/100\n",
            "1/1 [==============================] - 0s 15ms/step - loss: 13.4574 - mae: 13.4574\n",
            "Epoch 20/100\n",
            "1/1 [==============================] - 0s 12ms/step - loss: 13.3249 - mae: 13.3249\n",
            "Epoch 21/100\n",
            "1/1 [==============================] - 0s 17ms/step - loss: 13.1924 - mae: 13.1924\n",
            "Epoch 22/100\n",
            "1/1 [==============================] - 0s 12ms/step - loss: 13.0599 - mae: 13.0599\n",
            "Epoch 23/100\n",
            "1/1 [==============================] - 0s 20ms/step - loss: 12.9274 - mae: 12.9274\n",
            "Epoch 24/100\n",
            "1/1 [==============================] - 0s 20ms/step - loss: 12.7949 - mae: 12.7949\n",
            "Epoch 25/100\n",
            "1/1 [==============================] - 0s 10ms/step - loss: 12.6624 - mae: 12.6624\n",
            "Epoch 26/100\n",
            "1/1 [==============================] - 0s 16ms/step - loss: 12.5299 - mae: 12.5299\n",
            "Epoch 27/100\n",
            "1/1 [==============================] - 0s 19ms/step - loss: 12.3974 - mae: 12.3974\n",
            "Epoch 28/100\n",
            "1/1 [==============================] - 0s 22ms/step - loss: 12.2649 - mae: 12.2649\n",
            "Epoch 29/100\n",
            "1/1 [==============================] - 0s 12ms/step - loss: 12.1324 - mae: 12.1324\n",
            "Epoch 30/100\n",
            "1/1 [==============================] - 0s 13ms/step - loss: 11.9999 - mae: 11.9999\n",
            "Epoch 31/100\n",
            "1/1 [==============================] - 0s 10ms/step - loss: 11.8674 - mae: 11.8674\n",
            "Epoch 32/100\n",
            "1/1 [==============================] - 0s 12ms/step - loss: 11.7349 - mae: 11.7349\n",
            "Epoch 33/100\n",
            "1/1 [==============================] - 0s 35ms/step - loss: 11.6024 - mae: 11.6024\n",
            "Epoch 34/100\n",
            "1/1 [==============================] - 0s 26ms/step - loss: 11.4699 - mae: 11.4699\n",
            "Epoch 35/100\n",
            "1/1 [==============================] - 0s 17ms/step - loss: 11.3374 - mae: 11.3374\n",
            "Epoch 36/100\n",
            "1/1 [==============================] - 0s 17ms/step - loss: 11.2049 - mae: 11.2049\n",
            "Epoch 37/100\n",
            "1/1 [==============================] - 0s 19ms/step - loss: 11.0724 - mae: 11.0724\n",
            "Epoch 38/100\n",
            "1/1 [==============================] - 0s 22ms/step - loss: 10.9399 - mae: 10.9399\n",
            "Epoch 39/100\n",
            "1/1 [==============================] - 0s 10ms/step - loss: 10.8074 - mae: 10.8074\n",
            "Epoch 40/100\n",
            "1/1 [==============================] - 0s 13ms/step - loss: 10.6749 - mae: 10.6749\n",
            "Epoch 41/100\n",
            "1/1 [==============================] - 0s 16ms/step - loss: 10.5424 - mae: 10.5424\n",
            "Epoch 42/100\n",
            "1/1 [==============================] - 0s 21ms/step - loss: 10.4099 - mae: 10.4099\n",
            "Epoch 43/100\n",
            "1/1 [==============================] - 0s 19ms/step - loss: 10.2774 - mae: 10.2774\n",
            "Epoch 44/100\n",
            "1/1 [==============================] - 0s 12ms/step - loss: 10.1449 - mae: 10.1449\n",
            "Epoch 45/100\n",
            "1/1 [==============================] - 0s 13ms/step - loss: 10.0124 - mae: 10.0124\n",
            "Epoch 46/100\n",
            "1/1 [==============================] - 0s 13ms/step - loss: 9.8799 - mae: 9.8799\n",
            "Epoch 47/100\n",
            "1/1 [==============================] - 0s 19ms/step - loss: 9.7474 - mae: 9.7474\n",
            "Epoch 48/100\n",
            "1/1 [==============================] - 0s 18ms/step - loss: 9.6149 - mae: 9.6149\n",
            "Epoch 49/100\n",
            "1/1 [==============================] - 0s 9ms/step - loss: 9.4824 - mae: 9.4824\n",
            "Epoch 50/100\n",
            "1/1 [==============================] - 0s 13ms/step - loss: 9.3499 - mae: 9.3499\n",
            "Epoch 51/100\n",
            "1/1 [==============================] - 0s 19ms/step - loss: 9.2174 - mae: 9.2174\n",
            "Epoch 52/100\n",
            "1/1 [==============================] - 0s 10ms/step - loss: 9.0849 - mae: 9.0849\n",
            "Epoch 53/100\n",
            "1/1 [==============================] - 0s 11ms/step - loss: 8.9524 - mae: 8.9524\n",
            "Epoch 54/100\n",
            "1/1 [==============================] - 0s 14ms/step - loss: 8.8199 - mae: 8.8199\n",
            "Epoch 55/100\n",
            "1/1 [==============================] - 0s 10ms/step - loss: 8.6874 - mae: 8.6874\n",
            "Epoch 56/100\n",
            "1/1 [==============================] - 0s 10ms/step - loss: 8.5549 - mae: 8.5549\n",
            "Epoch 57/100\n",
            "1/1 [==============================] - 0s 11ms/step - loss: 8.4224 - mae: 8.4224\n",
            "Epoch 58/100\n",
            "1/1 [==============================] - 0s 14ms/step - loss: 8.2899 - mae: 8.2899\n",
            "Epoch 59/100\n",
            "1/1 [==============================] - 0s 14ms/step - loss: 8.1574 - mae: 8.1574\n",
            "Epoch 60/100\n",
            "1/1 [==============================] - 0s 38ms/step - loss: 8.0249 - mae: 8.0249\n",
            "Epoch 61/100\n",
            "1/1 [==============================] - 0s 15ms/step - loss: 7.8924 - mae: 7.8924\n",
            "Epoch 62/100\n",
            "1/1 [==============================] - 0s 24ms/step - loss: 7.7599 - mae: 7.7599\n",
            "Epoch 63/100\n",
            "1/1 [==============================] - 0s 16ms/step - loss: 7.6274 - mae: 7.6274\n",
            "Epoch 64/100\n",
            "1/1 [==============================] - 0s 14ms/step - loss: 7.4949 - mae: 7.4949\n",
            "Epoch 65/100\n",
            "1/1 [==============================] - 0s 7ms/step - loss: 7.3624 - mae: 7.3624\n",
            "Epoch 66/100\n",
            "1/1 [==============================] - 0s 7ms/step - loss: 7.2299 - mae: 7.2299\n",
            "Epoch 67/100\n",
            "1/1 [==============================] - 0s 9ms/step - loss: 7.0974 - mae: 7.0974\n",
            "Epoch 68/100\n",
            "1/1 [==============================] - 0s 8ms/step - loss: 7.0106 - mae: 7.0106\n",
            "Epoch 69/100\n",
            "1/1 [==============================] - 0s 15ms/step - loss: 7.0050 - mae: 7.0050\n",
            "Epoch 70/100\n",
            "1/1 [==============================] - 0s 15ms/step - loss: 6.9994 - mae: 6.9994\n",
            "Epoch 71/100\n",
            "1/1 [==============================] - 0s 10ms/step - loss: 6.9938 - mae: 6.9938\n",
            "Epoch 72/100\n",
            "1/1 [==============================] - 0s 20ms/step - loss: 6.9881 - mae: 6.9881\n",
            "Epoch 73/100\n",
            "1/1 [==============================] - 0s 10ms/step - loss: 6.9825 - mae: 6.9825\n",
            "Epoch 74/100\n",
            "1/1 [==============================] - 0s 12ms/step - loss: 6.9769 - mae: 6.9769\n",
            "Epoch 75/100\n",
            "1/1 [==============================] - 0s 11ms/step - loss: 6.9713 - mae: 6.9713\n",
            "Epoch 76/100\n",
            "1/1 [==============================] - 0s 19ms/step - loss: 6.9656 - mae: 6.9656\n",
            "Epoch 77/100\n",
            "1/1 [==============================] - 0s 21ms/step - loss: 6.9600 - mae: 6.9600\n",
            "Epoch 78/100\n",
            "1/1 [==============================] - 0s 24ms/step - loss: 6.9544 - mae: 6.9544\n",
            "Epoch 79/100\n",
            "1/1 [==============================] - 0s 12ms/step - loss: 6.9488 - mae: 6.9488\n",
            "Epoch 80/100\n",
            "1/1 [==============================] - 0s 9ms/step - loss: 6.9431 - mae: 6.9431\n",
            "Epoch 81/100\n",
            "1/1 [==============================] - 0s 8ms/step - loss: 6.9375 - mae: 6.9375\n",
            "Epoch 82/100\n",
            "1/1 [==============================] - 0s 11ms/step - loss: 6.9319 - mae: 6.9319\n",
            "Epoch 83/100\n",
            "1/1 [==============================] - 0s 10ms/step - loss: 6.9263 - mae: 6.9263\n",
            "Epoch 84/100\n",
            "1/1 [==============================] - 0s 15ms/step - loss: 6.9206 - mae: 6.9206\n",
            "Epoch 85/100\n",
            "1/1 [==============================] - 0s 10ms/step - loss: 6.9150 - mae: 6.9150\n",
            "Epoch 86/100\n",
            "1/1 [==============================] - 0s 8ms/step - loss: 6.9094 - mae: 6.9094\n",
            "Epoch 87/100\n",
            "1/1 [==============================] - 0s 8ms/step - loss: 6.9038 - mae: 6.9038\n",
            "Epoch 88/100\n",
            "1/1 [==============================] - 0s 8ms/step - loss: 6.8981 - mae: 6.8981\n",
            "Epoch 89/100\n",
            "1/1 [==============================] - 0s 11ms/step - loss: 6.8925 - mae: 6.8925\n",
            "Epoch 90/100\n",
            "1/1 [==============================] - 0s 13ms/step - loss: 6.8869 - mae: 6.8869\n",
            "Epoch 91/100\n",
            "1/1 [==============================] - 0s 10ms/step - loss: 6.8813 - mae: 6.8813\n",
            "Epoch 92/100\n",
            "1/1 [==============================] - 0s 21ms/step - loss: 6.8756 - mae: 6.8756\n",
            "Epoch 93/100\n",
            "1/1 [==============================] - 0s 12ms/step - loss: 6.8700 - mae: 6.8700\n",
            "Epoch 94/100\n",
            "1/1 [==============================] - 0s 12ms/step - loss: 6.8644 - mae: 6.8644\n",
            "Epoch 95/100\n",
            "1/1 [==============================] - 0s 80ms/step - loss: 6.8588 - mae: 6.8588\n",
            "Epoch 96/100\n",
            "1/1 [==============================] - 0s 29ms/step - loss: 6.8531 - mae: 6.8531\n",
            "Epoch 97/100\n",
            "1/1 [==============================] - 0s 22ms/step - loss: 6.8475 - mae: 6.8475\n",
            "Epoch 98/100\n",
            "1/1 [==============================] - 0s 16ms/step - loss: 6.8419 - mae: 6.8419\n",
            "Epoch 99/100\n",
            "1/1 [==============================] - 0s 13ms/step - loss: 6.8363 - mae: 6.8363\n",
            "Epoch 100/100\n",
            "1/1 [==============================] - 0s 7ms/step - loss: 6.8306 - mae: 6.8306\n"
          ]
        },
        {
          "output_type": "execute_result",
          "data": {
            "text/plain": [
              "<keras.callbacks.History at 0x7f4a25133b50>"
            ]
          },
          "metadata": {},
          "execution_count": 10
        }
      ]
    },
    {
      "cell_type": "code",
      "source": [
        "# recall the data\n",
        "X, y"
      ],
      "metadata": {
        "colab": {
          "base_uri": "https://localhost:8080/"
        },
        "id": "QACAsuGQYFPf",
        "outputId": "a5f75ba9-e38a-4302-bc6e-268418ba0c4f"
      },
      "execution_count": 11,
      "outputs": [
        {
          "output_type": "execute_result",
          "data": {
            "text/plain": [
              "(<tf.Tensor: shape=(8,), dtype=float64, numpy=array([-7., -4., -1.,  2.,  5.,  8., 11., 14.])>,\n",
              " <tf.Tensor: shape=(8,), dtype=float64, numpy=array([ 3.,  6.,  9., 12., 15., 18., 21., 24.])>)"
            ]
          },
          "metadata": {},
          "execution_count": 11
        }
      ]
    },
    {
      "cell_type": "code",
      "source": [
        "# see if the prediction has imporved\n",
        "model.predict([17])"
      ],
      "metadata": {
        "colab": {
          "base_uri": "https://localhost:8080/"
        },
        "id": "u1nprVmGYNdl",
        "outputId": "1e74ec5b-b785-40a8-a282-ea079e6fd8a0"
      },
      "execution_count": 12,
      "outputs": [
        {
          "output_type": "stream",
          "name": "stdout",
          "text": [
            "1/1 [==============================] - 0s 96ms/step\n"
          ]
        },
        {
          "output_type": "execute_result",
          "data": {
            "text/plain": [
              "array([[29.472445]], dtype=float32)"
            ]
          },
          "metadata": {},
          "execution_count": 12
        }
      ]
    },
    {
      "cell_type": "code",
      "source": [
        "# let try again\n",
        "\n",
        "model = tf.keras.Sequential([\n",
        "    tf.keras.layers.Dense(100, activation = \"relu\"),\n",
        "   \n",
        "    \n",
        "    tf.keras.layers.Dense(1)\n",
        "])\n",
        "\n",
        "model.compile(\n",
        "    loss = tf.keras.losses.mae,\n",
        "    optimizer = tf.keras.optimizers.SGD(),\n",
        "    metrics = [\"mae\"]\n",
        ")\n",
        "\n",
        "model.fit(tf.expand_dims(X, axis=-1), y, epochs = 100)"
      ],
      "metadata": {
        "colab": {
          "base_uri": "https://localhost:8080/"
        },
        "id": "dkK0qinIYUT5",
        "outputId": "845fca90-2b54-4e8b-effd-6472a8db519d"
      },
      "execution_count": 13,
      "outputs": [
        {
          "output_type": "stream",
          "name": "stdout",
          "text": [
            "Epoch 1/100\n",
            "1/1 [==============================] - 1s 841ms/step - loss: 14.3905 - mae: 14.3905\n",
            "Epoch 2/100\n",
            "1/1 [==============================] - 0s 11ms/step - loss: 13.7663 - mae: 13.7663\n",
            "Epoch 3/100\n",
            "1/1 [==============================] - 0s 25ms/step - loss: 13.1458 - mae: 13.1458\n",
            "Epoch 4/100\n",
            "1/1 [==============================] - 0s 13ms/step - loss: 12.5231 - mae: 12.5231\n",
            "Epoch 5/100\n",
            "1/1 [==============================] - 0s 14ms/step - loss: 11.8935 - mae: 11.8935\n",
            "Epoch 6/100\n",
            "1/1 [==============================] - 0s 14ms/step - loss: 11.2493 - mae: 11.2493\n",
            "Epoch 7/100\n",
            "1/1 [==============================] - 0s 15ms/step - loss: 10.5914 - mae: 10.5914\n",
            "Epoch 8/100\n",
            "1/1 [==============================] - 0s 14ms/step - loss: 9.9217 - mae: 9.9217\n",
            "Epoch 9/100\n",
            "1/1 [==============================] - 0s 13ms/step - loss: 9.2212 - mae: 9.2212\n",
            "Epoch 10/100\n",
            "1/1 [==============================] - 0s 49ms/step - loss: 8.4940 - mae: 8.4940\n",
            "Epoch 11/100\n",
            "1/1 [==============================] - 0s 15ms/step - loss: 7.7228 - mae: 7.7228\n",
            "Epoch 12/100\n",
            "1/1 [==============================] - 0s 14ms/step - loss: 6.9058 - mae: 6.9058\n",
            "Epoch 13/100\n",
            "1/1 [==============================] - 0s 13ms/step - loss: 6.0320 - mae: 6.0320\n",
            "Epoch 14/100\n",
            "1/1 [==============================] - 0s 12ms/step - loss: 5.0910 - mae: 5.0910\n",
            "Epoch 15/100\n",
            "1/1 [==============================] - 0s 14ms/step - loss: 4.4204 - mae: 4.4204\n",
            "Epoch 16/100\n",
            "1/1 [==============================] - 0s 15ms/step - loss: 4.2843 - mae: 4.2843\n",
            "Epoch 17/100\n",
            "1/1 [==============================] - 0s 52ms/step - loss: 4.2490 - mae: 4.2490\n",
            "Epoch 18/100\n",
            "1/1 [==============================] - 0s 14ms/step - loss: 4.1878 - mae: 4.1878\n",
            "Epoch 19/100\n",
            "1/1 [==============================] - 0s 12ms/step - loss: 4.1864 - mae: 4.1864\n",
            "Epoch 20/100\n",
            "1/1 [==============================] - 0s 31ms/step - loss: 4.0902 - mae: 4.0902\n",
            "Epoch 21/100\n",
            "1/1 [==============================] - 0s 13ms/step - loss: 4.1232 - mae: 4.1232\n",
            "Epoch 22/100\n",
            "1/1 [==============================] - 0s 12ms/step - loss: 4.0187 - mae: 4.0187\n",
            "Epoch 23/100\n",
            "1/1 [==============================] - 0s 30ms/step - loss: 4.0325 - mae: 4.0325\n",
            "Epoch 24/100\n",
            "1/1 [==============================] - 0s 26ms/step - loss: 3.9541 - mae: 3.9541\n",
            "Epoch 25/100\n",
            "1/1 [==============================] - 0s 12ms/step - loss: 3.9326 - mae: 3.9326\n",
            "Epoch 26/100\n",
            "1/1 [==============================] - 0s 25ms/step - loss: 3.8979 - mae: 3.8979\n",
            "Epoch 27/100\n",
            "1/1 [==============================] - 0s 16ms/step - loss: 3.8788 - mae: 3.8788\n",
            "Epoch 28/100\n",
            "1/1 [==============================] - 0s 16ms/step - loss: 3.9071 - mae: 3.9071\n",
            "Epoch 29/100\n",
            "1/1 [==============================] - 0s 15ms/step - loss: 3.8584 - mae: 3.8584\n",
            "Epoch 30/100\n",
            "1/1 [==============================] - 0s 41ms/step - loss: 3.9199 - mae: 3.9199\n",
            "Epoch 31/100\n",
            "1/1 [==============================] - 0s 13ms/step - loss: 3.8510 - mae: 3.8510\n",
            "Epoch 32/100\n",
            "1/1 [==============================] - 0s 18ms/step - loss: 3.9087 - mae: 3.9087\n",
            "Epoch 33/100\n",
            "1/1 [==============================] - 0s 13ms/step - loss: 3.8590 - mae: 3.8590\n",
            "Epoch 34/100\n",
            "1/1 [==============================] - 0s 8ms/step - loss: 3.8831 - mae: 3.8831\n",
            "Epoch 35/100\n",
            "1/1 [==============================] - 0s 12ms/step - loss: 3.8671 - mae: 3.8671\n",
            "Epoch 36/100\n",
            "1/1 [==============================] - 0s 14ms/step - loss: 3.8572 - mae: 3.8572\n",
            "Epoch 37/100\n",
            "1/1 [==============================] - 0s 14ms/step - loss: 3.8784 - mae: 3.8784\n",
            "Epoch 38/100\n",
            "1/1 [==============================] - 0s 11ms/step - loss: 3.8365 - mae: 3.8365\n",
            "Epoch 39/100\n",
            "1/1 [==============================] - 0s 29ms/step - loss: 3.8896 - mae: 3.8896\n",
            "Epoch 40/100\n",
            "1/1 [==============================] - 0s 22ms/step - loss: 3.8211 - mae: 3.8211\n",
            "Epoch 41/100\n",
            "1/1 [==============================] - 0s 12ms/step - loss: 3.8861 - mae: 3.8861\n",
            "Epoch 42/100\n",
            "1/1 [==============================] - 0s 17ms/step - loss: 3.8294 - mae: 3.8294\n",
            "Epoch 43/100\n",
            "1/1 [==============================] - 0s 16ms/step - loss: 3.8600 - mae: 3.8600\n",
            "Epoch 44/100\n",
            "1/1 [==============================] - 0s 19ms/step - loss: 3.8378 - mae: 3.8378\n",
            "Epoch 45/100\n",
            "1/1 [==============================] - 0s 13ms/step - loss: 3.8339 - mae: 3.8339\n",
            "Epoch 46/100\n",
            "1/1 [==============================] - 0s 16ms/step - loss: 3.8511 - mae: 3.8511\n",
            "Epoch 47/100\n",
            "1/1 [==============================] - 0s 20ms/step - loss: 3.8129 - mae: 3.8129\n",
            "Epoch 48/100\n",
            "1/1 [==============================] - 0s 17ms/step - loss: 3.8606 - mae: 3.8606\n",
            "Epoch 49/100\n",
            "1/1 [==============================] - 0s 25ms/step - loss: 3.7925 - mae: 3.7925\n",
            "Epoch 50/100\n",
            "1/1 [==============================] - 0s 30ms/step - loss: 3.8621 - mae: 3.8621\n",
            "Epoch 51/100\n",
            "1/1 [==============================] - 0s 10ms/step - loss: 3.8010 - mae: 3.8010\n",
            "Epoch 52/100\n",
            "1/1 [==============================] - 0s 12ms/step - loss: 3.8358 - mae: 3.8358\n",
            "Epoch 53/100\n",
            "1/1 [==============================] - 0s 12ms/step - loss: 3.8096 - mae: 3.8096\n",
            "Epoch 54/100\n",
            "1/1 [==============================] - 0s 12ms/step - loss: 3.8107 - mae: 3.8107\n",
            "Epoch 55/100\n",
            "1/1 [==============================] - 0s 23ms/step - loss: 3.8241 - mae: 3.8241\n",
            "Epoch 56/100\n",
            "1/1 [==============================] - 0s 15ms/step - loss: 3.7880 - mae: 3.7880\n",
            "Epoch 57/100\n",
            "1/1 [==============================] - 0s 20ms/step - loss: 3.8328 - mae: 3.8328\n",
            "Epoch 58/100\n",
            "1/1 [==============================] - 0s 13ms/step - loss: 3.7650 - mae: 3.7650\n",
            "Epoch 59/100\n",
            "1/1 [==============================] - 0s 15ms/step - loss: 3.8368 - mae: 3.8368\n",
            "Epoch 60/100\n",
            "1/1 [==============================] - 0s 17ms/step - loss: 3.7737 - mae: 3.7737\n",
            "Epoch 61/100\n",
            "1/1 [==============================] - 0s 16ms/step - loss: 3.8102 - mae: 3.8102\n",
            "Epoch 62/100\n",
            "1/1 [==============================] - 0s 18ms/step - loss: 3.7824 - mae: 3.7824\n",
            "Epoch 63/100\n",
            "1/1 [==============================] - 0s 21ms/step - loss: 3.7864 - mae: 3.7864\n",
            "Epoch 64/100\n",
            "1/1 [==============================] - 0s 16ms/step - loss: 3.7971 - mae: 3.7971\n",
            "Epoch 65/100\n",
            "1/1 [==============================] - 0s 16ms/step - loss: 3.7618 - mae: 3.7618\n",
            "Epoch 66/100\n",
            "1/1 [==============================] - 0s 20ms/step - loss: 3.8060 - mae: 3.8060\n",
            "Epoch 67/100\n",
            "1/1 [==============================] - 0s 15ms/step - loss: 3.7385 - mae: 3.7385\n",
            "Epoch 68/100\n",
            "1/1 [==============================] - 0s 20ms/step - loss: 3.8102 - mae: 3.8102\n",
            "Epoch 69/100\n",
            "1/1 [==============================] - 0s 25ms/step - loss: 3.7474 - mae: 3.7474\n",
            "Epoch 70/100\n",
            "1/1 [==============================] - 0s 16ms/step - loss: 3.7833 - mae: 3.7833\n",
            "Epoch 71/100\n",
            "1/1 [==============================] - 0s 27ms/step - loss: 3.7564 - mae: 3.7564\n",
            "Epoch 72/100\n",
            "1/1 [==============================] - 0s 19ms/step - loss: 3.7606 - mae: 3.7606\n",
            "Epoch 73/100\n",
            "1/1 [==============================] - 0s 26ms/step - loss: 3.7713 - mae: 3.7713\n",
            "Epoch 74/100\n",
            "1/1 [==============================] - 0s 12ms/step - loss: 3.7342 - mae: 3.7342\n",
            "Epoch 75/100\n",
            "1/1 [==============================] - 0s 15ms/step - loss: 3.7804 - mae: 3.7804\n",
            "Epoch 76/100\n",
            "1/1 [==============================] - 0s 13ms/step - loss: 3.7132 - mae: 3.7132\n",
            "Epoch 77/100\n",
            "1/1 [==============================] - 0s 20ms/step - loss: 3.7822 - mae: 3.7822\n",
            "Epoch 78/100\n",
            "1/1 [==============================] - 0s 13ms/step - loss: 3.7222 - mae: 3.7222\n",
            "Epoch 79/100\n",
            "1/1 [==============================] - 0s 11ms/step - loss: 3.7549 - mae: 3.7549\n",
            "Epoch 80/100\n",
            "1/1 [==============================] - 0s 28ms/step - loss: 3.7315 - mae: 3.7315\n",
            "Epoch 81/100\n",
            "1/1 [==============================] - 0s 13ms/step - loss: 3.7328 - mae: 3.7328\n",
            "Epoch 82/100\n",
            "1/1 [==============================] - 0s 14ms/step - loss: 3.7464 - mae: 3.7464\n",
            "Epoch 83/100\n",
            "1/1 [==============================] - 0s 12ms/step - loss: 3.7053 - mae: 3.7053\n",
            "Epoch 84/100\n",
            "1/1 [==============================] - 0s 8ms/step - loss: 3.7557 - mae: 3.7557\n",
            "Epoch 85/100\n",
            "1/1 [==============================] - 0s 8ms/step - loss: 3.6887 - mae: 3.6887\n",
            "Epoch 86/100\n",
            "1/1 [==============================] - 0s 20ms/step - loss: 3.7530 - mae: 3.7530\n",
            "Epoch 87/100\n",
            "1/1 [==============================] - 0s 21ms/step - loss: 3.6979 - mae: 3.6979\n",
            "Epoch 88/100\n",
            "1/1 [==============================] - 0s 14ms/step - loss: 3.7254 - mae: 3.7254\n",
            "Epoch 89/100\n",
            "1/1 [==============================] - 0s 12ms/step - loss: 3.7087 - mae: 3.7087\n",
            "Epoch 90/100\n",
            "1/1 [==============================] - 0s 11ms/step - loss: 3.7029 - mae: 3.7029\n",
            "Epoch 91/100\n",
            "1/1 [==============================] - 0s 14ms/step - loss: 3.7225 - mae: 3.7225\n",
            "Epoch 92/100\n",
            "1/1 [==============================] - 0s 15ms/step - loss: 3.6750 - mae: 3.6750\n",
            "Epoch 93/100\n",
            "1/1 [==============================] - 0s 12ms/step - loss: 3.7320 - mae: 3.7320\n",
            "Epoch 94/100\n",
            "1/1 [==============================] - 0s 28ms/step - loss: 3.6652 - mae: 3.6652\n",
            "Epoch 95/100\n",
            "1/1 [==============================] - 0s 32ms/step - loss: 3.7225 - mae: 3.7225\n",
            "Epoch 96/100\n",
            "1/1 [==============================] - 0s 27ms/step - loss: 3.6746 - mae: 3.6746\n",
            "Epoch 97/100\n",
            "1/1 [==============================] - 0s 21ms/step - loss: 3.6945 - mae: 3.6945\n",
            "Epoch 98/100\n",
            "1/1 [==============================] - 0s 10ms/step - loss: 3.6867 - mae: 3.6867\n",
            "Epoch 99/100\n",
            "1/1 [==============================] - 0s 15ms/step - loss: 3.6716 - mae: 3.6716\n",
            "Epoch 100/100\n",
            "1/1 [==============================] - 0s 14ms/step - loss: 3.6997 - mae: 3.6997\n"
          ]
        },
        {
          "output_type": "execute_result",
          "data": {
            "text/plain": [
              "<keras.callbacks.History at 0x7f4a2500dd50>"
            ]
          },
          "metadata": {},
          "execution_count": 13
        }
      ]
    },
    {
      "cell_type": "code",
      "source": [
        "model.predict([17])"
      ],
      "metadata": {
        "colab": {
          "base_uri": "https://localhost:8080/"
        },
        "id": "uBCJI8gEZxAQ",
        "outputId": "946a1c08-3034-4863-a44c-37b9bf9a5109"
      },
      "execution_count": 14,
      "outputs": [
        {
          "output_type": "stream",
          "name": "stdout",
          "text": [
            "1/1 [==============================] - 0s 257ms/step\n"
          ]
        },
        {
          "output_type": "execute_result",
          "data": {
            "text/plain": [
              "array([[31.810333]], dtype=float32)"
            ]
          },
          "metadata": {},
          "execution_count": 14
        }
      ]
    },
    {
      "cell_type": "markdown",
      "source": [
        "## Evaluating a model"
      ],
      "metadata": {
        "id": "FBdqaperbmCZ"
      }
    },
    {
      "cell_type": "markdown",
      "source": [
        "3 words to momeorized when evluuating, visualize visualize visualize\n",
        "* the data - what does te data look like'\n",
        "* the model -\n",
        "* the training - how does it perform while it let\n",
        "* the predictions of te model- how it lines up agains the grand truth"
      ],
      "metadata": {
        "id": "frD4mxQNXQ02"
      }
    },
    {
      "cell_type": "code",
      "source": [
        "# MAke a bigger dataset\n",
        "\n",
        "X= tf.range(-100,100, 4)\n",
        "X"
      ],
      "metadata": {
        "colab": {
          "base_uri": "https://localhost:8080/"
        },
        "id": "MkuzOy9hXshh",
        "outputId": "4ebabef6-074e-40b7-c52f-cfaf65f01c88"
      },
      "execution_count": 15,
      "outputs": [
        {
          "output_type": "execute_result",
          "data": {
            "text/plain": [
              "<tf.Tensor: shape=(50,), dtype=int32, numpy=\n",
              "array([-100,  -96,  -92,  -88,  -84,  -80,  -76,  -72,  -68,  -64,  -60,\n",
              "        -56,  -52,  -48,  -44,  -40,  -36,  -32,  -28,  -24,  -20,  -16,\n",
              "        -12,   -8,   -4,    0,    4,    8,   12,   16,   20,   24,   28,\n",
              "         32,   36,   40,   44,   48,   52,   56,   60,   64,   68,   72,\n",
              "         76,   80,   84,   88,   92,   96], dtype=int32)>"
            ]
          },
          "metadata": {},
          "execution_count": 15
        }
      ]
    },
    {
      "cell_type": "code",
      "source": [
        "y = X + 10"
      ],
      "metadata": {
        "id": "LO04bkHiX1rq"
      },
      "execution_count": 16,
      "outputs": []
    },
    {
      "cell_type": "code",
      "source": [
        "y"
      ],
      "metadata": {
        "colab": {
          "base_uri": "https://localhost:8080/"
        },
        "id": "ksQZgoy9X8Mh",
        "outputId": "88376866-5c4b-41c0-f680-56a2e12d9b40"
      },
      "execution_count": 17,
      "outputs": [
        {
          "output_type": "execute_result",
          "data": {
            "text/plain": [
              "<tf.Tensor: shape=(50,), dtype=int32, numpy=\n",
              "array([-90, -86, -82, -78, -74, -70, -66, -62, -58, -54, -50, -46, -42,\n",
              "       -38, -34, -30, -26, -22, -18, -14, -10,  -6,  -2,   2,   6,  10,\n",
              "        14,  18,  22,  26,  30,  34,  38,  42,  46,  50,  54,  58,  62,\n",
              "        66,  70,  74,  78,  82,  86,  90,  94,  98, 102, 106], dtype=int32)>"
            ]
          },
          "metadata": {},
          "execution_count": 17
        }
      ]
    },
    {
      "cell_type": "code",
      "source": [
        "X = tf.cast(X, tf.float32)\n",
        "X"
      ],
      "metadata": {
        "colab": {
          "base_uri": "https://localhost:8080/"
        },
        "id": "8mD4hsnNX9RJ",
        "outputId": "0444624c-8c7f-47de-fdbc-2cfec7646ac1"
      },
      "execution_count": 18,
      "outputs": [
        {
          "output_type": "execute_result",
          "data": {
            "text/plain": [
              "<tf.Tensor: shape=(50,), dtype=float32, numpy=\n",
              "array([-100.,  -96.,  -92.,  -88.,  -84.,  -80.,  -76.,  -72.,  -68.,\n",
              "        -64.,  -60.,  -56.,  -52.,  -48.,  -44.,  -40.,  -36.,  -32.,\n",
              "        -28.,  -24.,  -20.,  -16.,  -12.,   -8.,   -4.,    0.,    4.,\n",
              "          8.,   12.,   16.,   20.,   24.,   28.,   32.,   36.,   40.,\n",
              "         44.,   48.,   52.,   56.,   60.,   64.,   68.,   72.,   76.,\n",
              "         80.,   84.,   88.,   92.,   96.], dtype=float32)>"
            ]
          },
          "metadata": {},
          "execution_count": 18
        }
      ]
    },
    {
      "cell_type": "code",
      "source": [
        "y = tf.cast(y, tf.float32)\n",
        "y"
      ],
      "metadata": {
        "colab": {
          "base_uri": "https://localhost:8080/"
        },
        "id": "oWq_4GgcYNX7",
        "outputId": "df79da92-86b4-46ff-8895-0237d39f274b"
      },
      "execution_count": 19,
      "outputs": [
        {
          "output_type": "execute_result",
          "data": {
            "text/plain": [
              "<tf.Tensor: shape=(50,), dtype=float32, numpy=\n",
              "array([-90., -86., -82., -78., -74., -70., -66., -62., -58., -54., -50.,\n",
              "       -46., -42., -38., -34., -30., -26., -22., -18., -14., -10.,  -6.,\n",
              "        -2.,   2.,   6.,  10.,  14.,  18.,  22.,  26.,  30.,  34.,  38.,\n",
              "        42.,  46.,  50.,  54.,  58.,  62.,  66.,  70.,  74.,  78.,  82.,\n",
              "        86.,  90.,  94.,  98., 102., 106.], dtype=float32)>"
            ]
          },
          "metadata": {},
          "execution_count": 19
        }
      ]
    },
    {
      "cell_type": "code",
      "source": [
        "# visualize\n",
        "plt.scatter(X, y)"
      ],
      "metadata": {
        "colab": {
          "base_uri": "https://localhost:8080/",
          "height": 283
        },
        "id": "YOWscVQmYf2o",
        "outputId": "6a6111e1-6131-4c01-c950-da2326bffb4c"
      },
      "execution_count": 20,
      "outputs": [
        {
          "output_type": "execute_result",
          "data": {
            "text/plain": [
              "<matplotlib.collections.PathCollection at 0x7f4a2423b750>"
            ]
          },
          "metadata": {},
          "execution_count": 20
        },
        {
          "output_type": "display_data",
          "data": {
            "text/plain": [
              "<Figure size 432x288 with 1 Axes>"
            ],
            "image/png": "[encoded data removed]"
          },
          "metadata": {
            "needs_background": "light"
          }
        }
      ]
    },
    {
      "cell_type": "markdown",
      "source": [
        "### the 3 sets\n",
        "\n",
        "* train\n",
        "* validation\n",
        "* test"
      ],
      "metadata": {
        "id": "o9ktMlEOYvFE"
      }
    },
    {
      "cell_type": "code",
      "source": [
        "# check the len of samples\n",
        "len(X)"
      ],
      "metadata": {
        "colab": {
          "base_uri": "https://localhost:8080/"
        },
        "id": "pGy2sKjxaObq",
        "outputId": "e75338bb-e552-4e10-b6bc-268256a89e84"
      },
      "execution_count": 21,
      "outputs": [
        {
          "output_type": "execute_result",
          "data": {
            "text/plain": [
              "50"
            ]
          },
          "metadata": {},
          "execution_count": 21
        }
      ]
    },
    {
      "cell_type": "code",
      "source": [
        "tf.random.set_seed(84)\n",
        "\n",
        "# split the data into train and test\n",
        "X_train = X[:40] # first 40 of the training sample (80%)\n",
        "y_train = y[:40]\n",
        "\n",
        "X_test = X[40:]\n",
        "y_test = y[40:]\n",
        "\n",
        "len(X_train), len(X_test)"
      ],
      "metadata": {
        "colab": {
          "base_uri": "https://localhost:8080/"
        },
        "id": "vQmjC51NbenD",
        "outputId": "2125caa0-92fd-4dc9-ce8a-fef56d6e3e5b"
      },
      "execution_count": 22,
      "outputs": [
        {
          "output_type": "execute_result",
          "data": {
            "text/plain": [
              "(40, 10)"
            ]
          },
          "metadata": {},
          "execution_count": 22
        }
      ]
    },
    {
      "cell_type": "markdown",
      "source": [
        "### Visualizing the train and test data"
      ],
      "metadata": {
        "id": "8b4zJh4pcXm_"
      }
    },
    {
      "cell_type": "code",
      "source": [
        "plt.figure(figsize=(10,7))\n",
        "# plot trainin gdata int blue\n",
        "plt.scatter(X_train, y_train, c =\"b\", label=\"training data\")\n",
        "# the test in gree\n",
        "plt.scatter(X_test, y_test, c='g', label = \"test data\" )\n",
        "\n",
        "# show a legend\n",
        "plt.legend();"
      ],
      "metadata": {
        "colab": {
          "base_uri": "https://localhost:8080/",
          "height": 428
        },
        "id": "5ZeZqiaWf6aq",
        "outputId": "4e03a1da-029a-456e-fefa-8f656497d422"
      },
      "execution_count": 23,
      "outputs": [
        {
          "output_type": "display_data",
          "data": {
            "text/plain": [
              "<Figure size 720x504 with 1 Axes>"
            ],
            "image/png": "[encoded data removed]"
          },
          "metadata": {
            "needs_background": "light"
          }
        }
      ]
    },
    {
      "cell_type": "code",
      "source": [
        "# building a model\n",
        "\n",
        "# 1. create a model\n",
        "model = tf.keras.Sequential([\n",
        "    tf.keras.layers.Dense(1)\n",
        "])\n",
        "\n",
        "# 2. compile the model\n",
        "model.compile(loss = tf.keras.losses.mae,\n",
        "              optimizer = tf.keras.optimizers.SGD(),\n",
        "              metrics ='mae'\n",
        "              )\n",
        "\n",
        "# 3 fit the model\n",
        "model.fit(tf.expand_dims(X_train, axis=-1), y_train, epochs = 100)"
      ],
      "metadata": {
        "colab": {
          "base_uri": "https://localhost:8080/"
        },
        "id": "ATTe-Qhpgkkq",
        "outputId": "f6422c80-a8a5-4ff7-f7e0-923556e42dfe"
      },
      "execution_count": 24,
      "outputs": [
        {
          "output_type": "stream",
          "name": "stdout",
          "text": [
            "Epoch 1/100\n",
            "2/2 [==============================] - 1s 11ms/step - loss: 16.2584 - mae: 16.2584\n",
            "Epoch 2/100\n",
            "2/2 [==============================] - 0s 7ms/step - loss: 8.9235 - mae: 8.9235\n",
            "Epoch 3/100\n",
            "2/2 [==============================] - 0s 35ms/step - loss: 9.0494 - mae: 9.0494\n",
            "Epoch 4/100\n",
            "2/2 [==============================] - 0s 11ms/step - loss: 16.6096 - mae: 16.6096\n",
            "Epoch 5/100\n",
            "2/2 [==============================] - 0s 17ms/step - loss: 8.1597 - mae: 8.1597\n",
            "Epoch 6/100\n",
            "2/2 [==============================] - 0s 11ms/step - loss: 12.7613 - mae: 12.7613\n",
            "Epoch 7/100\n",
            "2/2 [==============================] - 0s 17ms/step - loss: 11.5393 - mae: 11.5393\n",
            "Epoch 8/100\n",
            "2/2 [==============================] - 0s 11ms/step - loss: 11.0724 - mae: 11.0724\n",
            "Epoch 9/100\n",
            "2/2 [==============================] - 0s 10ms/step - loss: 10.4268 - mae: 10.4268\n",
            "Epoch 10/100\n",
            "2/2 [==============================] - 0s 9ms/step - loss: 9.3975 - mae: 9.3975\n",
            "Epoch 11/100\n",
            "2/2 [==============================] - 0s 10ms/step - loss: 19.3478 - mae: 19.3478\n",
            "Epoch 12/100\n",
            "2/2 [==============================] - 0s 12ms/step - loss: 11.4286 - mae: 11.4286\n",
            "Epoch 13/100\n",
            "2/2 [==============================] - 0s 20ms/step - loss: 14.3741 - mae: 14.3741\n",
            "Epoch 14/100\n",
            "2/2 [==============================] - 0s 11ms/step - loss: 8.5081 - mae: 8.5081\n",
            "Epoch 15/100\n",
            "2/2 [==============================] - 0s 17ms/step - loss: 18.5740 - mae: 18.5740\n",
            "Epoch 16/100\n",
            "2/2 [==============================] - 0s 17ms/step - loss: 14.2657 - mae: 14.2657\n",
            "Epoch 17/100\n",
            "2/2 [==============================] - 0s 22ms/step - loss: 13.5661 - mae: 13.5661\n",
            "Epoch 18/100\n",
            "2/2 [==============================] - 0s 24ms/step - loss: 15.8498 - mae: 15.8498\n",
            "Epoch 19/100\n",
            "2/2 [==============================] - 0s 22ms/step - loss: 15.0047 - mae: 15.0047\n",
            "Epoch 20/100\n",
            "2/2 [==============================] - 0s 10ms/step - loss: 8.0106 - mae: 8.0106\n",
            "Epoch 21/100\n",
            "2/2 [==============================] - 0s 10ms/step - loss: 15.1307 - mae: 15.1307\n",
            "Epoch 22/100\n",
            "2/2 [==============================] - 0s 17ms/step - loss: 17.7448 - mae: 17.7448\n",
            "Epoch 23/100\n",
            "2/2 [==============================] - 0s 20ms/step - loss: 10.4858 - mae: 10.4858\n",
            "Epoch 24/100\n",
            "2/2 [==============================] - 0s 24ms/step - loss: 19.3628 - mae: 19.3628\n",
            "Epoch 25/100\n",
            "2/2 [==============================] - 0s 13ms/step - loss: 10.2972 - mae: 10.2972\n",
            "Epoch 26/100\n",
            "2/2 [==============================] - 0s 13ms/step - loss: 9.7646 - mae: 9.7646\n",
            "Epoch 27/100\n",
            "2/2 [==============================] - 0s 11ms/step - loss: 9.2220 - mae: 9.2220\n",
            "Epoch 28/100\n",
            "2/2 [==============================] - 0s 12ms/step - loss: 13.0323 - mae: 13.0323\n",
            "Epoch 29/100\n",
            "2/2 [==============================] - 0s 21ms/step - loss: 9.2086 - mae: 9.2086\n",
            "Epoch 30/100\n",
            "2/2 [==============================] - 0s 17ms/step - loss: 8.3147 - mae: 8.3147\n",
            "Epoch 31/100\n",
            "2/2 [==============================] - 0s 10ms/step - loss: 10.4594 - mae: 10.4594\n",
            "Epoch 32/100\n",
            "2/2 [==============================] - 0s 12ms/step - loss: 11.1805 - mae: 11.1805\n",
            "Epoch 33/100\n",
            "2/2 [==============================] - 0s 21ms/step - loss: 12.6657 - mae: 12.6657\n",
            "Epoch 34/100\n",
            "2/2 [==============================] - 0s 16ms/step - loss: 10.4477 - mae: 10.4477\n",
            "Epoch 35/100\n",
            "2/2 [==============================] - 0s 9ms/step - loss: 8.0045 - mae: 8.0045\n",
            "Epoch 36/100\n",
            "2/2 [==============================] - 0s 11ms/step - loss: 16.8099 - mae: 16.8099\n",
            "Epoch 37/100\n",
            "2/2 [==============================] - 0s 24ms/step - loss: 7.4400 - mae: 7.4400\n",
            "Epoch 38/100\n",
            "2/2 [==============================] - 0s 5ms/step - loss: 19.1987 - mae: 19.1987\n",
            "Epoch 39/100\n",
            "2/2 [==============================] - 0s 19ms/step - loss: 9.7403 - mae: 9.7403\n",
            "Epoch 40/100\n",
            "2/2 [==============================] - 0s 16ms/step - loss: 8.9630 - mae: 8.9630\n",
            "Epoch 41/100\n",
            "2/2 [==============================] - 0s 12ms/step - loss: 9.8574 - mae: 9.8574\n",
            "Epoch 42/100\n",
            "2/2 [==============================] - 0s 16ms/step - loss: 10.3646 - mae: 10.3646\n",
            "Epoch 43/100\n",
            "2/2 [==============================] - 0s 16ms/step - loss: 10.3151 - mae: 10.3151\n",
            "Epoch 44/100\n",
            "2/2 [==============================] - 0s 10ms/step - loss: 9.1643 - mae: 9.1643\n",
            "Epoch 45/100\n",
            "2/2 [==============================] - 0s 19ms/step - loss: 10.4607 - mae: 10.4607\n",
            "Epoch 46/100\n",
            "2/2 [==============================] - 0s 18ms/step - loss: 7.5670 - mae: 7.5670\n",
            "Epoch 47/100\n",
            "2/2 [==============================] - 0s 23ms/step - loss: 11.8843 - mae: 11.8843\n",
            "Epoch 48/100\n",
            "2/2 [==============================] - 0s 22ms/step - loss: 8.0431 - mae: 8.0431\n",
            "Epoch 49/100\n",
            "2/2 [==============================] - 0s 13ms/step - loss: 7.3312 - mae: 7.3312\n",
            "Epoch 50/100\n",
            "2/2 [==============================] - 0s 20ms/step - loss: 11.1412 - mae: 11.1412\n",
            "Epoch 51/100\n",
            "2/2 [==============================] - 0s 10ms/step - loss: 11.3312 - mae: 11.3312\n",
            "Epoch 52/100\n",
            "2/2 [==============================] - 0s 6ms/step - loss: 12.7006 - mae: 12.7006\n",
            "Epoch 53/100\n",
            "2/2 [==============================] - 0s 5ms/step - loss: 9.0872 - mae: 9.0872\n",
            "Epoch 54/100\n",
            "2/2 [==============================] - 0s 12ms/step - loss: 14.6987 - mae: 14.6987\n",
            "Epoch 55/100\n",
            "2/2 [==============================] - 0s 6ms/step - loss: 8.6949 - mae: 8.6949\n",
            "Epoch 56/100\n",
            "2/2 [==============================] - 0s 5ms/step - loss: 9.1959 - mae: 9.1959\n",
            "Epoch 57/100\n",
            "2/2 [==============================] - 0s 9ms/step - loss: 11.0737 - mae: 11.0737\n",
            "Epoch 58/100\n",
            "2/2 [==============================] - 0s 14ms/step - loss: 12.6743 - mae: 12.6743\n",
            "Epoch 59/100\n",
            "2/2 [==============================] - 0s 9ms/step - loss: 8.0921 - mae: 8.0921\n",
            "Epoch 60/100\n",
            "2/2 [==============================] - 0s 25ms/step - loss: 7.9992 - mae: 7.9992\n",
            "Epoch 61/100\n",
            "2/2 [==============================] - 0s 11ms/step - loss: 9.3700 - mae: 9.3700\n",
            "Epoch 62/100\n",
            "2/2 [==============================] - 0s 8ms/step - loss: 8.1554 - mae: 8.1554\n",
            "Epoch 63/100\n",
            "2/2 [==============================] - 0s 10ms/step - loss: 10.2773 - mae: 10.2773\n",
            "Epoch 64/100\n",
            "2/2 [==============================] - 0s 20ms/step - loss: 13.6382 - mae: 13.6382\n",
            "Epoch 65/100\n",
            "2/2 [==============================] - 0s 29ms/step - loss: 8.3937 - mae: 8.3937\n",
            "Epoch 66/100\n",
            "2/2 [==============================] - 0s 6ms/step - loss: 11.2814 - mae: 11.2814\n",
            "Epoch 67/100\n",
            "2/2 [==============================] - 0s 21ms/step - loss: 11.4146 - mae: 11.4146\n",
            "Epoch 68/100\n",
            "2/2 [==============================] - 0s 14ms/step - loss: 13.2736 - mae: 13.2736\n",
            "Epoch 69/100\n",
            "2/2 [==============================] - 0s 6ms/step - loss: 8.6157 - mae: 8.6157\n",
            "Epoch 70/100\n",
            "2/2 [==============================] - 0s 23ms/step - loss: 10.8561 - mae: 10.8561\n",
            "Epoch 71/100\n",
            "2/2 [==============================] - 0s 21ms/step - loss: 12.3087 - mae: 12.3087\n",
            "Epoch 72/100\n",
            "2/2 [==============================] - 0s 12ms/step - loss: 10.6557 - mae: 10.6557\n",
            "Epoch 73/100\n",
            "2/2 [==============================] - 0s 10ms/step - loss: 8.7586 - mae: 8.7586\n",
            "Epoch 74/100\n",
            "2/2 [==============================] - 0s 16ms/step - loss: 10.7175 - mae: 10.7175\n",
            "Epoch 75/100\n",
            "2/2 [==============================] - 0s 13ms/step - loss: 12.7987 - mae: 12.7987\n",
            "Epoch 76/100\n",
            "2/2 [==============================] - 0s 26ms/step - loss: 9.7257 - mae: 9.7257\n",
            "Epoch 77/100\n",
            "2/2 [==============================] - 0s 8ms/step - loss: 15.7501 - mae: 15.7501\n",
            "Epoch 78/100\n",
            "2/2 [==============================] - 0s 5ms/step - loss: 8.0651 - mae: 8.0651\n",
            "Epoch 79/100\n",
            "2/2 [==============================] - 0s 25ms/step - loss: 9.1224 - mae: 9.1224\n",
            "Epoch 80/100\n",
            "2/2 [==============================] - 0s 19ms/step - loss: 10.5962 - mae: 10.5962\n",
            "Epoch 81/100\n",
            "2/2 [==============================] - 0s 19ms/step - loss: 7.0376 - mae: 7.0376\n",
            "Epoch 82/100\n",
            "2/2 [==============================] - 0s 14ms/step - loss: 14.1674 - mae: 14.1674\n",
            "Epoch 83/100\n",
            "2/2 [==============================] - 0s 15ms/step - loss: 12.9513 - mae: 12.9513\n",
            "Epoch 84/100\n",
            "2/2 [==============================] - 0s 6ms/step - loss: 13.3764 - mae: 13.3764\n",
            "Epoch 85/100\n",
            "2/2 [==============================] - 0s 21ms/step - loss: 6.7501 - mae: 6.7501\n",
            "Epoch 86/100\n",
            "2/2 [==============================] - 0s 15ms/step - loss: 10.4400 - mae: 10.4400\n",
            "Epoch 87/100\n",
            "2/2 [==============================] - 0s 19ms/step - loss: 10.5598 - mae: 10.5598\n",
            "Epoch 88/100\n",
            "2/2 [==============================] - 0s 24ms/step - loss: 14.3725 - mae: 14.3725\n",
            "Epoch 89/100\n",
            "2/2 [==============================] - 0s 11ms/step - loss: 10.9169 - mae: 10.9169\n",
            "Epoch 90/100\n",
            "2/2 [==============================] - 0s 11ms/step - loss: 13.6928 - mae: 13.6928\n",
            "Epoch 91/100\n",
            "2/2 [==============================] - 0s 13ms/step - loss: 11.8159 - mae: 11.8159\n",
            "Epoch 92/100\n",
            "2/2 [==============================] - 0s 15ms/step - loss: 8.3141 - mae: 8.3141\n",
            "Epoch 93/100\n",
            "2/2 [==============================] - 0s 15ms/step - loss: 10.3091 - mae: 10.3091\n",
            "Epoch 94/100\n",
            "2/2 [==============================] - 0s 17ms/step - loss: 13.7616 - mae: 13.7616\n",
            "Epoch 95/100\n",
            "2/2 [==============================] - 0s 27ms/step - loss: 13.5581 - mae: 13.5581\n",
            "Epoch 96/100\n",
            "2/2 [==============================] - 0s 18ms/step - loss: 9.0485 - mae: 9.0485\n",
            "Epoch 97/100\n",
            "2/2 [==============================] - 0s 13ms/step - loss: 8.2203 - mae: 8.2203\n",
            "Epoch 98/100\n",
            "2/2 [==============================] - 0s 23ms/step - loss: 12.1756 - mae: 12.1756\n",
            "Epoch 99/100\n",
            "2/2 [==============================] - 0s 23ms/step - loss: 13.6004 - mae: 13.6004\n",
            "Epoch 100/100\n",
            "2/2 [==============================] - 0s 15ms/step - loss: 8.7562 - mae: 8.7562\n"
          ]
        },
        {
          "output_type": "execute_result",
          "data": {
            "text/plain": [
              "<keras.callbacks.History at 0x7f4a23791a50>"
            ]
          },
          "metadata": {},
          "execution_count": 24
        }
      ]
    },
    {
      "cell_type": "code",
      "source": [
        "model.summary()"
      ],
      "metadata": {
        "colab": {
          "base_uri": "https://localhost:8080/"
        },
        "id": "n_rRxCdGr-WI",
        "outputId": "1783aae6-d5b3-44ed-9802-9ec2aaf44ef4"
      },
      "execution_count": 25,
      "outputs": [
        {
          "output_type": "stream",
          "name": "stdout",
          "text": [
            "Model: \"sequential_3\"\n",
            "_________________________________________________________________\n",
            " Layer (type)                Output Shape              Param #   \n",
            "=================================================================\n",
            " dense_4 (Dense)             (None, 1)                 2         \n",
            "                                                                 \n",
            "=================================================================\n",
            "Total params: 2\n",
            "Trainable params: 2\n",
            "Non-trainable params: 0\n",
            "_________________________________________________________________\n"
          ]
        }
      ]
    },
    {
      "cell_type": "code",
      "source": [
        "from tensorflow.keras.utils import plot_model"
      ],
      "metadata": {
        "id": "y4S9r05OsLIb"
      },
      "execution_count": 26,
      "outputs": []
    },
    {
      "cell_type": "code",
      "source": [
        "plot_model(model = model, show_shapes = True, show_dtype= True)"
      ],
      "metadata": {
        "colab": {
          "base_uri": "https://localhost:8080/",
          "height": 262
        },
        "id": "QhzxtErevl7c",
        "outputId": "0ff9d196-c2b4-43c8-ed86-92b51c3b34b8"
      },
      "execution_count": 27,
      "outputs": [
        {
          "output_type": "execute_result",
          "data": {
            "image/png": "[encoded data removed]",
            "text/plain": [
              "<IPython.core.display.Image object>"
            ]
          },
          "metadata": {},
          "execution_count": 27
        }
      ]
    },
    {
      "cell_type": "markdown",
      "source": [
        "from tensorflow.python.ops.variables import local_variables\n",
        "### Visualing model predictions\n",
        "\n",
        "to do tis, it is adviced to plot them aainstht egrounf truth local_variables\n",
        "oftern seen in the form of y_test or y_true versus y_pred"
      ],
      "metadata": {
        "id": "UzJEKuRNv7j2"
      }
    },
    {
      "cell_type": "code",
      "source": [
        "y_pred = model.predict(X_test)"
      ],
      "metadata": {
        "colab": {
          "base_uri": "https://localhost:8080/"
        },
        "id": "DFPtxEuByJKO",
        "outputId": "e5f9473e-de90-4274-8c3f-05b859619974"
      },
      "execution_count": 28,
      "outputs": [
        {
          "output_type": "stream",
          "name": "stdout",
          "text": [
            "1/1 [==============================] - 0s 319ms/step\n"
          ]
        }
      ]
    },
    {
      "cell_type": "code",
      "source": [
        "y_pred"
      ],
      "metadata": {
        "colab": {
          "base_uri": "https://localhost:8080/"
        },
        "id": "xkkZIKYTyPGy",
        "outputId": "77b9d986-e31c-490c-aaba-8909d1f086f4"
      },
      "execution_count": 29,
      "outputs": [
        {
          "output_type": "execute_result",
          "data": {
            "text/plain": [
              "array([[ 66.76198 ],\n",
              "       [ 71.12507 ],\n",
              "       [ 75.48816 ],\n",
              "       [ 79.85125 ],\n",
              "       [ 84.21434 ],\n",
              "       [ 88.57743 ],\n",
              "       [ 92.94052 ],\n",
              "       [ 97.30361 ],\n",
              "       [101.6667  ],\n",
              "       [106.029785]], dtype=float32)"
            ]
          },
          "metadata": {},
          "execution_count": 29
        }
      ]
    },
    {
      "cell_type": "code",
      "source": [
        "y_test"
      ],
      "metadata": {
        "colab": {
          "base_uri": "https://localhost:8080/"
        },
        "id": "Of7DLqKtyRRZ",
        "outputId": "f621c980-009b-42ce-fd3c-6359b4fafb74"
      },
      "execution_count": 30,
      "outputs": [
        {
          "output_type": "execute_result",
          "data": {
            "text/plain": [
              "<tf.Tensor: shape=(10,), dtype=float32, numpy=\n",
              "array([ 70.,  74.,  78.,  82.,  86.,  90.,  94.,  98., 102., 106.],\n",
              "      dtype=float32)>"
            ]
          },
          "metadata": {},
          "execution_count": 30
        }
      ]
    },
    {
      "cell_type": "code",
      "source": [
        "#  create a plotting funct\n",
        "def plot_predictions(train_data = X_train,\n",
        "                     train_labels = y_train,\n",
        "                     test_data = X_test,\n",
        "                     test_labels = y_test,\n",
        "                     predictions= y_pred):\n",
        "  \"\"\"\n",
        "  Plots a taining dt test dt and compares t ground truth labels\n",
        "  \"\"\"\n",
        "  plt.figure(figsize=(10,7))\n",
        "\n",
        "  plt.scatter(train_data, train_labels, c='b', label = \"training_data\")\n",
        "  plt.scatter(test_data, test_labels, c='g', label = \"test_data\")\n",
        "  plt.scatter(test_data, predictions, c='r', label = \"predictions\")\n",
        "  plt.legend();\n",
        "  return plot_predictions\n",
        "\n",
        "  "
      ],
      "metadata": {
        "id": "45dgG8wGyWc2"
      },
      "execution_count": 31,
      "outputs": []
    },
    {
      "cell_type": "code",
      "source": [
        "plot_predictions()"
      ],
      "metadata": {
        "colab": {
          "base_uri": "https://localhost:8080/",
          "height": 864
        },
        "id": "xBq70RI0zzOo",
        "outputId": "a2fe1279-e793-491f-a208-b77517ed50b3"
      },
      "execution_count": 32,
      "outputs": [
        {
          "output_type": "execute_result",
          "data": {
            "text/plain": [
              "<function __main__.plot_predictions(train_data=<tf.Tensor: shape=(40,), dtype=float32, numpy=\n",
              "array([-100.,  -96.,  -92.,  -88.,  -84.,  -80.,  -76.,  -72.,  -68.,\n",
              "        -64.,  -60.,  -56.,  -52.,  -48.,  -44.,  -40.,  -36.,  -32.,\n",
              "        -28.,  -24.,  -20.,  -16.,  -12.,   -8.,   -4.,    0.,    4.,\n",
              "          8.,   12.,   16.,   20.,   24.,   28.,   32.,   36.,   40.,\n",
              "         44.,   48.,   52.,   56.], dtype=float32)>, train_labels=<tf.Tensor: shape=(40,), dtype=float32, numpy=\n",
              "array([-90., -86., -82., -78., -74., -70., -66., -62., -58., -54., -50.,\n",
              "       -46., -42., -38., -34., -30., -26., -22., -18., -14., -10.,  -6.,\n",
              "        -2.,   2.,   6.,  10.,  14.,  18.,  22.,  26.,  30.,  34.,  38.,\n",
              "        42.,  46.,  50.,  54.,  58.,  62.,  66.], dtype=float32)>, test_data=<tf.Tensor: shape=(10,), dtype=float32, numpy=array([60., 64., 68., 72., 76., 80., 84., 88., 92., 96.], dtype=float32)>, test_labels=<tf.Tensor: shape=(10,), dtype=float32, numpy=\n",
              "array([ 70.,  74.,  78.,  82.,  86.,  90.,  94.,  98., 102., 106.],\n",
              "      dtype=float32)>, predictions=array([[ 66.76198 ],\n",
              "       [ 71.12507 ],\n",
              "       [ 75.48816 ],\n",
              "       [ 79.85125 ],\n",
              "       [ 84.21434 ],\n",
              "       [ 88.57743 ],\n",
              "       [ 92.94052 ],\n",
              "       [ 97.30361 ],\n",
              "       [101.6667  ],\n",
              "       [106.029785]], dtype=float32))>"
            ]
          },
          "metadata": {},
          "execution_count": 32
        },
        {
          "output_type": "display_data",
          "data": {
            "text/plain": [
              "<Figure size 720x504 with 1 Axes>"
            ],
            "image/png": "[encoded data removed]"
          },
          "metadata": {
            "needs_background": "light"
          }
        }
      ]
    },
    {
      "cell_type": "markdown",
      "source": [
        "### Eva;uating model with regression evaluatin metrics\n",
        "\n",
        "2 main metrics for regression\n",
        "* mae\n",
        "* mse\n",
        "\n",
        "* Huber\n"
      ],
      "metadata": {
        "id": "UKh3ysnEz5dq"
      }
    },
    {
      "cell_type": "code",
      "source": [
        "#  evalueate model on test\n",
        "model.evaluate(X_test, y_test)"
      ],
      "metadata": {
        "colab": {
          "base_uri": "https://localhost:8080/"
        },
        "id": "iskjwYlS6slj",
        "outputId": "4ef3fc5a-0c19-47dc-9a0d-b7b494b52816"
      },
      "execution_count": 33,
      "outputs": [
        {
          "output_type": "stream",
          "name": "stdout",
          "text": [
            "1/1 [==============================] - 1s 607ms/step - loss: 1.6101 - mae: 1.6101\n"
          ]
        },
        {
          "output_type": "execute_result",
          "data": {
            "text/plain": [
              "[1.610072374343872, 1.610072374343872]"
            ]
          },
          "metadata": {},
          "execution_count": 33
        }
      ]
    },
    {
      "cell_type": "code",
      "source": [
        "#  calculate the mae\n",
        "mae = tf.metrics.mean_absolute_error(y_true=y_test,\n",
        "                                    y_pred=tf.squeeze(y_pred))"
      ],
      "metadata": {
        "id": "XEdln5mU91O8"
      },
      "execution_count": 34,
      "outputs": []
    },
    {
      "cell_type": "code",
      "source": [
        "mae"
      ],
      "metadata": {
        "colab": {
          "base_uri": "https://localhost:8080/"
        },
        "id": "Vm5mTE0d_umk",
        "outputId": "8229817d-af00-461d-9cca-2ea4cf6e3527"
      },
      "execution_count": 35,
      "outputs": [
        {
          "output_type": "execute_result",
          "data": {
            "text/plain": [
              "<tf.Tensor: shape=(), dtype=float32, numpy=1.6100724>"
            ]
          },
          "metadata": {},
          "execution_count": 35
        }
      ]
    },
    {
      "cell_type": "code",
      "source": [
        "# calculate the mse\n",
        "mse = tf.metrics.mean_squared_error(y_true= y_test,\n",
        "                                    y_pred = tf.squeeze(y_pred))\n",
        "mse"
      ],
      "metadata": {
        "colab": {
          "base_uri": "https://localhost:8080/"
        },
        "id": "dz4hXVtF_4xR",
        "outputId": "69a42e92-68cb-4e04-8ca3-5f76ff06e188"
      },
      "execution_count": 36,
      "outputs": [
        {
          "output_type": "execute_result",
          "data": {
            "text/plain": [
              "<tf.Tensor: shape=(), dtype=float32, numpy=3.6608195>"
            ]
          },
          "metadata": {},
          "execution_count": 36
        }
      ]
    },
    {
      "cell_type": "code",
      "source": [
        "# functionlize for mae ad mse\n",
        "def mae(y_true, y_pred):\n",
        "  return tf.metrics.mean_absolute_error(y_true = y_test,\n",
        "                                        y_pred =y_pred)\n",
        "  \n",
        "def mse(y_true, y_pred):\n",
        "  return tf.metrics.mean_squared_error(y_true = y_test,\n",
        "                                       y_pred = y_pred)"
      ],
      "metadata": {
        "id": "ydVdXmxLARfj"
      },
      "execution_count": 37,
      "outputs": []
    },
    {
      "cell_type": "markdown",
      "source": [
        "### Running experiiments to improve our mofdel \n",
        "\n",
        "build .. fit... evaluate.. tweak ... fit .. evaluate.. tweak .. fit .. evaluate\n",
        "\n",
        "1. get more data\n",
        "\n",
        "2. make model larger using a more complex model... more layers or hidden unit\n",
        "\n",
        "3. train fo rlonger"
      ],
      "metadata": {
        "id": "R-ms8uUiFXyH"
      }
    },
    {
      "cell_type": "markdown",
      "source": [
        "lets do 3 modeeling experiment\n",
        "1. 'model_1' same as original 1 layer trained for 100 epochs\n",
        "2. 'model_2' 2 layers 100 epochs\n",
        "3. 'model_3' 2 layers 500 epochs"
      ],
      "metadata": {
        "id": "Hq5W8826zye0"
      }
    },
    {
      "cell_type": "markdown",
      "source": [
        "model_1"
      ],
      "metadata": {
        "id": "YaaTC1Iz0sOU"
      }
    },
    {
      "cell_type": "code",
      "source": [
        "tf.random.set_seed(84)\n",
        "\n",
        "model_1 = tf.keras.Sequential([\n",
        "    tf.keras.layers.Dense(1)\n",
        "])\n",
        "\n",
        "model_1.compile(loss = tf.keras.losses.mae,\n",
        "                optimizer = tf.keras.optimizers.SGD(),\n",
        "                metrics = ['mae']\n",
        ")\n",
        "\n",
        "model_1.fit(tf.expand_dims(X_train, -1), y_train, epochs = 100)"
      ],
      "metadata": {
        "colab": {
          "base_uri": "https://localhost:8080/"
        },
        "id": "3s0JoWPW0zRK",
        "outputId": "af1ed0fd-66fb-4f45-f992-e4634035f669"
      },
      "execution_count": 38,
      "outputs": [
        {
          "output_type": "stream",
          "name": "stdout",
          "text": [
            "Epoch 1/100\n",
            "2/2 [==============================] - 1s 11ms/step - loss: 16.2584 - mae: 16.2584\n",
            "Epoch 2/100\n",
            "2/2 [==============================] - 0s 11ms/step - loss: 8.9235 - mae: 8.9235\n",
            "Epoch 3/100\n",
            "2/2 [==============================] - 0s 27ms/step - loss: 9.0494 - mae: 9.0494\n",
            "Epoch 4/100\n",
            "2/2 [==============================] - 0s 20ms/step - loss: 16.6096 - mae: 16.6096\n",
            "Epoch 5/100\n",
            "2/2 [==============================] - 0s 15ms/step - loss: 8.1597 - mae: 8.1597\n",
            "Epoch 6/100\n",
            "2/2 [==============================] - 0s 27ms/step - loss: 12.7613 - mae: 12.7613\n",
            "Epoch 7/100\n",
            "2/2 [==============================] - 0s 18ms/step - loss: 11.5393 - mae: 11.5393\n",
            "Epoch 8/100\n",
            "2/2 [==============================] - 0s 10ms/step - loss: 11.0724 - mae: 11.0724\n",
            "Epoch 9/100\n",
            "2/2 [==============================] - 0s 17ms/step - loss: 10.4268 - mae: 10.4268\n",
            "Epoch 10/100\n",
            "2/2 [==============================] - 0s 16ms/step - loss: 9.3975 - mae: 9.3975\n",
            "Epoch 11/100\n",
            "2/2 [==============================] - 0s 23ms/step - loss: 19.3478 - mae: 19.3478\n",
            "Epoch 12/100\n",
            "2/2 [==============================] - 0s 23ms/step - loss: 11.4286 - mae: 11.4286\n",
            "Epoch 13/100\n",
            "2/2 [==============================] - 0s 17ms/step - loss: 14.3741 - mae: 14.3741\n",
            "Epoch 14/100\n",
            "2/2 [==============================] - 0s 14ms/step - loss: 8.5081 - mae: 8.5081\n",
            "Epoch 15/100\n",
            "2/2 [==============================] - 0s 18ms/step - loss: 18.5740 - mae: 18.5740\n",
            "Epoch 16/100\n",
            "2/2 [==============================] - 0s 19ms/step - loss: 14.2657 - mae: 14.2657\n",
            "Epoch 17/100\n",
            "2/2 [==============================] - 0s 9ms/step - loss: 13.5661 - mae: 13.5661\n",
            "Epoch 18/100\n",
            "2/2 [==============================] - 0s 10ms/step - loss: 15.8498 - mae: 15.8498\n",
            "Epoch 19/100\n",
            "2/2 [==============================] - 0s 16ms/step - loss: 15.0047 - mae: 15.0047\n",
            "Epoch 20/100\n",
            "2/2 [==============================] - 0s 8ms/step - loss: 8.0106 - mae: 8.0106\n",
            "Epoch 21/100\n",
            "2/2 [==============================] - 0s 12ms/step - loss: 15.1307 - mae: 15.1307\n",
            "Epoch 22/100\n",
            "2/2 [==============================] - 0s 22ms/step - loss: 17.7448 - mae: 17.7448\n",
            "Epoch 23/100\n",
            "2/2 [==============================] - 0s 23ms/step - loss: 10.4858 - mae: 10.4858\n",
            "Epoch 24/100\n",
            "2/2 [==============================] - 0s 17ms/step - loss: 19.3628 - mae: 19.3628\n",
            "Epoch 25/100\n",
            "2/2 [==============================] - 0s 23ms/step - loss: 10.2972 - mae: 10.2972\n",
            "Epoch 26/100\n",
            "2/2 [==============================] - 0s 13ms/step - loss: 9.7646 - mae: 9.7646\n",
            "Epoch 27/100\n",
            "2/2 [==============================] - 0s 23ms/step - loss: 9.2220 - mae: 9.2220\n",
            "Epoch 28/100\n",
            "2/2 [==============================] - 0s 11ms/step - loss: 13.0323 - mae: 13.0323\n",
            "Epoch 29/100\n",
            "2/2 [==============================] - 0s 39ms/step - loss: 9.2086 - mae: 9.2086\n",
            "Epoch 30/100\n",
            "2/2 [==============================] - 0s 17ms/step - loss: 8.3147 - mae: 8.3147\n",
            "Epoch 31/100\n",
            "2/2 [==============================] - 0s 13ms/step - loss: 10.4594 - mae: 10.4594\n",
            "Epoch 32/100\n",
            "2/2 [==============================] - 0s 11ms/step - loss: 11.1805 - mae: 11.1805\n",
            "Epoch 33/100\n",
            "2/2 [==============================] - 0s 9ms/step - loss: 12.6657 - mae: 12.6657\n",
            "Epoch 34/100\n",
            "2/2 [==============================] - 0s 18ms/step - loss: 10.4477 - mae: 10.4477\n",
            "Epoch 35/100\n",
            "2/2 [==============================] - 0s 22ms/step - loss: 8.0045 - mae: 8.0045\n",
            "Epoch 36/100\n",
            "2/2 [==============================] - 0s 11ms/step - loss: 16.8099 - mae: 16.8099\n",
            "Epoch 37/100\n",
            "2/2 [==============================] - 0s 12ms/step - loss: 7.4400 - mae: 7.4400\n",
            "Epoch 38/100\n",
            "2/2 [==============================] - 0s 10ms/step - loss: 19.1987 - mae: 19.1987\n",
            "Epoch 39/100\n",
            "2/2 [==============================] - 0s 18ms/step - loss: 9.7403 - mae: 9.7403\n",
            "Epoch 40/100\n",
            "2/2 [==============================] - 0s 18ms/step - loss: 8.9630 - mae: 8.9630\n",
            "Epoch 41/100\n",
            "2/2 [==============================] - 0s 10ms/step - loss: 9.8574 - mae: 9.8574\n",
            "Epoch 42/100\n",
            "2/2 [==============================] - 0s 12ms/step - loss: 10.3646 - mae: 10.3646\n",
            "Epoch 43/100\n",
            "2/2 [==============================] - 0s 11ms/step - loss: 10.3151 - mae: 10.3151\n",
            "Epoch 44/100\n",
            "2/2 [==============================] - 0s 10ms/step - loss: 9.1643 - mae: 9.1643\n",
            "Epoch 45/100\n",
            "2/2 [==============================] - 0s 24ms/step - loss: 10.4607 - mae: 10.4607\n",
            "Epoch 46/100\n",
            "2/2 [==============================] - 0s 17ms/step - loss: 7.5670 - mae: 7.5670\n",
            "Epoch 47/100\n",
            "2/2 [==============================] - 0s 10ms/step - loss: 11.8843 - mae: 11.8843\n",
            "Epoch 48/100\n",
            "2/2 [==============================] - 0s 16ms/step - loss: 8.0431 - mae: 8.0431\n",
            "Epoch 49/100\n",
            "2/2 [==============================] - 0s 5ms/step - loss: 7.3312 - mae: 7.3312\n",
            "Epoch 50/100\n",
            "2/2 [==============================] - 0s 21ms/step - loss: 11.1412 - mae: 11.1412\n",
            "Epoch 51/100\n",
            "2/2 [==============================] - 0s 21ms/step - loss: 11.3312 - mae: 11.3312\n",
            "Epoch 52/100\n",
            "2/2 [==============================] - 0s 14ms/step - loss: 12.7006 - mae: 12.7006\n",
            "Epoch 53/100\n",
            "2/2 [==============================] - 0s 12ms/step - loss: 9.0872 - mae: 9.0872\n",
            "Epoch 54/100\n",
            "2/2 [==============================] - 0s 9ms/step - loss: 14.6987 - mae: 14.6987\n",
            "Epoch 55/100\n",
            "2/2 [==============================] - 0s 13ms/step - loss: 8.6949 - mae: 8.6949\n",
            "Epoch 56/100\n",
            "2/2 [==============================] - 0s 16ms/step - loss: 9.1959 - mae: 9.1959\n",
            "Epoch 57/100\n",
            "2/2 [==============================] - 0s 18ms/step - loss: 11.0737 - mae: 11.0737\n",
            "Epoch 58/100\n",
            "2/2 [==============================] - 0s 11ms/step - loss: 12.6743 - mae: 12.6743\n",
            "Epoch 59/100\n",
            "2/2 [==============================] - 0s 13ms/step - loss: 8.0921 - mae: 8.0921\n",
            "Epoch 60/100\n",
            "2/2 [==============================] - 0s 7ms/step - loss: 7.9992 - mae: 7.9992\n",
            "Epoch 61/100\n",
            "2/2 [==============================] - 0s 16ms/step - loss: 9.3700 - mae: 9.3700\n",
            "Epoch 62/100\n",
            "2/2 [==============================] - 0s 9ms/step - loss: 8.1554 - mae: 8.1554\n",
            "Epoch 63/100\n",
            "2/2 [==============================] - 0s 12ms/step - loss: 10.2773 - mae: 10.2773\n",
            "Epoch 64/100\n",
            "2/2 [==============================] - 0s 12ms/step - loss: 13.6382 - mae: 13.6382\n",
            "Epoch 65/100\n",
            "2/2 [==============================] - 0s 27ms/step - loss: 8.3937 - mae: 8.3937\n",
            "Epoch 66/100\n",
            "2/2 [==============================] - 0s 17ms/step - loss: 11.2814 - mae: 11.2814\n",
            "Epoch 67/100\n",
            "2/2 [==============================] - 0s 11ms/step - loss: 11.4146 - mae: 11.4146\n",
            "Epoch 68/100\n",
            "2/2 [==============================] - 0s 20ms/step - loss: 13.2736 - mae: 13.2736\n",
            "Epoch 69/100\n",
            "2/2 [==============================] - 0s 20ms/step - loss: 8.6157 - mae: 8.6157\n",
            "Epoch 70/100\n",
            "2/2 [==============================] - 0s 13ms/step - loss: 10.8561 - mae: 10.8561\n",
            "Epoch 71/100\n",
            "2/2 [==============================] - 0s 13ms/step - loss: 12.3087 - mae: 12.3087\n",
            "Epoch 72/100\n",
            "2/2 [==============================] - 0s 17ms/step - loss: 10.6557 - mae: 10.6557\n",
            "Epoch 73/100\n",
            "2/2 [==============================] - 0s 12ms/step - loss: 8.7586 - mae: 8.7586\n",
            "Epoch 74/100\n",
            "2/2 [==============================] - 0s 36ms/step - loss: 10.7175 - mae: 10.7175\n",
            "Epoch 75/100\n",
            "2/2 [==============================] - 0s 15ms/step - loss: 12.7987 - mae: 12.7987\n",
            "Epoch 76/100\n",
            "2/2 [==============================] - 0s 11ms/step - loss: 9.7257 - mae: 9.7257\n",
            "Epoch 77/100\n",
            "2/2 [==============================] - 0s 9ms/step - loss: 15.7501 - mae: 15.7501\n",
            "Epoch 78/100\n",
            "2/2 [==============================] - 0s 34ms/step - loss: 8.0651 - mae: 8.0651\n",
            "Epoch 79/100\n",
            "2/2 [==============================] - 0s 35ms/step - loss: 9.1224 - mae: 9.1224\n",
            "Epoch 80/100\n",
            "2/2 [==============================] - 0s 21ms/step - loss: 10.5962 - mae: 10.5962\n",
            "Epoch 81/100\n",
            "2/2 [==============================] - 0s 21ms/step - loss: 7.0376 - mae: 7.0376\n",
            "Epoch 82/100\n",
            "2/2 [==============================] - 0s 8ms/step - loss: 14.1674 - mae: 14.1674\n",
            "Epoch 83/100\n",
            "2/2 [==============================] - 0s 12ms/step - loss: 12.9513 - mae: 12.9513\n",
            "Epoch 84/100\n",
            "2/2 [==============================] - 0s 15ms/step - loss: 13.3764 - mae: 13.3764\n",
            "Epoch 85/100\n",
            "2/2 [==============================] - 0s 14ms/step - loss: 6.7501 - mae: 6.7501\n",
            "Epoch 86/100\n",
            "2/2 [==============================] - 0s 12ms/step - loss: 10.4400 - mae: 10.4400\n",
            "Epoch 87/100\n",
            "2/2 [==============================] - 0s 18ms/step - loss: 10.5598 - mae: 10.5598\n",
            "Epoch 88/100\n",
            "2/2 [==============================] - 0s 15ms/step - loss: 14.3725 - mae: 14.3725\n",
            "Epoch 89/100\n",
            "2/2 [==============================] - 0s 17ms/step - loss: 10.9169 - mae: 10.9169\n",
            "Epoch 90/100\n",
            "2/2 [==============================] - 0s 12ms/step - loss: 13.6928 - mae: 13.6928\n",
            "Epoch 91/100\n",
            "2/2 [==============================] - 0s 12ms/step - loss: 11.8159 - mae: 11.8159\n",
            "Epoch 92/100\n",
            "2/2 [==============================] - 0s 19ms/step - loss: 8.3141 - mae: 8.3141\n",
            "Epoch 93/100\n",
            "2/2 [==============================] - 0s 13ms/step - loss: 10.3091 - mae: 10.3091\n",
            "Epoch 94/100\n",
            "2/2 [==============================] - 0s 23ms/step - loss: 13.7616 - mae: 13.7616\n",
            "Epoch 95/100\n",
            "2/2 [==============================] - 0s 12ms/step - loss: 13.5581 - mae: 13.5581\n",
            "Epoch 96/100\n",
            "2/2 [==============================] - 0s 25ms/step - loss: 9.0485 - mae: 9.0485\n",
            "Epoch 97/100\n",
            "2/2 [==============================] - 0s 22ms/step - loss: 8.2203 - mae: 8.2203\n",
            "Epoch 98/100\n",
            "2/2 [==============================] - 0s 13ms/step - loss: 12.1756 - mae: 12.1756\n",
            "Epoch 99/100\n",
            "2/2 [==============================] - 0s 13ms/step - loss: 13.6004 - mae: 13.6004\n",
            "Epoch 100/100\n",
            "2/2 [==============================] - 0s 11ms/step - loss: 8.7562 - mae: 8.7562\n"
          ]
        },
        {
          "output_type": "execute_result",
          "data": {
            "text/plain": [
              "<keras.callbacks.History at 0x7f4a22589b50>"
            ]
          },
          "metadata": {},
          "execution_count": 38
        }
      ]
    },
    {
      "cell_type": "code",
      "source": [
        "#  make a plot preds for model_1\n",
        "\n",
        "y_preds_1 = tf.squeeze((model_1.predict(X_test)))\n",
        "plot_predictions(predictions= y_preds_1)"
      ],
      "metadata": {
        "colab": {
          "base_uri": "https://localhost:8080/",
          "height": 920
        },
        "id": "huZxp9l41tbB",
        "outputId": "2bb298db-4732-4d0b-a923-3a1cd5716c09"
      },
      "execution_count": 39,
      "outputs": [
        {
          "output_type": "stream",
          "name": "stderr",
          "text": [
            "WARNING:tensorflow:5 out of the last 5 calls to <function Model.make_predict_function.<locals>.predict_function at 0x7f4a23695a70> triggered tf.function retracing. Tracing is expensive and the excessive number of tracings could be due to (1) creating @tf.function repeatedly in a loop, (2) passing tensors with different shapes, (3) passing Python objects instead of tensors. For (1), please define your @tf.function outside of the loop. For (2), @tf.function has reduce_retracing=True option that can avoid unnecessary retracing. For (3), please refer to https://www.tensorflow.org/guide/function#controlling_retracing and https://www.tensorflow.org/api_docs/python/tf/function for  more details.\n"
          ]
        },
        {
          "output_type": "stream",
          "name": "stdout",
          "text": [
            "1/1 [==============================] - 0s 242ms/step\n"
          ]
        },
        {
          "output_type": "execute_result",
          "data": {
            "text/plain": [
              "<function __main__.plot_predictions(train_data=<tf.Tensor: shape=(40,), dtype=float32, numpy=\n",
              "array([-100.,  -96.,  -92.,  -88.,  -84.,  -80.,  -76.,  -72.,  -68.,\n",
              "        -64.,  -60.,  -56.,  -52.,  -48.,  -44.,  -40.,  -36.,  -32.,\n",
              "        -28.,  -24.,  -20.,  -16.,  -12.,   -8.,   -4.,    0.,    4.,\n",
              "          8.,   12.,   16.,   20.,   24.,   28.,   32.,   36.,   40.,\n",
              "         44.,   48.,   52.,   56.], dtype=float32)>, train_labels=<tf.Tensor: shape=(40,), dtype=float32, numpy=\n",
              "array([-90., -86., -82., -78., -74., -70., -66., -62., -58., -54., -50.,\n",
              "       -46., -42., -38., -34., -30., -26., -22., -18., -14., -10.,  -6.,\n",
              "        -2.,   2.,   6.,  10.,  14.,  18.,  22.,  26.,  30.,  34.,  38.,\n",
              "        42.,  46.,  50.,  54.,  58.,  62.,  66.], dtype=float32)>, test_data=<tf.Tensor: shape=(10,), dtype=float32, numpy=array([60., 64., 68., 72., 76., 80., 84., 88., 92., 96.], dtype=float32)>, test_labels=<tf.Tensor: shape=(10,), dtype=float32, numpy=\n",
              "array([ 70.,  74.,  78.,  82.,  86.,  90.,  94.,  98., 102., 106.],\n",
              "      dtype=float32)>, predictions=array([[ 66.76198 ],\n",
              "       [ 71.12507 ],\n",
              "       [ 75.48816 ],\n",
              "       [ 79.85125 ],\n",
              "       [ 84.21434 ],\n",
              "       [ 88.57743 ],\n",
              "       [ 92.94052 ],\n",
              "       [ 97.30361 ],\n",
              "       [101.6667  ],\n",
              "       [106.029785]], dtype=float32))>"
            ]
          },
          "metadata": {},
          "execution_count": 39
        },
        {
          "output_type": "display_data",
          "data": {
            "text/plain": [
              "<Figure size 720x504 with 1 Axes>"
            ],
            "image/png": "[encoded data removed]"
          },
          "metadata": {
            "needs_background": "light"
          }
        }
      ]
    },
    {
      "cell_type": "code",
      "source": [
        "#  create model_1 evaluationmetrics\n",
        "\n",
        "mae_1 = mae(y_test, y_preds_1)\n",
        "mse_1 = mse(y_test, y_preds_1)\n",
        "\n",
        "mae_1, mse_1"
      ],
      "metadata": {
        "colab": {
          "base_uri": "https://localhost:8080/"
        },
        "id": "EBDuARlI2InD",
        "outputId": "5230088f-f50a-4995-9afd-23982536ec6a"
      },
      "execution_count": 40,
      "outputs": [
        {
          "output_type": "execute_result",
          "data": {
            "text/plain": [
              "(<tf.Tensor: shape=(), dtype=float32, numpy=1.6100724>,\n",
              " <tf.Tensor: shape=(), dtype=float32, numpy=3.6608195>)"
            ]
          },
          "metadata": {},
          "execution_count": 40
        }
      ]
    },
    {
      "cell_type": "code",
      "source": [
        "X"
      ],
      "metadata": {
        "colab": {
          "base_uri": "https://localhost:8080/"
        },
        "id": "Ylr9kSvXHvXL",
        "outputId": "033c5eeb-5742-44e1-ad5b-eb96d2d31c58"
      },
      "execution_count": 41,
      "outputs": [
        {
          "output_type": "execute_result",
          "data": {
            "text/plain": [
              "<tf.Tensor: shape=(50,), dtype=float32, numpy=\n",
              "array([-100.,  -96.,  -92.,  -88.,  -84.,  -80.,  -76.,  -72.,  -68.,\n",
              "        -64.,  -60.,  -56.,  -52.,  -48.,  -44.,  -40.,  -36.,  -32.,\n",
              "        -28.,  -24.,  -20.,  -16.,  -12.,   -8.,   -4.,    0.,    4.,\n",
              "          8.,   12.,   16.,   20.,   24.,   28.,   32.,   36.,   40.,\n",
              "         44.,   48.,   52.,   56.,   60.,   64.,   68.,   72.,   76.,\n",
              "         80.,   84.,   88.,   92.,   96.], dtype=float32)>"
            ]
          },
          "metadata": {},
          "execution_count": 41
        }
      ]
    },
    {
      "cell_type": "code",
      "source": [
        "#  model_2\n",
        "# 2 dense layers for 100 epochs\n",
        "tf.random.set_seed(84)\n",
        "model_2 = tf.keras.Sequential([\n",
        "    tf.keras.layers.Dense(100),\n",
        "    tf.keras.layers.Dense(1)\n",
        "])\n",
        "\n",
        "model_2.compile(loss = tf.keras.losses.mae,\n",
        "                optimizer = tf.keras.optimizers.SGD(),\n",
        "                metrics = ['mae']\n",
        "                )\n",
        "\n",
        "model_2.fit(tf.expand_dims(X_train, -1), y_train, epochs = 100)"
      ],
      "metadata": {
        "colab": {
          "base_uri": "https://localhost:8080/"
        },
        "id": "EvL9d2Tu6Omb",
        "outputId": "806fac2d-d505-43b5-cbb0-088231757818"
      },
      "execution_count": 42,
      "outputs": [
        {
          "output_type": "stream",
          "name": "stdout",
          "text": [
            "Epoch 1/100\n",
            "2/2 [==============================] - 2s 13ms/step - loss: 38.3603 - mae: 38.3603\n",
            "Epoch 2/100\n",
            "2/2 [==============================] - 0s 17ms/step - loss: 18.5253 - mae: 18.5253\n",
            "Epoch 3/100\n",
            "2/2 [==============================] - 0s 25ms/step - loss: 22.8725 - mae: 22.8725\n",
            "Epoch 4/100\n",
            "2/2 [==============================] - 0s 10ms/step - loss: 26.3367 - mae: 26.3367\n",
            "Epoch 5/100\n",
            "2/2 [==============================] - 0s 21ms/step - loss: 12.6861 - mae: 12.6861\n",
            "Epoch 6/100\n",
            "2/2 [==============================] - 0s 13ms/step - loss: 29.2457 - mae: 29.2457\n",
            "Epoch 7/100\n",
            "2/2 [==============================] - 0s 44ms/step - loss: 20.9605 - mae: 20.9605\n",
            "Epoch 8/100\n",
            "2/2 [==============================] - 0s 25ms/step - loss: 12.8847 - mae: 12.8847\n",
            "Epoch 9/100\n",
            "2/2 [==============================] - 0s 15ms/step - loss: 10.3563 - mae: 10.3563\n",
            "Epoch 10/100\n",
            "2/2 [==============================] - 0s 24ms/step - loss: 13.3828 - mae: 13.3828\n",
            "Epoch 11/100\n",
            "2/2 [==============================] - 0s 19ms/step - loss: 15.3289 - mae: 15.3289\n",
            "Epoch 12/100\n",
            "2/2 [==============================] - 0s 19ms/step - loss: 13.2505 - mae: 13.2505\n",
            "Epoch 13/100\n",
            "2/2 [==============================] - 0s 14ms/step - loss: 12.8637 - mae: 12.8637\n",
            "Epoch 14/100\n",
            "2/2 [==============================] - 0s 8ms/step - loss: 10.3709 - mae: 10.3709\n",
            "Epoch 15/100\n",
            "2/2 [==============================] - 0s 13ms/step - loss: 10.6567 - mae: 10.6567\n",
            "Epoch 16/100\n",
            "2/2 [==============================] - 0s 17ms/step - loss: 17.0108 - mae: 17.0108\n",
            "Epoch 17/100\n",
            "2/2 [==============================] - 0s 9ms/step - loss: 18.0397 - mae: 18.0397\n",
            "Epoch 18/100\n",
            "2/2 [==============================] - 0s 14ms/step - loss: 9.9304 - mae: 9.9304\n",
            "Epoch 19/100\n",
            "2/2 [==============================] - 0s 9ms/step - loss: 16.2190 - mae: 16.2190\n",
            "Epoch 20/100\n",
            "2/2 [==============================] - 0s 40ms/step - loss: 11.2922 - mae: 11.2922\n",
            "Epoch 21/100\n",
            "2/2 [==============================] - 0s 11ms/step - loss: 27.9536 - mae: 27.9536\n",
            "Epoch 22/100\n",
            "2/2 [==============================] - 0s 6ms/step - loss: 13.7447 - mae: 13.7447\n",
            "Epoch 23/100\n",
            "2/2 [==============================] - 0s 17ms/step - loss: 18.1215 - mae: 18.1215\n",
            "Epoch 24/100\n",
            "2/2 [==============================] - 0s 20ms/step - loss: 24.1081 - mae: 24.1081\n",
            "Epoch 25/100\n",
            "2/2 [==============================] - 0s 23ms/step - loss: 21.3252 - mae: 21.3252\n",
            "Epoch 26/100\n",
            "2/2 [==============================] - 0s 21ms/step - loss: 10.7327 - mae: 10.7327\n",
            "Epoch 27/100\n",
            "2/2 [==============================] - 0s 10ms/step - loss: 10.5969 - mae: 10.5969\n",
            "Epoch 28/100\n",
            "2/2 [==============================] - 0s 25ms/step - loss: 21.1443 - mae: 21.1443\n",
            "Epoch 29/100\n",
            "2/2 [==============================] - 0s 39ms/step - loss: 13.3762 - mae: 13.3762\n",
            "Epoch 30/100\n",
            "2/2 [==============================] - 0s 23ms/step - loss: 9.3236 - mae: 9.3236\n",
            "Epoch 31/100\n",
            "2/2 [==============================] - 0s 10ms/step - loss: 12.3558 - mae: 12.3558\n",
            "Epoch 32/100\n",
            "2/2 [==============================] - 0s 18ms/step - loss: 17.9074 - mae: 17.9074\n",
            "Epoch 33/100\n",
            "2/2 [==============================] - 0s 6ms/step - loss: 11.6673 - mae: 11.6673\n",
            "Epoch 34/100\n",
            "2/2 [==============================] - 0s 21ms/step - loss: 10.7739 - mae: 10.7739\n",
            "Epoch 35/100\n",
            "2/2 [==============================] - 0s 15ms/step - loss: 10.7299 - mae: 10.7299\n",
            "Epoch 36/100\n",
            "2/2 [==============================] - 0s 12ms/step - loss: 28.2032 - mae: 28.2032\n",
            "Epoch 37/100\n",
            "2/2 [==============================] - 0s 10ms/step - loss: 7.4668 - mae: 7.4668\n",
            "Epoch 38/100\n",
            "2/2 [==============================] - 0s 12ms/step - loss: 27.0147 - mae: 27.0147\n",
            "Epoch 39/100\n",
            "2/2 [==============================] - 0s 10ms/step - loss: 10.4057 - mae: 10.4057\n",
            "Epoch 40/100\n",
            "2/2 [==============================] - 0s 6ms/step - loss: 18.3697 - mae: 18.3697\n",
            "Epoch 41/100\n",
            "2/2 [==============================] - 0s 19ms/step - loss: 11.1973 - mae: 11.1973\n",
            "Epoch 42/100\n",
            "2/2 [==============================] - 0s 13ms/step - loss: 10.7674 - mae: 10.7674\n",
            "Epoch 43/100\n",
            "2/2 [==============================] - 0s 15ms/step - loss: 13.2124 - mae: 13.2124\n",
            "Epoch 44/100\n",
            "2/2 [==============================] - 0s 12ms/step - loss: 20.5592 - mae: 20.5592\n",
            "Epoch 45/100\n",
            "2/2 [==============================] - 0s 19ms/step - loss: 10.9362 - mae: 10.9362\n",
            "Epoch 46/100\n",
            "2/2 [==============================] - 0s 10ms/step - loss: 12.9783 - mae: 12.9783\n",
            "Epoch 47/100\n",
            "2/2 [==============================] - 0s 26ms/step - loss: 14.4670 - mae: 14.4670\n",
            "Epoch 48/100\n",
            "2/2 [==============================] - 0s 20ms/step - loss: 13.2473 - mae: 13.2473\n",
            "Epoch 49/100\n",
            "2/2 [==============================] - 0s 18ms/step - loss: 15.7315 - mae: 15.7315\n",
            "Epoch 50/100\n",
            "2/2 [==============================] - 0s 14ms/step - loss: 8.4297 - mae: 8.4297\n",
            "Epoch 51/100\n",
            "2/2 [==============================] - 0s 14ms/step - loss: 21.4160 - mae: 21.4160\n",
            "Epoch 52/100\n",
            "2/2 [==============================] - 0s 11ms/step - loss: 11.6715 - mae: 11.6715\n",
            "Epoch 53/100\n",
            "2/2 [==============================] - 0s 12ms/step - loss: 17.9383 - mae: 17.9383\n",
            "Epoch 54/100\n",
            "2/2 [==============================] - 0s 11ms/step - loss: 15.7258 - mae: 15.7258\n",
            "Epoch 55/100\n",
            "2/2 [==============================] - 0s 11ms/step - loss: 8.4204 - mae: 8.4204\n",
            "Epoch 56/100\n",
            "2/2 [==============================] - 0s 18ms/step - loss: 10.0166 - mae: 10.0166\n",
            "Epoch 57/100\n",
            "2/2 [==============================] - 0s 33ms/step - loss: 16.0995 - mae: 16.0995\n",
            "Epoch 58/100\n",
            "2/2 [==============================] - 0s 13ms/step - loss: 9.4922 - mae: 9.4922\n",
            "Epoch 59/100\n",
            "2/2 [==============================] - 0s 12ms/step - loss: 22.7411 - mae: 22.7411\n",
            "Epoch 60/100\n",
            "2/2 [==============================] - 0s 24ms/step - loss: 15.5393 - mae: 15.5393\n",
            "Epoch 61/100\n",
            "2/2 [==============================] - 0s 55ms/step - loss: 8.9238 - mae: 8.9238\n",
            "Epoch 62/100\n",
            "2/2 [==============================] - 0s 20ms/step - loss: 22.1444 - mae: 22.1444\n",
            "Epoch 63/100\n",
            "2/2 [==============================] - 0s 12ms/step - loss: 17.5780 - mae: 17.5780\n",
            "Epoch 64/100\n",
            "2/2 [==============================] - 0s 17ms/step - loss: 23.1330 - mae: 23.1330\n",
            "Epoch 65/100\n",
            "2/2 [==============================] - 0s 27ms/step - loss: 9.0228 - mae: 9.0228\n",
            "Epoch 66/100\n",
            "2/2 [==============================] - 0s 6ms/step - loss: 18.6319 - mae: 18.6319\n",
            "Epoch 67/100\n",
            "2/2 [==============================] - 0s 22ms/step - loss: 13.9959 - mae: 13.9959\n",
            "Epoch 68/100\n",
            "2/2 [==============================] - 0s 17ms/step - loss: 13.3484 - mae: 13.3484\n",
            "Epoch 69/100\n",
            "2/2 [==============================] - 0s 6ms/step - loss: 25.1216 - mae: 25.1216\n",
            "Epoch 70/100\n",
            "2/2 [==============================] - 0s 25ms/step - loss: 12.5595 - mae: 12.5595\n",
            "Epoch 71/100\n",
            "2/2 [==============================] - 0s 15ms/step - loss: 19.0187 - mae: 19.0187\n",
            "Epoch 72/100\n",
            "2/2 [==============================] - 0s 11ms/step - loss: 7.2726 - mae: 7.2726\n",
            "Epoch 73/100\n",
            "2/2 [==============================] - 0s 31ms/step - loss: 7.1695 - mae: 7.1695\n",
            "Epoch 74/100\n",
            "2/2 [==============================] - 0s 24ms/step - loss: 12.1111 - mae: 12.1111\n",
            "Epoch 75/100\n",
            "2/2 [==============================] - 0s 7ms/step - loss: 17.6981 - mae: 17.6981\n",
            "Epoch 76/100\n",
            "2/2 [==============================] - 0s 7ms/step - loss: 17.0378 - mae: 17.0378\n",
            "Epoch 77/100\n",
            "2/2 [==============================] - 0s 7ms/step - loss: 21.5939 - mae: 21.5939\n",
            "Epoch 78/100\n",
            "2/2 [==============================] - 0s 7ms/step - loss: 31.3042 - mae: 31.3042\n",
            "Epoch 79/100\n",
            "2/2 [==============================] - 0s 6ms/step - loss: 10.5045 - mae: 10.5045\n",
            "Epoch 80/100\n",
            "2/2 [==============================] - 0s 15ms/step - loss: 11.1378 - mae: 11.1378\n",
            "Epoch 81/100\n",
            "2/2 [==============================] - 0s 26ms/step - loss: 10.9443 - mae: 10.9443\n",
            "Epoch 82/100\n",
            "2/2 [==============================] - 0s 14ms/step - loss: 24.2134 - mae: 24.2134\n",
            "Epoch 83/100\n",
            "2/2 [==============================] - 0s 12ms/step - loss: 10.6091 - mae: 10.6091\n",
            "Epoch 84/100\n",
            "2/2 [==============================] - 0s 11ms/step - loss: 24.7983 - mae: 24.7983\n",
            "Epoch 85/100\n",
            "2/2 [==============================] - 0s 6ms/step - loss: 11.5662 - mae: 11.5662\n",
            "Epoch 86/100\n",
            "2/2 [==============================] - 0s 9ms/step - loss: 17.8247 - mae: 17.8247\n",
            "Epoch 87/100\n",
            "2/2 [==============================] - 0s 7ms/step - loss: 10.6786 - mae: 10.6786\n",
            "Epoch 88/100\n",
            "2/2 [==============================] - 0s 6ms/step - loss: 24.2174 - mae: 24.2174\n",
            "Epoch 89/100\n",
            "2/2 [==============================] - 0s 16ms/step - loss: 17.0034 - mae: 17.0034\n",
            "Epoch 90/100\n",
            "2/2 [==============================] - 0s 27ms/step - loss: 14.6547 - mae: 14.6547\n",
            "Epoch 91/100\n",
            "2/2 [==============================] - 0s 22ms/step - loss: 13.1752 - mae: 13.1752\n",
            "Epoch 92/100\n",
            "2/2 [==============================] - 0s 13ms/step - loss: 7.6229 - mae: 7.6229\n",
            "Epoch 93/100\n",
            "2/2 [==============================] - 0s 12ms/step - loss: 11.4645 - mae: 11.4645\n",
            "Epoch 94/100\n",
            "2/2 [==============================] - 0s 22ms/step - loss: 20.2577 - mae: 20.2577\n",
            "Epoch 95/100\n",
            "2/2 [==============================] - 0s 18ms/step - loss: 23.3980 - mae: 23.3980\n",
            "Epoch 96/100\n",
            "2/2 [==============================] - 0s 21ms/step - loss: 11.1728 - mae: 11.1728\n",
            "Epoch 97/100\n",
            "2/2 [==============================] - 0s 23ms/step - loss: 18.9266 - mae: 18.9266\n",
            "Epoch 98/100\n",
            "2/2 [==============================] - 0s 19ms/step - loss: 9.6963 - mae: 9.6963\n",
            "Epoch 99/100\n",
            "2/2 [==============================] - 0s 23ms/step - loss: 29.1687 - mae: 29.1687\n",
            "Epoch 100/100\n",
            "2/2 [==============================] - 0s 11ms/step - loss: 19.0409 - mae: 19.0409\n"
          ]
        },
        {
          "output_type": "execute_result",
          "data": {
            "text/plain": [
              "<keras.callbacks.History at 0x7f4a235f3410>"
            ]
          },
          "metadata": {},
          "execution_count": 42
        }
      ]
    },
    {
      "cell_type": "code",
      "source": [
        "y_test.shape"
      ],
      "metadata": {
        "colab": {
          "base_uri": "https://localhost:8080/"
        },
        "id": "0g1mZJHaGn2f",
        "outputId": "f3ed6bd4-0d3c-49d2-d4cd-6c710fdcfb44"
      },
      "execution_count": 43,
      "outputs": [
        {
          "output_type": "execute_result",
          "data": {
            "text/plain": [
              "TensorShape([10])"
            ]
          },
          "metadata": {},
          "execution_count": 43
        }
      ]
    },
    {
      "cell_type": "code",
      "source": [
        "y_preds_2 = tf.squeeze(model_2.predict(X_test))\n",
        "plot_predictions(predictions = y_preds_2)"
      ],
      "metadata": {
        "colab": {
          "base_uri": "https://localhost:8080/",
          "height": 920
        },
        "id": "UjU9GuX286tu",
        "outputId": "b11de4b3-18cd-4cf2-ca3d-2815b43693f5"
      },
      "execution_count": 44,
      "outputs": [
        {
          "output_type": "stream",
          "name": "stderr",
          "text": [
            "WARNING:tensorflow:6 out of the last 6 calls to <function Model.make_predict_function.<locals>.predict_function at 0x7f4a240c0c20> triggered tf.function retracing. Tracing is expensive and the excessive number of tracings could be due to (1) creating @tf.function repeatedly in a loop, (2) passing tensors with different shapes, (3) passing Python objects instead of tensors. For (1), please define your @tf.function outside of the loop. For (2), @tf.function has reduce_retracing=True option that can avoid unnecessary retracing. For (3), please refer to https://www.tensorflow.org/guide/function#controlling_retracing and https://www.tensorflow.org/api_docs/python/tf/function for  more details.\n"
          ]
        },
        {
          "output_type": "stream",
          "name": "stdout",
          "text": [
            "1/1 [==============================] - 0s 357ms/step\n"
          ]
        },
        {
          "output_type": "execute_result",
          "data": {
            "text/plain": [
              "<function __main__.plot_predictions(train_data=<tf.Tensor: shape=(40,), dtype=float32, numpy=\n",
              "array([-100.,  -96.,  -92.,  -88.,  -84.,  -80.,  -76.,  -72.,  -68.,\n",
              "        -64.,  -60.,  -56.,  -52.,  -48.,  -44.,  -40.,  -36.,  -32.,\n",
              "        -28.,  -24.,  -20.,  -16.,  -12.,   -8.,   -4.,    0.,    4.,\n",
              "          8.,   12.,   16.,   20.,   24.,   28.,   32.,   36.,   40.,\n",
              "         44.,   48.,   52.,   56.], dtype=float32)>, train_labels=<tf.Tensor: shape=(40,), dtype=float32, numpy=\n",
              "array([-90., -86., -82., -78., -74., -70., -66., -62., -58., -54., -50.,\n",
              "       -46., -42., -38., -34., -30., -26., -22., -18., -14., -10.,  -6.,\n",
              "        -2.,   2.,   6.,  10.,  14.,  18.,  22.,  26.,  30.,  34.,  38.,\n",
              "        42.,  46.,  50.,  54.,  58.,  62.,  66.], dtype=float32)>, test_data=<tf.Tensor: shape=(10,), dtype=float32, numpy=array([60., 64., 68., 72., 76., 80., 84., 88., 92., 96.], dtype=float32)>, test_labels=<tf.Tensor: shape=(10,), dtype=float32, numpy=\n",
              "array([ 70.,  74.,  78.,  82.,  86.,  90.,  94.,  98., 102., 106.],\n",
              "      dtype=float32)>, predictions=array([[ 66.76198 ],\n",
              "       [ 71.12507 ],\n",
              "       [ 75.48816 ],\n",
              "       [ 79.85125 ],\n",
              "       [ 84.21434 ],\n",
              "       [ 88.57743 ],\n",
              "       [ 92.94052 ],\n",
              "       [ 97.30361 ],\n",
              "       [101.6667  ],\n",
              "       [106.029785]], dtype=float32))>"
            ]
          },
          "metadata": {},
          "execution_count": 44
        },
        {
          "output_type": "display_data",
          "data": {
            "text/plain": [
              "<Figure size 720x504 with 1 Axes>"
            ],
            "image/png": "[encoded data removed]"
          },
          "metadata": {
            "needs_background": "light"
          }
        }
      ]
    },
    {
      "cell_type": "code",
      "source": [
        "y_preds_2"
      ],
      "metadata": {
        "colab": {
          "base_uri": "https://localhost:8080/"
        },
        "id": "qx3YjHT_9WSz",
        "outputId": "f6187c83-20e2-4631-f407-c7015edc04b5"
      },
      "execution_count": 45,
      "outputs": [
        {
          "output_type": "execute_result",
          "data": {
            "text/plain": [
              "<tf.Tensor: shape=(10,), dtype=float32, numpy=\n",
              "array([ 64.614426,  68.815125,  73.015854,  77.216545,  81.41726 ,\n",
              "        85.617966,  89.818665,  94.01938 ,  98.22008 , 102.42078 ],\n",
              "      dtype=float32)>"
            ]
          },
          "metadata": {},
          "execution_count": 45
        }
      ]
    },
    {
      "cell_type": "code",
      "source": [
        "#  cal model_2 evaluatiun\n",
        "mae_2 = mae(y_test, y_preds_2)\n",
        "mse_2 = mse(y_test, y_preds_2)\n",
        "mae_2, mse_2"
      ],
      "metadata": {
        "colab": {
          "base_uri": "https://localhost:8080/"
        },
        "id": "Wa54Np-rLrUx",
        "outputId": "91daa11a-8ee2-41ee-b2f6-1ba9b43424dd"
      },
      "execution_count": 46,
      "outputs": [
        {
          "output_type": "execute_result",
          "data": {
            "text/plain": [
              "(<tf.Tensor: shape=(), dtype=float32, numpy=4.482393>,\n",
              " <tf.Tensor: shape=(), dtype=float32, numpy=20.424183>)"
            ]
          },
          "metadata": {},
          "execution_count": 46
        }
      ]
    },
    {
      "cell_type": "code",
      "source": [
        "#  model_3\n",
        "model_3 = tf.keras.Sequential([\n",
        "    tf.keras.layers.Dense(100),\n",
        "    tf.keras.layers.Dense(1)\n",
        "])\n",
        "\n",
        "model_3.compile(\n",
        "    loss=tf.keras.losses.mae,\n",
        "    optimizer=tf.keras.optimizers.Adam(learning_rate=0.001)\n",
        ")\n",
        "\n",
        "model_3.fit(tf.expand_dims(X_train, -1), y_train, epochs=500)"
      ],
      "metadata": {
        "colab": {
          "base_uri": "https://localhost:8080/"
        },
        "id": "a3-0GcjHPtrA",
        "outputId": "1c219962-1683-4d29-b213-294fd56ec05e"
      },
      "execution_count": 47,
      "outputs": [
        {
          "output_type": "stream",
          "name": "stdout",
          "text": [
            "Epoch 1/500\n",
            "2/2 [==============================] - 1s 7ms/step - loss: 38.9085\n",
            "Epoch 2/500\n",
            "2/2 [==============================] - 0s 13ms/step - loss: 36.8250\n",
            "Epoch 3/500\n",
            "2/2 [==============================] - 0s 12ms/step - loss: 34.7557\n",
            "Epoch 4/500\n",
            "2/2 [==============================] - 0s 9ms/step - loss: 32.7614\n",
            "Epoch 5/500\n",
            "2/2 [==============================] - 0s 14ms/step - loss: 30.6674\n",
            "Epoch 6/500\n",
            "2/2 [==============================] - 0s 11ms/step - loss: 28.6422\n",
            "Epoch 7/500\n",
            "2/2 [==============================] - 0s 14ms/step - loss: 26.6132\n",
            "Epoch 8/500\n",
            "2/2 [==============================] - 0s 11ms/step - loss: 24.5892\n",
            "Epoch 9/500\n",
            "2/2 [==============================] - 0s 13ms/step - loss: 22.5376\n",
            "Epoch 10/500\n",
            "2/2 [==============================] - 0s 8ms/step - loss: 20.5427\n",
            "Epoch 11/500\n",
            "2/2 [==============================] - 0s 15ms/step - loss: 18.5466\n",
            "Epoch 12/500\n",
            "2/2 [==============================] - 0s 18ms/step - loss: 16.6299\n",
            "Epoch 13/500\n",
            "2/2 [==============================] - 0s 16ms/step - loss: 14.7201\n",
            "Epoch 14/500\n",
            "2/2 [==============================] - 0s 17ms/step - loss: 12.8236\n",
            "Epoch 15/500\n",
            "2/2 [==============================] - 0s 14ms/step - loss: 11.1185\n",
            "Epoch 16/500\n",
            "2/2 [==============================] - 0s 19ms/step - loss: 9.5627\n",
            "Epoch 17/500\n",
            "2/2 [==============================] - 0s 12ms/step - loss: 8.3507\n",
            "Epoch 18/500\n",
            "2/2 [==============================] - 0s 12ms/step - loss: 7.8840\n",
            "Epoch 19/500\n",
            "2/2 [==============================] - 0s 32ms/step - loss: 8.1768\n",
            "Epoch 20/500\n",
            "2/2 [==============================] - 0s 12ms/step - loss: 8.6917\n",
            "Epoch 21/500\n",
            "2/2 [==============================] - 0s 18ms/step - loss: 8.9043\n",
            "Epoch 22/500\n",
            "2/2 [==============================] - 0s 13ms/step - loss: 8.8825\n",
            "Epoch 23/500\n",
            "2/2 [==============================] - 0s 28ms/step - loss: 8.7033\n",
            "Epoch 24/500\n",
            "2/2 [==============================] - 0s 14ms/step - loss: 8.4274\n",
            "Epoch 25/500\n",
            "2/2 [==============================] - 0s 19ms/step - loss: 8.0433\n",
            "Epoch 26/500\n",
            "2/2 [==============================] - 0s 13ms/step - loss: 7.6151\n",
            "Epoch 27/500\n",
            "2/2 [==============================] - 0s 14ms/step - loss: 7.5100\n",
            "Epoch 28/500\n",
            "2/2 [==============================] - 0s 12ms/step - loss: 7.6313\n",
            "Epoch 29/500\n",
            "2/2 [==============================] - 0s 14ms/step - loss: 7.7253\n",
            "Epoch 30/500\n",
            "2/2 [==============================] - 0s 10ms/step - loss: 7.7375\n",
            "Epoch 31/500\n",
            "2/2 [==============================] - 0s 11ms/step - loss: 7.6655\n",
            "Epoch 32/500\n",
            "2/2 [==============================] - 0s 26ms/step - loss: 7.5162\n",
            "Epoch 33/500\n",
            "2/2 [==============================] - 0s 8ms/step - loss: 7.3791\n",
            "Epoch 34/500\n",
            "2/2 [==============================] - 0s 12ms/step - loss: 7.3467\n",
            "Epoch 35/500\n",
            "2/2 [==============================] - 0s 7ms/step - loss: 7.3884\n",
            "Epoch 36/500\n",
            "2/2 [==============================] - 0s 10ms/step - loss: 7.4332\n",
            "Epoch 37/500\n",
            "2/2 [==============================] - 0s 7ms/step - loss: 7.3846\n",
            "Epoch 38/500\n",
            "2/2 [==============================] - 0s 12ms/step - loss: 7.2726\n",
            "Epoch 39/500\n",
            "2/2 [==============================] - 0s 15ms/step - loss: 7.1965\n",
            "Epoch 40/500\n",
            "2/2 [==============================] - 0s 22ms/step - loss: 7.1863\n",
            "Epoch 41/500\n",
            "2/2 [==============================] - 0s 18ms/step - loss: 7.2028\n",
            "Epoch 42/500\n",
            "2/2 [==============================] - 0s 6ms/step - loss: 7.1737\n",
            "Epoch 43/500\n",
            "2/2 [==============================] - 0s 18ms/step - loss: 7.1156\n",
            "Epoch 44/500\n",
            "2/2 [==============================] - 0s 7ms/step - loss: 7.1024\n",
            "Epoch 45/500\n",
            "2/2 [==============================] - 0s 6ms/step - loss: 7.0650\n",
            "Epoch 46/500\n",
            "2/2 [==============================] - 0s 11ms/step - loss: 7.0354\n",
            "Epoch 47/500\n",
            "2/2 [==============================] - 0s 14ms/step - loss: 7.0115\n",
            "Epoch 48/500\n",
            "2/2 [==============================] - 0s 9ms/step - loss: 6.9838\n",
            "Epoch 49/500\n",
            "2/2 [==============================] - 0s 29ms/step - loss: 6.9464\n",
            "Epoch 50/500\n",
            "2/2 [==============================] - 0s 18ms/step - loss: 6.9556\n",
            "Epoch 51/500\n",
            "2/2 [==============================] - 0s 16ms/step - loss: 6.9490\n",
            "Epoch 52/500\n",
            "2/2 [==============================] - 0s 13ms/step - loss: 6.9142\n",
            "Epoch 53/500\n",
            "2/2 [==============================] - 0s 10ms/step - loss: 6.8842\n",
            "Epoch 54/500\n",
            "2/2 [==============================] - 0s 18ms/step - loss: 6.8399\n",
            "Epoch 55/500\n",
            "2/2 [==============================] - 0s 21ms/step - loss: 6.8132\n",
            "Epoch 56/500\n",
            "2/2 [==============================] - 0s 15ms/step - loss: 6.8012\n",
            "Epoch 57/500\n",
            "2/2 [==============================] - 0s 11ms/step - loss: 6.7849\n",
            "Epoch 58/500\n",
            "2/2 [==============================] - 0s 23ms/step - loss: 6.7473\n",
            "Epoch 59/500\n",
            "2/2 [==============================] - 0s 13ms/step - loss: 6.7226\n",
            "Epoch 60/500\n",
            "2/2 [==============================] - 0s 21ms/step - loss: 6.6898\n",
            "Epoch 61/500\n",
            "2/2 [==============================] - 0s 18ms/step - loss: 6.6556\n",
            "Epoch 62/500\n",
            "2/2 [==============================] - 0s 21ms/step - loss: 6.6491\n",
            "Epoch 63/500\n",
            "2/2 [==============================] - 0s 23ms/step - loss: 6.6778\n",
            "Epoch 64/500\n",
            "2/2 [==============================] - 0s 11ms/step - loss: 6.6414\n",
            "Epoch 65/500\n",
            "2/2 [==============================] - 0s 6ms/step - loss: 6.5781\n",
            "Epoch 66/500\n",
            "2/2 [==============================] - 0s 10ms/step - loss: 6.5554\n",
            "Epoch 67/500\n",
            "2/2 [==============================] - 0s 5ms/step - loss: 6.5334\n",
            "Epoch 68/500\n",
            "2/2 [==============================] - 0s 42ms/step - loss: 6.5066\n",
            "Epoch 69/500\n",
            "2/2 [==============================] - 0s 13ms/step - loss: 6.4828\n",
            "Epoch 70/500\n",
            "2/2 [==============================] - 0s 6ms/step - loss: 6.4396\n",
            "Epoch 71/500\n",
            "2/2 [==============================] - 0s 11ms/step - loss: 6.4706\n",
            "Epoch 72/500\n",
            "2/2 [==============================] - 0s 7ms/step - loss: 6.5024\n",
            "Epoch 73/500\n",
            "2/2 [==============================] - 0s 14ms/step - loss: 6.4369\n",
            "Epoch 74/500\n",
            "2/2 [==============================] - 0s 22ms/step - loss: 6.3475\n",
            "Epoch 75/500\n",
            "2/2 [==============================] - 0s 21ms/step - loss: 6.3389\n",
            "Epoch 76/500\n",
            "2/2 [==============================] - 0s 20ms/step - loss: 6.3297\n",
            "Epoch 77/500\n",
            "2/2 [==============================] - 0s 18ms/step - loss: 6.3106\n",
            "Epoch 78/500\n",
            "2/2 [==============================] - 0s 19ms/step - loss: 6.2748\n",
            "Epoch 79/500\n",
            "2/2 [==============================] - 0s 11ms/step - loss: 6.2268\n",
            "Epoch 80/500\n",
            "2/2 [==============================] - 0s 22ms/step - loss: 6.2003\n",
            "Epoch 81/500\n",
            "2/2 [==============================] - 0s 49ms/step - loss: 6.1793\n",
            "Epoch 82/500\n",
            "2/2 [==============================] - 0s 10ms/step - loss: 6.1414\n",
            "Epoch 83/500\n",
            "2/2 [==============================] - 0s 6ms/step - loss: 6.1186\n",
            "Epoch 84/500\n",
            "2/2 [==============================] - 0s 13ms/step - loss: 6.1315\n",
            "Epoch 85/500\n",
            "2/2 [==============================] - 0s 23ms/step - loss: 6.1362\n",
            "Epoch 86/500\n",
            "2/2 [==============================] - 0s 10ms/step - loss: 6.1038\n",
            "Epoch 87/500\n",
            "2/2 [==============================] - 0s 12ms/step - loss: 6.0548\n",
            "Epoch 88/500\n",
            "2/2 [==============================] - 0s 22ms/step - loss: 6.0001\n",
            "Epoch 89/500\n",
            "2/2 [==============================] - 0s 13ms/step - loss: 5.9791\n",
            "Epoch 90/500\n",
            "2/2 [==============================] - 0s 13ms/step - loss: 5.9683\n",
            "Epoch 91/500\n",
            "2/2 [==============================] - 0s 22ms/step - loss: 5.9911\n",
            "Epoch 92/500\n",
            "2/2 [==============================] - 0s 10ms/step - loss: 5.9954\n",
            "Epoch 93/500\n",
            "2/2 [==============================] - 0s 17ms/step - loss: 5.9265\n",
            "Epoch 94/500\n",
            "2/2 [==============================] - 0s 26ms/step - loss: 5.8588\n",
            "Epoch 95/500\n",
            "2/2 [==============================] - 0s 18ms/step - loss: 5.8305\n",
            "Epoch 96/500\n",
            "2/2 [==============================] - 0s 30ms/step - loss: 5.8153\n",
            "Epoch 97/500\n",
            "2/2 [==============================] - 0s 8ms/step - loss: 5.7900\n",
            "Epoch 98/500\n",
            "2/2 [==============================] - 0s 10ms/step - loss: 5.7544\n",
            "Epoch 99/500\n",
            "2/2 [==============================] - 0s 9ms/step - loss: 5.7228\n",
            "Epoch 100/500\n",
            "2/2 [==============================] - 0s 13ms/step - loss: 5.7000\n",
            "Epoch 101/500\n",
            "2/2 [==============================] - 0s 6ms/step - loss: 5.7368\n",
            "Epoch 102/500\n",
            "2/2 [==============================] - 0s 7ms/step - loss: 5.7631\n",
            "Epoch 103/500\n",
            "2/2 [==============================] - 0s 10ms/step - loss: 5.6678\n",
            "Epoch 104/500\n",
            "2/2 [==============================] - 0s 13ms/step - loss: 5.6092\n",
            "Epoch 105/500\n",
            "2/2 [==============================] - 0s 17ms/step - loss: 5.6453\n",
            "Epoch 106/500\n",
            "2/2 [==============================] - 0s 10ms/step - loss: 5.6636\n",
            "Epoch 107/500\n",
            "2/2 [==============================] - 0s 12ms/step - loss: 5.6057\n",
            "Epoch 108/500\n",
            "2/2 [==============================] - 0s 10ms/step - loss: 5.5302\n",
            "Epoch 109/500\n",
            "2/2 [==============================] - 0s 10ms/step - loss: 5.4822\n",
            "Epoch 110/500\n",
            "2/2 [==============================] - 0s 9ms/step - loss: 5.4620\n",
            "Epoch 111/500\n",
            "2/2 [==============================] - 0s 26ms/step - loss: 5.4386\n",
            "Epoch 112/500\n",
            "2/2 [==============================] - 0s 9ms/step - loss: 5.4095\n",
            "Epoch 113/500\n",
            "2/2 [==============================] - 0s 10ms/step - loss: 5.3891\n",
            "Epoch 114/500\n",
            "2/2 [==============================] - 0s 9ms/step - loss: 5.3365\n",
            "Epoch 115/500\n",
            "2/2 [==============================] - 0s 8ms/step - loss: 5.3376\n",
            "Epoch 116/500\n",
            "2/2 [==============================] - 0s 8ms/step - loss: 5.3372\n",
            "Epoch 117/500\n",
            "2/2 [==============================] - 0s 9ms/step - loss: 5.2512\n",
            "Epoch 118/500\n",
            "2/2 [==============================] - 0s 9ms/step - loss: 5.2648\n",
            "Epoch 119/500\n",
            "2/2 [==============================] - 0s 10ms/step - loss: 5.3152\n",
            "Epoch 120/500\n",
            "2/2 [==============================] - 0s 7ms/step - loss: 5.2877\n",
            "Epoch 121/500\n",
            "2/2 [==============================] - 0s 7ms/step - loss: 5.1930\n",
            "Epoch 122/500\n",
            "2/2 [==============================] - 0s 7ms/step - loss: 5.1209\n",
            "Epoch 123/500\n",
            "2/2 [==============================] - 0s 7ms/step - loss: 5.1001\n",
            "Epoch 124/500\n",
            "2/2 [==============================] - 0s 7ms/step - loss: 5.1098\n",
            "Epoch 125/500\n",
            "2/2 [==============================] - 0s 7ms/step - loss: 5.0861\n",
            "Epoch 126/500\n",
            "2/2 [==============================] - 0s 9ms/step - loss: 5.0436\n",
            "Epoch 127/500\n",
            "2/2 [==============================] - 0s 7ms/step - loss: 4.9769\n",
            "Epoch 128/500\n",
            "2/2 [==============================] - 0s 7ms/step - loss: 4.9567\n",
            "Epoch 129/500\n",
            "2/2 [==============================] - 0s 8ms/step - loss: 4.9303\n",
            "Epoch 130/500\n",
            "2/2 [==============================] - 0s 14ms/step - loss: 4.8990\n",
            "Epoch 131/500\n",
            "2/2 [==============================] - 0s 7ms/step - loss: 4.8680\n",
            "Epoch 132/500\n",
            "2/2 [==============================] - 0s 11ms/step - loss: 4.8300\n",
            "Epoch 133/500\n",
            "2/2 [==============================] - 0s 9ms/step - loss: 4.7991\n",
            "Epoch 134/500\n",
            "2/2 [==============================] - 0s 7ms/step - loss: 4.7679\n",
            "Epoch 135/500\n",
            "2/2 [==============================] - 0s 6ms/step - loss: 4.7436\n",
            "Epoch 136/500\n",
            "2/2 [==============================] - 0s 6ms/step - loss: 4.7108\n",
            "Epoch 137/500\n",
            "2/2 [==============================] - 0s 14ms/step - loss: 4.6792\n",
            "Epoch 138/500\n",
            "2/2 [==============================] - 0s 7ms/step - loss: 4.6511\n",
            "Epoch 139/500\n",
            "2/2 [==============================] - 0s 6ms/step - loss: 4.6750\n",
            "Epoch 140/500\n",
            "2/2 [==============================] - 0s 16ms/step - loss: 4.6489\n",
            "Epoch 141/500\n",
            "2/2 [==============================] - 0s 28ms/step - loss: 4.6132\n",
            "Epoch 142/500\n",
            "2/2 [==============================] - 0s 8ms/step - loss: 4.5239\n",
            "Epoch 143/500\n",
            "2/2 [==============================] - 0s 8ms/step - loss: 4.4881\n",
            "Epoch 144/500\n",
            "2/2 [==============================] - 0s 10ms/step - loss: 4.4639\n",
            "Epoch 145/500\n",
            "2/2 [==============================] - 0s 7ms/step - loss: 4.4741\n",
            "Epoch 146/500\n",
            "2/2 [==============================] - 0s 7ms/step - loss: 4.4343\n",
            "Epoch 147/500\n",
            "2/2 [==============================] - 0s 11ms/step - loss: 4.3590\n",
            "Epoch 148/500\n",
            "2/2 [==============================] - 0s 18ms/step - loss: 4.3518\n",
            "Epoch 149/500\n",
            "2/2 [==============================] - 0s 15ms/step - loss: 4.4161\n",
            "Epoch 150/500\n",
            "2/2 [==============================] - 0s 18ms/step - loss: 4.3622\n",
            "Epoch 151/500\n",
            "2/2 [==============================] - 0s 7ms/step - loss: 4.2450\n",
            "Epoch 152/500\n",
            "2/2 [==============================] - 0s 14ms/step - loss: 4.2113\n",
            "Epoch 153/500\n",
            "2/2 [==============================] - 0s 33ms/step - loss: 4.2640\n",
            "Epoch 154/500\n",
            "2/2 [==============================] - 0s 9ms/step - loss: 4.1840\n",
            "Epoch 155/500\n",
            "2/2 [==============================] - 0s 29ms/step - loss: 4.1239\n",
            "Epoch 156/500\n",
            "2/2 [==============================] - 0s 11ms/step - loss: 4.1299\n",
            "Epoch 157/500\n",
            "2/2 [==============================] - 0s 7ms/step - loss: 4.0559\n",
            "Epoch 158/500\n",
            "2/2 [==============================] - 0s 7ms/step - loss: 4.0362\n",
            "Epoch 159/500\n",
            "2/2 [==============================] - 0s 40ms/step - loss: 4.0394\n",
            "Epoch 160/500\n",
            "2/2 [==============================] - 0s 10ms/step - loss: 3.9413\n",
            "Epoch 161/500\n",
            "2/2 [==============================] - 0s 10ms/step - loss: 3.9122\n",
            "Epoch 162/500\n",
            "2/2 [==============================] - 0s 7ms/step - loss: 3.9616\n",
            "Epoch 163/500\n",
            "2/2 [==============================] - 0s 13ms/step - loss: 3.9203\n",
            "Epoch 164/500\n",
            "2/2 [==============================] - 0s 10ms/step - loss: 3.8253\n",
            "Epoch 165/500\n",
            "2/2 [==============================] - 0s 8ms/step - loss: 3.7675\n",
            "Epoch 166/500\n",
            "2/2 [==============================] - 0s 9ms/step - loss: 3.7520\n",
            "Epoch 167/500\n",
            "2/2 [==============================] - 0s 6ms/step - loss: 3.6804\n",
            "Epoch 168/500\n",
            "2/2 [==============================] - 0s 6ms/step - loss: 3.6445\n",
            "Epoch 169/500\n",
            "2/2 [==============================] - 0s 18ms/step - loss: 3.6099\n",
            "Epoch 170/500\n",
            "2/2 [==============================] - 0s 7ms/step - loss: 3.5744\n",
            "Epoch 171/500\n",
            "2/2 [==============================] - 0s 6ms/step - loss: 3.5296\n",
            "Epoch 172/500\n",
            "2/2 [==============================] - 0s 25ms/step - loss: 3.4921\n",
            "Epoch 173/500\n",
            "2/2 [==============================] - 0s 16ms/step - loss: 3.4598\n",
            "Epoch 174/500\n",
            "2/2 [==============================] - 0s 7ms/step - loss: 3.4274\n",
            "Epoch 175/500\n",
            "2/2 [==============================] - 0s 18ms/step - loss: 3.3735\n",
            "Epoch 176/500\n",
            "2/2 [==============================] - 0s 31ms/step - loss: 3.3357\n",
            "Epoch 177/500\n",
            "2/2 [==============================] - 0s 13ms/step - loss: 3.3092\n",
            "Epoch 178/500\n",
            "2/2 [==============================] - 0s 11ms/step - loss: 3.2461\n",
            "Epoch 179/500\n",
            "2/2 [==============================] - 0s 12ms/step - loss: 3.2601\n",
            "Epoch 180/500\n",
            "2/2 [==============================] - 0s 16ms/step - loss: 3.2097\n",
            "Epoch 181/500\n",
            "2/2 [==============================] - 0s 9ms/step - loss: 3.1378\n",
            "Epoch 182/500\n",
            "2/2 [==============================] - 0s 26ms/step - loss: 3.1205\n",
            "Epoch 183/500\n",
            "2/2 [==============================] - 0s 15ms/step - loss: 3.0581\n",
            "Epoch 184/500\n",
            "2/2 [==============================] - 0s 10ms/step - loss: 3.0082\n",
            "Epoch 185/500\n",
            "2/2 [==============================] - 0s 11ms/step - loss: 2.9635\n",
            "Epoch 186/500\n",
            "2/2 [==============================] - 0s 6ms/step - loss: 2.9359\n",
            "Epoch 187/500\n",
            "2/2 [==============================] - 0s 24ms/step - loss: 2.8996\n",
            "Epoch 188/500\n",
            "2/2 [==============================] - 0s 8ms/step - loss: 2.8402\n",
            "Epoch 189/500\n",
            "2/2 [==============================] - 0s 8ms/step - loss: 2.7938\n",
            "Epoch 190/500\n",
            "2/2 [==============================] - 0s 6ms/step - loss: 2.7430\n",
            "Epoch 191/500\n",
            "2/2 [==============================] - 0s 27ms/step - loss: 2.7042\n",
            "Epoch 192/500\n",
            "2/2 [==============================] - 0s 23ms/step - loss: 2.6579\n",
            "Epoch 193/500\n",
            "2/2 [==============================] - 0s 11ms/step - loss: 2.6392\n",
            "Epoch 194/500\n",
            "2/2 [==============================] - 0s 17ms/step - loss: 2.5591\n",
            "Epoch 195/500\n",
            "2/2 [==============================] - 0s 16ms/step - loss: 2.5857\n",
            "Epoch 196/500\n",
            "2/2 [==============================] - 0s 8ms/step - loss: 2.5025\n",
            "Epoch 197/500\n",
            "2/2 [==============================] - 0s 17ms/step - loss: 2.4417\n",
            "Epoch 198/500\n",
            "2/2 [==============================] - 0s 16ms/step - loss: 2.4026\n",
            "Epoch 199/500\n",
            "2/2 [==============================] - 0s 7ms/step - loss: 2.3397\n",
            "Epoch 200/500\n",
            "2/2 [==============================] - 0s 7ms/step - loss: 2.3313\n",
            "Epoch 201/500\n",
            "2/2 [==============================] - 0s 25ms/step - loss: 2.2424\n",
            "Epoch 202/500\n",
            "2/2 [==============================] - 0s 12ms/step - loss: 2.2315\n",
            "Epoch 203/500\n",
            "2/2 [==============================] - 0s 7ms/step - loss: 2.1458\n",
            "Epoch 204/500\n",
            "2/2 [==============================] - 0s 7ms/step - loss: 2.2377\n",
            "Epoch 205/500\n",
            "2/2 [==============================] - 0s 20ms/step - loss: 2.2352\n",
            "Epoch 206/500\n",
            "2/2 [==============================] - 0s 13ms/step - loss: 2.0252\n",
            "Epoch 207/500\n",
            "2/2 [==============================] - 0s 10ms/step - loss: 2.2179\n",
            "Epoch 208/500\n",
            "2/2 [==============================] - 0s 16ms/step - loss: 2.0542\n",
            "Epoch 209/500\n",
            "2/2 [==============================] - 0s 7ms/step - loss: 1.9217\n",
            "Epoch 210/500\n",
            "2/2 [==============================] - 0s 7ms/step - loss: 2.1013\n",
            "Epoch 211/500\n",
            "2/2 [==============================] - 0s 7ms/step - loss: 1.9070\n",
            "Epoch 212/500\n",
            "2/2 [==============================] - 0s 13ms/step - loss: 1.7878\n",
            "Epoch 213/500\n",
            "2/2 [==============================] - 0s 6ms/step - loss: 1.8496\n",
            "Epoch 214/500\n",
            "2/2 [==============================] - 0s 18ms/step - loss: 1.6084\n",
            "Epoch 215/500\n",
            "2/2 [==============================] - 0s 6ms/step - loss: 1.8796\n",
            "Epoch 216/500\n",
            "2/2 [==============================] - 0s 7ms/step - loss: 1.9923\n",
            "Epoch 217/500\n",
            "2/2 [==============================] - 0s 13ms/step - loss: 1.7492\n",
            "Epoch 218/500\n",
            "2/2 [==============================] - 0s 27ms/step - loss: 1.5163\n",
            "Epoch 219/500\n",
            "2/2 [==============================] - 0s 8ms/step - loss: 1.5634\n",
            "Epoch 220/500\n",
            "2/2 [==============================] - 0s 10ms/step - loss: 1.3542\n",
            "Epoch 221/500\n",
            "2/2 [==============================] - 0s 15ms/step - loss: 1.2840\n",
            "Epoch 222/500\n",
            "2/2 [==============================] - 0s 11ms/step - loss: 1.2416\n",
            "Epoch 223/500\n",
            "2/2 [==============================] - 0s 8ms/step - loss: 1.1896\n",
            "Epoch 224/500\n",
            "2/2 [==============================] - 0s 9ms/step - loss: 1.1971\n",
            "Epoch 225/500\n",
            "2/2 [==============================] - 0s 19ms/step - loss: 1.0891\n",
            "Epoch 226/500\n",
            "2/2 [==============================] - 0s 12ms/step - loss: 1.0898\n",
            "Epoch 227/500\n",
            "2/2 [==============================] - 0s 19ms/step - loss: 0.9906\n",
            "Epoch 228/500\n",
            "2/2 [==============================] - 0s 16ms/step - loss: 0.9402\n",
            "Epoch 229/500\n",
            "2/2 [==============================] - 0s 21ms/step - loss: 0.8726\n",
            "Epoch 230/500\n",
            "2/2 [==============================] - 0s 28ms/step - loss: 0.8271\n",
            "Epoch 231/500\n",
            "2/2 [==============================] - 0s 13ms/step - loss: 0.8733\n",
            "Epoch 232/500\n",
            "2/2 [==============================] - 0s 19ms/step - loss: 0.8215\n",
            "Epoch 233/500\n",
            "2/2 [==============================] - 0s 16ms/step - loss: 0.8438\n",
            "Epoch 234/500\n",
            "2/2 [==============================] - 0s 32ms/step - loss: 0.8636\n",
            "Epoch 235/500\n",
            "2/2 [==============================] - 0s 13ms/step - loss: 0.6164\n",
            "Epoch 236/500\n",
            "2/2 [==============================] - 0s 11ms/step - loss: 0.9588\n",
            "Epoch 237/500\n",
            "2/2 [==============================] - 0s 23ms/step - loss: 0.5551\n",
            "Epoch 238/500\n",
            "2/2 [==============================] - 0s 20ms/step - loss: 0.8385\n",
            "Epoch 239/500\n",
            "2/2 [==============================] - 0s 11ms/step - loss: 0.7811\n",
            "Epoch 240/500\n",
            "2/2 [==============================] - 0s 6ms/step - loss: 0.4754\n",
            "Epoch 241/500\n",
            "2/2 [==============================] - 0s 20ms/step - loss: 0.4915\n",
            "Epoch 242/500\n",
            "2/2 [==============================] - 0s 6ms/step - loss: 0.3431\n",
            "Epoch 243/500\n",
            "2/2 [==============================] - 0s 33ms/step - loss: 0.2253\n",
            "Epoch 244/500\n",
            "2/2 [==============================] - 0s 14ms/step - loss: 0.3007\n",
            "Epoch 245/500\n",
            "2/2 [==============================] - 0s 22ms/step - loss: 0.2949\n",
            "Epoch 246/500\n",
            "2/2 [==============================] - 0s 20ms/step - loss: 0.0636\n",
            "Epoch 247/500\n",
            "2/2 [==============================] - 0s 14ms/step - loss: 0.0822\n",
            "Epoch 248/500\n",
            "2/2 [==============================] - 0s 22ms/step - loss: 0.5062\n",
            "Epoch 249/500\n",
            "2/2 [==============================] - 0s 6ms/step - loss: 0.3742\n",
            "Epoch 250/500\n",
            "2/2 [==============================] - 0s 15ms/step - loss: 0.4220\n",
            "Epoch 251/500\n",
            "2/2 [==============================] - 0s 13ms/step - loss: 0.2619\n",
            "Epoch 252/500\n",
            "2/2 [==============================] - 0s 15ms/step - loss: 0.4120\n",
            "Epoch 253/500\n",
            "2/2 [==============================] - 0s 17ms/step - loss: 0.1133\n",
            "Epoch 254/500\n",
            "2/2 [==============================] - 0s 7ms/step - loss: 0.1193\n",
            "Epoch 255/500\n",
            "2/2 [==============================] - 0s 13ms/step - loss: 0.2557\n",
            "Epoch 256/500\n",
            "2/2 [==============================] - 0s 16ms/step - loss: 0.2857\n",
            "Epoch 257/500\n",
            "2/2 [==============================] - 0s 10ms/step - loss: 0.1237\n",
            "Epoch 258/500\n",
            "2/2 [==============================] - 0s 9ms/step - loss: 0.0878\n",
            "Epoch 259/500\n",
            "2/2 [==============================] - 0s 9ms/step - loss: 0.2645\n",
            "Epoch 260/500\n",
            "2/2 [==============================] - 0s 23ms/step - loss: 0.0600\n",
            "Epoch 261/500\n",
            "2/2 [==============================] - 0s 15ms/step - loss: 0.0909\n",
            "Epoch 262/500\n",
            "2/2 [==============================] - 0s 22ms/step - loss: 0.1133\n",
            "Epoch 263/500\n",
            "2/2 [==============================] - 0s 19ms/step - loss: 0.1424\n",
            "Epoch 264/500\n",
            "2/2 [==============================] - 0s 13ms/step - loss: 0.0645\n",
            "Epoch 265/500\n",
            "2/2 [==============================] - 0s 9ms/step - loss: 0.0779\n",
            "Epoch 266/500\n",
            "2/2 [==============================] - 0s 11ms/step - loss: 0.1391\n",
            "Epoch 267/500\n",
            "2/2 [==============================] - 0s 9ms/step - loss: 0.4239\n",
            "Epoch 268/500\n",
            "2/2 [==============================] - 0s 22ms/step - loss: 0.0827\n",
            "Epoch 269/500\n",
            "2/2 [==============================] - 0s 24ms/step - loss: 0.8866\n",
            "Epoch 270/500\n",
            "2/2 [==============================] - 0s 24ms/step - loss: 0.5751\n",
            "Epoch 271/500\n",
            "2/2 [==============================] - 0s 24ms/step - loss: 0.5825\n",
            "Epoch 272/500\n",
            "2/2 [==============================] - 0s 23ms/step - loss: 0.9332\n",
            "Epoch 273/500\n",
            "2/2 [==============================] - 0s 16ms/step - loss: 0.3328\n",
            "Epoch 274/500\n",
            "2/2 [==============================] - 0s 12ms/step - loss: 0.4173\n",
            "Epoch 275/500\n",
            "2/2 [==============================] - 0s 22ms/step - loss: 0.1286\n",
            "Epoch 276/500\n",
            "2/2 [==============================] - 0s 10ms/step - loss: 0.3678\n",
            "Epoch 277/500\n",
            "2/2 [==============================] - 0s 6ms/step - loss: 0.2907\n",
            "Epoch 278/500\n",
            "2/2 [==============================] - 0s 16ms/step - loss: 0.2404\n",
            "Epoch 279/500\n",
            "2/2 [==============================] - 0s 6ms/step - loss: 0.2558\n",
            "Epoch 280/500\n",
            "2/2 [==============================] - 0s 14ms/step - loss: 0.1379\n",
            "Epoch 281/500\n",
            "2/2 [==============================] - 0s 12ms/step - loss: 0.0454\n",
            "Epoch 282/500\n",
            "2/2 [==============================] - 0s 9ms/step - loss: 0.1805\n",
            "Epoch 283/500\n",
            "2/2 [==============================] - 0s 10ms/step - loss: 0.1390\n",
            "Epoch 284/500\n",
            "2/2 [==============================] - 0s 12ms/step - loss: 0.1494\n",
            "Epoch 285/500\n",
            "2/2 [==============================] - 0s 28ms/step - loss: 0.0893\n",
            "Epoch 286/500\n",
            "2/2 [==============================] - 0s 17ms/step - loss: 0.1549\n",
            "Epoch 287/500\n",
            "2/2 [==============================] - 0s 10ms/step - loss: 0.2023\n",
            "Epoch 288/500\n",
            "2/2 [==============================] - 0s 9ms/step - loss: 0.1442\n",
            "Epoch 289/500\n",
            "2/2 [==============================] - 0s 6ms/step - loss: 0.2551\n",
            "Epoch 290/500\n",
            "2/2 [==============================] - 0s 11ms/step - loss: 0.3100\n",
            "Epoch 291/500\n",
            "2/2 [==============================] - 0s 14ms/step - loss: 0.2510\n",
            "Epoch 292/500\n",
            "2/2 [==============================] - 0s 6ms/step - loss: 0.1724\n",
            "Epoch 293/500\n",
            "2/2 [==============================] - 0s 20ms/step - loss: 0.2813\n",
            "Epoch 294/500\n",
            "2/2 [==============================] - 0s 13ms/step - loss: 0.2021\n",
            "Epoch 295/500\n",
            "2/2 [==============================] - 0s 12ms/step - loss: 0.1866\n",
            "Epoch 296/500\n",
            "2/2 [==============================] - 0s 7ms/step - loss: 0.3459\n",
            "Epoch 297/500\n",
            "2/2 [==============================] - 0s 18ms/step - loss: 0.3299\n",
            "Epoch 298/500\n",
            "2/2 [==============================] - 0s 10ms/step - loss: 0.4129\n",
            "Epoch 299/500\n",
            "2/2 [==============================] - 0s 7ms/step - loss: 0.5107\n",
            "Epoch 300/500\n",
            "2/2 [==============================] - 0s 10ms/step - loss: 0.1449\n",
            "Epoch 301/500\n",
            "2/2 [==============================] - 0s 23ms/step - loss: 0.1519\n",
            "Epoch 302/500\n",
            "2/2 [==============================] - 0s 15ms/step - loss: 0.2851\n",
            "Epoch 303/500\n",
            "2/2 [==============================] - 0s 14ms/step - loss: 0.1793\n",
            "Epoch 304/500\n",
            "2/2 [==============================] - 0s 10ms/step - loss: 0.1518\n",
            "Epoch 305/500\n",
            "2/2 [==============================] - 0s 10ms/step - loss: 0.2562\n",
            "Epoch 306/500\n",
            "2/2 [==============================] - 0s 10ms/step - loss: 0.2047\n",
            "Epoch 307/500\n",
            "2/2 [==============================] - 0s 7ms/step - loss: 0.1569\n",
            "Epoch 308/500\n",
            "2/2 [==============================] - 0s 11ms/step - loss: 0.1195\n",
            "Epoch 309/500\n",
            "2/2 [==============================] - 0s 5ms/step - loss: 0.1430\n",
            "Epoch 310/500\n",
            "2/2 [==============================] - 0s 26ms/step - loss: 0.0666\n",
            "Epoch 311/500\n",
            "2/2 [==============================] - 0s 10ms/step - loss: 0.1383\n",
            "Epoch 312/500\n",
            "2/2 [==============================] - 0s 15ms/step - loss: 0.1055\n",
            "Epoch 313/500\n",
            "2/2 [==============================] - 0s 8ms/step - loss: 0.0483\n",
            "Epoch 314/500\n",
            "2/2 [==============================] - 0s 23ms/step - loss: 0.1323\n",
            "Epoch 315/500\n",
            "2/2 [==============================] - 0s 19ms/step - loss: 0.1023\n",
            "Epoch 316/500\n",
            "2/2 [==============================] - 0s 6ms/step - loss: 0.1387\n",
            "Epoch 317/500\n",
            "2/2 [==============================] - 0s 16ms/step - loss: 0.0622\n",
            "Epoch 318/500\n",
            "2/2 [==============================] - 0s 11ms/step - loss: 0.2268\n",
            "Epoch 319/500\n",
            "2/2 [==============================] - 0s 7ms/step - loss: 0.1213\n",
            "Epoch 320/500\n",
            "2/2 [==============================] - 0s 8ms/step - loss: 0.3451\n",
            "Epoch 321/500\n",
            "2/2 [==============================] - 0s 25ms/step - loss: 0.0473\n",
            "Epoch 322/500\n",
            "2/2 [==============================] - 0s 26ms/step - loss: 0.1118\n",
            "Epoch 323/500\n",
            "2/2 [==============================] - 0s 8ms/step - loss: 0.1265\n",
            "Epoch 324/500\n",
            "2/2 [==============================] - 0s 12ms/step - loss: 0.1673\n",
            "Epoch 325/500\n",
            "2/2 [==============================] - 0s 8ms/step - loss: 0.0780\n",
            "Epoch 326/500\n",
            "2/2 [==============================] - 0s 18ms/step - loss: 0.1900\n",
            "Epoch 327/500\n",
            "2/2 [==============================] - 0s 19ms/step - loss: 0.4309\n",
            "Epoch 328/500\n",
            "2/2 [==============================] - 0s 20ms/step - loss: 0.5330\n",
            "Epoch 329/500\n",
            "2/2 [==============================] - 0s 13ms/step - loss: 0.0426\n",
            "Epoch 330/500\n",
            "2/2 [==============================] - 0s 8ms/step - loss: 0.1147\n",
            "Epoch 331/500\n",
            "2/2 [==============================] - 0s 12ms/step - loss: 0.0864\n",
            "Epoch 332/500\n",
            "2/2 [==============================] - 0s 12ms/step - loss: 0.1226\n",
            "Epoch 333/500\n",
            "2/2 [==============================] - 0s 17ms/step - loss: 0.2442\n",
            "Epoch 334/500\n",
            "2/2 [==============================] - 0s 7ms/step - loss: 0.1339\n",
            "Epoch 335/500\n",
            "2/2 [==============================] - 0s 15ms/step - loss: 0.0840\n",
            "Epoch 336/500\n",
            "2/2 [==============================] - 0s 7ms/step - loss: 0.1435\n",
            "Epoch 337/500\n",
            "2/2 [==============================] - 0s 6ms/step - loss: 0.0419\n",
            "Epoch 338/500\n",
            "2/2 [==============================] - 0s 5ms/step - loss: 0.1306\n",
            "Epoch 339/500\n",
            "2/2 [==============================] - 0s 9ms/step - loss: 0.0538\n",
            "Epoch 340/500\n",
            "2/2 [==============================] - 0s 6ms/step - loss: 0.1276\n",
            "Epoch 341/500\n",
            "2/2 [==============================] - 0s 6ms/step - loss: 0.0585\n",
            "Epoch 342/500\n",
            "2/2 [==============================] - 0s 6ms/step - loss: 0.3053\n",
            "Epoch 343/500\n",
            "2/2 [==============================] - 0s 6ms/step - loss: 0.0836\n",
            "Epoch 344/500\n",
            "2/2 [==============================] - 0s 10ms/step - loss: 0.0876\n",
            "Epoch 345/500\n",
            "2/2 [==============================] - 0s 6ms/step - loss: 0.2010\n",
            "Epoch 346/500\n",
            "2/2 [==============================] - 0s 5ms/step - loss: 0.3017\n",
            "Epoch 347/500\n",
            "2/2 [==============================] - 0s 6ms/step - loss: 0.3430\n",
            "Epoch 348/500\n",
            "2/2 [==============================] - 0s 7ms/step - loss: 0.2246\n",
            "Epoch 349/500\n",
            "2/2 [==============================] - 0s 6ms/step - loss: 0.2752\n",
            "Epoch 350/500\n",
            "2/2 [==============================] - 0s 6ms/step - loss: 0.2994\n",
            "Epoch 351/500\n",
            "2/2 [==============================] - 0s 5ms/step - loss: 0.2027\n",
            "Epoch 352/500\n",
            "2/2 [==============================] - 0s 11ms/step - loss: 0.0943\n",
            "Epoch 353/500\n",
            "2/2 [==============================] - 0s 6ms/step - loss: 0.0420\n",
            "Epoch 354/500\n",
            "2/2 [==============================] - 0s 5ms/step - loss: 0.1192\n",
            "Epoch 355/500\n",
            "2/2 [==============================] - 0s 6ms/step - loss: 0.1493\n",
            "Epoch 356/500\n",
            "2/2 [==============================] - 0s 6ms/step - loss: 0.2741\n",
            "Epoch 357/500\n",
            "2/2 [==============================] - 0s 6ms/step - loss: 0.2166\n",
            "Epoch 358/500\n",
            "2/2 [==============================] - 0s 6ms/step - loss: 0.1392\n",
            "Epoch 359/500\n",
            "2/2 [==============================] - 0s 10ms/step - loss: 0.2462\n",
            "Epoch 360/500\n",
            "2/2 [==============================] - 0s 6ms/step - loss: 0.1999\n",
            "Epoch 361/500\n",
            "2/2 [==============================] - 0s 6ms/step - loss: 0.1537\n",
            "Epoch 362/500\n",
            "2/2 [==============================] - 0s 6ms/step - loss: 0.1819\n",
            "Epoch 363/500\n",
            "2/2 [==============================] - 0s 6ms/step - loss: 0.1169\n",
            "Epoch 364/500\n",
            "2/2 [==============================] - 0s 9ms/step - loss: 0.1622\n",
            "Epoch 365/500\n",
            "2/2 [==============================] - 0s 13ms/step - loss: 0.3503\n",
            "Epoch 366/500\n",
            "2/2 [==============================] - 0s 17ms/step - loss: 0.3432\n",
            "Epoch 367/500\n",
            "2/2 [==============================] - 0s 6ms/step - loss: 0.3245\n",
            "Epoch 368/500\n",
            "2/2 [==============================] - 0s 5ms/step - loss: 0.4221\n",
            "Epoch 369/500\n",
            "2/2 [==============================] - 0s 6ms/step - loss: 0.1369\n",
            "Epoch 370/500\n",
            "2/2 [==============================] - 0s 6ms/step - loss: 0.1532\n",
            "Epoch 371/500\n",
            "2/2 [==============================] - 0s 6ms/step - loss: 0.1520\n",
            "Epoch 372/500\n",
            "2/2 [==============================] - 0s 7ms/step - loss: 0.2467\n",
            "Epoch 373/500\n",
            "2/2 [==============================] - 0s 6ms/step - loss: 0.1558\n",
            "Epoch 374/500\n",
            "2/2 [==============================] - 0s 6ms/step - loss: 0.2886\n",
            "Epoch 375/500\n",
            "2/2 [==============================] - 0s 15ms/step - loss: 0.0301\n",
            "Epoch 376/500\n",
            "2/2 [==============================] - 0s 6ms/step - loss: 0.0557\n",
            "Epoch 377/500\n",
            "2/2 [==============================] - 0s 6ms/step - loss: 0.1919\n",
            "Epoch 378/500\n",
            "2/2 [==============================] - 0s 6ms/step - loss: 0.1088\n",
            "Epoch 379/500\n",
            "2/2 [==============================] - 0s 12ms/step - loss: 0.2330\n",
            "Epoch 380/500\n",
            "2/2 [==============================] - 0s 6ms/step - loss: 0.2989\n",
            "Epoch 381/500\n",
            "2/2 [==============================] - 0s 14ms/step - loss: 0.2637\n",
            "Epoch 382/500\n",
            "2/2 [==============================] - 0s 6ms/step - loss: 0.4098\n",
            "Epoch 383/500\n",
            "2/2 [==============================] - 0s 7ms/step - loss: 0.5130\n",
            "Epoch 384/500\n",
            "2/2 [==============================] - 0s 6ms/step - loss: 0.0629\n",
            "Epoch 385/500\n",
            "2/2 [==============================] - 0s 6ms/step - loss: 0.1451\n",
            "Epoch 386/500\n",
            "2/2 [==============================] - 0s 10ms/step - loss: 0.1056\n",
            "Epoch 387/500\n",
            "2/2 [==============================] - 0s 7ms/step - loss: 0.0752\n",
            "Epoch 388/500\n",
            "2/2 [==============================] - 0s 6ms/step - loss: 0.0655\n",
            "Epoch 389/500\n",
            "2/2 [==============================] - 0s 5ms/step - loss: 0.0979\n",
            "Epoch 390/500\n",
            "2/2 [==============================] - 0s 7ms/step - loss: 0.1503\n",
            "Epoch 391/500\n",
            "2/2 [==============================] - 0s 6ms/step - loss: 0.2544\n",
            "Epoch 392/500\n",
            "2/2 [==============================] - 0s 6ms/step - loss: 0.1758\n",
            "Epoch 393/500\n",
            "2/2 [==============================] - 0s 13ms/step - loss: 0.1681\n",
            "Epoch 394/500\n",
            "2/2 [==============================] - 0s 6ms/step - loss: 0.1492\n",
            "Epoch 395/500\n",
            "2/2 [==============================] - 0s 6ms/step - loss: 0.0724\n",
            "Epoch 396/500\n",
            "2/2 [==============================] - 0s 11ms/step - loss: 0.3810\n",
            "Epoch 397/500\n",
            "2/2 [==============================] - 0s 6ms/step - loss: 0.1191\n",
            "Epoch 398/500\n",
            "2/2 [==============================] - 0s 11ms/step - loss: 0.5452\n",
            "Epoch 399/500\n",
            "2/2 [==============================] - 0s 6ms/step - loss: 0.3340\n",
            "Epoch 400/500\n",
            "2/2 [==============================] - 0s 11ms/step - loss: 0.4635\n",
            "Epoch 401/500\n",
            "2/2 [==============================] - 0s 6ms/step - loss: 0.6643\n",
            "Epoch 402/500\n",
            "2/2 [==============================] - 0s 6ms/step - loss: 0.2276\n",
            "Epoch 403/500\n",
            "2/2 [==============================] - 0s 6ms/step - loss: 0.3955\n",
            "Epoch 404/500\n",
            "2/2 [==============================] - 0s 6ms/step - loss: 0.2127\n",
            "Epoch 405/500\n",
            "2/2 [==============================] - 0s 6ms/step - loss: 0.2163\n",
            "Epoch 406/500\n",
            "2/2 [==============================] - 0s 6ms/step - loss: 0.0627\n",
            "Epoch 407/500\n",
            "2/2 [==============================] - 0s 7ms/step - loss: 0.0699\n",
            "Epoch 408/500\n",
            "2/2 [==============================] - 0s 6ms/step - loss: 0.1119\n",
            "Epoch 409/500\n",
            "2/2 [==============================] - 0s 9ms/step - loss: 0.1380\n",
            "Epoch 410/500\n",
            "2/2 [==============================] - 0s 6ms/step - loss: 0.0179\n",
            "Epoch 411/500\n",
            "2/2 [==============================] - 0s 5ms/step - loss: 0.1679\n",
            "Epoch 412/500\n",
            "2/2 [==============================] - 0s 8ms/step - loss: 0.0467\n",
            "Epoch 413/500\n",
            "2/2 [==============================] - 0s 11ms/step - loss: 0.0678\n",
            "Epoch 414/500\n",
            "2/2 [==============================] - 0s 6ms/step - loss: 0.1962\n",
            "Epoch 415/500\n",
            "2/2 [==============================] - 0s 13ms/step - loss: 0.1101\n",
            "Epoch 416/500\n",
            "2/2 [==============================] - 0s 6ms/step - loss: 0.2487\n",
            "Epoch 417/500\n",
            "2/2 [==============================] - 0s 6ms/step - loss: 0.1270\n",
            "Epoch 418/500\n",
            "2/2 [==============================] - 0s 13ms/step - loss: 0.0855\n",
            "Epoch 419/500\n",
            "2/2 [==============================] - 0s 6ms/step - loss: 0.2944\n",
            "Epoch 420/500\n",
            "2/2 [==============================] - 0s 6ms/step - loss: 0.0659\n",
            "Epoch 421/500\n",
            "2/2 [==============================] - 0s 13ms/step - loss: 0.0961\n",
            "Epoch 422/500\n",
            "2/2 [==============================] - 0s 12ms/step - loss: 0.0967\n",
            "Epoch 423/500\n",
            "2/2 [==============================] - 0s 7ms/step - loss: 0.0780\n",
            "Epoch 424/500\n",
            "2/2 [==============================] - 0s 10ms/step - loss: 0.1287\n",
            "Epoch 425/500\n",
            "2/2 [==============================] - 0s 7ms/step - loss: 0.0762\n",
            "Epoch 426/500\n",
            "2/2 [==============================] - 0s 7ms/step - loss: 0.1629\n",
            "Epoch 427/500\n",
            "2/2 [==============================] - 0s 14ms/step - loss: 0.2978\n",
            "Epoch 428/500\n",
            "2/2 [==============================] - 0s 6ms/step - loss: 0.2748\n",
            "Epoch 429/500\n",
            "2/2 [==============================] - 0s 7ms/step - loss: 0.2948\n",
            "Epoch 430/500\n",
            "2/2 [==============================] - 0s 10ms/step - loss: 0.3651\n",
            "Epoch 431/500\n",
            "2/2 [==============================] - 0s 7ms/step - loss: 0.1551\n",
            "Epoch 432/500\n",
            "2/2 [==============================] - 0s 12ms/step - loss: 0.1468\n",
            "Epoch 433/500\n",
            "2/2 [==============================] - 0s 6ms/step - loss: 0.1345\n",
            "Epoch 434/500\n",
            "2/2 [==============================] - 0s 8ms/step - loss: 0.2365\n",
            "Epoch 435/500\n",
            "2/2 [==============================] - 0s 10ms/step - loss: 0.1542\n",
            "Epoch 436/500\n",
            "2/2 [==============================] - 0s 89ms/step - loss: 0.1236\n",
            "Epoch 437/500\n",
            "2/2 [==============================] - 0s 8ms/step - loss: 0.2743\n",
            "Epoch 438/500\n",
            "2/2 [==============================] - 0s 9ms/step - loss: 0.2040\n",
            "Epoch 439/500\n",
            "2/2 [==============================] - 0s 14ms/step - loss: 0.0725\n",
            "Epoch 440/500\n",
            "2/2 [==============================] - 0s 14ms/step - loss: 0.0377\n",
            "Epoch 441/500\n",
            "2/2 [==============================] - 0s 9ms/step - loss: 0.0640\n",
            "Epoch 442/500\n",
            "2/2 [==============================] - 0s 7ms/step - loss: 0.2094\n",
            "Epoch 443/500\n",
            "2/2 [==============================] - 0s 6ms/step - loss: 0.2205\n",
            "Epoch 444/500\n",
            "2/2 [==============================] - 0s 9ms/step - loss: 0.1745\n",
            "Epoch 445/500\n",
            "2/2 [==============================] - 0s 8ms/step - loss: 0.0586\n",
            "Epoch 446/500\n",
            "2/2 [==============================] - 0s 6ms/step - loss: 0.0603\n",
            "Epoch 447/500\n",
            "2/2 [==============================] - 0s 5ms/step - loss: 0.2174\n",
            "Epoch 448/500\n",
            "2/2 [==============================] - 0s 5ms/step - loss: 0.1471\n",
            "Epoch 449/500\n",
            "2/2 [==============================] - 0s 12ms/step - loss: 0.1154\n",
            "Epoch 450/500\n",
            "2/2 [==============================] - 0s 10ms/step - loss: 0.0764\n",
            "Epoch 451/500\n",
            "2/2 [==============================] - 0s 6ms/step - loss: 0.1176\n",
            "Epoch 452/500\n",
            "2/2 [==============================] - 0s 6ms/step - loss: 0.0494\n",
            "Epoch 453/500\n",
            "2/2 [==============================] - 0s 5ms/step - loss: 0.1348\n",
            "Epoch 454/500\n",
            "2/2 [==============================] - 0s 5ms/step - loss: 0.0198\n",
            "Epoch 455/500\n",
            "2/2 [==============================] - 0s 5ms/step - loss: 0.0477\n",
            "Epoch 456/500\n",
            "2/2 [==============================] - 0s 11ms/step - loss: 0.0294\n",
            "Epoch 457/500\n",
            "2/2 [==============================] - 0s 5ms/step - loss: 0.0609\n",
            "Epoch 458/500\n",
            "2/2 [==============================] - 0s 6ms/step - loss: 0.0583\n",
            "Epoch 459/500\n",
            "2/2 [==============================] - 0s 7ms/step - loss: 0.0533\n",
            "Epoch 460/500\n",
            "2/2 [==============================] - 0s 5ms/step - loss: 0.0813\n",
            "Epoch 461/500\n",
            "2/2 [==============================] - 0s 6ms/step - loss: 0.1390\n",
            "Epoch 462/500\n",
            "2/2 [==============================] - 0s 6ms/step - loss: 0.0735\n",
            "Epoch 463/500\n",
            "2/2 [==============================] - 0s 6ms/step - loss: 0.0866\n",
            "Epoch 464/500\n",
            "2/2 [==============================] - 0s 6ms/step - loss: 0.0907\n",
            "Epoch 465/500\n",
            "2/2 [==============================] - 0s 6ms/step - loss: 0.0597\n",
            "Epoch 466/500\n",
            "2/2 [==============================] - 0s 5ms/step - loss: 0.1628\n",
            "Epoch 467/500\n",
            "2/2 [==============================] - 0s 6ms/step - loss: 0.0198\n",
            "Epoch 468/500\n",
            "2/2 [==============================] - 0s 13ms/step - loss: 0.1113\n",
            "Epoch 469/500\n",
            "2/2 [==============================] - 0s 6ms/step - loss: 0.0712\n",
            "Epoch 470/500\n",
            "2/2 [==============================] - 0s 6ms/step - loss: 0.1793\n",
            "Epoch 471/500\n",
            "2/2 [==============================] - 0s 7ms/step - loss: 0.1008\n",
            "Epoch 472/500\n",
            "2/2 [==============================] - 0s 5ms/step - loss: 0.3066\n",
            "Epoch 473/500\n",
            "2/2 [==============================] - 0s 5ms/step - loss: 0.0990\n",
            "Epoch 474/500\n",
            "2/2 [==============================] - 0s 15ms/step - loss: 0.4119\n",
            "Epoch 475/500\n",
            "2/2 [==============================] - 0s 8ms/step - loss: 0.1727\n",
            "Epoch 476/500\n",
            "2/2 [==============================] - 0s 16ms/step - loss: 0.2807\n",
            "Epoch 477/500\n",
            "2/2 [==============================] - 0s 7ms/step - loss: 0.1012\n",
            "Epoch 478/500\n",
            "2/2 [==============================] - 0s 7ms/step - loss: 0.3793\n",
            "Epoch 479/500\n",
            "2/2 [==============================] - 0s 5ms/step - loss: 0.1286\n",
            "Epoch 480/500\n",
            "2/2 [==============================] - 0s 6ms/step - loss: 0.4546\n",
            "Epoch 481/500\n",
            "2/2 [==============================] - 0s 6ms/step - loss: 0.2088\n",
            "Epoch 482/500\n",
            "2/2 [==============================] - 0s 6ms/step - loss: 0.1879\n",
            "Epoch 483/500\n",
            "2/2 [==============================] - 0s 6ms/step - loss: 0.0525\n",
            "Epoch 484/500\n",
            "2/2 [==============================] - 0s 6ms/step - loss: 0.0582\n",
            "Epoch 485/500\n",
            "2/2 [==============================] - 0s 5ms/step - loss: 0.1797\n",
            "Epoch 486/500\n",
            "2/2 [==============================] - 0s 11ms/step - loss: 0.0987\n",
            "Epoch 487/500\n",
            "2/2 [==============================] - 0s 7ms/step - loss: 0.2083\n",
            "Epoch 488/500\n",
            "2/2 [==============================] - 0s 15ms/step - loss: 0.1945\n",
            "Epoch 489/500\n",
            "2/2 [==============================] - 0s 16ms/step - loss: 0.1503\n",
            "Epoch 490/500\n",
            "2/2 [==============================] - 0s 7ms/step - loss: 0.1034\n",
            "Epoch 491/500\n",
            "2/2 [==============================] - 0s 7ms/step - loss: 0.1514\n",
            "Epoch 492/500\n",
            "2/2 [==============================] - 0s 6ms/step - loss: 0.0702\n",
            "Epoch 493/500\n",
            "2/2 [==============================] - 0s 7ms/step - loss: 0.0251\n",
            "Epoch 494/500\n",
            "2/2 [==============================] - 0s 7ms/step - loss: 0.0627\n",
            "Epoch 495/500\n",
            "2/2 [==============================] - 0s 6ms/step - loss: 0.0497\n",
            "Epoch 496/500\n",
            "2/2 [==============================] - 0s 6ms/step - loss: 0.1221\n",
            "Epoch 497/500\n",
            "2/2 [==============================] - 0s 7ms/step - loss: 0.1664\n",
            "Epoch 498/500\n",
            "2/2 [==============================] - 0s 7ms/step - loss: 0.0444\n",
            "Epoch 499/500\n",
            "2/2 [==============================] - 0s 7ms/step - loss: 0.0850\n",
            "Epoch 500/500\n",
            "2/2 [==============================] - 0s 6ms/step - loss: 0.1292\n"
          ]
        },
        {
          "output_type": "execute_result",
          "data": {
            "text/plain": [
              "<keras.callbacks.History at 0x7f4a235d6350>"
            ]
          },
          "metadata": {},
          "execution_count": 47
        }
      ]
    },
    {
      "cell_type": "code",
      "source": [
        "y_preds_3 = tf.squeeze(model_3.predict(X_test))\n",
        "plot_predictions(predictions=y_preds_3)"
      ],
      "metadata": {
        "colab": {
          "base_uri": "https://localhost:8080/",
          "height": 882
        },
        "id": "-iypST92UUAu",
        "outputId": "cc05038c-781f-4f1f-c2f4-25b765e69eae"
      },
      "execution_count": 48,
      "outputs": [
        {
          "output_type": "stream",
          "name": "stdout",
          "text": [
            "1/1 [==============================] - 0s 85ms/step\n"
          ]
        },
        {
          "output_type": "execute_result",
          "data": {
            "text/plain": [
              "<function __main__.plot_predictions(train_data=<tf.Tensor: shape=(40,), dtype=float32, numpy=\n",
              "array([-100.,  -96.,  -92.,  -88.,  -84.,  -80.,  -76.,  -72.,  -68.,\n",
              "        -64.,  -60.,  -56.,  -52.,  -48.,  -44.,  -40.,  -36.,  -32.,\n",
              "        -28.,  -24.,  -20.,  -16.,  -12.,   -8.,   -4.,    0.,    4.,\n",
              "          8.,   12.,   16.,   20.,   24.,   28.,   32.,   36.,   40.,\n",
              "         44.,   48.,   52.,   56.], dtype=float32)>, train_labels=<tf.Tensor: shape=(40,), dtype=float32, numpy=\n",
              "array([-90., -86., -82., -78., -74., -70., -66., -62., -58., -54., -50.,\n",
              "       -46., -42., -38., -34., -30., -26., -22., -18., -14., -10.,  -6.,\n",
              "        -2.,   2.,   6.,  10.,  14.,  18.,  22.,  26.,  30.,  34.,  38.,\n",
              "        42.,  46.,  50.,  54.,  58.,  62.,  66.], dtype=float32)>, test_data=<tf.Tensor: shape=(10,), dtype=float32, numpy=array([60., 64., 68., 72., 76., 80., 84., 88., 92., 96.], dtype=float32)>, test_labels=<tf.Tensor: shape=(10,), dtype=float32, numpy=\n",
              "array([ 70.,  74.,  78.,  82.,  86.,  90.,  94.,  98., 102., 106.],\n",
              "      dtype=float32)>, predictions=array([[ 66.76198 ],\n",
              "       [ 71.12507 ],\n",
              "       [ 75.48816 ],\n",
              "       [ 79.85125 ],\n",
              "       [ 84.21434 ],\n",
              "       [ 88.57743 ],\n",
              "       [ 92.94052 ],\n",
              "       [ 97.30361 ],\n",
              "       [101.6667  ],\n",
              "       [106.029785]], dtype=float32))>"
            ]
          },
          "metadata": {},
          "execution_count": 48
        },
        {
          "output_type": "display_data",
          "data": {
            "text/plain": [
              "<Figure size 720x504 with 1 Axes>"
            ],
            "image/png": "[encoded data removed]"
          },
          "metadata": {
            "needs_background": "light"
          }
        }
      ]
    },
    {
      "cell_type": "code",
      "source": [
        "# evaluate model_3\n",
        "mae_3 = mae(y_test, y_preds_3)\n",
        "mse_3 = mse(y_test, y_preds_3)\n",
        "mae_3, mse_3"
      ],
      "metadata": {
        "colab": {
          "base_uri": "https://localhost:8080/"
        },
        "id": "ZQEOydbsU5KF",
        "outputId": "c8e4d17c-57ce-45af-fbdc-13fb509f19ab"
      },
      "execution_count": 49,
      "outputs": [
        {
          "output_type": "execute_result",
          "data": {
            "text/plain": [
              "(<tf.Tensor: shape=(), dtype=float32, numpy=0.013024139>,\n",
              " <tf.Tensor: shape=(), dtype=float32, numpy=0.00016990028>)"
            ]
          },
          "metadata": {},
          "execution_count": 49
        }
      ]
    },
    {
      "cell_type": "markdown",
      "source": [
        "### Comparing the results of out exprment\n",
        "\n"
      ],
      "metadata": {
        "id": "xLc6Cwm3VSwJ"
      }
    },
    {
      "cell_type": "code",
      "source": [
        "# lets use pd to conpare\n",
        "\n",
        "import pandas as pd\n",
        "model_results = [\n",
        "    [\"model_1\", mae_1.numpy(), mse_1.numpy()],\n",
        "    ['model_2', mae_2.numpy(), mse_2.numpy()],\n",
        "    [\"model_3\", mae_3.numpy(), mse_3.numpy()]\n",
        "                ]\n",
        "\n",
        "all_results = pd.DataFrame(model_results, columns=[\"model\", \"mae\", \"mse\"])"
      ],
      "metadata": {
        "id": "mgkSzReiXwVP"
      },
      "execution_count": 50,
      "outputs": []
    },
    {
      "cell_type": "code",
      "source": [
        "all_results"
      ],
      "metadata": {
        "colab": {
          "base_uri": "https://localhost:8080/",
          "height": 143
        },
        "id": "YQu6Q5N1YxFR",
        "outputId": "3492f57e-59cb-4960-dce2-fd723713f236"
      },
      "execution_count": 51,
      "outputs": [
        {
          "output_type": "execute_result",
          "data": {
            "text/plain": [
              "     model       mae        mse\n",
              "0  model_1  1.610072   3.660820\n",
              "1  model_2  4.482393  20.424183\n",
              "2  model_3  0.013024   0.000170"
            ],
            "text/html": [
              "\n",
              "  <div id=\"df-13b4b00b-23fd-4187-96d5-f0be5c820020\">\n",
              "    <div class=\"colab-df-container\">\n",
              "      <div>\n",
              "<style scoped>\n",
              "    .dataframe tbody tr th:only-of-type {\n",
              "        vertical-align: middle;\n",
              "    }\n",
              "\n",
              "    .dataframe tbody tr th {\n",
              "        vertical-align: top;\n",
              "    }\n",
              "\n",
              "    .dataframe thead th {\n",
              "        text-align: right;\n",
              "    }\n",
              "</style>\n",
              "<table border=\"1\" class=\"dataframe\">\n",
              "  <thead>\n",
              "    <tr style=\"text-align: right;\">\n",
              "      <th></th>\n",
              "      <th>model</th>\n",
              "      <th>mae</th>\n",
              "      <th>mse</th>\n",
              "    </tr>\n",
              "  </thead>\n",
              "  <tbody>\n",
              "    <tr>\n",
              "      <th>0</th>\n",
              "      <td>model_1</td>\n",
              "      <td>1.610072</td>\n",
              "      <td>3.660820</td>\n",
              "    </tr>\n",
              "    <tr>\n",
              "      <th>1</th>\n",
              "      <td>model_2</td>\n",
              "      <td>4.482393</td>\n",
              "      <td>20.424183</td>\n",
              "    </tr>\n",
              "    <tr>\n",
              "      <th>2</th>\n",
              "      <td>model_3</td>\n",
              "      <td>0.013024</td>\n",
              "      <td>0.000170</td>\n",
              "    </tr>\n",
              "  </tbody>\n",
              "</table>\n",
              "</div>\n",
              "      <button class=\"colab-df-convert\" onclick=\"convertToInteractive('df-13b4b00b-23fd-4187-96d5-f0be5c820020')\"\n",
              "              title=\"Convert this dataframe to an interactive table.\"\n",
              "              style=\"display:none;\">\n",
              "        \n",
              "  <svg xmlns=\"http://www.w3.org/2000/svg\" height=\"24px\"viewBox=\"0 0 24 24\"\n",
              "       width=\"24px\">\n",
              "    <path d=\"M0 0h24v24H0V0z\" fill=\"none\"/>\n",
              "    <path d=\"M18.56 5.44l.94 2.06.94-2.06 2.06-.94-2.06-.94-.94-2.06-.94 2.06-2.06.94zm-11 1L8.5 8.5l.94-2.06 2.06-.94-2.06-.94L8.5 2.5l-.94 2.06-2.06.94zm10 10l.94 2.06.94-2.06 2.06-.94-2.06-.94-.94-2.06-.94 2.06-2.06.94z\"/><path d=\"M17.41 7.96l-1.37-1.37c-.4-.4-.92-.59-1.43-.59-.52 0-1.04.2-1.43.59L10.3 9.45l-7.72 7.72c-.78.78-.78 2.05 0 2.83L4 21.41c.39.39.9.59 1.41.59.51 0 1.02-.2 1.41-.59l7.78-7.78 2.81-2.81c.8-.78.8-2.07 0-2.86zM5.41 20L4 18.59l7.72-7.72 1.47 1.35L5.41 20z\"/>\n",
              "  </svg>\n",
              "      </button>\n",
              "      \n",
              "  <style>\n",
              "    .colab-df-container {\n",
              "      display:flex;\n",
              "      flex-wrap:wrap;\n",
              "      gap: 12px;\n",
              "    }\n",
              "\n",
              "    .colab-df-convert {\n",
              "      background-color: #E8F0FE;\n",
              "      border: none;\n",
              "      border-radius: 50%;\n",
              "      cursor: pointer;\n",
              "      display: none;\n",
              "      fill: #1967D2;\n",
              "      height: 32px;\n",
              "      padding: 0 0 0 0;\n",
              "      width: 32px;\n",
              "    }\n",
              "\n",
              "    .colab-df-convert:hover {\n",
              "      background-color: #E2EBFA;\n",
              "      box-shadow: 0px 1px 2px rgba(60, 64, 67, 0.3), 0px 1px 3px 1px rgba(60, 64, 67, 0.15);\n",
              "      fill: #174EA6;\n",
              "    }\n",
              "\n",
              "    [theme=dark] .colab-df-convert {\n",
              "      background-color: #3B4455;\n",
              "      fill: #D2E3FC;\n",
              "    }\n",
              "\n",
              "    [theme=dark] .colab-df-convert:hover {\n",
              "      background-color: #434B5C;\n",
              "      box-shadow: 0px 1px 3px 1px rgba(0, 0, 0, 0.15);\n",
              "      filter: drop-shadow(0px 1px 2px rgba(0, 0, 0, 0.3));\n",
              "      fill: #FFFFFF;\n",
              "    }\n",
              "  </style>\n",
              "\n",
              "      <script>\n",
              "        const buttonEl =\n",
              "          document.querySelector('#df-13b4b00b-23fd-4187-96d5-f0be5c820020 button.colab-df-convert');\n",
              "        buttonEl.style.display =\n",
              "          google.colab.kernel.accessAllowed ? 'block' : 'none';\n",
              "\n",
              "        async function convertToInteractive(key) {\n",
              "          const element = document.querySelector('#df-13b4b00b-23fd-4187-96d5-f0be5c820020');\n",
              "          const dataTable =\n",
              "            await google.colab.kernel.invokeFunction('convertToInteractive',\n",
              "                                                     [key], {});\n",
              "          if (!dataTable) return;\n",
              "\n",
              "          const docLinkHtml = 'Like what you see? Visit the ' +\n",
              "            '<a target=\"_blank\" href=https://colab.research.google.com/notebooks/data_table.ipynb>data table notebook</a>'\n",
              "            + ' to learn more about interactive tables.';\n",
              "          element.innerHTML = '';\n",
              "          dataTable['output_type'] = 'display_data';\n",
              "          await google.colab.output.renderOutput(dataTable, element);\n",
              "          const docLink = document.createElement('div');\n",
              "          docLink.innerHTML = docLinkHtml;\n",
              "          element.appendChild(docLink);\n",
              "        }\n",
              "      </script>\n",
              "    </div>\n",
              "  </div>\n",
              "  "
            ]
          },
          "metadata": {},
          "execution_count": 51
        }
      ]
    },
    {
      "cell_type": "code",
      "source": [
        "# model 3 was the best\n",
        "model_3.summary()"
      ],
      "metadata": {
        "colab": {
          "base_uri": "https://localhost:8080/"
        },
        "id": "5AiLt3JYY5v5",
        "outputId": "f98d75f0-69cc-4397-d87a-83dad5c5f6e6"
      },
      "execution_count": 52,
      "outputs": [
        {
          "output_type": "stream",
          "name": "stdout",
          "text": [
            "Model: \"sequential_6\"\n",
            "_________________________________________________________________\n",
            " Layer (type)                Output Shape              Param #   \n",
            "=================================================================\n",
            " dense_8 (Dense)             (None, 100)               200       \n",
            "                                                                 \n",
            " dense_9 (Dense)             (None, 1)                 101       \n",
            "                                                                 \n",
            "=================================================================\n",
            "Total params: 301\n",
            "Trainable params: 301\n",
            "Non-trainable params: 0\n",
            "_________________________________________________________________\n"
          ]
        }
      ]
    },
    {
      "cell_type": "markdown",
      "source": [
        "### tracking your experiment\n",
        "\n",
        "there are tools to help when tracking experiment espcially when doing lots pf experiment\n",
        "\n",
        "* TensorBoard .. a component of the tf lib to track modelling experiment\n",
        "\n",
        "* Weights & Biases .. a tool for tracking all ikinds of experiment and it is good as it plugs straigth into tensorboard\n",
        "\n"
      ],
      "metadata": {
        "id": "BWLaMng9ZKS3"
      }
    },
    {
      "cell_type": "markdown",
      "source": [
        "### saving and loading a model\n",
        "\n",
        "there are 2 main format to save models to\n",
        "1. the savedmodel format\n",
        "2. the hdf5"
      ],
      "metadata": {
        "id": "xISaevLZKEP-"
      }
    },
    {
      "cell_type": "code",
      "source": [
        "# using the SaveModel format\n",
        "model_3.save(\"best_model\")"
      ],
      "metadata": {
        "id": "JlE0PY5aKHs6"
      },
      "execution_count": 53,
      "outputs": []
    },
    {
      "cell_type": "markdown",
      "source": [
        "### loading and reevaluating a saved model"
      ],
      "metadata": {
        "id": "opmSD9nUKzOg"
      }
    },
    {
      "cell_type": "code",
      "source": [
        "# loading\n",
        "loaded_saved = tf.keras.models.load_model(\"/content/best_model\")"
      ],
      "metadata": {
        "id": "TBhRqX3VNqiM"
      },
      "execution_count": 54,
      "outputs": []
    },
    {
      "cell_type": "code",
      "source": [
        "loaded_saved.summary()"
      ],
      "metadata": {
        "colab": {
          "base_uri": "https://localhost:8080/"
        },
        "id": "2oRCUqdlN5q4",
        "outputId": "6c4e5a37-b860-49f8-9079-d0380791e43d"
      },
      "execution_count": 55,
      "outputs": [
        {
          "output_type": "stream",
          "name": "stdout",
          "text": [
            "Model: \"sequential_6\"\n",
            "_________________________________________________________________\n",
            " Layer (type)                Output Shape              Param #   \n",
            "=================================================================\n",
            " dense_8 (Dense)             (None, 100)               200       \n",
            "                                                                 \n",
            " dense_9 (Dense)             (None, 1)                 101       \n",
            "                                                                 \n",
            "=================================================================\n",
            "Total params: 301\n",
            "Trainable params: 301\n",
            "Non-trainable params: 0\n",
            "_________________________________________________________________\n"
          ]
        }
      ]
    },
    {
      "cell_type": "markdown",
      "source": [
        "### Download a model from google colab\n",
        "\n",
        "1. can just download form the file tab\n",
        "2. another was is to use code\n",
        "3. save it to google drive by mounting and copying it there"
      ],
      "metadata": {
        "id": "OnILrGV9Okk7"
      }
    },
    {
      "cell_type": "code",
      "source": [
        "# download from dolab with code\n",
        "from google.colab import files\n",
        "files.download(\"/content/best_model\")"
      ],
      "metadata": {
        "colab": {
          "base_uri": "https://localhost:8080/",
          "height": 34
        },
        "id": "JcMvxviOyS1Y",
        "outputId": "4792906d-efd3-49d8-ef0b-4aef8e239139"
      },
      "execution_count": 56,
      "outputs": [
        {
          "output_type": "display_data",
          "data": {
            "text/plain": [
              "<IPython.core.display.Javascript object>"
            ],
            "application/javascript": [
              "\n",
              "    async function download(id, filename, size) {\n",
              "      if (!google.colab.kernel.accessAllowed) {\n",
              "        return;\n",
              "      }\n",
              "      const div = document.createElement('div');\n",
              "      const label = document.createElement('label');\n",
              "      label.textContent = `Downloading \"${filename}\": `;\n",
              "      div.appendChild(label);\n",
              "      const progress = document.createElement('progress');\n",
              "      progress.max = size;\n",
              "      div.appendChild(progress);\n",
              "      document.body.appendChild(div);\n",
              "\n",
              "      const buffers = [];\n",
              "      let downloaded = 0;\n",
              "\n",
              "      const channel = await google.colab.kernel.comms.open(id);\n",
              "      // Send a message to notify the kernel that we're ready.\n",
              "      channel.send({})\n",
              "\n",
              "      for await (const message of channel.messages) {\n",
              "        // Send a message to notify the kernel that we're ready.\n",
              "        channel.send({})\n",
              "        if (message.buffers) {\n",
              "          for (const buffer of message.buffers) {\n",
              "            buffers.push(buffer);\n",
              "            downloaded += buffer.byteLength;\n",
              "            progress.value = downloaded;\n",
              "          }\n",
              "        }\n",
              "      }\n",
              "      const blob = new Blob(buffers, {type: 'application/binary'});\n",
              "      const a = document.createElement('a');\n",
              "      a.href = window.URL.createObjectURL(blob);\n",
              "      a.download = filename;\n",
              "      div.appendChild(a);\n",
              "      a.click();\n",
              "      div.remove();\n",
              "    }\n",
              "  "
            ]
          },
          "metadata": {}
        },
        {
          "output_type": "display_data",
          "data": {
            "text/plain": [
              "<IPython.core.display.Javascript object>"
            ],
            "application/javascript": [
              "download(\"download_06e08352-2ab1-4d26-ae7d-0ef63f69a724\", \"best_model\", 4096)"
            ]
          },
          "metadata": {}
        }
      ]
    },
    {
      "cell_type": "code",
      "source": [
        "# save from colab to drive\n",
        "# !cp/content/best_model / ?cotent/location in drive"
      ],
      "metadata": {
        "id": "-WT0YeWeyjkD"
      },
      "execution_count": null,
      "outputs": []
    }
  ]
}