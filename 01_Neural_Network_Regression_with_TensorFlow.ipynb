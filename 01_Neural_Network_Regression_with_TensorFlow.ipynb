{
  "nbformat": 4,
  "nbformat_minor": 0,
  "metadata": {
    "colab": {
      "provenance": [],
      "authorship_tag": "ABX9TyOqfkEcy86k3mlUpxvksjfy",
      "include_colab_link": true
    },
    "kernelspec": {
      "name": "python3",
      "display_name": "Python 3"
    },
    "language_info": {
      "name": "python"
    },
    "gpuClass": "premium"
  },
  "cells": [
    {
      "cell_type": "markdown",
      "metadata": {
        "id": "view-in-github",
        "colab_type": "text"
      },
      "source": [
        "<a href=\"https://colab.research.google.com/github/sasumwen/tensorflow-developer-certificate_ZTM/blob/main/01_Neural_Network_Regression_with_TensorFlow.ipynb\" target=\"_parent\"><img src=\"https://colab.research.google.com/assets/colab-badge.svg\" alt=\"Open In Colab\"/></a>"
      ]
    },
    {
      "cell_type": "markdown",
      "source": [
        "# Introduction to regression with NN in TF"
      ],
      "metadata": {
        "id": "yZBMbzlmmDhv"
      }
    },
    {
      "cell_type": "code",
      "source": [
        "import tensorflow as tf"
      ],
      "metadata": {
        "id": "Zx_Ib88tKv9C"
      },
      "execution_count": 1,
      "outputs": []
    },
    {
      "cell_type": "code",
      "source": [
        "tf.__version__"
      ],
      "metadata": {
        "colab": {
          "base_uri": "https://localhost:8080/",
          "height": 36
        },
        "id": "_di9x2rIK2JW",
        "outputId": "5d27a70c-9db7-489c-92a3-0e6194400390"
      },
      "execution_count": 2,
      "outputs": [
        {
          "output_type": "execute_result",
          "data": {
            "text/plain": [
              "'2.9.2'"
            ],
            "application/vnd.google.colaboratory.intrinsic+json": {
              "type": "string"
            }
          },
          "metadata": {},
          "execution_count": 2
        }
      ]
    },
    {
      "cell_type": "markdown",
      "source": [
        "### Create data to view and fit"
      ],
      "metadata": {
        "id": "2HHQzz_AK5mG"
      }
    },
    {
      "cell_type": "code",
      "source": [
        "import numpy as np\n",
        "import pandas as pd\n",
        "import matplotlib.pyplot as plt\n"
      ],
      "metadata": {
        "id": "w0UmksShLFSt"
      },
      "execution_count": 3,
      "outputs": []
    },
    {
      "cell_type": "code",
      "source": [
        "# create features \n",
        "X = np.array([-7.0, -4, -1, 2,5,8,11,14])\n",
        "\n",
        "# createlabels\n",
        "y = np.array([3.0,6,9,12,15,18,21,24])\n",
        "\n",
        "# visualize it\n",
        "plt.scatter(X,y)\n"
      ],
      "metadata": {
        "colab": {
          "base_uri": "https://localhost:8080/",
          "height": 287
        },
        "id": "Eo4DYjFILN5v",
        "outputId": "51f1422d-73f6-4b2e-f38f-7d8cff9cd498"
      },
      "execution_count": 4,
      "outputs": [
        {
          "output_type": "execute_result",
          "data": {
            "text/plain": [
              "<matplotlib.collections.PathCollection at 0x7faea0a27b90>"
            ]
          },
          "metadata": {},
          "execution_count": 4
        },
        {
          "output_type": "display_data",
          "data": {
            "text/plain": [
              "<Figure size 432x288 with 1 Axes>"
            ],
            "image/png": "[encoded data removed]"
          },
          "metadata": {
            "needs_background": "light"
          }
        }
      ]
    },
    {
      "cell_type": "markdown",
      "source": [
        "## input and output shapes\n"
      ],
      "metadata": {
        "id": "6ZjhHb-jLvfg"
      }
    },
    {
      "cell_type": "code",
      "source": [
        "# create a demo tensor for housing price prediction prob\n",
        "house_info = tf.constant([\"bedroom\", \"bathroom\", \"garage\"])\n",
        "house_price = tf.constant([939700])\n",
        "house_info, house_price"
      ],
      "metadata": {
        "colab": {
          "base_uri": "https://localhost:8080/"
        },
        "id": "m0fCJQsqMAnF",
        "outputId": "2f15b9ea-419d-4d2c-8af6-e7a4d1cfa75c"
      },
      "execution_count": 5,
      "outputs": [
        {
          "output_type": "execute_result",
          "data": {
            "text/plain": [
              "(<tf.Tensor: shape=(3,), dtype=string, numpy=array([b'bedroom', b'bathroom', b'garage'], dtype=object)>,\n",
              " <tf.Tensor: shape=(1,), dtype=int32, numpy=array([939700], dtype=int32)>)"
            ]
          },
          "metadata": {},
          "execution_count": 5
        }
      ]
    },
    {
      "cell_type": "code",
      "source": [
        "# turn our np into tf\n",
        "X = tf.constant(X)\n",
        "y = tf.constant(y)\n",
        "X,y"
      ],
      "metadata": {
        "colab": {
          "base_uri": "https://localhost:8080/"
        },
        "id": "rlFycJ6zMWQj",
        "outputId": "d997ec82-8c87-47f4-eb34-00a1cf934eff"
      },
      "execution_count": 6,
      "outputs": [
        {
          "output_type": "execute_result",
          "data": {
            "text/plain": [
              "(<tf.Tensor: shape=(8,), dtype=float64, numpy=array([-7., -4., -1.,  2.,  5.,  8., 11., 14.])>,\n",
              " <tf.Tensor: shape=(8,), dtype=float64, numpy=array([ 3.,  6.,  9., 12., 15., 18., 21., 24.])>)"
            ]
          },
          "metadata": {},
          "execution_count": 6
        }
      ]
    },
    {
      "cell_type": "markdown",
      "source": [
        "## steps in modelling in TensorFlow\n",
        "\n",
        "1. Creating a model - define the input and output layer, as well as the hidden layers of a deep learning model\n",
        "2. COmpiling a model - define the loss function (in other words, the funciton which tells the model how wrong it is) and th eoptimizer ( tells our model how to improve its learning) and the evaluation metrics (what we can use to interprest the performance of our model)\n",
        "3. Fitting a model - letting the model try to find patterns between X and y (features and labels)"
      ],
      "metadata": {
        "id": "QQd6z9bGPrW0"
      }
    },
    {
      "cell_type": "code",
      "source": [
        "#  set random see\n",
        "tf.random.set_seed(84)\n",
        "\n",
        "#1. Create a model using Sequential API\n",
        "model = tf.keras.Sequential([\n",
        "    tf.keras.layers.Dense(1)\n",
        "])\n",
        "\n",
        "# 2, compile the model\n",
        "model.compile(loss=tf.keras.losses.mae, #mae is short for mean absolute error\n",
        "              optimizer = tf.keras.optimizers.SGD(), # sgd is stochastic gradient descent\n",
        "              metrics=[\"mae\"])\n",
        "\n",
        "# 3. fit the model\n",
        "model.fit(tf.expand_dims(X, axis=-1),y,epochs=5)"
      ],
      "metadata": {
        "id": "aWzen9ATtktd",
        "colab": {
          "base_uri": "https://localhost:8080/"
        },
        "outputId": "c4ce5009-5e96-46db-896d-78ba980dc7da"
      },
      "execution_count": 7,
      "outputs": [
        {
          "output_type": "stream",
          "name": "stdout",
          "text": [
            "Epoch 1/5\n",
            "1/1 [==============================] - 1s 1s/step - loss: 11.3754 - mae: 11.3754\n",
            "Epoch 2/5\n",
            "1/1 [==============================] - 0s 12ms/step - loss: 11.2429 - mae: 11.2429\n",
            "Epoch 3/5\n",
            "1/1 [==============================] - 0s 25ms/step - loss: 11.1104 - mae: 11.1104\n",
            "Epoch 4/5\n",
            "1/1 [==============================] - 0s 53ms/step - loss: 10.9779 - mae: 10.9779\n",
            "Epoch 5/5\n",
            "1/1 [==============================] - 0s 26ms/step - loss: 10.8454 - mae: 10.8454\n"
          ]
        },
        {
          "output_type": "execute_result",
          "data": {
            "text/plain": [
              "<keras.callbacks.History at 0x7fae9c29c710>"
            ]
          },
          "metadata": {},
          "execution_count": 7
        }
      ]
    },
    {
      "cell_type": "code",
      "source": [
        "# check out X and y\n",
        "X, y"
      ],
      "metadata": {
        "colab": {
          "base_uri": "https://localhost:8080/"
        },
        "id": "BToP9ZWELHMg",
        "outputId": "f87c56be-c160-40a2-9ecf-52cf789ed1b1"
      },
      "execution_count": 8,
      "outputs": [
        {
          "output_type": "execute_result",
          "data": {
            "text/plain": [
              "(<tf.Tensor: shape=(8,), dtype=float64, numpy=array([-7., -4., -1.,  2.,  5.,  8., 11., 14.])>,\n",
              " <tf.Tensor: shape=(8,), dtype=float64, numpy=array([ 3.,  6.,  9., 12., 15., 18., 21., 24.])>)"
            ]
          },
          "metadata": {},
          "execution_count": 8
        }
      ]
    },
    {
      "cell_type": "code",
      "source": [
        "# try to make pres using the model\n",
        "model.predict([17])"
      ],
      "metadata": {
        "colab": {
          "base_uri": "https://localhost:8080/"
        },
        "id": "SjksUw7rMNrm",
        "outputId": "fbfc95a0-9dc5-4b29-b2f6-d49172b7c3d5"
      },
      "execution_count": 9,
      "outputs": [
        {
          "output_type": "stream",
          "name": "stdout",
          "text": [
            "1/1 [==============================] - 0s 210ms/step\n"
          ]
        },
        {
          "output_type": "execute_result",
          "data": {
            "text/plain": [
              "array([[13.344376]], dtype=float32)"
            ]
          },
          "metadata": {},
          "execution_count": 9
        }
      ]
    },
    {
      "cell_type": "markdown",
      "source": [
        "## Improving our model\n",
        "\n",
        "We can improve our model, by altering the steps we took to create a model\n",
        "\n",
        "1. **Creating a Mocel** - here we might add more hiden layers, increate the number of hiden units( all called neurons) within each of the hiden layers, chage the activation function of each layer\n",
        "\n",
        "2. **Compiling a model** - here we might change the optimixzation function or perhaps the learning rate of the opt function\n",
        "\n",
        "3. **fitting a model** - here fit a model fo more epochs( leave it trian long) or give it more features tol learn from"
      ],
      "metadata": {
        "id": "V0zIFOycMTMc"
      }
    },
    {
      "cell_type": "code",
      "source": [
        "# lets rebuild the model\n",
        "# 1 create the model\n",
        "model= tf.keras.Sequential([\n",
        "    tf.keras.layers.Dense(1)\n",
        "])\n",
        "\n",
        "# 2 compile\n",
        "model.compile(\n",
        "    loss = tf.keras.losses.mae,\n",
        "    optimizer = tf.keras.optimizers.SGD(),\n",
        "    metrics=[\"mae\"]\n",
        ")\n",
        "\n",
        "# 3 fit\n",
        "\n",
        "model.fit(tf.expand_dims(X, axis=-1,), y, epochs=100)"
      ],
      "metadata": {
        "colab": {
          "base_uri": "https://localhost:8080/"
        },
        "id": "owfNkpjiMkHy",
        "outputId": "e538c8ff-2801-47a1-d970-a81585200d3f"
      },
      "execution_count": 10,
      "outputs": [
        {
          "output_type": "stream",
          "name": "stdout",
          "text": [
            "Epoch 1/100\n",
            "1/1 [==============================] - 1s 640ms/step - loss: 16.8805 - mae: 16.8805\n",
            "Epoch 2/100\n",
            "1/1 [==============================] - 0s 12ms/step - loss: 16.5993 - mae: 16.5993\n",
            "Epoch 3/100\n",
            "1/1 [==============================] - 0s 12ms/step - loss: 16.3180 - mae: 16.3180\n",
            "Epoch 4/100\n",
            "1/1 [==============================] - 0s 12ms/step - loss: 16.0368 - mae: 16.0368\n",
            "Epoch 5/100\n",
            "1/1 [==============================] - 0s 10ms/step - loss: 15.7555 - mae: 15.7555\n",
            "Epoch 6/100\n",
            "1/1 [==============================] - 0s 11ms/step - loss: 15.4743 - mae: 15.4743\n",
            "Epoch 7/100\n",
            "1/1 [==============================] - 0s 11ms/step - loss: 15.1930 - mae: 15.1930\n",
            "Epoch 8/100\n",
            "1/1 [==============================] - 0s 11ms/step - loss: 14.9149 - mae: 14.9149\n",
            "Epoch 9/100\n",
            "1/1 [==============================] - 0s 14ms/step - loss: 14.7824 - mae: 14.7824\n",
            "Epoch 10/100\n",
            "1/1 [==============================] - 0s 17ms/step - loss: 14.6499 - mae: 14.6499\n",
            "Epoch 11/100\n",
            "1/1 [==============================] - 0s 12ms/step - loss: 14.5174 - mae: 14.5174\n",
            "Epoch 12/100\n",
            "1/1 [==============================] - 0s 33ms/step - loss: 14.3849 - mae: 14.3849\n",
            "Epoch 13/100\n",
            "1/1 [==============================] - 0s 19ms/step - loss: 14.2524 - mae: 14.2524\n",
            "Epoch 14/100\n",
            "1/1 [==============================] - 0s 13ms/step - loss: 14.1199 - mae: 14.1199\n",
            "Epoch 15/100\n",
            "1/1 [==============================] - 0s 8ms/step - loss: 13.9874 - mae: 13.9874\n",
            "Epoch 16/100\n",
            "1/1 [==============================] - 0s 22ms/step - loss: 13.8549 - mae: 13.8549\n",
            "Epoch 17/100\n",
            "1/1 [==============================] - 0s 8ms/step - loss: 13.7224 - mae: 13.7224\n",
            "Epoch 18/100\n",
            "1/1 [==============================] - 0s 11ms/step - loss: 13.5899 - mae: 13.5899\n",
            "Epoch 19/100\n",
            "1/1 [==============================] - 0s 16ms/step - loss: 13.4574 - mae: 13.4574\n",
            "Epoch 20/100\n",
            "1/1 [==============================] - 0s 13ms/step - loss: 13.3249 - mae: 13.3249\n",
            "Epoch 21/100\n",
            "1/1 [==============================] - 0s 25ms/step - loss: 13.1924 - mae: 13.1924\n",
            "Epoch 22/100\n",
            "1/1 [==============================] - 0s 18ms/step - loss: 13.0599 - mae: 13.0599\n",
            "Epoch 23/100\n",
            "1/1 [==============================] - 0s 16ms/step - loss: 12.9274 - mae: 12.9274\n",
            "Epoch 24/100\n",
            "1/1 [==============================] - 0s 22ms/step - loss: 12.7949 - mae: 12.7949\n",
            "Epoch 25/100\n",
            "1/1 [==============================] - 0s 31ms/step - loss: 12.6624 - mae: 12.6624\n",
            "Epoch 26/100\n",
            "1/1 [==============================] - 0s 17ms/step - loss: 12.5299 - mae: 12.5299\n",
            "Epoch 27/100\n",
            "1/1 [==============================] - 0s 20ms/step - loss: 12.3974 - mae: 12.3974\n",
            "Epoch 28/100\n",
            "1/1 [==============================] - 0s 12ms/step - loss: 12.2649 - mae: 12.2649\n",
            "Epoch 29/100\n",
            "1/1 [==============================] - 0s 28ms/step - loss: 12.1324 - mae: 12.1324\n",
            "Epoch 30/100\n",
            "1/1 [==============================] - 0s 19ms/step - loss: 11.9999 - mae: 11.9999\n",
            "Epoch 31/100\n",
            "1/1 [==============================] - 0s 16ms/step - loss: 11.8674 - mae: 11.8674\n",
            "Epoch 32/100\n",
            "1/1 [==============================] - 0s 16ms/step - loss: 11.7349 - mae: 11.7349\n",
            "Epoch 33/100\n",
            "1/1 [==============================] - 0s 13ms/step - loss: 11.6024 - mae: 11.6024\n",
            "Epoch 34/100\n",
            "1/1 [==============================] - 0s 15ms/step - loss: 11.4699 - mae: 11.4699\n",
            "Epoch 35/100\n",
            "1/1 [==============================] - 0s 13ms/step - loss: 11.3374 - mae: 11.3374\n",
            "Epoch 36/100\n",
            "1/1 [==============================] - 0s 8ms/step - loss: 11.2049 - mae: 11.2049\n",
            "Epoch 37/100\n",
            "1/1 [==============================] - 0s 30ms/step - loss: 11.0724 - mae: 11.0724\n",
            "Epoch 38/100\n",
            "1/1 [==============================] - 0s 32ms/step - loss: 10.9399 - mae: 10.9399\n",
            "Epoch 39/100\n",
            "1/1 [==============================] - 0s 20ms/step - loss: 10.8074 - mae: 10.8074\n",
            "Epoch 40/100\n",
            "1/1 [==============================] - 0s 8ms/step - loss: 10.6749 - mae: 10.6749\n",
            "Epoch 41/100\n",
            "1/1 [==============================] - 0s 30ms/step - loss: 10.5424 - mae: 10.5424\n",
            "Epoch 42/100\n",
            "1/1 [==============================] - 0s 20ms/step - loss: 10.4099 - mae: 10.4099\n",
            "Epoch 43/100\n",
            "1/1 [==============================] - 0s 16ms/step - loss: 10.2774 - mae: 10.2774\n",
            "Epoch 44/100\n",
            "1/1 [==============================] - 0s 11ms/step - loss: 10.1449 - mae: 10.1449\n",
            "Epoch 45/100\n",
            "1/1 [==============================] - 0s 28ms/step - loss: 10.0124 - mae: 10.0124\n",
            "Epoch 46/100\n",
            "1/1 [==============================] - 0s 28ms/step - loss: 9.8799 - mae: 9.8799\n",
            "Epoch 47/100\n",
            "1/1 [==============================] - 0s 22ms/step - loss: 9.7474 - mae: 9.7474\n",
            "Epoch 48/100\n",
            "1/1 [==============================] - 0s 25ms/step - loss: 9.6149 - mae: 9.6149\n",
            "Epoch 49/100\n",
            "1/1 [==============================] - 0s 14ms/step - loss: 9.4824 - mae: 9.4824\n",
            "Epoch 50/100\n",
            "1/1 [==============================] - 0s 33ms/step - loss: 9.3499 - mae: 9.3499\n",
            "Epoch 51/100\n",
            "1/1 [==============================] - 0s 15ms/step - loss: 9.2174 - mae: 9.2174\n",
            "Epoch 52/100\n",
            "1/1 [==============================] - 0s 28ms/step - loss: 9.0849 - mae: 9.0849\n",
            "Epoch 53/100\n",
            "1/1 [==============================] - 0s 18ms/step - loss: 8.9524 - mae: 8.9524\n",
            "Epoch 54/100\n",
            "1/1 [==============================] - 0s 33ms/step - loss: 8.8199 - mae: 8.8199\n",
            "Epoch 55/100\n",
            "1/1 [==============================] - 0s 36ms/step - loss: 8.6874 - mae: 8.6874\n",
            "Epoch 56/100\n",
            "1/1 [==============================] - 0s 21ms/step - loss: 8.5549 - mae: 8.5549\n",
            "Epoch 57/100\n",
            "1/1 [==============================] - 0s 26ms/step - loss: 8.4224 - mae: 8.4224\n",
            "Epoch 58/100\n",
            "1/1 [==============================] - 0s 15ms/step - loss: 8.2899 - mae: 8.2899\n",
            "Epoch 59/100\n",
            "1/1 [==============================] - 0s 12ms/step - loss: 8.1574 - mae: 8.1574\n",
            "Epoch 60/100\n",
            "1/1 [==============================] - 0s 9ms/step - loss: 8.0249 - mae: 8.0249\n",
            "Epoch 61/100\n",
            "1/1 [==============================] - 0s 20ms/step - loss: 7.8924 - mae: 7.8924\n",
            "Epoch 62/100\n",
            "1/1 [==============================] - 0s 29ms/step - loss: 7.7599 - mae: 7.7599\n",
            "Epoch 63/100\n",
            "1/1 [==============================] - 0s 10ms/step - loss: 7.6274 - mae: 7.6274\n",
            "Epoch 64/100\n",
            "1/1 [==============================] - 0s 33ms/step - loss: 7.4949 - mae: 7.4949\n",
            "Epoch 65/100\n",
            "1/1 [==============================] - 0s 28ms/step - loss: 7.3624 - mae: 7.3624\n",
            "Epoch 66/100\n",
            "1/1 [==============================] - 0s 24ms/step - loss: 7.2299 - mae: 7.2299\n",
            "Epoch 67/100\n",
            "1/1 [==============================] - 0s 22ms/step - loss: 7.0974 - mae: 7.0974\n",
            "Epoch 68/100\n",
            "1/1 [==============================] - 0s 31ms/step - loss: 7.0106 - mae: 7.0106\n",
            "Epoch 69/100\n",
            "1/1 [==============================] - 0s 37ms/step - loss: 7.0050 - mae: 7.0050\n",
            "Epoch 70/100\n",
            "1/1 [==============================] - 0s 21ms/step - loss: 6.9994 - mae: 6.9994\n",
            "Epoch 71/100\n",
            "1/1 [==============================] - 0s 21ms/step - loss: 6.9938 - mae: 6.9938\n",
            "Epoch 72/100\n",
            "1/1 [==============================] - 0s 22ms/step - loss: 6.9881 - mae: 6.9881\n",
            "Epoch 73/100\n",
            "1/1 [==============================] - 0s 22ms/step - loss: 6.9825 - mae: 6.9825\n",
            "Epoch 74/100\n",
            "1/1 [==============================] - 0s 22ms/step - loss: 6.9769 - mae: 6.9769\n",
            "Epoch 75/100\n",
            "1/1 [==============================] - 0s 10ms/step - loss: 6.9713 - mae: 6.9713\n",
            "Epoch 76/100\n",
            "1/1 [==============================] - 0s 14ms/step - loss: 6.9656 - mae: 6.9656\n",
            "Epoch 77/100\n",
            "1/1 [==============================] - 0s 13ms/step - loss: 6.9600 - mae: 6.9600\n",
            "Epoch 78/100\n",
            "1/1 [==============================] - 0s 16ms/step - loss: 6.9544 - mae: 6.9544\n",
            "Epoch 79/100\n",
            "1/1 [==============================] - 0s 16ms/step - loss: 6.9488 - mae: 6.9488\n",
            "Epoch 80/100\n",
            "1/1 [==============================] - 0s 9ms/step - loss: 6.9431 - mae: 6.9431\n",
            "Epoch 81/100\n",
            "1/1 [==============================] - 0s 11ms/step - loss: 6.9375 - mae: 6.9375\n",
            "Epoch 82/100\n",
            "1/1 [==============================] - 0s 15ms/step - loss: 6.9319 - mae: 6.9319\n",
            "Epoch 83/100\n",
            "1/1 [==============================] - 0s 13ms/step - loss: 6.9263 - mae: 6.9263\n",
            "Epoch 84/100\n",
            "1/1 [==============================] - 0s 13ms/step - loss: 6.9206 - mae: 6.9206\n",
            "Epoch 85/100\n",
            "1/1 [==============================] - 0s 7ms/step - loss: 6.9150 - mae: 6.9150\n",
            "Epoch 86/100\n",
            "1/1 [==============================] - 0s 15ms/step - loss: 6.9094 - mae: 6.9094\n",
            "Epoch 87/100\n",
            "1/1 [==============================] - 0s 11ms/step - loss: 6.9038 - mae: 6.9038\n",
            "Epoch 88/100\n",
            "1/1 [==============================] - 0s 15ms/step - loss: 6.8981 - mae: 6.8981\n",
            "Epoch 89/100\n",
            "1/1 [==============================] - 0s 20ms/step - loss: 6.8925 - mae: 6.8925\n",
            "Epoch 90/100\n",
            "1/1 [==============================] - 0s 15ms/step - loss: 6.8869 - mae: 6.8869\n",
            "Epoch 91/100\n",
            "1/1 [==============================] - 0s 12ms/step - loss: 6.8813 - mae: 6.8813\n",
            "Epoch 92/100\n",
            "1/1 [==============================] - 0s 13ms/step - loss: 6.8756 - mae: 6.8756\n",
            "Epoch 93/100\n",
            "1/1 [==============================] - 0s 21ms/step - loss: 6.8700 - mae: 6.8700\n",
            "Epoch 94/100\n",
            "1/1 [==============================] - 0s 15ms/step - loss: 6.8644 - mae: 6.8644\n",
            "Epoch 95/100\n",
            "1/1 [==============================] - 0s 12ms/step - loss: 6.8588 - mae: 6.8588\n",
            "Epoch 96/100\n",
            "1/1 [==============================] - 0s 8ms/step - loss: 6.8531 - mae: 6.8531\n",
            "Epoch 97/100\n",
            "1/1 [==============================] - 0s 15ms/step - loss: 6.8475 - mae: 6.8475\n",
            "Epoch 98/100\n",
            "1/1 [==============================] - 0s 14ms/step - loss: 6.8419 - mae: 6.8419\n",
            "Epoch 99/100\n",
            "1/1 [==============================] - 0s 8ms/step - loss: 6.8363 - mae: 6.8363\n",
            "Epoch 100/100\n",
            "1/1 [==============================] - 0s 12ms/step - loss: 6.8306 - mae: 6.8306\n"
          ]
        },
        {
          "output_type": "execute_result",
          "data": {
            "text/plain": [
              "<keras.callbacks.History at 0x7fae9c164690>"
            ]
          },
          "metadata": {},
          "execution_count": 10
        }
      ]
    },
    {
      "cell_type": "code",
      "source": [
        "# recall the data\n",
        "X, y"
      ],
      "metadata": {
        "colab": {
          "base_uri": "https://localhost:8080/"
        },
        "id": "QACAsuGQYFPf",
        "outputId": "8b50fbb2-5dc7-4aa1-ab94-2588857bd56b"
      },
      "execution_count": 11,
      "outputs": [
        {
          "output_type": "execute_result",
          "data": {
            "text/plain": [
              "(<tf.Tensor: shape=(8,), dtype=float64, numpy=array([-7., -4., -1.,  2.,  5.,  8., 11., 14.])>,\n",
              " <tf.Tensor: shape=(8,), dtype=float64, numpy=array([ 3.,  6.,  9., 12., 15., 18., 21., 24.])>)"
            ]
          },
          "metadata": {},
          "execution_count": 11
        }
      ]
    },
    {
      "cell_type": "code",
      "source": [
        "# see if the prediction has imporved\n",
        "model.predict([17])"
      ],
      "metadata": {
        "colab": {
          "base_uri": "https://localhost:8080/"
        },
        "id": "u1nprVmGYNdl",
        "outputId": "ada49d31-2bc6-4f2c-fbbb-7ae4ffd61f99"
      },
      "execution_count": 12,
      "outputs": [
        {
          "output_type": "stream",
          "name": "stdout",
          "text": [
            "1/1 [==============================] - 0s 325ms/step\n"
          ]
        },
        {
          "output_type": "execute_result",
          "data": {
            "text/plain": [
              "array([[29.472445]], dtype=float32)"
            ]
          },
          "metadata": {},
          "execution_count": 12
        }
      ]
    },
    {
      "cell_type": "code",
      "source": [
        "# let try again\n",
        "\n",
        "model = tf.keras.Sequential([\n",
        "    tf.keras.layers.Dense(100, activation = \"relu\"),\n",
        "   \n",
        "    \n",
        "    tf.keras.layers.Dense(1)\n",
        "])\n",
        "\n",
        "model.compile(\n",
        "    loss = tf.keras.losses.mae,\n",
        "    optimizer = tf.keras.optimizers.SGD(),\n",
        "    metrics = [\"mae\"]\n",
        ")\n",
        "\n",
        "model.fit(tf.expand_dims(X, axis=-1), y, epochs = 100)"
      ],
      "metadata": {
        "colab": {
          "base_uri": "https://localhost:8080/"
        },
        "id": "dkK0qinIYUT5",
        "outputId": "3fc84958-eac4-494e-a339-1df7edcd9e14"
      },
      "execution_count": 13,
      "outputs": [
        {
          "output_type": "stream",
          "name": "stdout",
          "text": [
            "Epoch 1/100\n",
            "1/1 [==============================] - 1s 1s/step - loss: 14.3905 - mae: 14.3905\n",
            "Epoch 2/100\n",
            "1/1 [==============================] - 0s 22ms/step - loss: 13.7663 - mae: 13.7663\n",
            "Epoch 3/100\n",
            "1/1 [==============================] - 0s 19ms/step - loss: 13.1458 - mae: 13.1458\n",
            "Epoch 4/100\n",
            "1/1 [==============================] - 0s 17ms/step - loss: 12.5231 - mae: 12.5231\n",
            "Epoch 5/100\n",
            "1/1 [==============================] - 0s 17ms/step - loss: 11.8935 - mae: 11.8935\n",
            "Epoch 6/100\n",
            "1/1 [==============================] - 0s 22ms/step - loss: 11.2493 - mae: 11.2493\n",
            "Epoch 7/100\n",
            "1/1 [==============================] - 0s 13ms/step - loss: 10.5914 - mae: 10.5914\n",
            "Epoch 8/100\n",
            "1/1 [==============================] - 0s 15ms/step - loss: 9.9217 - mae: 9.9217\n",
            "Epoch 9/100\n",
            "1/1 [==============================] - 0s 8ms/step - loss: 9.2212 - mae: 9.2212\n",
            "Epoch 10/100\n",
            "1/1 [==============================] - 0s 24ms/step - loss: 8.4940 - mae: 8.4940\n",
            "Epoch 11/100\n",
            "1/1 [==============================] - 0s 17ms/step - loss: 7.7228 - mae: 7.7228\n",
            "Epoch 12/100\n",
            "1/1 [==============================] - 0s 13ms/step - loss: 6.9058 - mae: 6.9058\n",
            "Epoch 13/100\n",
            "1/1 [==============================] - 0s 17ms/step - loss: 6.0320 - mae: 6.0320\n",
            "Epoch 14/100\n",
            "1/1 [==============================] - 0s 13ms/step - loss: 5.0910 - mae: 5.0910\n",
            "Epoch 15/100\n",
            "1/1 [==============================] - 0s 20ms/step - loss: 4.4204 - mae: 4.4204\n",
            "Epoch 16/100\n",
            "1/1 [==============================] - 0s 14ms/step - loss: 4.2843 - mae: 4.2843\n",
            "Epoch 17/100\n",
            "1/1 [==============================] - 0s 14ms/step - loss: 4.2490 - mae: 4.2490\n",
            "Epoch 18/100\n",
            "1/1 [==============================] - 0s 16ms/step - loss: 4.1878 - mae: 4.1878\n",
            "Epoch 19/100\n",
            "1/1 [==============================] - 0s 12ms/step - loss: 4.1864 - mae: 4.1864\n",
            "Epoch 20/100\n",
            "1/1 [==============================] - 0s 10ms/step - loss: 4.0902 - mae: 4.0902\n",
            "Epoch 21/100\n",
            "1/1 [==============================] - 0s 10ms/step - loss: 4.1232 - mae: 4.1232\n",
            "Epoch 22/100\n",
            "1/1 [==============================] - 0s 17ms/step - loss: 4.0187 - mae: 4.0187\n",
            "Epoch 23/100\n",
            "1/1 [==============================] - 0s 17ms/step - loss: 4.0325 - mae: 4.0325\n",
            "Epoch 24/100\n",
            "1/1 [==============================] - 0s 29ms/step - loss: 3.9541 - mae: 3.9541\n",
            "Epoch 25/100\n",
            "1/1 [==============================] - 0s 12ms/step - loss: 3.9326 - mae: 3.9326\n",
            "Epoch 26/100\n",
            "1/1 [==============================] - 0s 16ms/step - loss: 3.8979 - mae: 3.8979\n",
            "Epoch 27/100\n",
            "1/1 [==============================] - 0s 13ms/step - loss: 3.8788 - mae: 3.8788\n",
            "Epoch 28/100\n",
            "1/1 [==============================] - 0s 18ms/step - loss: 3.9071 - mae: 3.9071\n",
            "Epoch 29/100\n",
            "1/1 [==============================] - 0s 9ms/step - loss: 3.8584 - mae: 3.8584\n",
            "Epoch 30/100\n",
            "1/1 [==============================] - 0s 18ms/step - loss: 3.9199 - mae: 3.9199\n",
            "Epoch 31/100\n",
            "1/1 [==============================] - 0s 13ms/step - loss: 3.8510 - mae: 3.8510\n",
            "Epoch 32/100\n",
            "1/1 [==============================] - 0s 17ms/step - loss: 3.9087 - mae: 3.9087\n",
            "Epoch 33/100\n",
            "1/1 [==============================] - 0s 17ms/step - loss: 3.8590 - mae: 3.8590\n",
            "Epoch 34/100\n",
            "1/1 [==============================] - 0s 13ms/step - loss: 3.8831 - mae: 3.8831\n",
            "Epoch 35/100\n",
            "1/1 [==============================] - 0s 13ms/step - loss: 3.8671 - mae: 3.8671\n",
            "Epoch 36/100\n",
            "1/1 [==============================] - 0s 15ms/step - loss: 3.8572 - mae: 3.8572\n",
            "Epoch 37/100\n",
            "1/1 [==============================] - 0s 16ms/step - loss: 3.8784 - mae: 3.8784\n",
            "Epoch 38/100\n",
            "1/1 [==============================] - 0s 18ms/step - loss: 3.8365 - mae: 3.8365\n",
            "Epoch 39/100\n",
            "1/1 [==============================] - 0s 11ms/step - loss: 3.8896 - mae: 3.8896\n",
            "Epoch 40/100\n",
            "1/1 [==============================] - 0s 24ms/step - loss: 3.8211 - mae: 3.8211\n",
            "Epoch 41/100\n",
            "1/1 [==============================] - 0s 9ms/step - loss: 3.8861 - mae: 3.8861\n",
            "Epoch 42/100\n",
            "1/1 [==============================] - 0s 19ms/step - loss: 3.8294 - mae: 3.8294\n",
            "Epoch 43/100\n",
            "1/1 [==============================] - 0s 20ms/step - loss: 3.8600 - mae: 3.8600\n",
            "Epoch 44/100\n",
            "1/1 [==============================] - 0s 20ms/step - loss: 3.8378 - mae: 3.8378\n",
            "Epoch 45/100\n",
            "1/1 [==============================] - 0s 14ms/step - loss: 3.8339 - mae: 3.8339\n",
            "Epoch 46/100\n",
            "1/1 [==============================] - 0s 11ms/step - loss: 3.8511 - mae: 3.8511\n",
            "Epoch 47/100\n",
            "1/1 [==============================] - 0s 15ms/step - loss: 3.8129 - mae: 3.8129\n",
            "Epoch 48/100\n",
            "1/1 [==============================] - 0s 16ms/step - loss: 3.8606 - mae: 3.8606\n",
            "Epoch 49/100\n",
            "1/1 [==============================] - 0s 17ms/step - loss: 3.7925 - mae: 3.7925\n",
            "Epoch 50/100\n",
            "1/1 [==============================] - 0s 24ms/step - loss: 3.8621 - mae: 3.8621\n",
            "Epoch 51/100\n",
            "1/1 [==============================] - 0s 26ms/step - loss: 3.8010 - mae: 3.8010\n",
            "Epoch 52/100\n",
            "1/1 [==============================] - 0s 17ms/step - loss: 3.8358 - mae: 3.8358\n",
            "Epoch 53/100\n",
            "1/1 [==============================] - 0s 13ms/step - loss: 3.8096 - mae: 3.8096\n",
            "Epoch 54/100\n",
            "1/1 [==============================] - 0s 22ms/step - loss: 3.8107 - mae: 3.8107\n",
            "Epoch 55/100\n",
            "1/1 [==============================] - 0s 18ms/step - loss: 3.8241 - mae: 3.8241\n",
            "Epoch 56/100\n",
            "1/1 [==============================] - 0s 18ms/step - loss: 3.7880 - mae: 3.7880\n",
            "Epoch 57/100\n",
            "1/1 [==============================] - 0s 23ms/step - loss: 3.8328 - mae: 3.8328\n",
            "Epoch 58/100\n",
            "1/1 [==============================] - 0s 14ms/step - loss: 3.7650 - mae: 3.7650\n",
            "Epoch 59/100\n",
            "1/1 [==============================] - 0s 20ms/step - loss: 3.8368 - mae: 3.8368\n",
            "Epoch 60/100\n",
            "1/1 [==============================] - 0s 16ms/step - loss: 3.7737 - mae: 3.7737\n",
            "Epoch 61/100\n",
            "1/1 [==============================] - 0s 14ms/step - loss: 3.8102 - mae: 3.8102\n",
            "Epoch 62/100\n",
            "1/1 [==============================] - 0s 17ms/step - loss: 3.7824 - mae: 3.7824\n",
            "Epoch 63/100\n",
            "1/1 [==============================] - 0s 19ms/step - loss: 3.7864 - mae: 3.7864\n",
            "Epoch 64/100\n",
            "1/1 [==============================] - 0s 17ms/step - loss: 3.7971 - mae: 3.7971\n",
            "Epoch 65/100\n",
            "1/1 [==============================] - 0s 30ms/step - loss: 3.7618 - mae: 3.7618\n",
            "Epoch 66/100\n",
            "1/1 [==============================] - 0s 17ms/step - loss: 3.8060 - mae: 3.8060\n",
            "Epoch 67/100\n",
            "1/1 [==============================] - 0s 43ms/step - loss: 3.7385 - mae: 3.7385\n",
            "Epoch 68/100\n",
            "1/1 [==============================] - 0s 23ms/step - loss: 3.8102 - mae: 3.8102\n",
            "Epoch 69/100\n",
            "1/1 [==============================] - 0s 33ms/step - loss: 3.7474 - mae: 3.7474\n",
            "Epoch 70/100\n",
            "1/1 [==============================] - 0s 32ms/step - loss: 3.7833 - mae: 3.7833\n",
            "Epoch 71/100\n",
            "1/1 [==============================] - 0s 18ms/step - loss: 3.7564 - mae: 3.7564\n",
            "Epoch 72/100\n",
            "1/1 [==============================] - 0s 17ms/step - loss: 3.7606 - mae: 3.7606\n",
            "Epoch 73/100\n",
            "1/1 [==============================] - 0s 29ms/step - loss: 3.7713 - mae: 3.7713\n",
            "Epoch 74/100\n",
            "1/1 [==============================] - 0s 23ms/step - loss: 3.7342 - mae: 3.7342\n",
            "Epoch 75/100\n",
            "1/1 [==============================] - 0s 16ms/step - loss: 3.7804 - mae: 3.7804\n",
            "Epoch 76/100\n",
            "1/1 [==============================] - 0s 29ms/step - loss: 3.7132 - mae: 3.7132\n",
            "Epoch 77/100\n",
            "1/1 [==============================] - 0s 27ms/step - loss: 3.7822 - mae: 3.7822\n",
            "Epoch 78/100\n",
            "1/1 [==============================] - 0s 23ms/step - loss: 3.7222 - mae: 3.7222\n",
            "Epoch 79/100\n",
            "1/1 [==============================] - 0s 24ms/step - loss: 3.7549 - mae: 3.7549\n",
            "Epoch 80/100\n",
            "1/1 [==============================] - 0s 16ms/step - loss: 3.7315 - mae: 3.7315\n",
            "Epoch 81/100\n",
            "1/1 [==============================] - 0s 21ms/step - loss: 3.7328 - mae: 3.7328\n",
            "Epoch 82/100\n",
            "1/1 [==============================] - 0s 31ms/step - loss: 3.7464 - mae: 3.7464\n",
            "Epoch 83/100\n",
            "1/1 [==============================] - 0s 19ms/step - loss: 3.7053 - mae: 3.7053\n",
            "Epoch 84/100\n",
            "1/1 [==============================] - 0s 18ms/step - loss: 3.7557 - mae: 3.7557\n",
            "Epoch 85/100\n",
            "1/1 [==============================] - 0s 29ms/step - loss: 3.6887 - mae: 3.6887\n",
            "Epoch 86/100\n",
            "1/1 [==============================] - 0s 16ms/step - loss: 3.7530 - mae: 3.7530\n",
            "Epoch 87/100\n",
            "1/1 [==============================] - 0s 26ms/step - loss: 3.6979 - mae: 3.6979\n",
            "Epoch 88/100\n",
            "1/1 [==============================] - 0s 13ms/step - loss: 3.7254 - mae: 3.7254\n",
            "Epoch 89/100\n",
            "1/1 [==============================] - 0s 9ms/step - loss: 3.7087 - mae: 3.7087\n",
            "Epoch 90/100\n",
            "1/1 [==============================] - 0s 36ms/step - loss: 3.7029 - mae: 3.7029\n",
            "Epoch 91/100\n",
            "1/1 [==============================] - 0s 15ms/step - loss: 3.7225 - mae: 3.7225\n",
            "Epoch 92/100\n",
            "1/1 [==============================] - 0s 23ms/step - loss: 3.6750 - mae: 3.6750\n",
            "Epoch 93/100\n",
            "1/1 [==============================] - 0s 21ms/step - loss: 3.7320 - mae: 3.7320\n",
            "Epoch 94/100\n",
            "1/1 [==============================] - 0s 18ms/step - loss: 3.6652 - mae: 3.6652\n",
            "Epoch 95/100\n",
            "1/1 [==============================] - 0s 16ms/step - loss: 3.7225 - mae: 3.7225\n",
            "Epoch 96/100\n",
            "1/1 [==============================] - 0s 18ms/step - loss: 3.6746 - mae: 3.6746\n",
            "Epoch 97/100\n",
            "1/1 [==============================] - 0s 16ms/step - loss: 3.6945 - mae: 3.6945\n",
            "Epoch 98/100\n",
            "1/1 [==============================] - 0s 9ms/step - loss: 3.6867 - mae: 3.6867\n",
            "Epoch 99/100\n",
            "1/1 [==============================] - 0s 9ms/step - loss: 3.6716 - mae: 3.6716\n",
            "Epoch 100/100\n",
            "1/1 [==============================] - 0s 10ms/step - loss: 3.6997 - mae: 3.6997\n"
          ]
        },
        {
          "output_type": "execute_result",
          "data": {
            "text/plain": [
              "<keras.callbacks.History at 0x7fae9c0ade10>"
            ]
          },
          "metadata": {},
          "execution_count": 13
        }
      ]
    },
    {
      "cell_type": "code",
      "source": [
        "model.predict([17])"
      ],
      "metadata": {
        "colab": {
          "base_uri": "https://localhost:8080/"
        },
        "id": "uBCJI8gEZxAQ",
        "outputId": "2a0632cd-4494-4e1b-9727-bd457721f282"
      },
      "execution_count": 14,
      "outputs": [
        {
          "output_type": "stream",
          "name": "stdout",
          "text": [
            "1/1 [==============================] - 0s 88ms/step\n"
          ]
        },
        {
          "output_type": "execute_result",
          "data": {
            "text/plain": [
              "array([[31.810333]], dtype=float32)"
            ]
          },
          "metadata": {},
          "execution_count": 14
        }
      ]
    },
    {
      "cell_type": "markdown",
      "source": [
        "## Evaluating a model"
      ],
      "metadata": {
        "id": "FBdqaperbmCZ"
      }
    },
    {
      "cell_type": "markdown",
      "source": [
        "3 words to momeorized when evluuating, visualize visualize visualize\n",
        "* the data - what does te data look like'\n",
        "* the model -\n",
        "* the training - how does it perform while it let\n",
        "* the predictions of te model- how it lines up agains the grand truth"
      ],
      "metadata": {
        "id": "frD4mxQNXQ02"
      }
    },
    {
      "cell_type": "code",
      "source": [
        "# MAke a bigger dataset\n",
        "\n",
        "X= tf.range(-100,100, 4)\n",
        "X"
      ],
      "metadata": {
        "colab": {
          "base_uri": "https://localhost:8080/"
        },
        "id": "MkuzOy9hXshh",
        "outputId": "c9d5ca3c-f673-4397-f2cf-4bbc30bfef46"
      },
      "execution_count": 15,
      "outputs": [
        {
          "output_type": "execute_result",
          "data": {
            "text/plain": [
              "<tf.Tensor: shape=(50,), dtype=int32, numpy=\n",
              "array([-100,  -96,  -92,  -88,  -84,  -80,  -76,  -72,  -68,  -64,  -60,\n",
              "        -56,  -52,  -48,  -44,  -40,  -36,  -32,  -28,  -24,  -20,  -16,\n",
              "        -12,   -8,   -4,    0,    4,    8,   12,   16,   20,   24,   28,\n",
              "         32,   36,   40,   44,   48,   52,   56,   60,   64,   68,   72,\n",
              "         76,   80,   84,   88,   92,   96], dtype=int32)>"
            ]
          },
          "metadata": {},
          "execution_count": 15
        }
      ]
    },
    {
      "cell_type": "code",
      "source": [
        "y = X + 10"
      ],
      "metadata": {
        "id": "LO04bkHiX1rq"
      },
      "execution_count": 16,
      "outputs": []
    },
    {
      "cell_type": "code",
      "source": [
        "y"
      ],
      "metadata": {
        "colab": {
          "base_uri": "https://localhost:8080/"
        },
        "id": "ksQZgoy9X8Mh",
        "outputId": "8a500d39-594d-4280-f957-58bc6981a05c"
      },
      "execution_count": 17,
      "outputs": [
        {
          "output_type": "execute_result",
          "data": {
            "text/plain": [
              "<tf.Tensor: shape=(50,), dtype=int32, numpy=\n",
              "array([-90, -86, -82, -78, -74, -70, -66, -62, -58, -54, -50, -46, -42,\n",
              "       -38, -34, -30, -26, -22, -18, -14, -10,  -6,  -2,   2,   6,  10,\n",
              "        14,  18,  22,  26,  30,  34,  38,  42,  46,  50,  54,  58,  62,\n",
              "        66,  70,  74,  78,  82,  86,  90,  94,  98, 102, 106], dtype=int32)>"
            ]
          },
          "metadata": {},
          "execution_count": 17
        }
      ]
    },
    {
      "cell_type": "code",
      "source": [
        "X = tf.cast(X, tf.float32)\n",
        "X"
      ],
      "metadata": {
        "colab": {
          "base_uri": "https://localhost:8080/"
        },
        "id": "8mD4hsnNX9RJ",
        "outputId": "ffce7c1b-edd3-4740-82c8-ad3154807438"
      },
      "execution_count": 18,
      "outputs": [
        {
          "output_type": "execute_result",
          "data": {
            "text/plain": [
              "<tf.Tensor: shape=(50,), dtype=float32, numpy=\n",
              "array([-100.,  -96.,  -92.,  -88.,  -84.,  -80.,  -76.,  -72.,  -68.,\n",
              "        -64.,  -60.,  -56.,  -52.,  -48.,  -44.,  -40.,  -36.,  -32.,\n",
              "        -28.,  -24.,  -20.,  -16.,  -12.,   -8.,   -4.,    0.,    4.,\n",
              "          8.,   12.,   16.,   20.,   24.,   28.,   32.,   36.,   40.,\n",
              "         44.,   48.,   52.,   56.,   60.,   64.,   68.,   72.,   76.,\n",
              "         80.,   84.,   88.,   92.,   96.], dtype=float32)>"
            ]
          },
          "metadata": {},
          "execution_count": 18
        }
      ]
    },
    {
      "cell_type": "code",
      "source": [
        "y = tf.cast(y, tf.float32)\n",
        "y"
      ],
      "metadata": {
        "colab": {
          "base_uri": "https://localhost:8080/"
        },
        "id": "oWq_4GgcYNX7",
        "outputId": "d9d39cfb-04ca-4453-9277-acc871917603"
      },
      "execution_count": 19,
      "outputs": [
        {
          "output_type": "execute_result",
          "data": {
            "text/plain": [
              "<tf.Tensor: shape=(50,), dtype=float32, numpy=\n",
              "array([-90., -86., -82., -78., -74., -70., -66., -62., -58., -54., -50.,\n",
              "       -46., -42., -38., -34., -30., -26., -22., -18., -14., -10.,  -6.,\n",
              "        -2.,   2.,   6.,  10.,  14.,  18.,  22.,  26.,  30.,  34.,  38.,\n",
              "        42.,  46.,  50.,  54.,  58.,  62.,  66.,  70.,  74.,  78.,  82.,\n",
              "        86.,  90.,  94.,  98., 102., 106.], dtype=float32)>"
            ]
          },
          "metadata": {},
          "execution_count": 19
        }
      ]
    },
    {
      "cell_type": "code",
      "source": [
        "# visualize\n",
        "plt.scatter(X, y)"
      ],
      "metadata": {
        "colab": {
          "base_uri": "https://localhost:8080/",
          "height": 283
        },
        "id": "YOWscVQmYf2o",
        "outputId": "5ad75176-59ec-4f4c-e8a6-9b75c132e2dd"
      },
      "execution_count": 20,
      "outputs": [
        {
          "output_type": "execute_result",
          "data": {
            "text/plain": [
              "<matplotlib.collections.PathCollection at 0x7fae9c1d7c10>"
            ]
          },
          "metadata": {},
          "execution_count": 20
        },
        {
          "output_type": "display_data",
          "data": {
            "text/plain": [
              "<Figure size 432x288 with 1 Axes>"
            ],
            "image/png": "[encoded data removed]"
          },
          "metadata": {
            "needs_background": "light"
          }
        }
      ]
    },
    {
      "cell_type": "markdown",
      "source": [
        "### the 3 sets\n",
        "\n",
        "* train\n",
        "* validation\n",
        "* test"
      ],
      "metadata": {
        "id": "o9ktMlEOYvFE"
      }
    },
    {
      "cell_type": "code",
      "source": [
        "# check the len of samples\n",
        "len(X)"
      ],
      "metadata": {
        "colab": {
          "base_uri": "https://localhost:8080/"
        },
        "id": "pGy2sKjxaObq",
        "outputId": "ecf0b492-ad11-47c6-a618-6512a091505c"
      },
      "execution_count": 21,
      "outputs": [
        {
          "output_type": "execute_result",
          "data": {
            "text/plain": [
              "50"
            ]
          },
          "metadata": {},
          "execution_count": 21
        }
      ]
    },
    {
      "cell_type": "code",
      "source": [
        "tf.random.set_seed(84)\n",
        "\n",
        "# split the data into train and test\n",
        "X_train = X[:40] # first 40 of the training sample (80%)\n",
        "y_train = y[:40]\n",
        "\n",
        "X_test = X[40:]\n",
        "y_test = y[40:]\n",
        "\n",
        "len(X_train), len(X_test)"
      ],
      "metadata": {
        "colab": {
          "base_uri": "https://localhost:8080/"
        },
        "id": "vQmjC51NbenD",
        "outputId": "c9d5551b-4df8-4827-b776-dd934f403f18"
      },
      "execution_count": 22,
      "outputs": [
        {
          "output_type": "execute_result",
          "data": {
            "text/plain": [
              "(40, 10)"
            ]
          },
          "metadata": {},
          "execution_count": 22
        }
      ]
    },
    {
      "cell_type": "markdown",
      "source": [
        "### Visualizing the train and test data"
      ],
      "metadata": {
        "id": "8b4zJh4pcXm_"
      }
    },
    {
      "cell_type": "code",
      "source": [
        "plt.figure(figsize=(10,7))\n",
        "# plot trainin gdata int blue\n",
        "plt.scatter(X_train, y_train, c =\"b\", label=\"training data\")\n",
        "# the test in gree\n",
        "plt.scatter(X_test, y_test, c='g', label = \"test data\" )\n",
        "\n",
        "# show a legend\n",
        "plt.legend();"
      ],
      "metadata": {
        "colab": {
          "base_uri": "https://localhost:8080/",
          "height": 428
        },
        "id": "5ZeZqiaWf6aq",
        "outputId": "c1adbcaa-22c0-4db9-dd21-c17d71e1a2d0"
      },
      "execution_count": 23,
      "outputs": [
        {
          "output_type": "display_data",
          "data": {
            "text/plain": [
              "<Figure size 720x504 with 1 Axes>"
            ],
            "image/png": "[encoded data removed]"
          },
          "metadata": {
            "needs_background": "light"
          }
        }
      ]
    },
    {
      "cell_type": "code",
      "source": [
        "# building a model\n",
        "\n",
        "# 1. create a model\n",
        "model = tf.keras.Sequential([\n",
        "    tf.keras.layers.Dense(1)\n",
        "])\n",
        "\n",
        "# 2. compile the model\n",
        "model.compile(loss = tf.keras.losses.mae,\n",
        "              optimizer = tf.keras.optimizers.SGD(),\n",
        "              metrics ='mae'\n",
        "              )\n",
        "\n",
        "# 3 fit the model\n",
        "model.fit(tf.expand_dims(X_train, axis=-1), y_train, epochs = 100)"
      ],
      "metadata": {
        "colab": {
          "base_uri": "https://localhost:8080/"
        },
        "id": "ATTe-Qhpgkkq",
        "outputId": "75b58654-e5a0-46e0-c921-18759b93244c"
      },
      "execution_count": 24,
      "outputs": [
        {
          "output_type": "stream",
          "name": "stdout",
          "text": [
            "Epoch 1/100\n",
            "2/2 [==============================] - 0s 7ms/step - loss: 16.2584 - mae: 16.2584\n",
            "Epoch 2/100\n",
            "2/2 [==============================] - 0s 8ms/step - loss: 8.9235 - mae: 8.9235\n",
            "Epoch 3/100\n",
            "2/2 [==============================] - 0s 7ms/step - loss: 9.0494 - mae: 9.0494\n",
            "Epoch 4/100\n",
            "2/2 [==============================] - 0s 7ms/step - loss: 16.6096 - mae: 16.6096\n",
            "Epoch 5/100\n",
            "2/2 [==============================] - 0s 6ms/step - loss: 8.1597 - mae: 8.1597\n",
            "Epoch 6/100\n",
            "2/2 [==============================] - 0s 9ms/step - loss: 12.7613 - mae: 12.7613\n",
            "Epoch 7/100\n",
            "2/2 [==============================] - 0s 6ms/step - loss: 11.5393 - mae: 11.5393\n",
            "Epoch 8/100\n",
            "2/2 [==============================] - 0s 5ms/step - loss: 11.0724 - mae: 11.0724\n",
            "Epoch 9/100\n",
            "2/2 [==============================] - 0s 7ms/step - loss: 10.4268 - mae: 10.4268\n",
            "Epoch 10/100\n",
            "2/2 [==============================] - 0s 8ms/step - loss: 9.3975 - mae: 9.3975\n",
            "Epoch 11/100\n",
            "2/2 [==============================] - 0s 9ms/step - loss: 19.3478 - mae: 19.3478\n",
            "Epoch 12/100\n",
            "2/2 [==============================] - 0s 6ms/step - loss: 11.4286 - mae: 11.4286\n",
            "Epoch 13/100\n",
            "2/2 [==============================] - 0s 9ms/step - loss: 14.3741 - mae: 14.3741\n",
            "Epoch 14/100\n",
            "2/2 [==============================] - 0s 7ms/step - loss: 8.5081 - mae: 8.5081\n",
            "Epoch 15/100\n",
            "2/2 [==============================] - 0s 5ms/step - loss: 18.5740 - mae: 18.5740\n",
            "Epoch 16/100\n",
            "2/2 [==============================] - 0s 7ms/step - loss: 14.2657 - mae: 14.2657\n",
            "Epoch 17/100\n",
            "2/2 [==============================] - 0s 5ms/step - loss: 13.5661 - mae: 13.5661\n",
            "Epoch 18/100\n",
            "2/2 [==============================] - 0s 7ms/step - loss: 15.8498 - mae: 15.8498\n",
            "Epoch 19/100\n",
            "2/2 [==============================] - 0s 6ms/step - loss: 15.0047 - mae: 15.0047\n",
            "Epoch 20/100\n",
            "2/2 [==============================] - 0s 6ms/step - loss: 8.0106 - mae: 8.0106\n",
            "Epoch 21/100\n",
            "2/2 [==============================] - 0s 6ms/step - loss: 15.1307 - mae: 15.1307\n",
            "Epoch 22/100\n",
            "2/2 [==============================] - 0s 9ms/step - loss: 17.7448 - mae: 17.7448\n",
            "Epoch 23/100\n",
            "2/2 [==============================] - 0s 7ms/step - loss: 10.4858 - mae: 10.4858\n",
            "Epoch 24/100\n",
            "2/2 [==============================] - 0s 7ms/step - loss: 19.3628 - mae: 19.3628\n",
            "Epoch 25/100\n",
            "2/2 [==============================] - 0s 6ms/step - loss: 10.2972 - mae: 10.2972\n",
            "Epoch 26/100\n",
            "2/2 [==============================] - 0s 8ms/step - loss: 9.7646 - mae: 9.7646\n",
            "Epoch 27/100\n",
            "2/2 [==============================] - 0s 7ms/step - loss: 9.2220 - mae: 9.2220\n",
            "Epoch 28/100\n",
            "2/2 [==============================] - 0s 4ms/step - loss: 13.0323 - mae: 13.0323\n",
            "Epoch 29/100\n",
            "2/2 [==============================] - 0s 6ms/step - loss: 9.2086 - mae: 9.2086\n",
            "Epoch 30/100\n",
            "2/2 [==============================] - 0s 7ms/step - loss: 8.3147 - mae: 8.3147\n",
            "Epoch 31/100\n",
            "2/2 [==============================] - 0s 6ms/step - loss: 10.4594 - mae: 10.4594\n",
            "Epoch 32/100\n",
            "2/2 [==============================] - 0s 8ms/step - loss: 11.1805 - mae: 11.1805\n",
            "Epoch 33/100\n",
            "2/2 [==============================] - 0s 5ms/step - loss: 12.6657 - mae: 12.6657\n",
            "Epoch 34/100\n",
            "2/2 [==============================] - 0s 8ms/step - loss: 10.4477 - mae: 10.4477\n",
            "Epoch 35/100\n",
            "2/2 [==============================] - 0s 6ms/step - loss: 8.0045 - mae: 8.0045\n",
            "Epoch 36/100\n",
            "2/2 [==============================] - 0s 9ms/step - loss: 16.8099 - mae: 16.8099\n",
            "Epoch 37/100\n",
            "2/2 [==============================] - 0s 5ms/step - loss: 7.4400 - mae: 7.4400\n",
            "Epoch 38/100\n",
            "2/2 [==============================] - 0s 4ms/step - loss: 19.1987 - mae: 19.1987\n",
            "Epoch 39/100\n",
            "2/2 [==============================] - 0s 5ms/step - loss: 9.7403 - mae: 9.7403\n",
            "Epoch 40/100\n",
            "2/2 [==============================] - 0s 7ms/step - loss: 8.9630 - mae: 8.9630\n",
            "Epoch 41/100\n",
            "2/2 [==============================] - 0s 5ms/step - loss: 9.8574 - mae: 9.8574\n",
            "Epoch 42/100\n",
            "2/2 [==============================] - 0s 5ms/step - loss: 10.3646 - mae: 10.3646\n",
            "Epoch 43/100\n",
            "2/2 [==============================] - 0s 6ms/step - loss: 10.3151 - mae: 10.3151\n",
            "Epoch 44/100\n",
            "2/2 [==============================] - 0s 4ms/step - loss: 9.1643 - mae: 9.1643\n",
            "Epoch 45/100\n",
            "2/2 [==============================] - 0s 5ms/step - loss: 10.4607 - mae: 10.4607\n",
            "Epoch 46/100\n",
            "2/2 [==============================] - 0s 5ms/step - loss: 7.5670 - mae: 7.5670\n",
            "Epoch 47/100\n",
            "2/2 [==============================] - 0s 7ms/step - loss: 11.8843 - mae: 11.8843\n",
            "Epoch 48/100\n",
            "2/2 [==============================] - 0s 4ms/step - loss: 8.0431 - mae: 8.0431\n",
            "Epoch 49/100\n",
            "2/2 [==============================] - 0s 5ms/step - loss: 7.3312 - mae: 7.3312\n",
            "Epoch 50/100\n",
            "2/2 [==============================] - 0s 5ms/step - loss: 11.1412 - mae: 11.1412\n",
            "Epoch 51/100\n",
            "2/2 [==============================] - 0s 4ms/step - loss: 11.3312 - mae: 11.3312\n",
            "Epoch 52/100\n",
            "2/2 [==============================] - 0s 6ms/step - loss: 12.7006 - mae: 12.7006\n",
            "Epoch 53/100\n",
            "2/2 [==============================] - 0s 6ms/step - loss: 9.0872 - mae: 9.0872\n",
            "Epoch 54/100\n",
            "2/2 [==============================] - 0s 5ms/step - loss: 14.6987 - mae: 14.6987\n",
            "Epoch 55/100\n",
            "2/2 [==============================] - 0s 5ms/step - loss: 8.6949 - mae: 8.6949\n",
            "Epoch 56/100\n",
            "2/2 [==============================] - 0s 4ms/step - loss: 9.1959 - mae: 9.1959\n",
            "Epoch 57/100\n",
            "2/2 [==============================] - 0s 6ms/step - loss: 11.0737 - mae: 11.0737\n",
            "Epoch 58/100\n",
            "2/2 [==============================] - 0s 5ms/step - loss: 12.6743 - mae: 12.6743\n",
            "Epoch 59/100\n",
            "2/2 [==============================] - 0s 11ms/step - loss: 8.0921 - mae: 8.0921\n",
            "Epoch 60/100\n",
            "2/2 [==============================] - 0s 4ms/step - loss: 7.9992 - mae: 7.9992\n",
            "Epoch 61/100\n",
            "2/2 [==============================] - 0s 4ms/step - loss: 9.3700 - mae: 9.3700\n",
            "Epoch 62/100\n",
            "2/2 [==============================] - 0s 5ms/step - loss: 8.1554 - mae: 8.1554\n",
            "Epoch 63/100\n",
            "2/2 [==============================] - 0s 7ms/step - loss: 10.2773 - mae: 10.2773\n",
            "Epoch 64/100\n",
            "2/2 [==============================] - 0s 5ms/step - loss: 13.6382 - mae: 13.6382\n",
            "Epoch 65/100\n",
            "2/2 [==============================] - 0s 8ms/step - loss: 8.3937 - mae: 8.3937\n",
            "Epoch 66/100\n",
            "2/2 [==============================] - 0s 5ms/step - loss: 11.2814 - mae: 11.2814\n",
            "Epoch 67/100\n",
            "2/2 [==============================] - 0s 6ms/step - loss: 11.4146 - mae: 11.4146\n",
            "Epoch 68/100\n",
            "2/2 [==============================] - 0s 5ms/step - loss: 13.2736 - mae: 13.2736\n",
            "Epoch 69/100\n",
            "2/2 [==============================] - 0s 5ms/step - loss: 8.6157 - mae: 8.6157\n",
            "Epoch 70/100\n",
            "2/2 [==============================] - 0s 5ms/step - loss: 10.8561 - mae: 10.8561\n",
            "Epoch 71/100\n",
            "2/2 [==============================] - 0s 6ms/step - loss: 12.3087 - mae: 12.3087\n",
            "Epoch 72/100\n",
            "2/2 [==============================] - 0s 15ms/step - loss: 10.6557 - mae: 10.6557\n",
            "Epoch 73/100\n",
            "2/2 [==============================] - 0s 8ms/step - loss: 8.7586 - mae: 8.7586\n",
            "Epoch 74/100\n",
            "2/2 [==============================] - 0s 9ms/step - loss: 10.7175 - mae: 10.7175\n",
            "Epoch 75/100\n",
            "2/2 [==============================] - 0s 5ms/step - loss: 12.7987 - mae: 12.7987\n",
            "Epoch 76/100\n",
            "2/2 [==============================] - 0s 5ms/step - loss: 9.7257 - mae: 9.7257\n",
            "Epoch 77/100\n",
            "2/2 [==============================] - 0s 6ms/step - loss: 15.7501 - mae: 15.7501\n",
            "Epoch 78/100\n",
            "2/2 [==============================] - 0s 5ms/step - loss: 8.0651 - mae: 8.0651\n",
            "Epoch 79/100\n",
            "2/2 [==============================] - 0s 7ms/step - loss: 9.1224 - mae: 9.1224\n",
            "Epoch 80/100\n",
            "2/2 [==============================] - 0s 6ms/step - loss: 10.5962 - mae: 10.5962\n",
            "Epoch 81/100\n",
            "2/2 [==============================] - 0s 5ms/step - loss: 7.0376 - mae: 7.0376\n",
            "Epoch 82/100\n",
            "2/2 [==============================] - 0s 5ms/step - loss: 14.1674 - mae: 14.1674\n",
            "Epoch 83/100\n",
            "2/2 [==============================] - 0s 10ms/step - loss: 12.9513 - mae: 12.9513\n",
            "Epoch 84/100\n",
            "2/2 [==============================] - 0s 6ms/step - loss: 13.3764 - mae: 13.3764\n",
            "Epoch 85/100\n",
            "2/2 [==============================] - 0s 7ms/step - loss: 6.7501 - mae: 6.7501\n",
            "Epoch 86/100\n",
            "2/2 [==============================] - 0s 6ms/step - loss: 10.4400 - mae: 10.4400\n",
            "Epoch 87/100\n",
            "2/2 [==============================] - 0s 11ms/step - loss: 10.5598 - mae: 10.5598\n",
            "Epoch 88/100\n",
            "2/2 [==============================] - 0s 5ms/step - loss: 14.3725 - mae: 14.3725\n",
            "Epoch 89/100\n",
            "2/2 [==============================] - 0s 6ms/step - loss: 10.9169 - mae: 10.9169\n",
            "Epoch 90/100\n",
            "2/2 [==============================] - 0s 5ms/step - loss: 13.6928 - mae: 13.6928\n",
            "Epoch 91/100\n",
            "2/2 [==============================] - 0s 9ms/step - loss: 11.8159 - mae: 11.8159\n",
            "Epoch 92/100\n",
            "2/2 [==============================] - 0s 6ms/step - loss: 8.3141 - mae: 8.3141\n",
            "Epoch 93/100\n",
            "2/2 [==============================] - 0s 5ms/step - loss: 10.3091 - mae: 10.3091\n",
            "Epoch 94/100\n",
            "2/2 [==============================] - 0s 25ms/step - loss: 13.7616 - mae: 13.7616\n",
            "Epoch 95/100\n",
            "2/2 [==============================] - 0s 10ms/step - loss: 13.5581 - mae: 13.5581\n",
            "Epoch 96/100\n",
            "2/2 [==============================] - 0s 7ms/step - loss: 9.0485 - mae: 9.0485\n",
            "Epoch 97/100\n",
            "2/2 [==============================] - 0s 6ms/step - loss: 8.2203 - mae: 8.2203\n",
            "Epoch 98/100\n",
            "2/2 [==============================] - 0s 5ms/step - loss: 12.1756 - mae: 12.1756\n",
            "Epoch 99/100\n",
            "2/2 [==============================] - 0s 5ms/step - loss: 13.6004 - mae: 13.6004\n",
            "Epoch 100/100\n",
            "2/2 [==============================] - 0s 9ms/step - loss: 8.7562 - mae: 8.7562\n"
          ]
        },
        {
          "output_type": "execute_result",
          "data": {
            "text/plain": [
              "<keras.callbacks.History at 0x7fae9b20ea90>"
            ]
          },
          "metadata": {},
          "execution_count": 24
        }
      ]
    },
    {
      "cell_type": "code",
      "source": [
        "model.summary()"
      ],
      "metadata": {
        "colab": {
          "base_uri": "https://localhost:8080/"
        },
        "id": "n_rRxCdGr-WI",
        "outputId": "bb00b1d6-5210-47de-bd2f-caca53e1b753"
      },
      "execution_count": 25,
      "outputs": [
        {
          "output_type": "stream",
          "name": "stdout",
          "text": [
            "Model: \"sequential_3\"\n",
            "_________________________________________________________________\n",
            " Layer (type)                Output Shape              Param #   \n",
            "=================================================================\n",
            " dense_4 (Dense)             (None, 1)                 2         \n",
            "                                                                 \n",
            "=================================================================\n",
            "Total params: 2\n",
            "Trainable params: 2\n",
            "Non-trainable params: 0\n",
            "_________________________________________________________________\n"
          ]
        }
      ]
    },
    {
      "cell_type": "code",
      "source": [
        "from tensorflow.keras.utils import plot_model"
      ],
      "metadata": {
        "id": "y4S9r05OsLIb"
      },
      "execution_count": 26,
      "outputs": []
    },
    {
      "cell_type": "code",
      "source": [
        "plot_model(model = model, show_shapes = True, show_dtype= True)"
      ],
      "metadata": {
        "colab": {
          "base_uri": "https://localhost:8080/",
          "height": 262
        },
        "id": "QhzxtErevl7c",
        "outputId": "dfa85e85-3ad9-490b-e8f4-03734be83ded"
      },
      "execution_count": 27,
      "outputs": [
        {
          "output_type": "execute_result",
          "data": {
            "image/png": "[encoded data removed]",
            "text/plain": [
              "<IPython.core.display.Image object>"
            ]
          },
          "metadata": {},
          "execution_count": 27
        }
      ]
    },
    {
      "cell_type": "markdown",
      "source": [
        "from tensorflow.python.ops.variables import local_variables\n",
        "### Visualing model predictions\n",
        "\n",
        "to do tis, it is adviced to plot them aainstht egrounf truth local_variables\n",
        "oftern seen in the form of y_test or y_true versus y_pred"
      ],
      "metadata": {
        "id": "UzJEKuRNv7j2"
      }
    },
    {
      "cell_type": "code",
      "source": [
        "y_pred = model.predict(X_test)"
      ],
      "metadata": {
        "colab": {
          "base_uri": "https://localhost:8080/"
        },
        "id": "DFPtxEuByJKO",
        "outputId": "2e49717d-f655-42c0-b796-3b90cf11512b"
      },
      "execution_count": 28,
      "outputs": [
        {
          "output_type": "stream",
          "name": "stdout",
          "text": [
            "1/1 [==============================] - 0s 57ms/step\n"
          ]
        }
      ]
    },
    {
      "cell_type": "code",
      "source": [
        "y_pred"
      ],
      "metadata": {
        "colab": {
          "base_uri": "https://localhost:8080/"
        },
        "id": "xkkZIKYTyPGy",
        "outputId": "1e7964a0-b39c-4572-87cf-f7c11f5745ff"
      },
      "execution_count": 29,
      "outputs": [
        {
          "output_type": "execute_result",
          "data": {
            "text/plain": [
              "array([[ 66.76198 ],\n",
              "       [ 71.12507 ],\n",
              "       [ 75.48816 ],\n",
              "       [ 79.85125 ],\n",
              "       [ 84.21434 ],\n",
              "       [ 88.57743 ],\n",
              "       [ 92.94052 ],\n",
              "       [ 97.30361 ],\n",
              "       [101.6667  ],\n",
              "       [106.029785]], dtype=float32)"
            ]
          },
          "metadata": {},
          "execution_count": 29
        }
      ]
    },
    {
      "cell_type": "code",
      "source": [
        "y_test"
      ],
      "metadata": {
        "colab": {
          "base_uri": "https://localhost:8080/"
        },
        "id": "Of7DLqKtyRRZ",
        "outputId": "da3f6809-19fe-43cd-852c-d06bdfe5329c"
      },
      "execution_count": 30,
      "outputs": [
        {
          "output_type": "execute_result",
          "data": {
            "text/plain": [
              "<tf.Tensor: shape=(10,), dtype=float32, numpy=\n",
              "array([ 70.,  74.,  78.,  82.,  86.,  90.,  94.,  98., 102., 106.],\n",
              "      dtype=float32)>"
            ]
          },
          "metadata": {},
          "execution_count": 30
        }
      ]
    },
    {
      "cell_type": "code",
      "source": [
        "#  create a plotting funct\n",
        "def plot_predictions(train_data = X_train,\n",
        "                     train_labels = y_train,\n",
        "                     test_data = X_test,\n",
        "                     test_labels = y_test,\n",
        "                     predictions= y_pred):\n",
        "  \"\"\"\n",
        "  Plots a taining dt test dt and compares t ground truth labels\n",
        "  \"\"\"\n",
        "  plt.figure(figsize=(10,7))\n",
        "\n",
        "  plt.scatter(train_data, train_labels, c='b', label = \"training_data\")\n",
        "  plt.scatter(test_data, test_labels, c='g', label = \"test_data\")\n",
        "  plt.scatter(test_data, predictions, c='r', label = \"predictions\")\n",
        "  plt.legend();\n",
        "  return plot_predictions\n",
        "\n",
        "  "
      ],
      "metadata": {
        "id": "45dgG8wGyWc2"
      },
      "execution_count": 31,
      "outputs": []
    },
    {
      "cell_type": "code",
      "source": [
        "plot_predictions()"
      ],
      "metadata": {
        "colab": {
          "base_uri": "https://localhost:8080/",
          "height": 827
        },
        "id": "xBq70RI0zzOo",
        "outputId": "838d4a9c-7320-49fd-81d5-49d7fe626deb"
      },
      "execution_count": 32,
      "outputs": [
        {
          "output_type": "execute_result",
          "data": {
            "text/plain": [
              "<function __main__.plot_predictions(train_data=<tf.Tensor: shape=(40,), dtype=float32, numpy=\n",
              "array([-100.,  -96.,  -92.,  -88.,  -84.,  -80.,  -76.,  -72.,  -68.,\n",
              "        -64.,  -60.,  -56.,  -52.,  -48.,  -44.,  -40.,  -36.,  -32.,\n",
              "        -28.,  -24.,  -20.,  -16.,  -12.,   -8.,   -4.,    0.,    4.,\n",
              "          8.,   12.,   16.,   20.,   24.,   28.,   32.,   36.,   40.,\n",
              "         44.,   48.,   52.,   56.], dtype=float32)>, train_labels=<tf.Tensor: shape=(40,), dtype=float32, numpy=\n",
              "array([-90., -86., -82., -78., -74., -70., -66., -62., -58., -54., -50.,\n",
              "       -46., -42., -38., -34., -30., -26., -22., -18., -14., -10.,  -6.,\n",
              "        -2.,   2.,   6.,  10.,  14.,  18.,  22.,  26.,  30.,  34.,  38.,\n",
              "        42.,  46.,  50.,  54.,  58.,  62.,  66.], dtype=float32)>, test_data=<tf.Tensor: shape=(10,), dtype=float32, numpy=array([60., 64., 68., 72., 76., 80., 84., 88., 92., 96.], dtype=float32)>, test_labels=<tf.Tensor: shape=(10,), dtype=float32, numpy=\n",
              "array([ 70.,  74.,  78.,  82.,  86.,  90.,  94.,  98., 102., 106.],\n",
              "      dtype=float32)>, predictions=array([[ 66.76198 ],\n",
              "       [ 71.12507 ],\n",
              "       [ 75.48816 ],\n",
              "       [ 79.85125 ],\n",
              "       [ 84.21434 ],\n",
              "       [ 88.57743 ],\n",
              "       [ 92.94052 ],\n",
              "       [ 97.30361 ],\n",
              "       [101.6667  ],\n",
              "       [106.029785]], dtype=float32))>"
            ]
          },
          "metadata": {},
          "execution_count": 32
        },
        {
          "output_type": "display_data",
          "data": {
            "text/plain": [
              "<Figure size 720x504 with 1 Axes>"
            ],
            "image/png": "[encoded data removed]"
          },
          "metadata": {
            "needs_background": "light"
          }
        }
      ]
    },
    {
      "cell_type": "markdown",
      "source": [
        "### Eva;uating model with regression evaluatin metrics\n",
        "\n",
        "2 main metrics for regression\n",
        "* mae\n",
        "* mse\n",
        "\n",
        "* Huber\n"
      ],
      "metadata": {
        "id": "UKh3ysnEz5dq"
      }
    },
    {
      "cell_type": "code",
      "source": [
        "#  evalueate model on test\n",
        "model.evaluate(X_test, y_test)"
      ],
      "metadata": {
        "colab": {
          "base_uri": "https://localhost:8080/"
        },
        "id": "iskjwYlS6slj",
        "outputId": "cd456427-23f4-4d3c-cfe2-8064146b11e0"
      },
      "execution_count": 33,
      "outputs": [
        {
          "output_type": "stream",
          "name": "stdout",
          "text": [
            "1/1 [==============================] - 0s 174ms/step - loss: 1.6101 - mae: 1.6101\n"
          ]
        },
        {
          "output_type": "execute_result",
          "data": {
            "text/plain": [
              "[1.610072374343872, 1.610072374343872]"
            ]
          },
          "metadata": {},
          "execution_count": 33
        }
      ]
    },
    {
      "cell_type": "code",
      "source": [
        "#  calculate the mae\n",
        "mae = tf.metrics.mean_absolute_error(y_true=y_test,\n",
        "                                    y_pred=tf.squeeze(y_pred))"
      ],
      "metadata": {
        "id": "XEdln5mU91O8"
      },
      "execution_count": 34,
      "outputs": []
    },
    {
      "cell_type": "code",
      "source": [
        "mae"
      ],
      "metadata": {
        "colab": {
          "base_uri": "https://localhost:8080/"
        },
        "id": "Vm5mTE0d_umk",
        "outputId": "e4001b02-ba40-4319-89b1-6aa128e953ae"
      },
      "execution_count": 35,
      "outputs": [
        {
          "output_type": "execute_result",
          "data": {
            "text/plain": [
              "<tf.Tensor: shape=(), dtype=float32, numpy=1.6100724>"
            ]
          },
          "metadata": {},
          "execution_count": 35
        }
      ]
    },
    {
      "cell_type": "code",
      "source": [
        "# calculate the mse\n",
        "mse = tf.metrics.mean_squared_error(y_true= y_test,\n",
        "                                    y_pred = tf.squeeze(y_pred))\n",
        "mse"
      ],
      "metadata": {
        "colab": {
          "base_uri": "https://localhost:8080/"
        },
        "id": "dz4hXVtF_4xR",
        "outputId": "6c9e2485-4c50-4eaa-d1bb-d24920866a82"
      },
      "execution_count": 36,
      "outputs": [
        {
          "output_type": "execute_result",
          "data": {
            "text/plain": [
              "<tf.Tensor: shape=(), dtype=float32, numpy=3.6608195>"
            ]
          },
          "metadata": {},
          "execution_count": 36
        }
      ]
    },
    {
      "cell_type": "code",
      "source": [
        "# functionlize for mae ad mse\n",
        "def mae(y_true, y_pred):\n",
        "  return tf.metrics.mean_absolute_error(y_true = y_test,\n",
        "                                        y_pred =y_pred)\n",
        "  \n",
        "def mse(y_true, y_pred):\n",
        "  return tf.metrics.mean_squared_error(y_true = y_test,\n",
        "                                       y_pred = y_pred)"
      ],
      "metadata": {
        "id": "ydVdXmxLARfj"
      },
      "execution_count": 73,
      "outputs": []
    },
    {
      "cell_type": "markdown",
      "source": [
        "### Running experiiments to improve our mofdel \n",
        "\n",
        "build .. fit... evaluate.. tweak ... fit .. evaluate.. tweak .. fit .. evaluate\n",
        "\n",
        "1. get more data\n",
        "\n",
        "2. make model larger using a more complex model... more layers or hidden unit\n",
        "\n",
        "3. train fo rlonger"
      ],
      "metadata": {
        "id": "R-ms8uUiFXyH"
      }
    },
    {
      "cell_type": "markdown",
      "source": [
        "lets do 3 modeeling experiment\n",
        "1. 'model_1' same as original 1 layer trained for 100 epochs\n",
        "2. 'model_2' 2 layers 100 epochs\n",
        "3. 'model_3' 2 layers 500 epochs"
      ],
      "metadata": {
        "id": "Hq5W8826zye0"
      }
    },
    {
      "cell_type": "markdown",
      "source": [
        "model_1"
      ],
      "metadata": {
        "id": "YaaTC1Iz0sOU"
      }
    },
    {
      "cell_type": "code",
      "source": [
        "tf.random.set_seed(84)\n",
        "\n",
        "model_1 = tf.keras.Sequential([\n",
        "    tf.keras.layers.Dense(1)\n",
        "])\n",
        "\n",
        "model_1.compile(loss = tf.keras.losses.mae,\n",
        "                optimizer = tf.keras.optimizers.SGD(),\n",
        "                metrics = ['mae']\n",
        ")\n",
        "\n",
        "model_1.fit(tf.expand_dims(X_train, -1), y_train, epochs = 100)"
      ],
      "metadata": {
        "colab": {
          "base_uri": "https://localhost:8080/"
        },
        "id": "3s0JoWPW0zRK",
        "outputId": "bd4b8660-020d-4569-c3b4-a3663a7c2b28"
      },
      "execution_count": 74,
      "outputs": [
        {
          "output_type": "stream",
          "name": "stdout",
          "text": [
            "Epoch 1/100\n",
            "2/2 [==============================] - 0s 7ms/step - loss: 16.2584 - mae: 16.2584\n",
            "Epoch 2/100\n",
            "2/2 [==============================] - 0s 8ms/step - loss: 8.9235 - mae: 8.9235\n",
            "Epoch 3/100\n",
            "2/2 [==============================] - 0s 7ms/step - loss: 9.0494 - mae: 9.0494\n",
            "Epoch 4/100\n",
            "2/2 [==============================] - 0s 8ms/step - loss: 16.6096 - mae: 16.6096\n",
            "Epoch 5/100\n",
            "2/2 [==============================] - 0s 7ms/step - loss: 8.1597 - mae: 8.1597\n",
            "Epoch 6/100\n",
            "2/2 [==============================] - 0s 9ms/step - loss: 12.7613 - mae: 12.7613\n",
            "Epoch 7/100\n",
            "2/2 [==============================] - 0s 7ms/step - loss: 11.5393 - mae: 11.5393\n",
            "Epoch 8/100\n",
            "2/2 [==============================] - 0s 8ms/step - loss: 11.0724 - mae: 11.0724\n",
            "Epoch 9/100\n",
            "2/2 [==============================] - 0s 7ms/step - loss: 10.4268 - mae: 10.4268\n",
            "Epoch 10/100\n",
            "2/2 [==============================] - 0s 9ms/step - loss: 9.3975 - mae: 9.3975\n",
            "Epoch 11/100\n",
            "2/2 [==============================] - 0s 7ms/step - loss: 19.3478 - mae: 19.3478\n",
            "Epoch 12/100\n",
            "2/2 [==============================] - 0s 8ms/step - loss: 11.4286 - mae: 11.4286\n",
            "Epoch 13/100\n",
            "2/2 [==============================] - 0s 8ms/step - loss: 14.3741 - mae: 14.3741\n",
            "Epoch 14/100\n",
            "2/2 [==============================] - 0s 8ms/step - loss: 8.5081 - mae: 8.5081\n",
            "Epoch 15/100\n",
            "2/2 [==============================] - 0s 9ms/step - loss: 18.5740 - mae: 18.5740\n",
            "Epoch 16/100\n",
            "2/2 [==============================] - 0s 7ms/step - loss: 14.2657 - mae: 14.2657\n",
            "Epoch 17/100\n",
            "2/2 [==============================] - 0s 8ms/step - loss: 13.5661 - mae: 13.5661\n",
            "Epoch 18/100\n",
            "2/2 [==============================] - 0s 7ms/step - loss: 15.8498 - mae: 15.8498\n",
            "Epoch 19/100\n",
            "2/2 [==============================] - 0s 8ms/step - loss: 15.0047 - mae: 15.0047\n",
            "Epoch 20/100\n",
            "2/2 [==============================] - 0s 8ms/step - loss: 8.0106 - mae: 8.0106\n",
            "Epoch 21/100\n",
            "2/2 [==============================] - 0s 11ms/step - loss: 15.1307 - mae: 15.1307\n",
            "Epoch 22/100\n",
            "2/2 [==============================] - 0s 8ms/step - loss: 17.7448 - mae: 17.7448\n",
            "Epoch 23/100\n",
            "2/2 [==============================] - 0s 9ms/step - loss: 10.4858 - mae: 10.4858\n",
            "Epoch 24/100\n",
            "2/2 [==============================] - 0s 7ms/step - loss: 19.3628 - mae: 19.3628\n",
            "Epoch 25/100\n",
            "2/2 [==============================] - 0s 7ms/step - loss: 10.2972 - mae: 10.2972\n",
            "Epoch 26/100\n",
            "2/2 [==============================] - 0s 7ms/step - loss: 9.7646 - mae: 9.7646\n",
            "Epoch 27/100\n",
            "2/2 [==============================] - 0s 7ms/step - loss: 9.2220 - mae: 9.2220\n",
            "Epoch 28/100\n",
            "2/2 [==============================] - 0s 5ms/step - loss: 13.0323 - mae: 13.0323\n",
            "Epoch 29/100\n",
            "2/2 [==============================] - 0s 5ms/step - loss: 9.2086 - mae: 9.2086\n",
            "Epoch 30/100\n",
            "2/2 [==============================] - 0s 6ms/step - loss: 8.3147 - mae: 8.3147\n",
            "Epoch 31/100\n",
            "2/2 [==============================] - 0s 8ms/step - loss: 10.4594 - mae: 10.4594\n",
            "Epoch 32/100\n",
            "2/2 [==============================] - 0s 8ms/step - loss: 11.1805 - mae: 11.1805\n",
            "Epoch 33/100\n",
            "2/2 [==============================] - 0s 11ms/step - loss: 12.6657 - mae: 12.6657\n",
            "Epoch 34/100\n",
            "2/2 [==============================] - 0s 9ms/step - loss: 10.4477 - mae: 10.4477\n",
            "Epoch 35/100\n",
            "2/2 [==============================] - 0s 5ms/step - loss: 8.0045 - mae: 8.0045\n",
            "Epoch 36/100\n",
            "2/2 [==============================] - 0s 5ms/step - loss: 16.8099 - mae: 16.8099\n",
            "Epoch 37/100\n",
            "2/2 [==============================] - 0s 6ms/step - loss: 7.4400 - mae: 7.4400\n",
            "Epoch 38/100\n",
            "2/2 [==============================] - 0s 5ms/step - loss: 19.1987 - mae: 19.1987\n",
            "Epoch 39/100\n",
            "2/2 [==============================] - 0s 6ms/step - loss: 9.7403 - mae: 9.7403\n",
            "Epoch 40/100\n",
            "2/2 [==============================] - 0s 5ms/step - loss: 8.9630 - mae: 8.9630\n",
            "Epoch 41/100\n",
            "2/2 [==============================] - 0s 6ms/step - loss: 9.8574 - mae: 9.8574\n",
            "Epoch 42/100\n",
            "2/2 [==============================] - 0s 5ms/step - loss: 10.3646 - mae: 10.3646\n",
            "Epoch 43/100\n",
            "2/2 [==============================] - 0s 5ms/step - loss: 10.3151 - mae: 10.3151\n",
            "Epoch 44/100\n",
            "2/2 [==============================] - 0s 5ms/step - loss: 9.1643 - mae: 9.1643\n",
            "Epoch 45/100\n",
            "2/2 [==============================] - 0s 5ms/step - loss: 10.4607 - mae: 10.4607\n",
            "Epoch 46/100\n",
            "2/2 [==============================] - 0s 5ms/step - loss: 7.5670 - mae: 7.5670\n",
            "Epoch 47/100\n",
            "2/2 [==============================] - 0s 12ms/step - loss: 11.8843 - mae: 11.8843\n",
            "Epoch 48/100\n",
            "2/2 [==============================] - 0s 5ms/step - loss: 8.0431 - mae: 8.0431\n",
            "Epoch 49/100\n",
            "2/2 [==============================] - 0s 6ms/step - loss: 7.3312 - mae: 7.3312\n",
            "Epoch 50/100\n",
            "2/2 [==============================] - 0s 5ms/step - loss: 11.1412 - mae: 11.1412\n",
            "Epoch 51/100\n",
            "2/2 [==============================] - 0s 9ms/step - loss: 11.3312 - mae: 11.3312\n",
            "Epoch 52/100\n",
            "2/2 [==============================] - 0s 6ms/step - loss: 12.7006 - mae: 12.7006\n",
            "Epoch 53/100\n",
            "2/2 [==============================] - 0s 5ms/step - loss: 9.0872 - mae: 9.0872\n",
            "Epoch 54/100\n",
            "2/2 [==============================] - 0s 9ms/step - loss: 14.6987 - mae: 14.6987\n",
            "Epoch 55/100\n",
            "2/2 [==============================] - 0s 8ms/step - loss: 8.6949 - mae: 8.6949\n",
            "Epoch 56/100\n",
            "2/2 [==============================] - 0s 5ms/step - loss: 9.1959 - mae: 9.1959\n",
            "Epoch 57/100\n",
            "2/2 [==============================] - 0s 5ms/step - loss: 11.0737 - mae: 11.0737\n",
            "Epoch 58/100\n",
            "2/2 [==============================] - 0s 6ms/step - loss: 12.6743 - mae: 12.6743\n",
            "Epoch 59/100\n",
            "2/2 [==============================] - 0s 9ms/step - loss: 8.0921 - mae: 8.0921\n",
            "Epoch 60/100\n",
            "2/2 [==============================] - 0s 7ms/step - loss: 7.9992 - mae: 7.9992\n",
            "Epoch 61/100\n",
            "2/2 [==============================] - 0s 7ms/step - loss: 9.3700 - mae: 9.3700\n",
            "Epoch 62/100\n",
            "2/2 [==============================] - 0s 8ms/step - loss: 8.1554 - mae: 8.1554\n",
            "Epoch 63/100\n",
            "2/2 [==============================] - 0s 8ms/step - loss: 10.2773 - mae: 10.2773\n",
            "Epoch 64/100\n",
            "2/2 [==============================] - 0s 5ms/step - loss: 13.6382 - mae: 13.6382\n",
            "Epoch 65/100\n",
            "2/2 [==============================] - 0s 6ms/step - loss: 8.3937 - mae: 8.3937\n",
            "Epoch 66/100\n",
            "2/2 [==============================] - 0s 7ms/step - loss: 11.2814 - mae: 11.2814\n",
            "Epoch 67/100\n",
            "2/2 [==============================] - 0s 9ms/step - loss: 11.4146 - mae: 11.4146\n",
            "Epoch 68/100\n",
            "2/2 [==============================] - 0s 7ms/step - loss: 13.2736 - mae: 13.2736\n",
            "Epoch 69/100\n",
            "2/2 [==============================] - 0s 6ms/step - loss: 8.6157 - mae: 8.6157\n",
            "Epoch 70/100\n",
            "2/2 [==============================] - 0s 7ms/step - loss: 10.8561 - mae: 10.8561\n",
            "Epoch 71/100\n",
            "2/2 [==============================] - 0s 10ms/step - loss: 12.3087 - mae: 12.3087\n",
            "Epoch 72/100\n",
            "2/2 [==============================] - 0s 5ms/step - loss: 10.6557 - mae: 10.6557\n",
            "Epoch 73/100\n",
            "2/2 [==============================] - 0s 5ms/step - loss: 8.7586 - mae: 8.7586\n",
            "Epoch 74/100\n",
            "2/2 [==============================] - 0s 5ms/step - loss: 10.7175 - mae: 10.7175\n",
            "Epoch 75/100\n",
            "2/2 [==============================] - 0s 10ms/step - loss: 12.7987 - mae: 12.7987\n",
            "Epoch 76/100\n",
            "2/2 [==============================] - 0s 10ms/step - loss: 9.7257 - mae: 9.7257\n",
            "Epoch 77/100\n",
            "2/2 [==============================] - 0s 10ms/step - loss: 15.7501 - mae: 15.7501\n",
            "Epoch 78/100\n",
            "2/2 [==============================] - 0s 11ms/step - loss: 8.0651 - mae: 8.0651\n",
            "Epoch 79/100\n",
            "2/2 [==============================] - 0s 9ms/step - loss: 9.1224 - mae: 9.1224\n",
            "Epoch 80/100\n",
            "2/2 [==============================] - 0s 6ms/step - loss: 10.5962 - mae: 10.5962\n",
            "Epoch 81/100\n",
            "2/2 [==============================] - 0s 5ms/step - loss: 7.0376 - mae: 7.0376\n",
            "Epoch 82/100\n",
            "2/2 [==============================] - 0s 8ms/step - loss: 14.1674 - mae: 14.1674\n",
            "Epoch 83/100\n",
            "2/2 [==============================] - 0s 7ms/step - loss: 12.9513 - mae: 12.9513\n",
            "Epoch 84/100\n",
            "2/2 [==============================] - 0s 5ms/step - loss: 13.3764 - mae: 13.3764\n",
            "Epoch 85/100\n",
            "2/2 [==============================] - 0s 9ms/step - loss: 6.7501 - mae: 6.7501\n",
            "Epoch 86/100\n",
            "2/2 [==============================] - 0s 5ms/step - loss: 10.4400 - mae: 10.4400\n",
            "Epoch 87/100\n",
            "2/2 [==============================] - 0s 4ms/step - loss: 10.5598 - mae: 10.5598\n",
            "Epoch 88/100\n",
            "2/2 [==============================] - 0s 9ms/step - loss: 14.3725 - mae: 14.3725\n",
            "Epoch 89/100\n",
            "2/2 [==============================] - 0s 5ms/step - loss: 10.9169 - mae: 10.9169\n",
            "Epoch 90/100\n",
            "2/2 [==============================] - 0s 5ms/step - loss: 13.6928 - mae: 13.6928\n",
            "Epoch 91/100\n",
            "2/2 [==============================] - 0s 9ms/step - loss: 11.8159 - mae: 11.8159\n",
            "Epoch 92/100\n",
            "2/2 [==============================] - 0s 8ms/step - loss: 8.3141 - mae: 8.3141\n",
            "Epoch 93/100\n",
            "2/2 [==============================] - 0s 7ms/step - loss: 10.3091 - mae: 10.3091\n",
            "Epoch 94/100\n",
            "2/2 [==============================] - 0s 7ms/step - loss: 13.7616 - mae: 13.7616\n",
            "Epoch 95/100\n",
            "2/2 [==============================] - 0s 5ms/step - loss: 13.5581 - mae: 13.5581\n",
            "Epoch 96/100\n",
            "2/2 [==============================] - 0s 12ms/step - loss: 9.0485 - mae: 9.0485\n",
            "Epoch 97/100\n",
            "2/2 [==============================] - 0s 7ms/step - loss: 8.2203 - mae: 8.2203\n",
            "Epoch 98/100\n",
            "2/2 [==============================] - 0s 7ms/step - loss: 12.1756 - mae: 12.1756\n",
            "Epoch 99/100\n",
            "2/2 [==============================] - 0s 6ms/step - loss: 13.6004 - mae: 13.6004\n",
            "Epoch 100/100\n",
            "2/2 [==============================] - 0s 5ms/step - loss: 8.7562 - mae: 8.7562\n"
          ]
        },
        {
          "output_type": "execute_result",
          "data": {
            "text/plain": [
              "<keras.callbacks.History at 0x7fae9bf1fc90>"
            ]
          },
          "metadata": {},
          "execution_count": 74
        }
      ]
    },
    {
      "cell_type": "code",
      "source": [
        "#  make a plot preds for model_1\n",
        "\n",
        "y_preds_1 = tf.squeeze((model_1.predict(X_test)))\n",
        "plot_predictions(predictions= y_preds_1)"
      ],
      "metadata": {
        "colab": {
          "base_uri": "https://localhost:8080/",
          "height": 846
        },
        "id": "huZxp9l41tbB",
        "outputId": "886f9523-a479-432c-8cac-dfb806493d89"
      },
      "execution_count": 75,
      "outputs": [
        {
          "output_type": "stream",
          "name": "stdout",
          "text": [
            "1/1 [==============================] - 0s 51ms/step\n"
          ]
        },
        {
          "output_type": "execute_result",
          "data": {
            "text/plain": [
              "<function __main__.plot_predictions(train_data=<tf.Tensor: shape=(40,), dtype=float32, numpy=\n",
              "array([-100.,  -96.,  -92.,  -88.,  -84.,  -80.,  -76.,  -72.,  -68.,\n",
              "        -64.,  -60.,  -56.,  -52.,  -48.,  -44.,  -40.,  -36.,  -32.,\n",
              "        -28.,  -24.,  -20.,  -16.,  -12.,   -8.,   -4.,    0.,    4.,\n",
              "          8.,   12.,   16.,   20.,   24.,   28.,   32.,   36.,   40.,\n",
              "         44.,   48.,   52.,   56.], dtype=float32)>, train_labels=<tf.Tensor: shape=(40,), dtype=float32, numpy=\n",
              "array([-90., -86., -82., -78., -74., -70., -66., -62., -58., -54., -50.,\n",
              "       -46., -42., -38., -34., -30., -26., -22., -18., -14., -10.,  -6.,\n",
              "        -2.,   2.,   6.,  10.,  14.,  18.,  22.,  26.,  30.,  34.,  38.,\n",
              "        42.,  46.,  50.,  54.,  58.,  62.,  66.], dtype=float32)>, test_data=<tf.Tensor: shape=(10,), dtype=float32, numpy=array([60., 64., 68., 72., 76., 80., 84., 88., 92., 96.], dtype=float32)>, test_labels=<tf.Tensor: shape=(10,), dtype=float32, numpy=\n",
              "array([ 70.,  74.,  78.,  82.,  86.,  90.,  94.,  98., 102., 106.],\n",
              "      dtype=float32)>, predictions=array([[ 66.76198 ],\n",
              "       [ 71.12507 ],\n",
              "       [ 75.48816 ],\n",
              "       [ 79.85125 ],\n",
              "       [ 84.21434 ],\n",
              "       [ 88.57743 ],\n",
              "       [ 92.94052 ],\n",
              "       [ 97.30361 ],\n",
              "       [101.6667  ],\n",
              "       [106.029785]], dtype=float32))>"
            ]
          },
          "metadata": {},
          "execution_count": 75
        },
        {
          "output_type": "display_data",
          "data": {
            "text/plain": [
              "<Figure size 720x504 with 1 Axes>"
            ],
            "image/png": "[encoded data removed]"
          },
          "metadata": {
            "needs_background": "light"
          }
        }
      ]
    },
    {
      "cell_type": "code",
      "source": [
        "#  create model_1 evaluationmetrics\n",
        "\n",
        "mae_1 = mae(y_test, y_preds_1)\n",
        "mse_1 = mse(y_test, y_preds_1)\n",
        "\n",
        "mae_1, mse_1"
      ],
      "metadata": {
        "colab": {
          "base_uri": "https://localhost:8080/"
        },
        "id": "EBDuARlI2InD",
        "outputId": "6bf95afa-8a08-4248-91be-08e1f804f95c"
      },
      "execution_count": 76,
      "outputs": [
        {
          "output_type": "execute_result",
          "data": {
            "text/plain": [
              "(<tf.Tensor: shape=(), dtype=float32, numpy=1.6100724>,\n",
              " <tf.Tensor: shape=(), dtype=float32, numpy=3.6608195>)"
            ]
          },
          "metadata": {},
          "execution_count": 76
        }
      ]
    },
    {
      "cell_type": "code",
      "source": [],
      "metadata": {
        "id": "EvL9d2Tu6Omb"
      },
      "execution_count": null,
      "outputs": []
    }
  ]
}