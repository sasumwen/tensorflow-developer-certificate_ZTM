{
  "nbformat": 4,
  "nbformat_minor": 0,
  "metadata": {
    "colab": {
      "provenance": [],
      "authorship_tag": "ABX9TyM4WC9Zbg+XBP1XGt/UmnLM",
      "include_colab_link": true
    },
    "kernelspec": {
      "name": "python3",
      "display_name": "Python 3"
    },
    "language_info": {
      "name": "python"
    },
    "gpuClass": "premium"
  },
  "cells": [
    {
      "cell_type": "markdown",
      "metadata": {
        "id": "view-in-github",
        "colab_type": "text"
      },
      "source": [
        "<a href=\"https://colab.research.google.com/github/sasumwen/tensorflow-developer-certificate_ZTM/blob/main/01_Neural_Network_Regression_with_TensorFlow.ipynb\" target=\"_parent\"><img src=\"https://colab.research.google.com/assets/colab-badge.svg\" alt=\"Open In Colab\"/></a>"
      ]
    },
    {
      "cell_type": "markdown",
      "source": [
        "# Introduction to regression with NN in TF"
      ],
      "metadata": {
        "id": "yZBMbzlmmDhv"
      }
    },
    {
      "cell_type": "code",
      "source": [
        "import tensorflow as tf"
      ],
      "metadata": {
        "id": "Zx_Ib88tKv9C"
      },
      "execution_count": 2,
      "outputs": []
    },
    {
      "cell_type": "code",
      "source": [
        "tf.__version__"
      ],
      "metadata": {
        "colab": {
          "base_uri": "https://localhost:8080/",
          "height": 36
        },
        "id": "_di9x2rIK2JW",
        "outputId": "a2fcc93a-6d23-414d-d007-4a485fd776e0"
      },
      "execution_count": 3,
      "outputs": [
        {
          "output_type": "execute_result",
          "data": {
            "text/plain": [
              "'2.9.2'"
            ],
            "application/vnd.google.colaboratory.intrinsic+json": {
              "type": "string"
            }
          },
          "metadata": {},
          "execution_count": 3
        }
      ]
    },
    {
      "cell_type": "markdown",
      "source": [
        "### Create data to view and fit"
      ],
      "metadata": {
        "id": "2HHQzz_AK5mG"
      }
    },
    {
      "cell_type": "code",
      "source": [
        "import numpy as np\n",
        "import pandas as pd\n",
        "import matplotlib.pyplot as plt\n"
      ],
      "metadata": {
        "id": "w0UmksShLFSt"
      },
      "execution_count": 4,
      "outputs": []
    },
    {
      "cell_type": "code",
      "source": [
        "# create features \n",
        "X = np.array([-7.0, -4, -1, 2,5,8,11,14])\n",
        "\n",
        "# createlabels\n",
        "y = np.array([3.0,6,9,12,15,18,21,24])\n",
        "\n",
        "# visualize it\n",
        "plt.scatter(X,y)\n"
      ],
      "metadata": {
        "colab": {
          "base_uri": "https://localhost:8080/",
          "height": 287
        },
        "id": "Eo4DYjFILN5v",
        "outputId": "54f8d107-c9cf-4e84-8ff8-c59c30256f8c"
      },
      "execution_count": 5,
      "outputs": [
        {
          "output_type": "execute_result",
          "data": {
            "text/plain": [
              "<matplotlib.collections.PathCollection at 0x7fe8f84a7e50>"
            ]
          },
          "metadata": {},
          "execution_count": 5
        },
        {
          "output_type": "display_data",
          "data": {
            "text/plain": [
              "<Figure size 432x288 with 1 Axes>"
            ],
            "image/png": "[encoded data removed]"
          },
          "metadata": {
            "needs_background": "light"
          }
        }
      ]
    },
    {
      "cell_type": "markdown",
      "source": [
        "## input and output shapes\n"
      ],
      "metadata": {
        "id": "6ZjhHb-jLvfg"
      }
    },
    {
      "cell_type": "code",
      "source": [
        "# create a demo tensor for housing price prediction prob\n",
        "house_info = tf.constant([\"bedroom\", \"bathroom\", \"garage\"])\n",
        "house_price = tf.constant([939700])\n",
        "house_info, house_price"
      ],
      "metadata": {
        "colab": {
          "base_uri": "https://localhost:8080/"
        },
        "id": "m0fCJQsqMAnF",
        "outputId": "41ef8f33-e813-4a09-9d34-ea679486ded5"
      },
      "execution_count": 6,
      "outputs": [
        {
          "output_type": "execute_result",
          "data": {
            "text/plain": [
              "(<tf.Tensor: shape=(3,), dtype=string, numpy=array([b'bedroom', b'bathroom', b'garage'], dtype=object)>,\n",
              " <tf.Tensor: shape=(1,), dtype=int32, numpy=array([939700], dtype=int32)>)"
            ]
          },
          "metadata": {},
          "execution_count": 6
        }
      ]
    },
    {
      "cell_type": "code",
      "source": [
        "# turn our np into tf\n",
        "X = tf.constant(X)\n",
        "y = tf.constant(y)\n",
        "X,y"
      ],
      "metadata": {
        "colab": {
          "base_uri": "https://localhost:8080/"
        },
        "id": "rlFycJ6zMWQj",
        "outputId": "4494852f-6f19-4289-9697-11e7eae6b94e"
      },
      "execution_count": 7,
      "outputs": [
        {
          "output_type": "execute_result",
          "data": {
            "text/plain": [
              "(<tf.Tensor: shape=(8,), dtype=float64, numpy=array([-7., -4., -1.,  2.,  5.,  8., 11., 14.])>,\n",
              " <tf.Tensor: shape=(8,), dtype=float64, numpy=array([ 3.,  6.,  9., 12., 15., 18., 21., 24.])>)"
            ]
          },
          "metadata": {},
          "execution_count": 7
        }
      ]
    },
    {
      "cell_type": "markdown",
      "source": [
        "## steps in modelling in TensorFlow\n",
        "\n",
        "1. Creating a model - define the input and output layer, as well as the hidden layers of a deep learning model\n",
        "2. COmpiling a model - define the loss function (in other words, the funciton which tells the model how wrong it is) and th eoptimizer ( tells our model how to improve its learning) and the evaluation metrics (what we can use to interprest the performance of our model)\n",
        "3. Fitting a model - letting the model try to find patterns between X and y (features and labels)"
      ],
      "metadata": {
        "id": "QQd6z9bGPrW0"
      }
    },
    {
      "cell_type": "code",
      "source": [
        "#  set random see\n",
        "tf.random.set_seed(84)\n",
        "\n",
        "#1. Create a model using Sequential API\n",
        "model = tf.keras.Sequential([\n",
        "    tf.keras.layers.Dense(1)\n",
        "])\n",
        "\n",
        "# 2, compile the model\n",
        "model.compile(loss=tf.keras.losses.mae, #mae is short for mean absolute error\n",
        "              optimizer = tf.keras.optimizers.SGD(), # sgd is stochastic gradient descent\n",
        "              metrics=[\"mae\"])\n",
        "\n",
        "# 3. fit the model\n",
        "model.fit(tf.expand_dims(X, axis=-1),y,epochs=5)"
      ],
      "metadata": {
        "id": "aWzen9ATtktd",
        "colab": {
          "base_uri": "https://localhost:8080/"
        },
        "outputId": "aaecfc23-87a6-494c-cfee-4437a7cabe44"
      },
      "execution_count": 8,
      "outputs": [
        {
          "output_type": "stream",
          "name": "stdout",
          "text": [
            "Epoch 1/5\n",
            "1/1 [==============================] - 2s 2s/step - loss: 11.3754 - mae: 11.3754\n",
            "Epoch 2/5\n",
            "1/1 [==============================] - 0s 11ms/step - loss: 11.2429 - mae: 11.2429\n",
            "Epoch 3/5\n",
            "1/1 [==============================] - 0s 23ms/step - loss: 11.1104 - mae: 11.1104\n",
            "Epoch 4/5\n",
            "1/1 [==============================] - 0s 16ms/step - loss: 10.9779 - mae: 10.9779\n",
            "Epoch 5/5\n",
            "1/1 [==============================] - 0s 15ms/step - loss: 10.8454 - mae: 10.8454\n"
          ]
        },
        {
          "output_type": "execute_result",
          "data": {
            "text/plain": [
              "<keras.callbacks.History at 0x7fe8f3d26c10>"
            ]
          },
          "metadata": {},
          "execution_count": 8
        }
      ]
    },
    {
      "cell_type": "code",
      "source": [
        "# check out X and y\n",
        "X, y"
      ],
      "metadata": {
        "colab": {
          "base_uri": "https://localhost:8080/"
        },
        "id": "BToP9ZWELHMg",
        "outputId": "e5641458-1cbd-4fec-bc2e-f23d505bdce5"
      },
      "execution_count": 9,
      "outputs": [
        {
          "output_type": "execute_result",
          "data": {
            "text/plain": [
              "(<tf.Tensor: shape=(8,), dtype=float64, numpy=array([-7., -4., -1.,  2.,  5.,  8., 11., 14.])>,\n",
              " <tf.Tensor: shape=(8,), dtype=float64, numpy=array([ 3.,  6.,  9., 12., 15., 18., 21., 24.])>)"
            ]
          },
          "metadata": {},
          "execution_count": 9
        }
      ]
    },
    {
      "cell_type": "code",
      "source": [
        "# try to make pres using the model\n",
        "model.predict([17])"
      ],
      "metadata": {
        "colab": {
          "base_uri": "https://localhost:8080/"
        },
        "id": "SjksUw7rMNrm",
        "outputId": "4050aef7-1c06-454d-de4b-9032083b67f7"
      },
      "execution_count": 10,
      "outputs": [
        {
          "output_type": "stream",
          "name": "stdout",
          "text": [
            "1/1 [==============================] - 0s 170ms/step\n"
          ]
        },
        {
          "output_type": "execute_result",
          "data": {
            "text/plain": [
              "array([[13.344376]], dtype=float32)"
            ]
          },
          "metadata": {},
          "execution_count": 10
        }
      ]
    },
    {
      "cell_type": "markdown",
      "source": [
        "## Improving our model\n",
        "\n",
        "We can improve our model, by altering the steps we took to create a model\n",
        "\n",
        "1. **Creating a Mocel** - here we might add more hiden layers, increate the number of hiden units( all called neurons) within each of the hiden layers, chage the activation function of each layer\n",
        "\n",
        "2. **Compiling a model** - here we might change the optimixzation function or perhaps the learning rate of the opt function\n",
        "\n",
        "3. **fitting a model** - here fit a model fo more epochs( leave it trian long) or give it more features tol learn from"
      ],
      "metadata": {
        "id": "V0zIFOycMTMc"
      }
    },
    {
      "cell_type": "code",
      "source": [
        "# lets rebuild the model\n",
        "# 1 create the model\n",
        "model= tf.keras.Sequential([\n",
        "    tf.keras.layers.Dense(1)\n",
        "])\n",
        "\n",
        "# 2 compile\n",
        "model.compile(\n",
        "    loss = tf.keras.losses.mae,\n",
        "    optimizer = tf.keras.optimizers.SGD(),\n",
        "    metrics=[\"mae\"]\n",
        ")\n",
        "\n",
        "# 3 fit\n",
        "\n",
        "model.fit(tf.expand_dims(X, axis=-1,), y, epochs=100)"
      ],
      "metadata": {
        "colab": {
          "base_uri": "https://localhost:8080/"
        },
        "id": "owfNkpjiMkHy",
        "outputId": "6f82ea1d-9184-423c-9664-a8187d171cdf"
      },
      "execution_count": 11,
      "outputs": [
        {
          "output_type": "stream",
          "name": "stdout",
          "text": [
            "Epoch 1/100\n",
            "1/1 [==============================] - 0s 354ms/step - loss: 16.8805 - mae: 16.8805\n",
            "Epoch 2/100\n",
            "1/1 [==============================] - 0s 11ms/step - loss: 16.5993 - mae: 16.5993\n",
            "Epoch 3/100\n",
            "1/1 [==============================] - 0s 10ms/step - loss: 16.3180 - mae: 16.3180\n",
            "Epoch 4/100\n",
            "1/1 [==============================] - 0s 11ms/step - loss: 16.0368 - mae: 16.0368\n",
            "Epoch 5/100\n",
            "1/1 [==============================] - 0s 11ms/step - loss: 15.7555 - mae: 15.7555\n",
            "Epoch 6/100\n",
            "1/1 [==============================] - 0s 8ms/step - loss: 15.4743 - mae: 15.4743\n",
            "Epoch 7/100\n",
            "1/1 [==============================] - 0s 14ms/step - loss: 15.1930 - mae: 15.1930\n",
            "Epoch 8/100\n",
            "1/1 [==============================] - 0s 9ms/step - loss: 14.9149 - mae: 14.9149\n",
            "Epoch 9/100\n",
            "1/1 [==============================] - 0s 9ms/step - loss: 14.7824 - mae: 14.7824\n",
            "Epoch 10/100\n",
            "1/1 [==============================] - 0s 7ms/step - loss: 14.6499 - mae: 14.6499\n",
            "Epoch 11/100\n",
            "1/1 [==============================] - 0s 10ms/step - loss: 14.5174 - mae: 14.5174\n",
            "Epoch 12/100\n",
            "1/1 [==============================] - 0s 11ms/step - loss: 14.3849 - mae: 14.3849\n",
            "Epoch 13/100\n",
            "1/1 [==============================] - 0s 9ms/step - loss: 14.2524 - mae: 14.2524\n",
            "Epoch 14/100\n",
            "1/1 [==============================] - 0s 7ms/step - loss: 14.1199 - mae: 14.1199\n",
            "Epoch 15/100\n",
            "1/1 [==============================] - 0s 7ms/step - loss: 13.9874 - mae: 13.9874\n",
            "Epoch 16/100\n",
            "1/1 [==============================] - 0s 9ms/step - loss: 13.8549 - mae: 13.8549\n",
            "Epoch 17/100\n",
            "1/1 [==============================] - 0s 7ms/step - loss: 13.7224 - mae: 13.7224\n",
            "Epoch 18/100\n",
            "1/1 [==============================] - 0s 9ms/step - loss: 13.5899 - mae: 13.5899\n",
            "Epoch 19/100\n",
            "1/1 [==============================] - 0s 8ms/step - loss: 13.4574 - mae: 13.4574\n",
            "Epoch 20/100\n",
            "1/1 [==============================] - 0s 6ms/step - loss: 13.3249 - mae: 13.3249\n",
            "Epoch 21/100\n",
            "1/1 [==============================] - 0s 9ms/step - loss: 13.1924 - mae: 13.1924\n",
            "Epoch 22/100\n",
            "1/1 [==============================] - 0s 7ms/step - loss: 13.0599 - mae: 13.0599\n",
            "Epoch 23/100\n",
            "1/1 [==============================] - 0s 11ms/step - loss: 12.9274 - mae: 12.9274\n",
            "Epoch 24/100\n",
            "1/1 [==============================] - 0s 7ms/step - loss: 12.7949 - mae: 12.7949\n",
            "Epoch 25/100\n",
            "1/1 [==============================] - 0s 7ms/step - loss: 12.6624 - mae: 12.6624\n",
            "Epoch 26/100\n",
            "1/1 [==============================] - 0s 10ms/step - loss: 12.5299 - mae: 12.5299\n",
            "Epoch 27/100\n",
            "1/1 [==============================] - 0s 7ms/step - loss: 12.3974 - mae: 12.3974\n",
            "Epoch 28/100\n",
            "1/1 [==============================] - 0s 9ms/step - loss: 12.2649 - mae: 12.2649\n",
            "Epoch 29/100\n",
            "1/1 [==============================] - 0s 8ms/step - loss: 12.1324 - mae: 12.1324\n",
            "Epoch 30/100\n",
            "1/1 [==============================] - 0s 8ms/step - loss: 11.9999 - mae: 11.9999\n",
            "Epoch 31/100\n",
            "1/1 [==============================] - 0s 7ms/step - loss: 11.8674 - mae: 11.8674\n",
            "Epoch 32/100\n",
            "1/1 [==============================] - 0s 8ms/step - loss: 11.7349 - mae: 11.7349\n",
            "Epoch 33/100\n",
            "1/1 [==============================] - 0s 9ms/step - loss: 11.6024 - mae: 11.6024\n",
            "Epoch 34/100\n",
            "1/1 [==============================] - 0s 7ms/step - loss: 11.4699 - mae: 11.4699\n",
            "Epoch 35/100\n",
            "1/1 [==============================] - 0s 9ms/step - loss: 11.3374 - mae: 11.3374\n",
            "Epoch 36/100\n",
            "1/1 [==============================] - 0s 12ms/step - loss: 11.2049 - mae: 11.2049\n",
            "Epoch 37/100\n",
            "1/1 [==============================] - 0s 8ms/step - loss: 11.0724 - mae: 11.0724\n",
            "Epoch 38/100\n",
            "1/1 [==============================] - 0s 8ms/step - loss: 10.9399 - mae: 10.9399\n",
            "Epoch 39/100\n",
            "1/1 [==============================] - 0s 11ms/step - loss: 10.8074 - mae: 10.8074\n",
            "Epoch 40/100\n",
            "1/1 [==============================] - 0s 8ms/step - loss: 10.6749 - mae: 10.6749\n",
            "Epoch 41/100\n",
            "1/1 [==============================] - 0s 18ms/step - loss: 10.5424 - mae: 10.5424\n",
            "Epoch 42/100\n",
            "1/1 [==============================] - 0s 7ms/step - loss: 10.4099 - mae: 10.4099\n",
            "Epoch 43/100\n",
            "1/1 [==============================] - 0s 11ms/step - loss: 10.2774 - mae: 10.2774\n",
            "Epoch 44/100\n",
            "1/1 [==============================] - 0s 9ms/step - loss: 10.1449 - mae: 10.1449\n",
            "Epoch 45/100\n",
            "1/1 [==============================] - 0s 11ms/step - loss: 10.0124 - mae: 10.0124\n",
            "Epoch 46/100\n",
            "1/1 [==============================] - 0s 7ms/step - loss: 9.8799 - mae: 9.8799\n",
            "Epoch 47/100\n",
            "1/1 [==============================] - 0s 9ms/step - loss: 9.7474 - mae: 9.7474\n",
            "Epoch 48/100\n",
            "1/1 [==============================] - 0s 8ms/step - loss: 9.6149 - mae: 9.6149\n",
            "Epoch 49/100\n",
            "1/1 [==============================] - 0s 10ms/step - loss: 9.4824 - mae: 9.4824\n",
            "Epoch 50/100\n",
            "1/1 [==============================] - 0s 9ms/step - loss: 9.3499 - mae: 9.3499\n",
            "Epoch 51/100\n",
            "1/1 [==============================] - 0s 9ms/step - loss: 9.2174 - mae: 9.2174\n",
            "Epoch 52/100\n",
            "1/1 [==============================] - 0s 10ms/step - loss: 9.0849 - mae: 9.0849\n",
            "Epoch 53/100\n",
            "1/1 [==============================] - 0s 9ms/step - loss: 8.9524 - mae: 8.9524\n",
            "Epoch 54/100\n",
            "1/1 [==============================] - 0s 10ms/step - loss: 8.8199 - mae: 8.8199\n",
            "Epoch 55/100\n",
            "1/1 [==============================] - 0s 8ms/step - loss: 8.6874 - mae: 8.6874\n",
            "Epoch 56/100\n",
            "1/1 [==============================] - 0s 9ms/step - loss: 8.5549 - mae: 8.5549\n",
            "Epoch 57/100\n",
            "1/1 [==============================] - 0s 9ms/step - loss: 8.4224 - mae: 8.4224\n",
            "Epoch 58/100\n",
            "1/1 [==============================] - 0s 8ms/step - loss: 8.2899 - mae: 8.2899\n",
            "Epoch 59/100\n",
            "1/1 [==============================] - 0s 13ms/step - loss: 8.1574 - mae: 8.1574\n",
            "Epoch 60/100\n",
            "1/1 [==============================] - 0s 8ms/step - loss: 8.0249 - mae: 8.0249\n",
            "Epoch 61/100\n",
            "1/1 [==============================] - 0s 7ms/step - loss: 7.8924 - mae: 7.8924\n",
            "Epoch 62/100\n",
            "1/1 [==============================] - 0s 12ms/step - loss: 7.7599 - mae: 7.7599\n",
            "Epoch 63/100\n",
            "1/1 [==============================] - 0s 8ms/step - loss: 7.6274 - mae: 7.6274\n",
            "Epoch 64/100\n",
            "1/1 [==============================] - 0s 7ms/step - loss: 7.4949 - mae: 7.4949\n",
            "Epoch 65/100\n",
            "1/1 [==============================] - 0s 6ms/step - loss: 7.3624 - mae: 7.3624\n",
            "Epoch 66/100\n",
            "1/1 [==============================] - 0s 9ms/step - loss: 7.2299 - mae: 7.2299\n",
            "Epoch 67/100\n",
            "1/1 [==============================] - 0s 7ms/step - loss: 7.0974 - mae: 7.0974\n",
            "Epoch 68/100\n",
            "1/1 [==============================] - 0s 8ms/step - loss: 7.0106 - mae: 7.0106\n",
            "Epoch 69/100\n",
            "1/1 [==============================] - 0s 9ms/step - loss: 7.0050 - mae: 7.0050\n",
            "Epoch 70/100\n",
            "1/1 [==============================] - 0s 7ms/step - loss: 6.9994 - mae: 6.9994\n",
            "Epoch 71/100\n",
            "1/1 [==============================] - 0s 7ms/step - loss: 6.9938 - mae: 6.9938\n",
            "Epoch 72/100\n",
            "1/1 [==============================] - 0s 6ms/step - loss: 6.9881 - mae: 6.9881\n",
            "Epoch 73/100\n",
            "1/1 [==============================] - 0s 7ms/step - loss: 6.9825 - mae: 6.9825\n",
            "Epoch 74/100\n",
            "1/1 [==============================] - 0s 6ms/step - loss: 6.9769 - mae: 6.9769\n",
            "Epoch 75/100\n",
            "1/1 [==============================] - 0s 6ms/step - loss: 6.9713 - mae: 6.9713\n",
            "Epoch 76/100\n",
            "1/1 [==============================] - 0s 6ms/step - loss: 6.9656 - mae: 6.9656\n",
            "Epoch 77/100\n",
            "1/1 [==============================] - 0s 8ms/step - loss: 6.9600 - mae: 6.9600\n",
            "Epoch 78/100\n",
            "1/1 [==============================] - 0s 7ms/step - loss: 6.9544 - mae: 6.9544\n",
            "Epoch 79/100\n",
            "1/1 [==============================] - 0s 7ms/step - loss: 6.9488 - mae: 6.9488\n",
            "Epoch 80/100\n",
            "1/1 [==============================] - 0s 8ms/step - loss: 6.9431 - mae: 6.9431\n",
            "Epoch 81/100\n",
            "1/1 [==============================] - 0s 7ms/step - loss: 6.9375 - mae: 6.9375\n",
            "Epoch 82/100\n",
            "1/1 [==============================] - 0s 7ms/step - loss: 6.9319 - mae: 6.9319\n",
            "Epoch 83/100\n",
            "1/1 [==============================] - 0s 7ms/step - loss: 6.9263 - mae: 6.9263\n",
            "Epoch 84/100\n",
            "1/1 [==============================] - 0s 8ms/step - loss: 6.9206 - mae: 6.9206\n",
            "Epoch 85/100\n",
            "1/1 [==============================] - 0s 10ms/step - loss: 6.9150 - mae: 6.9150\n",
            "Epoch 86/100\n",
            "1/1 [==============================] - 0s 9ms/step - loss: 6.9094 - mae: 6.9094\n",
            "Epoch 87/100\n",
            "1/1 [==============================] - 0s 8ms/step - loss: 6.9038 - mae: 6.9038\n",
            "Epoch 88/100\n",
            "1/1 [==============================] - 0s 7ms/step - loss: 6.8981 - mae: 6.8981\n",
            "Epoch 89/100\n",
            "1/1 [==============================] - 0s 6ms/step - loss: 6.8925 - mae: 6.8925\n",
            "Epoch 90/100\n",
            "1/1 [==============================] - 0s 7ms/step - loss: 6.8869 - mae: 6.8869\n",
            "Epoch 91/100\n",
            "1/1 [==============================] - 0s 6ms/step - loss: 6.8813 - mae: 6.8813\n",
            "Epoch 92/100\n",
            "1/1 [==============================] - 0s 6ms/step - loss: 6.8756 - mae: 6.8756\n",
            "Epoch 93/100\n",
            "1/1 [==============================] - 0s 8ms/step - loss: 6.8700 - mae: 6.8700\n",
            "Epoch 94/100\n",
            "1/1 [==============================] - 0s 8ms/step - loss: 6.8644 - mae: 6.8644\n",
            "Epoch 95/100\n",
            "1/1 [==============================] - 0s 7ms/step - loss: 6.8588 - mae: 6.8588\n",
            "Epoch 96/100\n",
            "1/1 [==============================] - 0s 8ms/step - loss: 6.8531 - mae: 6.8531\n",
            "Epoch 97/100\n",
            "1/1 [==============================] - 0s 7ms/step - loss: 6.8475 - mae: 6.8475\n",
            "Epoch 98/100\n",
            "1/1 [==============================] - 0s 7ms/step - loss: 6.8419 - mae: 6.8419\n",
            "Epoch 99/100\n",
            "1/1 [==============================] - 0s 7ms/step - loss: 6.8363 - mae: 6.8363\n",
            "Epoch 100/100\n",
            "1/1 [==============================] - 0s 7ms/step - loss: 6.8306 - mae: 6.8306\n"
          ]
        },
        {
          "output_type": "execute_result",
          "data": {
            "text/plain": [
              "<keras.callbacks.History at 0x7fe8f3c460d0>"
            ]
          },
          "metadata": {},
          "execution_count": 11
        }
      ]
    },
    {
      "cell_type": "code",
      "source": [
        "# recall the data\n",
        "X, y"
      ],
      "metadata": {
        "colab": {
          "base_uri": "https://localhost:8080/"
        },
        "id": "QACAsuGQYFPf",
        "outputId": "475d2b54-8ede-4b92-ea54-29f16dd8e582"
      },
      "execution_count": 12,
      "outputs": [
        {
          "output_type": "execute_result",
          "data": {
            "text/plain": [
              "(<tf.Tensor: shape=(8,), dtype=float64, numpy=array([-7., -4., -1.,  2.,  5.,  8., 11., 14.])>,\n",
              " <tf.Tensor: shape=(8,), dtype=float64, numpy=array([ 3.,  6.,  9., 12., 15., 18., 21., 24.])>)"
            ]
          },
          "metadata": {},
          "execution_count": 12
        }
      ]
    },
    {
      "cell_type": "code",
      "source": [
        "# see if the prediction has imporved\n",
        "model.predict([17])"
      ],
      "metadata": {
        "colab": {
          "base_uri": "https://localhost:8080/"
        },
        "id": "u1nprVmGYNdl",
        "outputId": "e5607554-e249-4df5-bea9-5098769c4b18"
      },
      "execution_count": 13,
      "outputs": [
        {
          "output_type": "stream",
          "name": "stdout",
          "text": [
            "1/1 [==============================] - 0s 227ms/step\n"
          ]
        },
        {
          "output_type": "execute_result",
          "data": {
            "text/plain": [
              "array([[29.472445]], dtype=float32)"
            ]
          },
          "metadata": {},
          "execution_count": 13
        }
      ]
    },
    {
      "cell_type": "code",
      "source": [
        "# let try again\n",
        "\n",
        "model = tf.keras.Sequential([\n",
        "    tf.keras.layers.Dense(100, activation = \"relu\"),\n",
        "   \n",
        "    \n",
        "    tf.keras.layers.Dense(1)\n",
        "])\n",
        "\n",
        "model.compile(\n",
        "    loss = tf.keras.losses.mae,\n",
        "    optimizer = tf.keras.optimizers.SGD(),\n",
        "    metrics = [\"mae\"]\n",
        ")\n",
        "\n",
        "model.fit(tf.expand_dims(X, axis=-1), y, epochs = 100)"
      ],
      "metadata": {
        "colab": {
          "base_uri": "https://localhost:8080/"
        },
        "id": "dkK0qinIYUT5",
        "outputId": "a3e4359b-9533-4167-c50d-8f69261d0f92"
      },
      "execution_count": 14,
      "outputs": [
        {
          "output_type": "stream",
          "name": "stdout",
          "text": [
            "Epoch 1/100\n",
            "1/1 [==============================] - 0s 464ms/step - loss: 14.3905 - mae: 14.3905\n",
            "Epoch 2/100\n",
            "1/1 [==============================] - 0s 11ms/step - loss: 13.7663 - mae: 13.7663\n",
            "Epoch 3/100\n",
            "1/1 [==============================] - 0s 14ms/step - loss: 13.1458 - mae: 13.1458\n",
            "Epoch 4/100\n",
            "1/1 [==============================] - 0s 10ms/step - loss: 12.5231 - mae: 12.5231\n",
            "Epoch 5/100\n",
            "1/1 [==============================] - 0s 13ms/step - loss: 11.8935 - mae: 11.8935\n",
            "Epoch 6/100\n",
            "1/1 [==============================] - 0s 6ms/step - loss: 11.2493 - mae: 11.2493\n",
            "Epoch 7/100\n",
            "1/1 [==============================] - 0s 9ms/step - loss: 10.5914 - mae: 10.5914\n",
            "Epoch 8/100\n",
            "1/1 [==============================] - 0s 6ms/step - loss: 9.9217 - mae: 9.9217\n",
            "Epoch 9/100\n",
            "1/1 [==============================] - 0s 9ms/step - loss: 9.2212 - mae: 9.2212\n",
            "Epoch 10/100\n",
            "1/1 [==============================] - 0s 6ms/step - loss: 8.4940 - mae: 8.4940\n",
            "Epoch 11/100\n",
            "1/1 [==============================] - 0s 7ms/step - loss: 7.7228 - mae: 7.7228\n",
            "Epoch 12/100\n",
            "1/1 [==============================] - 0s 7ms/step - loss: 6.9058 - mae: 6.9058\n",
            "Epoch 13/100\n",
            "1/1 [==============================] - 0s 9ms/step - loss: 6.0320 - mae: 6.0320\n",
            "Epoch 14/100\n",
            "1/1 [==============================] - 0s 6ms/step - loss: 5.0910 - mae: 5.0910\n",
            "Epoch 15/100\n",
            "1/1 [==============================] - 0s 6ms/step - loss: 4.4204 - mae: 4.4204\n",
            "Epoch 16/100\n",
            "1/1 [==============================] - 0s 7ms/step - loss: 4.2843 - mae: 4.2843\n",
            "Epoch 17/100\n",
            "1/1 [==============================] - 0s 8ms/step - loss: 4.2490 - mae: 4.2490\n",
            "Epoch 18/100\n",
            "1/1 [==============================] - 0s 8ms/step - loss: 4.1878 - mae: 4.1878\n",
            "Epoch 19/100\n",
            "1/1 [==============================] - 0s 9ms/step - loss: 4.1864 - mae: 4.1864\n",
            "Epoch 20/100\n",
            "1/1 [==============================] - 0s 7ms/step - loss: 4.0902 - mae: 4.0902\n",
            "Epoch 21/100\n",
            "1/1 [==============================] - 0s 8ms/step - loss: 4.1232 - mae: 4.1232\n",
            "Epoch 22/100\n",
            "1/1 [==============================] - 0s 7ms/step - loss: 4.0187 - mae: 4.0187\n",
            "Epoch 23/100\n",
            "1/1 [==============================] - 0s 9ms/step - loss: 4.0325 - mae: 4.0325\n",
            "Epoch 24/100\n",
            "1/1 [==============================] - 0s 11ms/step - loss: 3.9541 - mae: 3.9541\n",
            "Epoch 25/100\n",
            "1/1 [==============================] - 0s 11ms/step - loss: 3.9326 - mae: 3.9326\n",
            "Epoch 26/100\n",
            "1/1 [==============================] - 0s 12ms/step - loss: 3.8979 - mae: 3.8979\n",
            "Epoch 27/100\n",
            "1/1 [==============================] - 0s 11ms/step - loss: 3.8788 - mae: 3.8788\n",
            "Epoch 28/100\n",
            "1/1 [==============================] - 0s 18ms/step - loss: 3.9071 - mae: 3.9071\n",
            "Epoch 29/100\n",
            "1/1 [==============================] - 0s 11ms/step - loss: 3.8584 - mae: 3.8584\n",
            "Epoch 30/100\n",
            "1/1 [==============================] - 0s 8ms/step - loss: 3.9199 - mae: 3.9199\n",
            "Epoch 31/100\n",
            "1/1 [==============================] - 0s 7ms/step - loss: 3.8510 - mae: 3.8510\n",
            "Epoch 32/100\n",
            "1/1 [==============================] - 0s 8ms/step - loss: 3.9087 - mae: 3.9087\n",
            "Epoch 33/100\n",
            "1/1 [==============================] - 0s 8ms/step - loss: 3.8590 - mae: 3.8590\n",
            "Epoch 34/100\n",
            "1/1 [==============================] - 0s 7ms/step - loss: 3.8831 - mae: 3.8831\n",
            "Epoch 35/100\n",
            "1/1 [==============================] - 0s 8ms/step - loss: 3.8671 - mae: 3.8671\n",
            "Epoch 36/100\n",
            "1/1 [==============================] - 0s 8ms/step - loss: 3.8572 - mae: 3.8572\n",
            "Epoch 37/100\n",
            "1/1 [==============================] - 0s 14ms/step - loss: 3.8784 - mae: 3.8784\n",
            "Epoch 38/100\n",
            "1/1 [==============================] - 0s 11ms/step - loss: 3.8365 - mae: 3.8365\n",
            "Epoch 39/100\n",
            "1/1 [==============================] - 0s 13ms/step - loss: 3.8896 - mae: 3.8896\n",
            "Epoch 40/100\n",
            "1/1 [==============================] - 0s 7ms/step - loss: 3.8211 - mae: 3.8211\n",
            "Epoch 41/100\n",
            "1/1 [==============================] - 0s 7ms/step - loss: 3.8861 - mae: 3.8861\n",
            "Epoch 42/100\n",
            "1/1 [==============================] - 0s 9ms/step - loss: 3.8294 - mae: 3.8294\n",
            "Epoch 43/100\n",
            "1/1 [==============================] - 0s 7ms/step - loss: 3.8600 - mae: 3.8600\n",
            "Epoch 44/100\n",
            "1/1 [==============================] - 0s 7ms/step - loss: 3.8378 - mae: 3.8378\n",
            "Epoch 45/100\n",
            "1/1 [==============================] - 0s 8ms/step - loss: 3.8339 - mae: 3.8339\n",
            "Epoch 46/100\n",
            "1/1 [==============================] - 0s 7ms/step - loss: 3.8511 - mae: 3.8511\n",
            "Epoch 47/100\n",
            "1/1 [==============================] - 0s 8ms/step - loss: 3.8129 - mae: 3.8129\n",
            "Epoch 48/100\n",
            "1/1 [==============================] - 0s 8ms/step - loss: 3.8606 - mae: 3.8606\n",
            "Epoch 49/100\n",
            "1/1 [==============================] - 0s 8ms/step - loss: 3.7925 - mae: 3.7925\n",
            "Epoch 50/100\n",
            "1/1 [==============================] - 0s 8ms/step - loss: 3.8621 - mae: 3.8621\n",
            "Epoch 51/100\n",
            "1/1 [==============================] - 0s 8ms/step - loss: 3.8010 - mae: 3.8010\n",
            "Epoch 52/100\n",
            "1/1 [==============================] - 0s 7ms/step - loss: 3.8358 - mae: 3.8358\n",
            "Epoch 53/100\n",
            "1/1 [==============================] - 0s 11ms/step - loss: 3.8096 - mae: 3.8096\n",
            "Epoch 54/100\n",
            "1/1 [==============================] - 0s 11ms/step - loss: 3.8107 - mae: 3.8107\n",
            "Epoch 55/100\n",
            "1/1 [==============================] - 0s 9ms/step - loss: 3.8241 - mae: 3.8241\n",
            "Epoch 56/100\n",
            "1/1 [==============================] - 0s 7ms/step - loss: 3.7880 - mae: 3.7880\n",
            "Epoch 57/100\n",
            "1/1 [==============================] - 0s 8ms/step - loss: 3.8328 - mae: 3.8328\n",
            "Epoch 58/100\n",
            "1/1 [==============================] - 0s 6ms/step - loss: 3.7650 - mae: 3.7650\n",
            "Epoch 59/100\n",
            "1/1 [==============================] - 0s 6ms/step - loss: 3.8368 - mae: 3.8368\n",
            "Epoch 60/100\n",
            "1/1 [==============================] - 0s 6ms/step - loss: 3.7737 - mae: 3.7737\n",
            "Epoch 61/100\n",
            "1/1 [==============================] - 0s 6ms/step - loss: 3.8102 - mae: 3.8102\n",
            "Epoch 62/100\n",
            "1/1 [==============================] - 0s 6ms/step - loss: 3.7824 - mae: 3.7824\n",
            "Epoch 63/100\n",
            "1/1 [==============================] - 0s 8ms/step - loss: 3.7864 - mae: 3.7864\n",
            "Epoch 64/100\n",
            "1/1 [==============================] - 0s 7ms/step - loss: 3.7971 - mae: 3.7971\n",
            "Epoch 65/100\n",
            "1/1 [==============================] - 0s 9ms/step - loss: 3.7618 - mae: 3.7618\n",
            "Epoch 66/100\n",
            "1/1 [==============================] - 0s 7ms/step - loss: 3.8060 - mae: 3.8060\n",
            "Epoch 67/100\n",
            "1/1 [==============================] - 0s 6ms/step - loss: 3.7385 - mae: 3.7385\n",
            "Epoch 68/100\n",
            "1/1 [==============================] - 0s 6ms/step - loss: 3.8102 - mae: 3.8102\n",
            "Epoch 69/100\n",
            "1/1 [==============================] - 0s 7ms/step - loss: 3.7474 - mae: 3.7474\n",
            "Epoch 70/100\n",
            "1/1 [==============================] - 0s 6ms/step - loss: 3.7833 - mae: 3.7833\n",
            "Epoch 71/100\n",
            "1/1 [==============================] - 0s 6ms/step - loss: 3.7564 - mae: 3.7564\n",
            "Epoch 72/100\n",
            "1/1 [==============================] - 0s 7ms/step - loss: 3.7606 - mae: 3.7606\n",
            "Epoch 73/100\n",
            "1/1 [==============================] - 0s 6ms/step - loss: 3.7713 - mae: 3.7713\n",
            "Epoch 74/100\n",
            "1/1 [==============================] - 0s 12ms/step - loss: 3.7342 - mae: 3.7342\n",
            "Epoch 75/100\n",
            "1/1 [==============================] - 0s 9ms/step - loss: 3.7804 - mae: 3.7804\n",
            "Epoch 76/100\n",
            "1/1 [==============================] - 0s 6ms/step - loss: 3.7132 - mae: 3.7132\n",
            "Epoch 77/100\n",
            "1/1 [==============================] - 0s 6ms/step - loss: 3.7822 - mae: 3.7822\n",
            "Epoch 78/100\n",
            "1/1 [==============================] - 0s 6ms/step - loss: 3.7222 - mae: 3.7222\n",
            "Epoch 79/100\n",
            "1/1 [==============================] - 0s 7ms/step - loss: 3.7549 - mae: 3.7549\n",
            "Epoch 80/100\n",
            "1/1 [==============================] - 0s 7ms/step - loss: 3.7315 - mae: 3.7315\n",
            "Epoch 81/100\n",
            "1/1 [==============================] - 0s 9ms/step - loss: 3.7328 - mae: 3.7328\n",
            "Epoch 82/100\n",
            "1/1 [==============================] - 0s 7ms/step - loss: 3.7464 - mae: 3.7464\n",
            "Epoch 83/100\n",
            "1/1 [==============================] - 0s 11ms/step - loss: 3.7053 - mae: 3.7053\n",
            "Epoch 84/100\n",
            "1/1 [==============================] - 0s 13ms/step - loss: 3.7557 - mae: 3.7557\n",
            "Epoch 85/100\n",
            "1/1 [==============================] - 0s 6ms/step - loss: 3.6887 - mae: 3.6887\n",
            "Epoch 86/100\n",
            "1/1 [==============================] - 0s 6ms/step - loss: 3.7530 - mae: 3.7530\n",
            "Epoch 87/100\n",
            "1/1 [==============================] - 0s 7ms/step - loss: 3.6979 - mae: 3.6979\n",
            "Epoch 88/100\n",
            "1/1 [==============================] - 0s 14ms/step - loss: 3.7254 - mae: 3.7254\n",
            "Epoch 89/100\n",
            "1/1 [==============================] - 0s 12ms/step - loss: 3.7087 - mae: 3.7087\n",
            "Epoch 90/100\n",
            "1/1 [==============================] - 0s 8ms/step - loss: 3.7029 - mae: 3.7029\n",
            "Epoch 91/100\n",
            "1/1 [==============================] - 0s 6ms/step - loss: 3.7225 - mae: 3.7225\n",
            "Epoch 92/100\n",
            "1/1 [==============================] - 0s 10ms/step - loss: 3.6750 - mae: 3.6750\n",
            "Epoch 93/100\n",
            "1/1 [==============================] - 0s 7ms/step - loss: 3.7320 - mae: 3.7320\n",
            "Epoch 94/100\n",
            "1/1 [==============================] - 0s 7ms/step - loss: 3.6652 - mae: 3.6652\n",
            "Epoch 95/100\n",
            "1/1 [==============================] - 0s 7ms/step - loss: 3.7225 - mae: 3.7225\n",
            "Epoch 96/100\n",
            "1/1 [==============================] - 0s 7ms/step - loss: 3.6746 - mae: 3.6746\n",
            "Epoch 97/100\n",
            "1/1 [==============================] - 0s 8ms/step - loss: 3.6945 - mae: 3.6945\n",
            "Epoch 98/100\n",
            "1/1 [==============================] - 0s 6ms/step - loss: 3.6867 - mae: 3.6867\n",
            "Epoch 99/100\n",
            "1/1 [==============================] - 0s 7ms/step - loss: 3.6716 - mae: 3.6716\n",
            "Epoch 100/100\n",
            "1/1 [==============================] - 0s 7ms/step - loss: 3.6997 - mae: 3.6997\n"
          ]
        },
        {
          "output_type": "execute_result",
          "data": {
            "text/plain": [
              "<keras.callbacks.History at 0x7fe8f3b33bd0>"
            ]
          },
          "metadata": {},
          "execution_count": 14
        }
      ]
    },
    {
      "cell_type": "code",
      "source": [
        "model.predict([17])"
      ],
      "metadata": {
        "colab": {
          "base_uri": "https://localhost:8080/"
        },
        "id": "uBCJI8gEZxAQ",
        "outputId": "93e40023-2752-4493-9a7b-3cc34e3575c0"
      },
      "execution_count": 15,
      "outputs": [
        {
          "output_type": "stream",
          "name": "stdout",
          "text": [
            "1/1 [==============================] - 0s 237ms/step\n"
          ]
        },
        {
          "output_type": "execute_result",
          "data": {
            "text/plain": [
              "array([[31.810333]], dtype=float32)"
            ]
          },
          "metadata": {},
          "execution_count": 15
        }
      ]
    },
    {
      "cell_type": "markdown",
      "source": [
        "## Evaluating a model"
      ],
      "metadata": {
        "id": "FBdqaperbmCZ"
      }
    },
    {
      "cell_type": "markdown",
      "source": [
        "3 words to momeorized when evluuating, visualize visualize visualize\n",
        "* the data - what does te data look like'\n",
        "* the model -\n",
        "* the training - how does it perform while it let\n",
        "* the predictions of te model- how it lines up agains the grand truth"
      ],
      "metadata": {
        "id": "frD4mxQNXQ02"
      }
    },
    {
      "cell_type": "code",
      "source": [
        "# MAke a bigger dataset\n",
        "\n",
        "X= tf.range(-100,100, 4)\n",
        "X"
      ],
      "metadata": {
        "colab": {
          "base_uri": "https://localhost:8080/"
        },
        "id": "MkuzOy9hXshh",
        "outputId": "764ef6ff-b5c2-4cea-88e1-75aa7ba50acc"
      },
      "execution_count": 16,
      "outputs": [
        {
          "output_type": "execute_result",
          "data": {
            "text/plain": [
              "<tf.Tensor: shape=(50,), dtype=int32, numpy=\n",
              "array([-100,  -96,  -92,  -88,  -84,  -80,  -76,  -72,  -68,  -64,  -60,\n",
              "        -56,  -52,  -48,  -44,  -40,  -36,  -32,  -28,  -24,  -20,  -16,\n",
              "        -12,   -8,   -4,    0,    4,    8,   12,   16,   20,   24,   28,\n",
              "         32,   36,   40,   44,   48,   52,   56,   60,   64,   68,   72,\n",
              "         76,   80,   84,   88,   92,   96], dtype=int32)>"
            ]
          },
          "metadata": {},
          "execution_count": 16
        }
      ]
    },
    {
      "cell_type": "code",
      "source": [
        "y = X + 10"
      ],
      "metadata": {
        "id": "LO04bkHiX1rq"
      },
      "execution_count": 17,
      "outputs": []
    },
    {
      "cell_type": "code",
      "source": [
        "y"
      ],
      "metadata": {
        "colab": {
          "base_uri": "https://localhost:8080/"
        },
        "id": "ksQZgoy9X8Mh",
        "outputId": "b3f9743b-2f20-42ad-8e89-68b62c00f543"
      },
      "execution_count": 18,
      "outputs": [
        {
          "output_type": "execute_result",
          "data": {
            "text/plain": [
              "<tf.Tensor: shape=(50,), dtype=int32, numpy=\n",
              "array([-90, -86, -82, -78, -74, -70, -66, -62, -58, -54, -50, -46, -42,\n",
              "       -38, -34, -30, -26, -22, -18, -14, -10,  -6,  -2,   2,   6,  10,\n",
              "        14,  18,  22,  26,  30,  34,  38,  42,  46,  50,  54,  58,  62,\n",
              "        66,  70,  74,  78,  82,  86,  90,  94,  98, 102, 106], dtype=int32)>"
            ]
          },
          "metadata": {},
          "execution_count": 18
        }
      ]
    },
    {
      "cell_type": "code",
      "source": [
        "X = tf.cast(X, tf.float32)\n",
        "X"
      ],
      "metadata": {
        "colab": {
          "base_uri": "https://localhost:8080/"
        },
        "id": "8mD4hsnNX9RJ",
        "outputId": "703029e7-bbbf-42d7-86cd-87c3cac80ed0"
      },
      "execution_count": 24,
      "outputs": [
        {
          "output_type": "execute_result",
          "data": {
            "text/plain": [
              "<tf.Tensor: shape=(50,), dtype=float32, numpy=\n",
              "array([-100.,  -96.,  -92.,  -88.,  -84.,  -80.,  -76.,  -72.,  -68.,\n",
              "        -64.,  -60.,  -56.,  -52.,  -48.,  -44.,  -40.,  -36.,  -32.,\n",
              "        -28.,  -24.,  -20.,  -16.,  -12.,   -8.,   -4.,    0.,    4.,\n",
              "          8.,   12.,   16.,   20.,   24.,   28.,   32.,   36.,   40.,\n",
              "         44.,   48.,   52.,   56.,   60.,   64.,   68.,   72.,   76.,\n",
              "         80.,   84.,   88.,   92.,   96.], dtype=float32)>"
            ]
          },
          "metadata": {},
          "execution_count": 24
        }
      ]
    },
    {
      "cell_type": "code",
      "source": [
        "y = tf.cast(y, tf.float32)\n",
        "y"
      ],
      "metadata": {
        "colab": {
          "base_uri": "https://localhost:8080/"
        },
        "id": "oWq_4GgcYNX7",
        "outputId": "a136ce33-d602-4746-f5e4-755590b47a0f"
      },
      "execution_count": 25,
      "outputs": [
        {
          "output_type": "execute_result",
          "data": {
            "text/plain": [
              "<tf.Tensor: shape=(50,), dtype=float32, numpy=\n",
              "array([-90., -86., -82., -78., -74., -70., -66., -62., -58., -54., -50.,\n",
              "       -46., -42., -38., -34., -30., -26., -22., -18., -14., -10.,  -6.,\n",
              "        -2.,   2.,   6.,  10.,  14.,  18.,  22.,  26.,  30.,  34.,  38.,\n",
              "        42.,  46.,  50.,  54.,  58.,  62.,  66.,  70.,  74.,  78.,  82.,\n",
              "        86.,  90.,  94.,  98., 102., 106.], dtype=float32)>"
            ]
          },
          "metadata": {},
          "execution_count": 25
        }
      ]
    },
    {
      "cell_type": "code",
      "source": [
        "# visualize\n",
        "plt.scatter(X, y)"
      ],
      "metadata": {
        "colab": {
          "base_uri": "https://localhost:8080/",
          "height": 283
        },
        "id": "YOWscVQmYf2o",
        "outputId": "00b92881-5219-4363-eb23-920fe95dfa6c"
      },
      "execution_count": 28,
      "outputs": [
        {
          "output_type": "execute_result",
          "data": {
            "text/plain": [
              "<matplotlib.collections.PathCollection at 0x7fe8ecc5a310>"
            ]
          },
          "metadata": {},
          "execution_count": 28
        },
        {
          "output_type": "display_data",
          "data": {
            "text/plain": [
              "<Figure size 432x288 with 1 Axes>"
            ],
            "image/png": "[encoded data removed]"
          },
          "metadata": {
            "needs_background": "light"
          }
        }
      ]
    },
    {
      "cell_type": "markdown",
      "source": [
        "### the 3 sets\n",
        "\n",
        "* train\n",
        "* validation\n",
        "* test"
      ],
      "metadata": {
        "id": "o9ktMlEOYvFE"
      }
    },
    {
      "cell_type": "code",
      "source": [
        "# check the len of samples\n",
        "len(X)"
      ],
      "metadata": {
        "colab": {
          "base_uri": "https://localhost:8080/"
        },
        "id": "pGy2sKjxaObq",
        "outputId": "af9ad0e0-bcef-48fd-b4a8-9503a7ba354e"
      },
      "execution_count": 30,
      "outputs": [
        {
          "output_type": "execute_result",
          "data": {
            "text/plain": [
              "50"
            ]
          },
          "metadata": {},
          "execution_count": 30
        }
      ]
    },
    {
      "cell_type": "code",
      "source": [
        "tf.random.set_seed(84)\n",
        "\n",
        "# split the data into train and test\n",
        "X_train = X[:40] # first 40 of the training sample (80%)\n",
        "y_train = y[:40]\n",
        "\n",
        "X_test = X[40:]\n",
        "y_test = y[40:]\n",
        "\n",
        "len(X_train), len(X_test)"
      ],
      "metadata": {
        "colab": {
          "base_uri": "https://localhost:8080/"
        },
        "id": "vQmjC51NbenD",
        "outputId": "5bae09bb-b6b6-4c41-d5a7-ee308d420c09"
      },
      "execution_count": 31,
      "outputs": [
        {
          "output_type": "execute_result",
          "data": {
            "text/plain": [
              "(40, 10)"
            ]
          },
          "metadata": {},
          "execution_count": 31
        }
      ]
    },
    {
      "cell_type": "markdown",
      "source": [
        "### Visualizing the train and test data"
      ],
      "metadata": {
        "id": "8b4zJh4pcXm_"
      }
    },
    {
      "cell_type": "code",
      "source": [
        "plt.figure(figsize=(10,7))\n",
        "# plot trainin gdata int blue\n",
        "plt.scatter(X_train, y_train, c =\"b\", label=\"training data\")\n",
        "# the test in gree\n",
        "plt.scatter(X_test, y_test, c='g', label = \"test data\" )\n",
        "\n",
        "# show a legend\n",
        "plt.legend();"
      ],
      "metadata": {
        "colab": {
          "base_uri": "https://localhost:8080/",
          "height": 428
        },
        "id": "5ZeZqiaWf6aq",
        "outputId": "3bf180ae-b9f7-411d-bf11-4989d57d594d"
      },
      "execution_count": 33,
      "outputs": [
        {
          "output_type": "display_data",
          "data": {
            "text/plain": [
              "<Figure size 720x504 with 1 Axes>"
            ],
            "image/png": "[encoded data removed]"
          },
          "metadata": {
            "needs_background": "light"
          }
        }
      ]
    },
    {
      "cell_type": "code",
      "source": [],
      "metadata": {
        "id": "ATTe-Qhpgkkq"
      },
      "execution_count": null,
      "outputs": []
    }
  ]
}