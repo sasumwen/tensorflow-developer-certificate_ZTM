{
  "nbformat": 4,
  "nbformat_minor": 0,
  "metadata": {
    "colab": {
      "provenance": [],
      "authorship_tag": "ABX9TyNhRIUzEtrtcFs+66Ow/Jn4",
      "include_colab_link": true
    },
    "kernelspec": {
      "name": "python3",
      "display_name": "Python 3"
    },
    "language_info": {
      "name": "python"
    },
    "accelerator": "GPU",
    "gpuClass": "premium"
  },
  "cells": [
    {
      "cell_type": "markdown",
      "metadata": {
        "id": "view-in-github",
        "colab_type": "text"
      },
      "source": [
        "<a href=\"https://colab.research.google.com/github/sasumwen/tensorflow-developer-certificate_ZTM/blob/main/01_Neural_Network_Regression_with_TensorFlow.ipynb\" target=\"_parent\"><img src=\"https://colab.research.google.com/assets/colab-badge.svg\" alt=\"Open In Colab\"/></a>"
      ]
    },
    {
      "cell_type": "markdown",
      "source": [
        "# Introduction to regression with NN in TF"
      ],
      "metadata": {
        "id": "yZBMbzlmmDhv"
      }
    },
    {
      "cell_type": "code",
      "source": [
        "import tensorflow as tf"
      ],
      "metadata": {
        "id": "Zx_Ib88tKv9C"
      },
      "execution_count": 2,
      "outputs": []
    },
    {
      "cell_type": "code",
      "source": [
        "tf.__version__"
      ],
      "metadata": {
        "colab": {
          "base_uri": "https://localhost:8080/",
          "height": 36
        },
        "id": "_di9x2rIK2JW",
        "outputId": "86ab388c-e54e-4872-f765-4a09a6b59b0b"
      },
      "execution_count": 3,
      "outputs": [
        {
          "output_type": "execute_result",
          "data": {
            "text/plain": [
              "'2.9.2'"
            ],
            "application/vnd.google.colaboratory.intrinsic+json": {
              "type": "string"
            }
          },
          "metadata": {},
          "execution_count": 3
        }
      ]
    },
    {
      "cell_type": "markdown",
      "source": [
        "### Create data to view and fit"
      ],
      "metadata": {
        "id": "2HHQzz_AK5mG"
      }
    },
    {
      "cell_type": "code",
      "source": [
        "import numpy as np\n",
        "import pandas as pd\n",
        "import matplotlib.pyplot as plt\n"
      ],
      "metadata": {
        "id": "w0UmksShLFSt"
      },
      "execution_count": 4,
      "outputs": []
    },
    {
      "cell_type": "code",
      "source": [
        "# create features \n",
        "X = np.array([-7.0, -4, -1, 2,5,8,11,14])\n",
        "\n",
        "# createlabels\n",
        "y = np.array([3.0,6,9,12,15,18,21,24])\n",
        "\n",
        "# visualize it\n",
        "plt.scatter(X,y)\n"
      ],
      "metadata": {
        "colab": {
          "base_uri": "https://localhost:8080/",
          "height": 287
        },
        "id": "Eo4DYjFILN5v",
        "outputId": "1b6fcbe7-6a0c-463e-e8cc-a2a10210054c"
      },
      "execution_count": 5,
      "outputs": [
        {
          "output_type": "execute_result",
          "data": {
            "text/plain": [
              "<matplotlib.collections.PathCollection at 0x7f00da72cd50>"
            ]
          },
          "metadata": {},
          "execution_count": 5
        },
        {
          "output_type": "display_data",
          "data": {
            "text/plain": [
              "<Figure size 432x288 with 1 Axes>"
            ],
            "image/png": "[encoded data removed]"
          },
          "metadata": {
            "needs_background": "light"
          }
        }
      ]
    },
    {
      "cell_type": "markdown",
      "source": [
        "## input and output shapes\n"
      ],
      "metadata": {
        "id": "6ZjhHb-jLvfg"
      }
    },
    {
      "cell_type": "code",
      "source": [
        "# create a demo tensor for housing price prediction prob\n",
        "house_info = tf.constant([\"bedroom\", \"bathroom\", \"garage\"])\n",
        "house_price = tf.constant([939700])\n",
        "house_info, house_price"
      ],
      "metadata": {
        "colab": {
          "base_uri": "https://localhost:8080/"
        },
        "id": "m0fCJQsqMAnF",
        "outputId": "160bd8ff-af5b-4781-9a59-a3116f2c53bc"
      },
      "execution_count": 6,
      "outputs": [
        {
          "output_type": "execute_result",
          "data": {
            "text/plain": [
              "(<tf.Tensor: shape=(3,), dtype=string, numpy=array([b'bedroom', b'bathroom', b'garage'], dtype=object)>,\n",
              " <tf.Tensor: shape=(1,), dtype=int32, numpy=array([939700], dtype=int32)>)"
            ]
          },
          "metadata": {},
          "execution_count": 6
        }
      ]
    },
    {
      "cell_type": "code",
      "source": [
        "# turn our np into tf\n",
        "X = tf.constant(X)\n",
        "y = tf.constant(y)\n",
        "X,y"
      ],
      "metadata": {
        "colab": {
          "base_uri": "https://localhost:8080/"
        },
        "id": "rlFycJ6zMWQj",
        "outputId": "6505cdf2-c3dc-4519-ae10-d0f27029d5a4"
      },
      "execution_count": 7,
      "outputs": [
        {
          "output_type": "execute_result",
          "data": {
            "text/plain": [
              "(<tf.Tensor: shape=(8,), dtype=float64, numpy=array([-7., -4., -1.,  2.,  5.,  8., 11., 14.])>,\n",
              " <tf.Tensor: shape=(8,), dtype=float64, numpy=array([ 3.,  6.,  9., 12., 15., 18., 21., 24.])>)"
            ]
          },
          "metadata": {},
          "execution_count": 7
        }
      ]
    },
    {
      "cell_type": "markdown",
      "source": [
        "## steps in modelling in TensorFlow\n",
        "\n",
        "1. Creating a model - define the input and output layer, as well as the hidden layers of a deep learning model\n",
        "2. COmpiling a model - define the loss function (in other words, the funciton which tells the model how wrong it is) and th eoptimizer ( tells our model how to improve its learning) and the evaluation metrics (what we can use to interprest the performance of our model)\n",
        "3. Fitting a model - letting the model try to find patterns between X and y (features and labels)"
      ],
      "metadata": {
        "id": "QQd6z9bGPrW0"
      }
    },
    {
      "cell_type": "code",
      "source": [
        "#  set random see\n",
        "tf.random.set_seed(84)\n",
        "\n",
        "#1. Create a model using Sequential API\n",
        "model = tf.keras.Sequential([\n",
        "    tf.keras.layers.Dense(1)\n",
        "])\n",
        "\n",
        "# 2, compile the model\n",
        "model.compile(loss=tf.keras.losses.mae, #mae is short for mean absolute error\n",
        "              optimizer = tf.keras.optimizers.SGD(), # sgd is stochastic gradient descent\n",
        "              metrics=[\"mae\"])\n",
        "\n",
        "# 3. fit the model\n",
        "model.fit(tf.expand_dims(X, axis=-1),y,epochs=5)"
      ],
      "metadata": {
        "id": "aWzen9ATtktd",
        "colab": {
          "base_uri": "https://localhost:8080/"
        },
        "outputId": "496ef239-2a52-4b0c-ce70-8b0e912d5988"
      },
      "execution_count": 8,
      "outputs": [
        {
          "output_type": "stream",
          "name": "stdout",
          "text": [
            "Epoch 1/5\n",
            "1/1 [==============================] - 3s 3s/step - loss: 11.3754 - mae: 11.3754\n",
            "Epoch 2/5\n",
            "1/1 [==============================] - 0s 6ms/step - loss: 11.2429 - mae: 11.2429\n",
            "Epoch 3/5\n",
            "1/1 [==============================] - 0s 5ms/step - loss: 11.1104 - mae: 11.1104\n",
            "Epoch 4/5\n",
            "1/1 [==============================] - 0s 5ms/step - loss: 10.9779 - mae: 10.9779\n",
            "Epoch 5/5\n",
            "1/1 [==============================] - 0s 5ms/step - loss: 10.8454 - mae: 10.8454\n"
          ]
        },
        {
          "output_type": "execute_result",
          "data": {
            "text/plain": [
              "<keras.callbacks.History at 0x7f0070437e10>"
            ]
          },
          "metadata": {},
          "execution_count": 8
        }
      ]
    },
    {
      "cell_type": "code",
      "source": [
        "# check out X and y\n",
        "X, y"
      ],
      "metadata": {
        "colab": {
          "base_uri": "https://localhost:8080/"
        },
        "id": "BToP9ZWELHMg",
        "outputId": "af5bce97-988b-4b60-d42d-b14be2ff8355"
      },
      "execution_count": 9,
      "outputs": [
        {
          "output_type": "execute_result",
          "data": {
            "text/plain": [
              "(<tf.Tensor: shape=(8,), dtype=float64, numpy=array([-7., -4., -1.,  2.,  5.,  8., 11., 14.])>,\n",
              " <tf.Tensor: shape=(8,), dtype=float64, numpy=array([ 3.,  6.,  9., 12., 15., 18., 21., 24.])>)"
            ]
          },
          "metadata": {},
          "execution_count": 9
        }
      ]
    },
    {
      "cell_type": "code",
      "source": [
        "# try to make pres using the model\n",
        "model.predict([17])"
      ],
      "metadata": {
        "colab": {
          "base_uri": "https://localhost:8080/"
        },
        "id": "SjksUw7rMNrm",
        "outputId": "502cdd89-18a2-4fa1-8dd3-88170386d8d2"
      },
      "execution_count": 10,
      "outputs": [
        {
          "output_type": "stream",
          "name": "stdout",
          "text": [
            "1/1 [==============================] - 0s 126ms/step\n"
          ]
        },
        {
          "output_type": "execute_result",
          "data": {
            "text/plain": [
              "array([[13.344376]], dtype=float32)"
            ]
          },
          "metadata": {},
          "execution_count": 10
        }
      ]
    },
    {
      "cell_type": "markdown",
      "source": [
        "## Improving our model\n",
        "\n",
        "We can improve our model, by altering the steps we took to create a model\n",
        "\n",
        "1. **Creating a Mocel** - here we might add more hiden layers, increate the number of hiden units( all called neurons) within each of the hiden layers, chage the activation function of each layer\n",
        "\n",
        "2. **Compiling a model** - here we might change the optimixzation function or perhaps the learning rate of the opt function\n",
        "\n",
        "3. **fitting a model** - here fit a model fo more epochs( leave it trian long) or give it more features tol learn from"
      ],
      "metadata": {
        "id": "V0zIFOycMTMc"
      }
    },
    {
      "cell_type": "code",
      "source": [
        "# lets rebuild the model\n",
        "# 1 create the model\n",
        "model= tf.keras.Sequential([\n",
        "    tf.keras.layers.Dense(1)\n",
        "])\n",
        "\n",
        "# 2 compile\n",
        "model.compile(\n",
        "    loss = tf.keras.losses.mae,\n",
        "    optimizer = tf.keras.optimizers.SGD(),\n",
        "    metrics=[\"mae\"]\n",
        ")\n",
        "\n",
        "# 3 fit\n",
        "\n",
        "model.fit(tf.expand_dims(X, axis=-1,), y, epochs=100)"
      ],
      "metadata": {
        "colab": {
          "base_uri": "https://localhost:8080/"
        },
        "id": "owfNkpjiMkHy",
        "outputId": "0f0834d1-16f2-4bb1-b127-ce619276d6fc"
      },
      "execution_count": 11,
      "outputs": [
        {
          "output_type": "stream",
          "name": "stdout",
          "text": [
            "Epoch 1/100\n",
            "1/1 [==============================] - 0s 250ms/step - loss: 16.8805 - mae: 16.8805\n",
            "Epoch 2/100\n",
            "1/1 [==============================] - 0s 5ms/step - loss: 16.5993 - mae: 16.5993\n",
            "Epoch 3/100\n",
            "1/1 [==============================] - 0s 5ms/step - loss: 16.3180 - mae: 16.3180\n",
            "Epoch 4/100\n",
            "1/1 [==============================] - 0s 5ms/step - loss: 16.0368 - mae: 16.0368\n",
            "Epoch 5/100\n",
            "1/1 [==============================] - 0s 5ms/step - loss: 15.7555 - mae: 15.7555\n",
            "Epoch 6/100\n",
            "1/1 [==============================] - 0s 5ms/step - loss: 15.4743 - mae: 15.4743\n",
            "Epoch 7/100\n",
            "1/1 [==============================] - 0s 5ms/step - loss: 15.1930 - mae: 15.1930\n",
            "Epoch 8/100\n",
            "1/1 [==============================] - 0s 5ms/step - loss: 14.9149 - mae: 14.9149\n",
            "Epoch 9/100\n",
            "1/1 [==============================] - 0s 5ms/step - loss: 14.7824 - mae: 14.7824\n",
            "Epoch 10/100\n",
            "1/1 [==============================] - 0s 5ms/step - loss: 14.6499 - mae: 14.6499\n",
            "Epoch 11/100\n",
            "1/1 [==============================] - 0s 5ms/step - loss: 14.5174 - mae: 14.5174\n",
            "Epoch 12/100\n",
            "1/1 [==============================] - 0s 5ms/step - loss: 14.3849 - mae: 14.3849\n",
            "Epoch 13/100\n",
            "1/1 [==============================] - 0s 5ms/step - loss: 14.2524 - mae: 14.2524\n",
            "Epoch 14/100\n",
            "1/1 [==============================] - 0s 6ms/step - loss: 14.1199 - mae: 14.1199\n",
            "Epoch 15/100\n",
            "1/1 [==============================] - 0s 5ms/step - loss: 13.9874 - mae: 13.9874\n",
            "Epoch 16/100\n",
            "1/1 [==============================] - 0s 5ms/step - loss: 13.8549 - mae: 13.8549\n",
            "Epoch 17/100\n",
            "1/1 [==============================] - 0s 5ms/step - loss: 13.7224 - mae: 13.7224\n",
            "Epoch 18/100\n",
            "1/1 [==============================] - 0s 5ms/step - loss: 13.5899 - mae: 13.5899\n",
            "Epoch 19/100\n",
            "1/1 [==============================] - 0s 5ms/step - loss: 13.4574 - mae: 13.4574\n",
            "Epoch 20/100\n",
            "1/1 [==============================] - 0s 5ms/step - loss: 13.3249 - mae: 13.3249\n",
            "Epoch 21/100\n",
            "1/1 [==============================] - 0s 5ms/step - loss: 13.1924 - mae: 13.1924\n",
            "Epoch 22/100\n",
            "1/1 [==============================] - 0s 6ms/step - loss: 13.0599 - mae: 13.0599\n",
            "Epoch 23/100\n",
            "1/1 [==============================] - 0s 5ms/step - loss: 12.9274 - mae: 12.9274\n",
            "Epoch 24/100\n",
            "1/1 [==============================] - 0s 5ms/step - loss: 12.7949 - mae: 12.7949\n",
            "Epoch 25/100\n",
            "1/1 [==============================] - 0s 5ms/step - loss: 12.6624 - mae: 12.6624\n",
            "Epoch 26/100\n",
            "1/1 [==============================] - 0s 5ms/step - loss: 12.5299 - mae: 12.5299\n",
            "Epoch 27/100\n",
            "1/1 [==============================] - 0s 5ms/step - loss: 12.3974 - mae: 12.3974\n",
            "Epoch 28/100\n",
            "1/1 [==============================] - 0s 6ms/step - loss: 12.2649 - mae: 12.2649\n",
            "Epoch 29/100\n",
            "1/1 [==============================] - 0s 5ms/step - loss: 12.1324 - mae: 12.1324\n",
            "Epoch 30/100\n",
            "1/1 [==============================] - 0s 5ms/step - loss: 11.9999 - mae: 11.9999\n",
            "Epoch 31/100\n",
            "1/1 [==============================] - 0s 5ms/step - loss: 11.8674 - mae: 11.8674\n",
            "Epoch 32/100\n",
            "1/1 [==============================] - 0s 5ms/step - loss: 11.7349 - mae: 11.7349\n",
            "Epoch 33/100\n",
            "1/1 [==============================] - 0s 5ms/step - loss: 11.6024 - mae: 11.6024\n",
            "Epoch 34/100\n",
            "1/1 [==============================] - 0s 7ms/step - loss: 11.4699 - mae: 11.4699\n",
            "Epoch 35/100\n",
            "1/1 [==============================] - 0s 6ms/step - loss: 11.3374 - mae: 11.3374\n",
            "Epoch 36/100\n",
            "1/1 [==============================] - 0s 5ms/step - loss: 11.2049 - mae: 11.2049\n",
            "Epoch 37/100\n",
            "1/1 [==============================] - 0s 6ms/step - loss: 11.0724 - mae: 11.0724\n",
            "Epoch 38/100\n",
            "1/1 [==============================] - 0s 5ms/step - loss: 10.9399 - mae: 10.9399\n",
            "Epoch 39/100\n",
            "1/1 [==============================] - 0s 6ms/step - loss: 10.8074 - mae: 10.8074\n",
            "Epoch 40/100\n",
            "1/1 [==============================] - 0s 5ms/step - loss: 10.6749 - mae: 10.6749\n",
            "Epoch 41/100\n",
            "1/1 [==============================] - 0s 5ms/step - loss: 10.5424 - mae: 10.5424\n",
            "Epoch 42/100\n",
            "1/1 [==============================] - 0s 5ms/step - loss: 10.4099 - mae: 10.4099\n",
            "Epoch 43/100\n",
            "1/1 [==============================] - 0s 5ms/step - loss: 10.2774 - mae: 10.2774\n",
            "Epoch 44/100\n",
            "1/1 [==============================] - 0s 5ms/step - loss: 10.1449 - mae: 10.1449\n",
            "Epoch 45/100\n",
            "1/1 [==============================] - 0s 5ms/step - loss: 10.0124 - mae: 10.0124\n",
            "Epoch 46/100\n",
            "1/1 [==============================] - 0s 5ms/step - loss: 9.8799 - mae: 9.8799\n",
            "Epoch 47/100\n",
            "1/1 [==============================] - 0s 5ms/step - loss: 9.7474 - mae: 9.7474\n",
            "Epoch 48/100\n",
            "1/1 [==============================] - 0s 5ms/step - loss: 9.6149 - mae: 9.6149\n",
            "Epoch 49/100\n",
            "1/1 [==============================] - 0s 5ms/step - loss: 9.4824 - mae: 9.4824\n",
            "Epoch 50/100\n",
            "1/1 [==============================] - 0s 6ms/step - loss: 9.3499 - mae: 9.3499\n",
            "Epoch 51/100\n",
            "1/1 [==============================] - 0s 6ms/step - loss: 9.2174 - mae: 9.2174\n",
            "Epoch 52/100\n",
            "1/1 [==============================] - 0s 5ms/step - loss: 9.0849 - mae: 9.0849\n",
            "Epoch 53/100\n",
            "1/1 [==============================] - 0s 5ms/step - loss: 8.9524 - mae: 8.9524\n",
            "Epoch 54/100\n",
            "1/1 [==============================] - 0s 5ms/step - loss: 8.8199 - mae: 8.8199\n",
            "Epoch 55/100\n",
            "1/1 [==============================] - 0s 6ms/step - loss: 8.6874 - mae: 8.6874\n",
            "Epoch 56/100\n",
            "1/1 [==============================] - 0s 5ms/step - loss: 8.5549 - mae: 8.5549\n",
            "Epoch 57/100\n",
            "1/1 [==============================] - 0s 5ms/step - loss: 8.4224 - mae: 8.4224\n",
            "Epoch 58/100\n",
            "1/1 [==============================] - 0s 19ms/step - loss: 8.2899 - mae: 8.2899\n",
            "Epoch 59/100\n",
            "1/1 [==============================] - 0s 5ms/step - loss: 8.1574 - mae: 8.1574\n",
            "Epoch 60/100\n",
            "1/1 [==============================] - 0s 6ms/step - loss: 8.0249 - mae: 8.0249\n",
            "Epoch 61/100\n",
            "1/1 [==============================] - 0s 6ms/step - loss: 7.8924 - mae: 7.8924\n",
            "Epoch 62/100\n",
            "1/1 [==============================] - 0s 5ms/step - loss: 7.7599 - mae: 7.7599\n",
            "Epoch 63/100\n",
            "1/1 [==============================] - 0s 6ms/step - loss: 7.6274 - mae: 7.6274\n",
            "Epoch 64/100\n",
            "1/1 [==============================] - 0s 5ms/step - loss: 7.4949 - mae: 7.4949\n",
            "Epoch 65/100\n",
            "1/1 [==============================] - 0s 6ms/step - loss: 7.3624 - mae: 7.3624\n",
            "Epoch 66/100\n",
            "1/1 [==============================] - 0s 6ms/step - loss: 7.2299 - mae: 7.2299\n",
            "Epoch 67/100\n",
            "1/1 [==============================] - 0s 5ms/step - loss: 7.0974 - mae: 7.0974\n",
            "Epoch 68/100\n",
            "1/1 [==============================] - 0s 5ms/step - loss: 7.0106 - mae: 7.0106\n",
            "Epoch 69/100\n",
            "1/1 [==============================] - 0s 5ms/step - loss: 7.0050 - mae: 7.0050\n",
            "Epoch 70/100\n",
            "1/1 [==============================] - 0s 5ms/step - loss: 6.9994 - mae: 6.9994\n",
            "Epoch 71/100\n",
            "1/1 [==============================] - 0s 6ms/step - loss: 6.9938 - mae: 6.9938\n",
            "Epoch 72/100\n",
            "1/1 [==============================] - 0s 5ms/step - loss: 6.9881 - mae: 6.9881\n",
            "Epoch 73/100\n",
            "1/1 [==============================] - 0s 5ms/step - loss: 6.9825 - mae: 6.9825\n",
            "Epoch 74/100\n",
            "1/1 [==============================] - 0s 5ms/step - loss: 6.9769 - mae: 6.9769\n",
            "Epoch 75/100\n",
            "1/1 [==============================] - 0s 5ms/step - loss: 6.9713 - mae: 6.9713\n",
            "Epoch 76/100\n",
            "1/1 [==============================] - 0s 5ms/step - loss: 6.9656 - mae: 6.9656\n",
            "Epoch 77/100\n",
            "1/1 [==============================] - 0s 5ms/step - loss: 6.9600 - mae: 6.9600\n",
            "Epoch 78/100\n",
            "1/1 [==============================] - 0s 5ms/step - loss: 6.9544 - mae: 6.9544\n",
            "Epoch 79/100\n",
            "1/1 [==============================] - 0s 5ms/step - loss: 6.9488 - mae: 6.9488\n",
            "Epoch 80/100\n",
            "1/1 [==============================] - 0s 5ms/step - loss: 6.9431 - mae: 6.9431\n",
            "Epoch 81/100\n",
            "1/1 [==============================] - 0s 5ms/step - loss: 6.9375 - mae: 6.9375\n",
            "Epoch 82/100\n",
            "1/1 [==============================] - 0s 5ms/step - loss: 6.9319 - mae: 6.9319\n",
            "Epoch 83/100\n",
            "1/1 [==============================] - 0s 5ms/step - loss: 6.9263 - mae: 6.9263\n",
            "Epoch 84/100\n",
            "1/1 [==============================] - 0s 5ms/step - loss: 6.9206 - mae: 6.9206\n",
            "Epoch 85/100\n",
            "1/1 [==============================] - 0s 6ms/step - loss: 6.9150 - mae: 6.9150\n",
            "Epoch 86/100\n",
            "1/1 [==============================] - 0s 6ms/step - loss: 6.9094 - mae: 6.9094\n",
            "Epoch 87/100\n",
            "1/1 [==============================] - 0s 5ms/step - loss: 6.9038 - mae: 6.9038\n",
            "Epoch 88/100\n",
            "1/1 [==============================] - 0s 6ms/step - loss: 6.8981 - mae: 6.8981\n",
            "Epoch 89/100\n",
            "1/1 [==============================] - 0s 6ms/step - loss: 6.8925 - mae: 6.8925\n",
            "Epoch 90/100\n",
            "1/1 [==============================] - 0s 5ms/step - loss: 6.8869 - mae: 6.8869\n",
            "Epoch 91/100\n",
            "1/1 [==============================] - 0s 5ms/step - loss: 6.8813 - mae: 6.8813\n",
            "Epoch 92/100\n",
            "1/1 [==============================] - 0s 5ms/step - loss: 6.8756 - mae: 6.8756\n",
            "Epoch 93/100\n",
            "1/1 [==============================] - 0s 6ms/step - loss: 6.8700 - mae: 6.8700\n",
            "Epoch 94/100\n",
            "1/1 [==============================] - 0s 6ms/step - loss: 6.8644 - mae: 6.8644\n",
            "Epoch 95/100\n",
            "1/1 [==============================] - 0s 5ms/step - loss: 6.8588 - mae: 6.8588\n",
            "Epoch 96/100\n",
            "1/1 [==============================] - 0s 5ms/step - loss: 6.8531 - mae: 6.8531\n",
            "Epoch 97/100\n",
            "1/1 [==============================] - 0s 6ms/step - loss: 6.8475 - mae: 6.8475\n",
            "Epoch 98/100\n",
            "1/1 [==============================] - 0s 5ms/step - loss: 6.8419 - mae: 6.8419\n",
            "Epoch 99/100\n",
            "1/1 [==============================] - 0s 5ms/step - loss: 6.8363 - mae: 6.8363\n",
            "Epoch 100/100\n",
            "1/1 [==============================] - 0s 7ms/step - loss: 6.8306 - mae: 6.8306\n"
          ]
        },
        {
          "output_type": "execute_result",
          "data": {
            "text/plain": [
              "<keras.callbacks.History at 0x7f007036df10>"
            ]
          },
          "metadata": {},
          "execution_count": 11
        }
      ]
    },
    {
      "cell_type": "code",
      "source": [
        "# recall the data\n",
        "X, y"
      ],
      "metadata": {
        "colab": {
          "base_uri": "https://localhost:8080/"
        },
        "id": "QACAsuGQYFPf",
        "outputId": "ef71e54f-900e-4304-8763-cd973c72e9e2"
      },
      "execution_count": 12,
      "outputs": [
        {
          "output_type": "execute_result",
          "data": {
            "text/plain": [
              "(<tf.Tensor: shape=(8,), dtype=float64, numpy=array([-7., -4., -1.,  2.,  5.,  8., 11., 14.])>,\n",
              " <tf.Tensor: shape=(8,), dtype=float64, numpy=array([ 3.,  6.,  9., 12., 15., 18., 21., 24.])>)"
            ]
          },
          "metadata": {},
          "execution_count": 12
        }
      ]
    },
    {
      "cell_type": "code",
      "source": [
        "# see if the prediction has imporved\n",
        "model.predict([17])"
      ],
      "metadata": {
        "colab": {
          "base_uri": "https://localhost:8080/"
        },
        "id": "u1nprVmGYNdl",
        "outputId": "e1a877d3-aa30-4e65-e618-666a3c693a02"
      },
      "execution_count": 13,
      "outputs": [
        {
          "output_type": "stream",
          "name": "stdout",
          "text": [
            "1/1 [==============================] - 0s 46ms/step\n"
          ]
        },
        {
          "output_type": "execute_result",
          "data": {
            "text/plain": [
              "array([[29.472445]], dtype=float32)"
            ]
          },
          "metadata": {},
          "execution_count": 13
        }
      ]
    },
    {
      "cell_type": "code",
      "source": [
        "# let try again\n",
        "\n",
        "model = tf.keras.Sequential([\n",
        "    tf.keras.layers.Dense(100, activation = \"relu\"),\n",
        "   \n",
        "    \n",
        "    tf.keras.layers.Dense(1)\n",
        "])\n",
        "\n",
        "model.compile(\n",
        "    loss = tf.keras.losses.mae,\n",
        "    optimizer = tf.keras.optimizers.Adam(learning_rate = 0.0001),\n",
        "    metrics = [\"mae\"]\n",
        ")\n",
        "\n",
        "model.fit(tf.expand_dims(X, axis=-1), y, epochs = 100)"
      ],
      "metadata": {
        "colab": {
          "base_uri": "https://localhost:8080/"
        },
        "id": "dkK0qinIYUT5",
        "outputId": "09253a86-3afc-4f94-c2bd-768c5ef3ffd2"
      },
      "execution_count": 19,
      "outputs": [
        {
          "output_type": "stream",
          "name": "stdout",
          "text": [
            "Epoch 1/100\n",
            "1/1 [==============================] - 0s 466ms/step - loss: 13.2138 - mae: 13.2138\n",
            "Epoch 2/100\n",
            "1/1 [==============================] - 0s 5ms/step - loss: 13.2049 - mae: 13.2049\n",
            "Epoch 3/100\n",
            "1/1 [==============================] - 0s 5ms/step - loss: 13.1960 - mae: 13.1960\n",
            "Epoch 4/100\n",
            "1/1 [==============================] - 0s 5ms/step - loss: 13.1868 - mae: 13.1868\n",
            "Epoch 5/100\n",
            "1/1 [==============================] - 0s 5ms/step - loss: 13.1780 - mae: 13.1780\n",
            "Epoch 6/100\n",
            "1/1 [==============================] - 0s 5ms/step - loss: 13.1692 - mae: 13.1692\n",
            "Epoch 7/100\n",
            "1/1 [==============================] - 0s 6ms/step - loss: 13.1602 - mae: 13.1602\n",
            "Epoch 8/100\n",
            "1/1 [==============================] - 0s 5ms/step - loss: 13.1513 - mae: 13.1513\n",
            "Epoch 9/100\n",
            "1/1 [==============================] - 0s 6ms/step - loss: 13.1423 - mae: 13.1423\n",
            "Epoch 10/100\n",
            "1/1 [==============================] - 0s 5ms/step - loss: 13.1332 - mae: 13.1332\n",
            "Epoch 11/100\n",
            "1/1 [==============================] - 0s 6ms/step - loss: 13.1246 - mae: 13.1246\n",
            "Epoch 12/100\n",
            "1/1 [==============================] - 0s 5ms/step - loss: 13.1156 - mae: 13.1156\n",
            "Epoch 13/100\n",
            "1/1 [==============================] - 0s 6ms/step - loss: 13.1068 - mae: 13.1068\n",
            "Epoch 14/100\n",
            "1/1 [==============================] - 0s 5ms/step - loss: 13.0977 - mae: 13.0977\n",
            "Epoch 15/100\n",
            "1/1 [==============================] - 0s 6ms/step - loss: 13.0886 - mae: 13.0886\n",
            "Epoch 16/100\n",
            "1/1 [==============================] - 0s 5ms/step - loss: 13.0800 - mae: 13.0800\n",
            "Epoch 17/100\n",
            "1/1 [==============================] - 0s 6ms/step - loss: 13.0710 - mae: 13.0710\n",
            "Epoch 18/100\n",
            "1/1 [==============================] - 0s 5ms/step - loss: 13.0619 - mae: 13.0619\n",
            "Epoch 19/100\n",
            "1/1 [==============================] - 0s 6ms/step - loss: 13.0531 - mae: 13.0531\n",
            "Epoch 20/100\n",
            "1/1 [==============================] - 0s 5ms/step - loss: 13.0440 - mae: 13.0440\n",
            "Epoch 21/100\n",
            "1/1 [==============================] - 0s 5ms/step - loss: 13.0351 - mae: 13.0351\n",
            "Epoch 22/100\n",
            "1/1 [==============================] - 0s 5ms/step - loss: 13.0265 - mae: 13.0265\n",
            "Epoch 23/100\n",
            "1/1 [==============================] - 0s 5ms/step - loss: 13.0172 - mae: 13.0172\n",
            "Epoch 24/100\n",
            "1/1 [==============================] - 0s 6ms/step - loss: 13.0086 - mae: 13.0086\n",
            "Epoch 25/100\n",
            "1/1 [==============================] - 0s 6ms/step - loss: 12.9996 - mae: 12.9996\n",
            "Epoch 26/100\n",
            "1/1 [==============================] - 0s 5ms/step - loss: 12.9905 - mae: 12.9905\n",
            "Epoch 27/100\n",
            "1/1 [==============================] - 0s 5ms/step - loss: 12.9817 - mae: 12.9817\n",
            "Epoch 28/100\n",
            "1/1 [==============================] - 0s 5ms/step - loss: 12.9728 - mae: 12.9728\n",
            "Epoch 29/100\n",
            "1/1 [==============================] - 0s 6ms/step - loss: 12.9637 - mae: 12.9637\n",
            "Epoch 30/100\n",
            "1/1 [==============================] - 0s 5ms/step - loss: 12.9549 - mae: 12.9549\n",
            "Epoch 31/100\n",
            "1/1 [==============================] - 0s 6ms/step - loss: 12.9460 - mae: 12.9460\n",
            "Epoch 32/100\n",
            "1/1 [==============================] - 0s 6ms/step - loss: 12.9371 - mae: 12.9371\n",
            "Epoch 33/100\n",
            "1/1 [==============================] - 0s 6ms/step - loss: 12.9282 - mae: 12.9282\n",
            "Epoch 34/100\n",
            "1/1 [==============================] - 0s 5ms/step - loss: 12.9191 - mae: 12.9191\n",
            "Epoch 35/100\n",
            "1/1 [==============================] - 0s 5ms/step - loss: 12.9104 - mae: 12.9104\n",
            "Epoch 36/100\n",
            "1/1 [==============================] - 0s 5ms/step - loss: 12.9015 - mae: 12.9015\n",
            "Epoch 37/100\n",
            "1/1 [==============================] - 0s 5ms/step - loss: 12.8924 - mae: 12.8924\n",
            "Epoch 38/100\n",
            "1/1 [==============================] - 0s 6ms/step - loss: 12.8836 - mae: 12.8836\n",
            "Epoch 39/100\n",
            "1/1 [==============================] - 0s 5ms/step - loss: 12.8746 - mae: 12.8746\n",
            "Epoch 40/100\n",
            "1/1 [==============================] - 0s 5ms/step - loss: 12.8659 - mae: 12.8659\n",
            "Epoch 41/100\n",
            "1/1 [==============================] - 0s 5ms/step - loss: 12.8569 - mae: 12.8569\n",
            "Epoch 42/100\n",
            "1/1 [==============================] - 0s 5ms/step - loss: 12.8481 - mae: 12.8481\n",
            "Epoch 43/100\n",
            "1/1 [==============================] - 0s 5ms/step - loss: 12.8394 - mae: 12.8394\n",
            "Epoch 44/100\n",
            "1/1 [==============================] - 0s 5ms/step - loss: 12.8302 - mae: 12.8302\n",
            "Epoch 45/100\n",
            "1/1 [==============================] - 0s 5ms/step - loss: 12.8214 - mae: 12.8214\n",
            "Epoch 46/100\n",
            "1/1 [==============================] - 0s 6ms/step - loss: 12.8126 - mae: 12.8126\n",
            "Epoch 47/100\n",
            "1/1 [==============================] - 0s 6ms/step - loss: 12.8039 - mae: 12.8039\n",
            "Epoch 48/100\n",
            "1/1 [==============================] - 0s 6ms/step - loss: 12.7953 - mae: 12.7953\n",
            "Epoch 49/100\n",
            "1/1 [==============================] - 0s 6ms/step - loss: 12.7863 - mae: 12.7863\n",
            "Epoch 50/100\n",
            "1/1 [==============================] - 0s 6ms/step - loss: 12.7774 - mae: 12.7774\n",
            "Epoch 51/100\n",
            "1/1 [==============================] - 0s 7ms/step - loss: 12.7685 - mae: 12.7685\n",
            "Epoch 52/100\n",
            "1/1 [==============================] - 0s 6ms/step - loss: 12.7596 - mae: 12.7596\n",
            "Epoch 53/100\n",
            "1/1 [==============================] - 0s 6ms/step - loss: 12.7511 - mae: 12.7511\n",
            "Epoch 54/100\n",
            "1/1 [==============================] - 0s 6ms/step - loss: 12.7424 - mae: 12.7424\n",
            "Epoch 55/100\n",
            "1/1 [==============================] - 0s 5ms/step - loss: 12.7333 - mae: 12.7333\n",
            "Epoch 56/100\n",
            "1/1 [==============================] - 0s 6ms/step - loss: 12.7244 - mae: 12.7244\n",
            "Epoch 57/100\n",
            "1/1 [==============================] - 0s 5ms/step - loss: 12.7156 - mae: 12.7156\n",
            "Epoch 58/100\n",
            "1/1 [==============================] - 0s 7ms/step - loss: 12.7070 - mae: 12.7070\n",
            "Epoch 59/100\n",
            "1/1 [==============================] - 0s 5ms/step - loss: 12.6985 - mae: 12.6985\n",
            "Epoch 60/100\n",
            "1/1 [==============================] - 0s 6ms/step - loss: 12.6894 - mae: 12.6894\n",
            "Epoch 61/100\n",
            "1/1 [==============================] - 0s 5ms/step - loss: 12.6803 - mae: 12.6803\n",
            "Epoch 62/100\n",
            "1/1 [==============================] - 0s 5ms/step - loss: 12.6714 - mae: 12.6714\n",
            "Epoch 63/100\n",
            "1/1 [==============================] - 0s 6ms/step - loss: 12.6627 - mae: 12.6627\n",
            "Epoch 64/100\n",
            "1/1 [==============================] - 0s 7ms/step - loss: 12.6543 - mae: 12.6543\n",
            "Epoch 65/100\n",
            "1/1 [==============================] - 0s 6ms/step - loss: 12.6454 - mae: 12.6454\n",
            "Epoch 66/100\n",
            "1/1 [==============================] - 0s 5ms/step - loss: 12.6364 - mae: 12.6364\n",
            "Epoch 67/100\n",
            "1/1 [==============================] - 0s 6ms/step - loss: 12.6273 - mae: 12.6273\n",
            "Epoch 68/100\n",
            "1/1 [==============================] - 0s 6ms/step - loss: 12.6185 - mae: 12.6185\n",
            "Epoch 69/100\n",
            "1/1 [==============================] - 0s 6ms/step - loss: 12.6099 - mae: 12.6099\n",
            "Epoch 70/100\n",
            "1/1 [==============================] - 0s 5ms/step - loss: 12.6012 - mae: 12.6012\n",
            "Epoch 71/100\n",
            "1/1 [==============================] - 0s 6ms/step - loss: 12.5924 - mae: 12.5924\n",
            "Epoch 72/100\n",
            "1/1 [==============================] - 0s 6ms/step - loss: 12.5833 - mae: 12.5833\n",
            "Epoch 73/100\n",
            "1/1 [==============================] - 0s 6ms/step - loss: 12.5744 - mae: 12.5744\n",
            "Epoch 74/100\n",
            "1/1 [==============================] - 0s 6ms/step - loss: 12.5658 - mae: 12.5658\n",
            "Epoch 75/100\n",
            "1/1 [==============================] - 0s 5ms/step - loss: 12.5570 - mae: 12.5570\n",
            "Epoch 76/100\n",
            "1/1 [==============================] - 0s 6ms/step - loss: 12.5482 - mae: 12.5482\n",
            "Epoch 77/100\n",
            "1/1 [==============================] - 0s 6ms/step - loss: 12.5394 - mae: 12.5394\n",
            "Epoch 78/100\n",
            "1/1 [==============================] - 0s 6ms/step - loss: 12.5303 - mae: 12.5303\n",
            "Epoch 79/100\n",
            "1/1 [==============================] - 0s 5ms/step - loss: 12.5217 - mae: 12.5217\n",
            "Epoch 80/100\n",
            "1/1 [==============================] - 0s 6ms/step - loss: 12.5128 - mae: 12.5128\n",
            "Epoch 81/100\n",
            "1/1 [==============================] - 0s 5ms/step - loss: 12.5042 - mae: 12.5042\n",
            "Epoch 82/100\n",
            "1/1 [==============================] - 0s 5ms/step - loss: 12.4953 - mae: 12.4953\n",
            "Epoch 83/100\n",
            "1/1 [==============================] - 0s 5ms/step - loss: 12.4864 - mae: 12.4864\n",
            "Epoch 84/100\n",
            "1/1 [==============================] - 0s 6ms/step - loss: 12.4777 - mae: 12.4777\n",
            "Epoch 85/100\n",
            "1/1 [==============================] - 0s 5ms/step - loss: 12.4688 - mae: 12.4688\n",
            "Epoch 86/100\n",
            "1/1 [==============================] - 0s 5ms/step - loss: 12.4599 - mae: 12.4599\n",
            "Epoch 87/100\n",
            "1/1 [==============================] - 0s 6ms/step - loss: 12.4511 - mae: 12.4511\n",
            "Epoch 88/100\n",
            "1/1 [==============================] - 0s 5ms/step - loss: 12.4423 - mae: 12.4423\n",
            "Epoch 89/100\n",
            "1/1 [==============================] - 0s 6ms/step - loss: 12.4335 - mae: 12.4335\n",
            "Epoch 90/100\n",
            "1/1 [==============================] - 0s 6ms/step - loss: 12.4248 - mae: 12.4248\n",
            "Epoch 91/100\n",
            "1/1 [==============================] - 0s 6ms/step - loss: 12.4158 - mae: 12.4158\n",
            "Epoch 92/100\n",
            "1/1 [==============================] - 0s 5ms/step - loss: 12.4071 - mae: 12.4071\n",
            "Epoch 93/100\n",
            "1/1 [==============================] - 0s 5ms/step - loss: 12.3981 - mae: 12.3981\n",
            "Epoch 94/100\n",
            "1/1 [==============================] - 0s 6ms/step - loss: 12.3895 - mae: 12.3895\n",
            "Epoch 95/100\n",
            "1/1 [==============================] - 0s 6ms/step - loss: 12.3807 - mae: 12.3807\n",
            "Epoch 96/100\n",
            "1/1 [==============================] - 0s 5ms/step - loss: 12.3717 - mae: 12.3717\n",
            "Epoch 97/100\n",
            "1/1 [==============================] - 0s 6ms/step - loss: 12.3626 - mae: 12.3626\n",
            "Epoch 98/100\n",
            "1/1 [==============================] - 0s 6ms/step - loss: 12.3543 - mae: 12.3543\n",
            "Epoch 99/100\n",
            "1/1 [==============================] - 0s 5ms/step - loss: 12.3453 - mae: 12.3453\n",
            "Epoch 100/100\n",
            "1/1 [==============================] - 0s 5ms/step - loss: 12.3368 - mae: 12.3368\n"
          ]
        },
        {
          "output_type": "execute_result",
          "data": {
            "text/plain": [
              "<keras.callbacks.History at 0x7f003f3d0ad0>"
            ]
          },
          "metadata": {},
          "execution_count": 19
        }
      ]
    },
    {
      "cell_type": "code",
      "source": [],
      "metadata": {
        "id": "uBCJI8gEZxAQ"
      },
      "execution_count": null,
      "outputs": []
    }
  ]
}